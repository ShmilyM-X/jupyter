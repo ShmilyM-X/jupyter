{
 "cells": [
  {
   "cell_type": "code",
   "execution_count": 1,
   "id": "ccf501e1",
   "metadata": {},
   "outputs": [],
   "source": [
    "import os\n",
    "import tarfile\n",
    "import urllib.request\n",
    "\n",
    "RES_PATH = os.path.join(\"res_datasets\",\"resourceing\")"
   ]
  },
  {
   "cell_type": "code",
   "execution_count": 2,
   "id": "090d7adc",
   "metadata": {},
   "outputs": [],
   "source": [
    "def fetch_housing_data(res_path=RES_PATH):\n",
    "    if not os.path.isdir(res_path):\n",
    "        os.makedirs(res_path)\n",
    "##创建文件夹路径函数\n",
    "from sklearn.metrics import mean_squared_error\n",
    "from sklearn.model_selection import train_test_split\n",
    "import matplotlib as mpl\n",
    "import matplotlib.pyplot as plt\n",
    "import numpy as np\n",
    "\n",
    "def plot_learning_curves(model, X, y):\n",
    "    X_train, X_val, y_train, y_val = train_test_split(X, y, test_size=0.2, random_state=10)\n",
    "    train_errors, val_errors = [], []\n",
    "    for m in range(1, len(X_train) + 1):\n",
    "        model.fit(X_train[:m], y_train[:m])\n",
    "        y_train_predict = model.predict(X_train[:m])\n",
    "        y_val_predict = model.predict(X_val)\n",
    "        train_errors.append(mean_squared_error(y_train[:m], y_train_predict))\n",
    "        val_errors.append(mean_squared_error(y_val, y_val_predict))\n",
    "\n",
    "    plt.plot(np.sqrt(train_errors), \"r-+\", linewidth=2, label=\"train\")\n",
    "    plt.plot(np.sqrt(val_errors), \"b-\", linewidth=3, label=\"val\")\n",
    "    plt.legend(loc=\"upper right\", fontsize=14)   # not shown in the book\n",
    "    plt.xlabel(\"Training set size\", fontsize=14) # not shown\n",
    "    plt.ylabel(\"RMSE\", fontsize=14)              # not shown"
   ]
  },
  {
   "cell_type": "code",
   "execution_count": 3,
   "id": "411cd9f6",
   "metadata": {},
   "outputs": [],
   "source": [
    "fetch_housing_data() ##调用创建"
   ]
  },
  {
   "cell_type": "code",
   "execution_count": 4,
   "id": "a48537fc",
   "metadata": {},
   "outputs": [],
   "source": [
    "import pandas as pd\n",
    "\n",
    "def load_res_data(res_path = RES_PATH,file_name=\"resource.csv\"):\n",
    "    csv_path = os.path.join(RES_PATH,file_name)\n",
    "    return pd.read_csv(csv_path) \n",
    "##读取CSV文件"
   ]
  },
  {
   "cell_type": "code",
   "execution_count": 5,
   "id": "0a536ee2",
   "metadata": {},
   "outputs": [],
   "source": [
    "resource_origin_data = load_res_data() "
   ]
  },
  {
   "cell_type": "code",
   "execution_count": 6,
   "id": "cccd2d3e",
   "metadata": {},
   "outputs": [
    {
     "data": {
      "text/plain": [
       "(140, 47)"
      ]
     },
     "execution_count": 6,
     "metadata": {},
     "output_type": "execute_result"
    }
   ],
   "source": [
    "resource_origin_data.shape"
   ]
  },
  {
   "cell_type": "code",
   "execution_count": 7,
   "id": "61a65fcc",
   "metadata": {},
   "outputs": [
    {
     "data": {
      "text/html": [
       "<div>\n",
       "<style scoped>\n",
       "    .dataframe tbody tr th:only-of-type {\n",
       "        vertical-align: middle;\n",
       "    }\n",
       "\n",
       "    .dataframe tbody tr th {\n",
       "        vertical-align: top;\n",
       "    }\n",
       "\n",
       "    .dataframe thead th {\n",
       "        text-align: right;\n",
       "    }\n",
       "</style>\n",
       "<table border=\"1\" class=\"dataframe\">\n",
       "  <thead>\n",
       "    <tr style=\"text-align: right;\">\n",
       "      <th></th>\n",
       "      <th>AlwaysConstructs</th>\n",
       "      <th>AssignLHSPortNum</th>\n",
       "      <th>AssignLHSWidth</th>\n",
       "      <th>AssignRHSPortNum</th>\n",
       "      <th>AssignRHSWidth</th>\n",
       "      <th>AssignStmts</th>\n",
       "      <th>BLOCKINGASSIGN</th>\n",
       "      <th>CASECONDITIONNUM</th>\n",
       "      <th>CASECONDITIONWIDTH</th>\n",
       "      <th>CASEITEMCONDITIONNUM</th>\n",
       "      <th>...</th>\n",
       "      <th>REDAOR</th>\n",
       "      <th>REDXOR</th>\n",
       "      <th>REG</th>\n",
       "      <th>REGWIDTH</th>\n",
       "      <th>WIRENUM</th>\n",
       "      <th>WIREWIDTH</th>\n",
       "      <th>LUT</th>\n",
       "      <th>FF</th>\n",
       "      <th>IO</th>\n",
       "      <th>BUFG</th>\n",
       "    </tr>\n",
       "  </thead>\n",
       "  <tbody>\n",
       "    <tr>\n",
       "      <th>count</th>\n",
       "      <td>140.000000</td>\n",
       "      <td>140.000000</td>\n",
       "      <td>140.000000</td>\n",
       "      <td>140.000000</td>\n",
       "      <td>140.000000</td>\n",
       "      <td>140.000000</td>\n",
       "      <td>140.0000</td>\n",
       "      <td>140.000000</td>\n",
       "      <td>140.000000</td>\n",
       "      <td>140.000000</td>\n",
       "      <td>...</td>\n",
       "      <td>140.000000</td>\n",
       "      <td>140.000000</td>\n",
       "      <td>140.000000</td>\n",
       "      <td>140.000000</td>\n",
       "      <td>140.000000</td>\n",
       "      <td>140.000000</td>\n",
       "      <td>126.000000</td>\n",
       "      <td>126.000000</td>\n",
       "      <td>126.000000</td>\n",
       "      <td>126.000000</td>\n",
       "    </tr>\n",
       "    <tr>\n",
       "      <th>mean</th>\n",
       "      <td>1.407143</td>\n",
       "      <td>0.942857</td>\n",
       "      <td>2.835714</td>\n",
       "      <td>0.942857</td>\n",
       "      <td>2.985714</td>\n",
       "      <td>0.978571</td>\n",
       "      <td>4.8500</td>\n",
       "      <td>0.385714</td>\n",
       "      <td>1.042857</td>\n",
       "      <td>1.114286</td>\n",
       "      <td>...</td>\n",
       "      <td>0.214286</td>\n",
       "      <td>0.607143</td>\n",
       "      <td>2.871429</td>\n",
       "      <td>16.671429</td>\n",
       "      <td>0.614286</td>\n",
       "      <td>4.642857</td>\n",
       "      <td>14.944444</td>\n",
       "      <td>17.063492</td>\n",
       "      <td>17.460317</td>\n",
       "      <td>0.650794</td>\n",
       "    </tr>\n",
       "    <tr>\n",
       "      <th>std</th>\n",
       "      <td>2.042345</td>\n",
       "      <td>3.244855</td>\n",
       "      <td>9.497906</td>\n",
       "      <td>2.278367</td>\n",
       "      <td>10.253608</td>\n",
       "      <td>3.230849</td>\n",
       "      <td>11.4036</td>\n",
       "      <td>0.902321</td>\n",
       "      <td>2.605670</td>\n",
       "      <td>6.336018</td>\n",
       "      <td>...</td>\n",
       "      <td>1.453281</td>\n",
       "      <td>4.920514</td>\n",
       "      <td>4.619077</td>\n",
       "      <td>36.756332</td>\n",
       "      <td>2.421682</td>\n",
       "      <td>27.251842</td>\n",
       "      <td>30.441894</td>\n",
       "      <td>70.962835</td>\n",
       "      <td>20.517953</td>\n",
       "      <td>0.584020</td>\n",
       "    </tr>\n",
       "    <tr>\n",
       "      <th>min</th>\n",
       "      <td>0.000000</td>\n",
       "      <td>0.000000</td>\n",
       "      <td>0.000000</td>\n",
       "      <td>0.000000</td>\n",
       "      <td>0.000000</td>\n",
       "      <td>0.000000</td>\n",
       "      <td>0.0000</td>\n",
       "      <td>0.000000</td>\n",
       "      <td>0.000000</td>\n",
       "      <td>0.000000</td>\n",
       "      <td>...</td>\n",
       "      <td>0.000000</td>\n",
       "      <td>0.000000</td>\n",
       "      <td>0.000000</td>\n",
       "      <td>0.000000</td>\n",
       "      <td>0.000000</td>\n",
       "      <td>0.000000</td>\n",
       "      <td>0.000000</td>\n",
       "      <td>0.000000</td>\n",
       "      <td>0.000000</td>\n",
       "      <td>0.000000</td>\n",
       "    </tr>\n",
       "    <tr>\n",
       "      <th>25%</th>\n",
       "      <td>1.000000</td>\n",
       "      <td>0.000000</td>\n",
       "      <td>0.000000</td>\n",
       "      <td>0.000000</td>\n",
       "      <td>0.000000</td>\n",
       "      <td>0.000000</td>\n",
       "      <td>0.0000</td>\n",
       "      <td>0.000000</td>\n",
       "      <td>0.000000</td>\n",
       "      <td>0.000000</td>\n",
       "      <td>...</td>\n",
       "      <td>0.000000</td>\n",
       "      <td>0.000000</td>\n",
       "      <td>1.000000</td>\n",
       "      <td>0.000000</td>\n",
       "      <td>0.000000</td>\n",
       "      <td>0.000000</td>\n",
       "      <td>1.000000</td>\n",
       "      <td>0.000000</td>\n",
       "      <td>5.000000</td>\n",
       "      <td>0.000000</td>\n",
       "    </tr>\n",
       "    <tr>\n",
       "      <th>50%</th>\n",
       "      <td>1.000000</td>\n",
       "      <td>0.000000</td>\n",
       "      <td>0.000000</td>\n",
       "      <td>0.000000</td>\n",
       "      <td>0.000000</td>\n",
       "      <td>0.000000</td>\n",
       "      <td>0.0000</td>\n",
       "      <td>0.000000</td>\n",
       "      <td>0.000000</td>\n",
       "      <td>0.000000</td>\n",
       "      <td>...</td>\n",
       "      <td>0.000000</td>\n",
       "      <td>0.000000</td>\n",
       "      <td>1.000000</td>\n",
       "      <td>4.000000</td>\n",
       "      <td>0.000000</td>\n",
       "      <td>0.000000</td>\n",
       "      <td>3.500000</td>\n",
       "      <td>2.000000</td>\n",
       "      <td>11.000000</td>\n",
       "      <td>1.000000</td>\n",
       "    </tr>\n",
       "    <tr>\n",
       "      <th>75%</th>\n",
       "      <td>1.000000</td>\n",
       "      <td>1.000000</td>\n",
       "      <td>1.000000</td>\n",
       "      <td>1.000000</td>\n",
       "      <td>1.000000</td>\n",
       "      <td>1.000000</td>\n",
       "      <td>4.0000</td>\n",
       "      <td>0.000000</td>\n",
       "      <td>0.000000</td>\n",
       "      <td>0.000000</td>\n",
       "      <td>...</td>\n",
       "      <td>0.000000</td>\n",
       "      <td>0.000000</td>\n",
       "      <td>3.000000</td>\n",
       "      <td>16.250000</td>\n",
       "      <td>0.000000</td>\n",
       "      <td>0.000000</td>\n",
       "      <td>12.500000</td>\n",
       "      <td>9.000000</td>\n",
       "      <td>26.000000</td>\n",
       "      <td>1.000000</td>\n",
       "    </tr>\n",
       "    <tr>\n",
       "      <th>max</th>\n",
       "      <td>17.000000</td>\n",
       "      <td>33.000000</td>\n",
       "      <td>68.000000</td>\n",
       "      <td>19.000000</td>\n",
       "      <td>96.000000</td>\n",
       "      <td>33.000000</td>\n",
       "      <td>80.0000</td>\n",
       "      <td>5.000000</td>\n",
       "      <td>14.000000</td>\n",
       "      <td>64.000000</td>\n",
       "      <td>...</td>\n",
       "      <td>16.000000</td>\n",
       "      <td>56.000000</td>\n",
       "      <td>32.000000</td>\n",
       "      <td>322.000000</td>\n",
       "      <td>22.000000</td>\n",
       "      <td>279.000000</td>\n",
       "      <td>229.000000</td>\n",
       "      <td>768.000000</td>\n",
       "      <td>136.000000</td>\n",
       "      <td>3.000000</td>\n",
       "    </tr>\n",
       "  </tbody>\n",
       "</table>\n",
       "<p>8 rows × 46 columns</p>\n",
       "</div>"
      ],
      "text/plain": [
       "       AlwaysConstructs  AssignLHSPortNum  AssignLHSWidth  AssignRHSPortNum  \\\n",
       "count        140.000000        140.000000      140.000000        140.000000   \n",
       "mean           1.407143          0.942857        2.835714          0.942857   \n",
       "std            2.042345          3.244855        9.497906          2.278367   \n",
       "min            0.000000          0.000000        0.000000          0.000000   \n",
       "25%            1.000000          0.000000        0.000000          0.000000   \n",
       "50%            1.000000          0.000000        0.000000          0.000000   \n",
       "75%            1.000000          1.000000        1.000000          1.000000   \n",
       "max           17.000000         33.000000       68.000000         19.000000   \n",
       "\n",
       "       AssignRHSWidth  AssignStmts  BLOCKINGASSIGN  CASECONDITIONNUM  \\\n",
       "count      140.000000   140.000000        140.0000        140.000000   \n",
       "mean         2.985714     0.978571          4.8500          0.385714   \n",
       "std         10.253608     3.230849         11.4036          0.902321   \n",
       "min          0.000000     0.000000          0.0000          0.000000   \n",
       "25%          0.000000     0.000000          0.0000          0.000000   \n",
       "50%          0.000000     0.000000          0.0000          0.000000   \n",
       "75%          1.000000     1.000000          4.0000          0.000000   \n",
       "max         96.000000    33.000000         80.0000          5.000000   \n",
       "\n",
       "       CASECONDITIONWIDTH  CASEITEMCONDITIONNUM  ...      REDAOR      REDXOR  \\\n",
       "count          140.000000            140.000000  ...  140.000000  140.000000   \n",
       "mean             1.042857              1.114286  ...    0.214286    0.607143   \n",
       "std              2.605670              6.336018  ...    1.453281    4.920514   \n",
       "min              0.000000              0.000000  ...    0.000000    0.000000   \n",
       "25%              0.000000              0.000000  ...    0.000000    0.000000   \n",
       "50%              0.000000              0.000000  ...    0.000000    0.000000   \n",
       "75%              0.000000              0.000000  ...    0.000000    0.000000   \n",
       "max             14.000000             64.000000  ...   16.000000   56.000000   \n",
       "\n",
       "              REG    REGWIDTH     WIRENUM   WIREWIDTH         LUT          FF  \\\n",
       "count  140.000000  140.000000  140.000000  140.000000  126.000000  126.000000   \n",
       "mean     2.871429   16.671429    0.614286    4.642857   14.944444   17.063492   \n",
       "std      4.619077   36.756332    2.421682   27.251842   30.441894   70.962835   \n",
       "min      0.000000    0.000000    0.000000    0.000000    0.000000    0.000000   \n",
       "25%      1.000000    0.000000    0.000000    0.000000    1.000000    0.000000   \n",
       "50%      1.000000    4.000000    0.000000    0.000000    3.500000    2.000000   \n",
       "75%      3.000000   16.250000    0.000000    0.000000   12.500000    9.000000   \n",
       "max     32.000000  322.000000   22.000000  279.000000  229.000000  768.000000   \n",
       "\n",
       "               IO        BUFG  \n",
       "count  126.000000  126.000000  \n",
       "mean    17.460317    0.650794  \n",
       "std     20.517953    0.584020  \n",
       "min      0.000000    0.000000  \n",
       "25%      5.000000    0.000000  \n",
       "50%     11.000000    1.000000  \n",
       "75%     26.000000    1.000000  \n",
       "max    136.000000    3.000000  \n",
       "\n",
       "[8 rows x 46 columns]"
      ]
     },
     "execution_count": 7,
     "metadata": {},
     "output_type": "execute_result"
    }
   ],
   "source": [
    "resource_origin_data.describe() "
   ]
  },
  {
   "cell_type": "code",
   "execution_count": 8,
   "id": "d59aef49",
   "metadata": {},
   "outputs": [
    {
     "data": {
      "image/png": "[encoded data removed]",
      "text/plain": [
       "<Figure size 1440x1080 with 49 Axes>"
      ]
     },
     "metadata": {
      "needs_background": "light"
     },
     "output_type": "display_data"
    }
   ],
   "source": [
    "%matplotlib inline\n",
    "import matplotlib.pyplot as plt\n",
    "resource_origin_data.hist(bins=50, figsize=(20,15))\n",
    "plt.show()"
   ]
  },
  {
   "cell_type": "code",
   "execution_count": 9,
   "id": "89f6fea9",
   "metadata": {},
   "outputs": [
    {
     "data": {
      "text/html": [
       "<div>\n",
       "<style scoped>\n",
       "    .dataframe tbody tr th:only-of-type {\n",
       "        vertical-align: middle;\n",
       "    }\n",
       "\n",
       "    .dataframe tbody tr th {\n",
       "        vertical-align: top;\n",
       "    }\n",
       "\n",
       "    .dataframe thead th {\n",
       "        text-align: right;\n",
       "    }\n",
       "</style>\n",
       "<table border=\"1\" class=\"dataframe\">\n",
       "  <thead>\n",
       "    <tr style=\"text-align: right;\">\n",
       "      <th></th>\n",
       "      <th>ModuleName</th>\n",
       "      <th>AlwaysConstructs</th>\n",
       "      <th>AssignLHSPortNum</th>\n",
       "      <th>AssignLHSWidth</th>\n",
       "      <th>AssignRHSPortNum</th>\n",
       "      <th>AssignRHSWidth</th>\n",
       "      <th>AssignStmts</th>\n",
       "      <th>BLOCKINGASSIGN</th>\n",
       "      <th>CASECONDITIONNUM</th>\n",
       "      <th>CASECONDITIONWIDTH</th>\n",
       "      <th>...</th>\n",
       "      <th>REDAOR</th>\n",
       "      <th>REDXOR</th>\n",
       "      <th>REG</th>\n",
       "      <th>REGWIDTH</th>\n",
       "      <th>WIRENUM</th>\n",
       "      <th>WIREWIDTH</th>\n",
       "      <th>LUT</th>\n",
       "      <th>FF</th>\n",
       "      <th>IO</th>\n",
       "      <th>BUFG</th>\n",
       "    </tr>\n",
       "  </thead>\n",
       "  <tbody>\n",
       "    <tr>\n",
       "      <th>0</th>\n",
       "      <td>account</td>\n",
       "      <td>3</td>\n",
       "      <td>3</td>\n",
       "      <td>21</td>\n",
       "      <td>5</td>\n",
       "      <td>20</td>\n",
       "      <td>3</td>\n",
       "      <td>0</td>\n",
       "      <td>2</td>\n",
       "      <td>3</td>\n",
       "      <td>...</td>\n",
       "      <td>0</td>\n",
       "      <td>0</td>\n",
       "      <td>10</td>\n",
       "      <td>20</td>\n",
       "      <td>0</td>\n",
       "      <td>0</td>\n",
       "      <td>100.0</td>\n",
       "      <td>88.0</td>\n",
       "      <td>29.0</td>\n",
       "      <td>1.0</td>\n",
       "    </tr>\n",
       "    <tr>\n",
       "      <th>1</th>\n",
       "      <td>add_ahead</td>\n",
       "      <td>0</td>\n",
       "      <td>33</td>\n",
       "      <td>33</td>\n",
       "      <td>2</td>\n",
       "      <td>2</td>\n",
       "      <td>33</td>\n",
       "      <td>0</td>\n",
       "      <td>0</td>\n",
       "      <td>0</td>\n",
       "      <td>...</td>\n",
       "      <td>16</td>\n",
       "      <td>16</td>\n",
       "      <td>0</td>\n",
       "      <td>0</td>\n",
       "      <td>4</td>\n",
       "      <td>18</td>\n",
       "      <td>10.0</td>\n",
       "      <td>0.0</td>\n",
       "      <td>26.0</td>\n",
       "      <td>0.0</td>\n",
       "    </tr>\n",
       "    <tr>\n",
       "      <th>2</th>\n",
       "      <td>add_bx</td>\n",
       "      <td>0</td>\n",
       "      <td>0</td>\n",
       "      <td>0</td>\n",
       "      <td>0</td>\n",
       "      <td>0</td>\n",
       "      <td>1</td>\n",
       "      <td>0</td>\n",
       "      <td>0</td>\n",
       "      <td>0</td>\n",
       "      <td>...</td>\n",
       "      <td>0</td>\n",
       "      <td>0</td>\n",
       "      <td>0</td>\n",
       "      <td>0</td>\n",
       "      <td>0</td>\n",
       "      <td>0</td>\n",
       "      <td>8.0</td>\n",
       "      <td>0.0</td>\n",
       "      <td>26.0</td>\n",
       "      <td>0.0</td>\n",
       "    </tr>\n",
       "    <tr>\n",
       "      <th>3</th>\n",
       "      <td>add_jl</td>\n",
       "      <td>0</td>\n",
       "      <td>0</td>\n",
       "      <td>0</td>\n",
       "      <td>0</td>\n",
       "      <td>0</td>\n",
       "      <td>0</td>\n",
       "      <td>0</td>\n",
       "      <td>0</td>\n",
       "      <td>0</td>\n",
       "      <td>...</td>\n",
       "      <td>0</td>\n",
       "      <td>0</td>\n",
       "      <td>0</td>\n",
       "      <td>0</td>\n",
       "      <td>0</td>\n",
       "      <td>0</td>\n",
       "      <td>8.0</td>\n",
       "      <td>0.0</td>\n",
       "      <td>26.0</td>\n",
       "      <td>0.0</td>\n",
       "    </tr>\n",
       "    <tr>\n",
       "      <th>4</th>\n",
       "      <td>add_tree</td>\n",
       "      <td>1</td>\n",
       "      <td>7</td>\n",
       "      <td>7</td>\n",
       "      <td>0</td>\n",
       "      <td>0</td>\n",
       "      <td>7</td>\n",
       "      <td>0</td>\n",
       "      <td>0</td>\n",
       "      <td>0</td>\n",
       "      <td>...</td>\n",
       "      <td>0</td>\n",
       "      <td>0</td>\n",
       "      <td>8</td>\n",
       "      <td>92</td>\n",
       "      <td>7</td>\n",
       "      <td>66</td>\n",
       "      <td>50.0</td>\n",
       "      <td>64.0</td>\n",
       "      <td>33.0</td>\n",
       "      <td>1.0</td>\n",
       "    </tr>\n",
       "  </tbody>\n",
       "</table>\n",
       "<p>5 rows × 47 columns</p>\n",
       "</div>"
      ],
      "text/plain": [
       "  ModuleName  AlwaysConstructs  AssignLHSPortNum  AssignLHSWidth  \\\n",
       "0    account                 3                 3              21   \n",
       "1  add_ahead                 0                33              33   \n",
       "2     add_bx                 0                 0               0   \n",
       "3     add_jl                 0                 0               0   \n",
       "4   add_tree                 1                 7               7   \n",
       "\n",
       "   AssignRHSPortNum  AssignRHSWidth  AssignStmts  BLOCKINGASSIGN  \\\n",
       "0                 5              20            3               0   \n",
       "1                 2               2           33               0   \n",
       "2                 0               0            1               0   \n",
       "3                 0               0            0               0   \n",
       "4                 0               0            7               0   \n",
       "\n",
       "   CASECONDITIONNUM  CASECONDITIONWIDTH  ...  REDAOR  REDXOR  REG  REGWIDTH  \\\n",
       "0                 2                   3  ...       0       0   10        20   \n",
       "1                 0                   0  ...      16      16    0         0   \n",
       "2                 0                   0  ...       0       0    0         0   \n",
       "3                 0                   0  ...       0       0    0         0   \n",
       "4                 0                   0  ...       0       0    8        92   \n",
       "\n",
       "   WIRENUM  WIREWIDTH    LUT    FF    IO  BUFG  \n",
       "0        0          0  100.0  88.0  29.0   1.0  \n",
       "1        4         18   10.0   0.0  26.0   0.0  \n",
       "2        0          0    8.0   0.0  26.0   0.0  \n",
       "3        0          0    8.0   0.0  26.0   0.0  \n",
       "4        7         66   50.0  64.0  33.0   1.0  \n",
       "\n",
       "[5 rows x 47 columns]"
      ]
     },
     "execution_count": 9,
     "metadata": {},
     "output_type": "execute_result"
    }
   ],
   "source": [
    "resource_origin_data.head()"
   ]
  },
  {
   "cell_type": "code",
   "execution_count": 10,
   "id": "a6b0e6a2",
   "metadata": {},
   "outputs": [],
   "source": [
    "import pandas as pd"
   ]
  },
  {
   "cell_type": "code",
   "execution_count": 11,
   "id": "ded22073",
   "metadata": {},
   "outputs": [],
   "source": [
    "resource_origin_data_lut = resource_origin_data.dropna(subset = [\"LUT\"])"
   ]
  },
  {
   "cell_type": "code",
   "execution_count": 12,
   "id": "d59f5851",
   "metadata": {},
   "outputs": [],
   "source": [
    "resource_origin_data_lut=resource_origin_data_lut.drop(\"FF\",axis=1)"
   ]
  },
  {
   "cell_type": "code",
   "execution_count": 13,
   "id": "c4e51c61",
   "metadata": {},
   "outputs": [],
   "source": [
    "resource_origin_data_lut=resource_origin_data_lut.drop(\"BUFG\",axis=1)"
   ]
  },
  {
   "cell_type": "code",
   "execution_count": 14,
   "id": "12e698e0",
   "metadata": {},
   "outputs": [],
   "source": [
    "resource_origin_data_lut=resource_origin_data_lut.drop(\"IO\",axis=1)"
   ]
  },
  {
   "cell_type": "code",
   "execution_count": 15,
   "id": "c969ebef",
   "metadata": {},
   "outputs": [],
   "source": [
    "resource_origin_data_lut=resource_origin_data_lut.drop(\"ModuleName\",axis=1)"
   ]
  },
  {
   "cell_type": "code",
   "execution_count": 16,
   "id": "c6032aa0",
   "metadata": {},
   "outputs": [],
   "source": [
    "#resource_origin_data_lut=resource_origin_data_lut.drop(\"PARAMETERVALUE\",axis=1)"
   ]
  },
  {
   "cell_type": "code",
   "execution_count": 17,
   "id": "3ce321b9",
   "metadata": {},
   "outputs": [],
   "source": [
    "#resource_origin_data_lut=resource_origin_data_lut.drop(\"ModuleInsts\",axis=1)"
   ]
  },
  {
   "cell_type": "code",
   "execution_count": 18,
   "id": "32d870d7",
   "metadata": {},
   "outputs": [
    {
     "name": "stdout",
     "output_type": "stream",
     "text": [
      "<class 'pandas.core.frame.DataFrame'>\n",
      "Int64Index: 126 entries, 0 to 139\n",
      "Data columns (total 43 columns):\n",
      " #   Column                   Non-Null Count  Dtype  \n",
      "---  ------                   --------------  -----  \n",
      " 0   AlwaysConstructs         126 non-null    int64  \n",
      " 1   AssignLHSPortNum         126 non-null    int64  \n",
      " 2   AssignLHSWidth           126 non-null    int64  \n",
      " 3   AssignRHSPortNum         126 non-null    int64  \n",
      " 4   AssignRHSWidth           126 non-null    int64  \n",
      " 5   AssignStmts              126 non-null    int64  \n",
      " 6   BLOCKINGASSIGN           126 non-null    int64  \n",
      " 7   CASECONDITIONNUM         126 non-null    int64  \n",
      " 8   CASECONDITIONWIDTH       126 non-null    int64  \n",
      " 9   CASEITEMCONDITIONNUM     126 non-null    int64  \n",
      " 10  CASEITEMCONDITIOWIDTH    126 non-null    int64  \n",
      " 11  CASEITEMNUM              126 non-null    int64  \n",
      " 12  CONDITIONALELSE          126 non-null    int64  \n",
      " 13  CONDITIONALIF            126 non-null    int64  \n",
      " 14  CONDITIONALTHEN          126 non-null    int64  \n",
      " 15  FORBLOCK                 126 non-null    int64  \n",
      " 16  FORTIMES                 126 non-null    int64  \n",
      " 17  INDEXMEMRORY             126 non-null    int64  \n",
      " 18  INOUT                    126 non-null    int64  \n",
      " 19  INOUTWIDTH               126 non-null    int64  \n",
      " 20  INPUT                    126 non-null    int64  \n",
      " 21  INPUTWIDTH               126 non-null    int64  \n",
      " 22  MIN                      126 non-null    int64  \n",
      " 23  ModuleInsts              126 non-null    int64  \n",
      " 24  NonBlockingAssign        126 non-null    int64  \n",
      " 25  NonBlockingLeftPortNum   126 non-null    int64  \n",
      " 26  NonBlockingRightPortNum  126 non-null    int64  \n",
      " 27  OUTPUT                   126 non-null    int64  \n",
      " 28  OUTPUTWIDTH              126 non-null    int64  \n",
      " 29  PARAMETERNUM             126 non-null    int64  \n",
      " 30  PARAMETERVALUE           126 non-null    int64  \n",
      " 31  QUESTIONCOLON            126 non-null    int64  \n",
      " 32  QUESTIONCOLONELSE        126 non-null    int64  \n",
      " 33  QUESTIONCOLONIF          126 non-null    int64  \n",
      " 34  QUESTIONCOLONTHEN        126 non-null    int64  \n",
      " 35  REDAND                   126 non-null    int64  \n",
      " 36  REDAOR                   126 non-null    int64  \n",
      " 37  REDXOR                   126 non-null    int64  \n",
      " 38  REG                      126 non-null    int64  \n",
      " 39  REGWIDTH                 126 non-null    int64  \n",
      " 40  WIRENUM                  126 non-null    int64  \n",
      " 41  WIREWIDTH                126 non-null    int64  \n",
      " 42  LUT                      126 non-null    float64\n",
      "dtypes: float64(1), int64(42)\n",
      "memory usage: 43.3 KB\n"
     ]
    }
   ],
   "source": [
    "resource_origin_data_lut.info()"
   ]
  },
  {
   "cell_type": "code",
   "execution_count": 19,
   "id": "2e01baf1",
   "metadata": {},
   "outputs": [
    {
     "data": {
      "text/plain": [
       "LUT                        1.000000\n",
       "REGWIDTH                   0.743241\n",
       "REG                        0.513923\n",
       "OUTPUTWIDTH                0.431004\n",
       "NonBlockingLeftPortNum     0.408742\n",
       "NonBlockingAssign          0.407993\n",
       "INPUTWIDTH                 0.395379\n",
       "AssignRHSWidth             0.391379\n",
       "CONDITIONALIF              0.346436\n",
       "CONDITIONALTHEN            0.346436\n",
       "AssignLHSWidth             0.345286\n",
       "CONDITIONALELSE            0.320877\n",
       "AlwaysConstructs           0.274586\n",
       "INPUT                      0.232803\n",
       "MIN                        0.220828\n",
       "AssignRHSPortNum           0.184834\n",
       "FORTIMES                   0.156507\n",
       "CASECONDITIONWIDTH         0.154506\n",
       "CASECONDITIONNUM           0.149660\n",
       "OUTPUT                     0.142946\n",
       "WIREWIDTH                  0.133925\n",
       "CASEITEMCONDITIONNUM       0.121065\n",
       "CASEITEMNUM                0.121012\n",
       "WIRENUM                    0.120084\n",
       "REDAND                     0.118648\n",
       "BLOCKINGASSIGN             0.117899\n",
       "INDEXMEMRORY               0.104946\n",
       "AssignLHSPortNum           0.104811\n",
       "AssignStmts                0.101154\n",
       "INOUT                      0.090516\n",
       "PARAMETERNUM               0.086707\n",
       "QUESTIONCOLONIF            0.086658\n",
       "QUESTIONCOLONTHEN          0.086658\n",
       "QUESTIONCOLON              0.086658\n",
       "QUESTIONCOLONELSE          0.086658\n",
       "NonBlockingRightPortNum    0.069733\n",
       "CASEITEMCONDITIOWIDTH      0.059577\n",
       "REDAOR                     0.036880\n",
       "FORBLOCK                   0.036787\n",
       "INOUTWIDTH                 0.028013\n",
       "REDXOR                     0.016203\n",
       "PARAMETERVALUE            -0.050506\n",
       "ModuleInsts               -0.055100\n",
       "Name: LUT, dtype: float64"
      ]
     },
     "execution_count": 19,
     "metadata": {},
     "output_type": "execute_result"
    }
   ],
   "source": [
    "#相关性分析\n",
    "corr_matrix=resource_origin_data_lut.corr()\n",
    "corr_matrix[\"LUT\"].sort_values(ascending=False)"
   ]
  },
  {
   "cell_type": "code",
   "execution_count": 20,
   "id": "d6353fc6",
   "metadata": {},
   "outputs": [],
   "source": [
    "#训练数据处理\n",
    "resource_lut = resource_origin_data_lut[\"LUT\"].copy()\n",
    "resource_lut_data = resource_origin_data_lut.drop(\"LUT\",axis=1)"
   ]
  },
  {
   "cell_type": "code",
   "execution_count": 21,
   "id": "572743d6",
   "metadata": {},
   "outputs": [],
   "source": [
    "resource_label = list(resource_lut_data)"
   ]
  },
  {
   "cell_type": "code",
   "execution_count": 22,
   "id": "8dbd7c1b",
   "metadata": {},
   "outputs": [
    {
     "data": {
      "text/plain": [
       "0      100.0\n",
       "1       10.0\n",
       "2        8.0\n",
       "3        8.0\n",
       "4       50.0\n",
       "       ...  \n",
       "134     17.0\n",
       "135      7.0\n",
       "136     10.0\n",
       "137     11.0\n",
       "139      2.0\n",
       "Name: LUT, Length: 126, dtype: float64"
      ]
     },
     "execution_count": 22,
     "metadata": {},
     "output_type": "execute_result"
    }
   ],
   "source": [
    "resource_lut"
   ]
  },
  {
   "cell_type": "code",
   "execution_count": 23,
   "id": "25b377a2",
   "metadata": {},
   "outputs": [],
   "source": [
    "from sklearn.datasets import fetch_california_housing\n",
    "from sklearn.model_selection import train_test_split\n",
    "from sklearn.preprocessing import StandardScaler\n",
    "#训练集、测试集、验证集\n",
    "X_train_full, X_test, y_train_full, y_test = train_test_split(resource_lut_data, resource_lut, random_state=42)\n",
    "X_train, X_valid, y_train, y_valid = train_test_split(X_train_full, y_train_full, random_state=42)\n"
   ]
  },
  {
   "cell_type": "code",
   "execution_count": 24,
   "id": "0013efc5",
   "metadata": {},
   "outputs": [
    {
     "data": {
      "text/html": [
       "<div>\n",
       "<style scoped>\n",
       "    .dataframe tbody tr th:only-of-type {\n",
       "        vertical-align: middle;\n",
       "    }\n",
       "\n",
       "    .dataframe tbody tr th {\n",
       "        vertical-align: top;\n",
       "    }\n",
       "\n",
       "    .dataframe thead th {\n",
       "        text-align: right;\n",
       "    }\n",
       "</style>\n",
       "<table border=\"1\" class=\"dataframe\">\n",
       "  <thead>\n",
       "    <tr style=\"text-align: right;\">\n",
       "      <th></th>\n",
       "      <th>AlwaysConstructs</th>\n",
       "      <th>AssignLHSPortNum</th>\n",
       "      <th>AssignLHSWidth</th>\n",
       "      <th>AssignRHSPortNum</th>\n",
       "      <th>AssignRHSWidth</th>\n",
       "      <th>AssignStmts</th>\n",
       "      <th>BLOCKINGASSIGN</th>\n",
       "      <th>CASECONDITIONNUM</th>\n",
       "      <th>CASECONDITIONWIDTH</th>\n",
       "      <th>CASEITEMCONDITIONNUM</th>\n",
       "      <th>...</th>\n",
       "      <th>QUESTIONCOLONELSE</th>\n",
       "      <th>QUESTIONCOLONIF</th>\n",
       "      <th>QUESTIONCOLONTHEN</th>\n",
       "      <th>REDAND</th>\n",
       "      <th>REDAOR</th>\n",
       "      <th>REDXOR</th>\n",
       "      <th>REG</th>\n",
       "      <th>REGWIDTH</th>\n",
       "      <th>WIRENUM</th>\n",
       "      <th>WIREWIDTH</th>\n",
       "    </tr>\n",
       "  </thead>\n",
       "  <tbody>\n",
       "    <tr>\n",
       "      <th>54</th>\n",
       "      <td>3</td>\n",
       "      <td>0</td>\n",
       "      <td>0</td>\n",
       "      <td>0</td>\n",
       "      <td>0</td>\n",
       "      <td>0</td>\n",
       "      <td>5</td>\n",
       "      <td>2</td>\n",
       "      <td>3</td>\n",
       "      <td>8</td>\n",
       "      <td>...</td>\n",
       "      <td>0</td>\n",
       "      <td>0</td>\n",
       "      <td>0</td>\n",
       "      <td>0</td>\n",
       "      <td>0</td>\n",
       "      <td>0</td>\n",
       "      <td>3</td>\n",
       "      <td>7</td>\n",
       "      <td>0</td>\n",
       "      <td>0</td>\n",
       "    </tr>\n",
       "    <tr>\n",
       "      <th>120</th>\n",
       "      <td>0</td>\n",
       "      <td>1</td>\n",
       "      <td>8</td>\n",
       "      <td>0</td>\n",
       "      <td>0</td>\n",
       "      <td>1</td>\n",
       "      <td>0</td>\n",
       "      <td>0</td>\n",
       "      <td>0</td>\n",
       "      <td>0</td>\n",
       "      <td>...</td>\n",
       "      <td>0</td>\n",
       "      <td>0</td>\n",
       "      <td>0</td>\n",
       "      <td>0</td>\n",
       "      <td>0</td>\n",
       "      <td>0</td>\n",
       "      <td>0</td>\n",
       "      <td>0</td>\n",
       "      <td>0</td>\n",
       "      <td>0</td>\n",
       "    </tr>\n",
       "    <tr>\n",
       "      <th>136</th>\n",
       "      <td>10</td>\n",
       "      <td>2</td>\n",
       "      <td>2</td>\n",
       "      <td>3</td>\n",
       "      <td>1</td>\n",
       "      <td>2</td>\n",
       "      <td>20</td>\n",
       "      <td>1</td>\n",
       "      <td>4</td>\n",
       "      <td>0</td>\n",
       "      <td>...</td>\n",
       "      <td>1</td>\n",
       "      <td>1</td>\n",
       "      <td>1</td>\n",
       "      <td>0</td>\n",
       "      <td>0</td>\n",
       "      <td>0</td>\n",
       "      <td>10</td>\n",
       "      <td>26</td>\n",
       "      <td>2</td>\n",
       "      <td>3</td>\n",
       "    </tr>\n",
       "    <tr>\n",
       "      <th>17</th>\n",
       "      <td>0</td>\n",
       "      <td>1</td>\n",
       "      <td>1</td>\n",
       "      <td>2</td>\n",
       "      <td>2</td>\n",
       "      <td>1</td>\n",
       "      <td>0</td>\n",
       "      <td>0</td>\n",
       "      <td>0</td>\n",
       "      <td>0</td>\n",
       "      <td>...</td>\n",
       "      <td>0</td>\n",
       "      <td>0</td>\n",
       "      <td>0</td>\n",
       "      <td>1</td>\n",
       "      <td>0</td>\n",
       "      <td>0</td>\n",
       "      <td>0</td>\n",
       "      <td>0</td>\n",
       "      <td>0</td>\n",
       "      <td>0</td>\n",
       "    </tr>\n",
       "    <tr>\n",
       "      <th>107</th>\n",
       "      <td>3</td>\n",
       "      <td>0</td>\n",
       "      <td>0</td>\n",
       "      <td>0</td>\n",
       "      <td>0</td>\n",
       "      <td>0</td>\n",
       "      <td>66</td>\n",
       "      <td>5</td>\n",
       "      <td>11</td>\n",
       "      <td>32</td>\n",
       "      <td>...</td>\n",
       "      <td>0</td>\n",
       "      <td>0</td>\n",
       "      <td>0</td>\n",
       "      <td>16</td>\n",
       "      <td>0</td>\n",
       "      <td>0</td>\n",
       "      <td>3</td>\n",
       "      <td>16</td>\n",
       "      <td>0</td>\n",
       "      <td>0</td>\n",
       "    </tr>\n",
       "    <tr>\n",
       "      <th>...</th>\n",
       "      <td>...</td>\n",
       "      <td>...</td>\n",
       "      <td>...</td>\n",
       "      <td>...</td>\n",
       "      <td>...</td>\n",
       "      <td>...</td>\n",
       "      <td>...</td>\n",
       "      <td>...</td>\n",
       "      <td>...</td>\n",
       "      <td>...</td>\n",
       "      <td>...</td>\n",
       "      <td>...</td>\n",
       "      <td>...</td>\n",
       "      <td>...</td>\n",
       "      <td>...</td>\n",
       "      <td>...</td>\n",
       "      <td>...</td>\n",
       "      <td>...</td>\n",
       "      <td>...</td>\n",
       "      <td>...</td>\n",
       "      <td>...</td>\n",
       "    </tr>\n",
       "    <tr>\n",
       "      <th>117</th>\n",
       "      <td>3</td>\n",
       "      <td>2</td>\n",
       "      <td>2</td>\n",
       "      <td>2</td>\n",
       "      <td>33</td>\n",
       "      <td>2</td>\n",
       "      <td>6</td>\n",
       "      <td>0</td>\n",
       "      <td>0</td>\n",
       "      <td>0</td>\n",
       "      <td>...</td>\n",
       "      <td>0</td>\n",
       "      <td>0</td>\n",
       "      <td>0</td>\n",
       "      <td>0</td>\n",
       "      <td>0</td>\n",
       "      <td>0</td>\n",
       "      <td>3</td>\n",
       "      <td>96</td>\n",
       "      <td>0</td>\n",
       "      <td>0</td>\n",
       "    </tr>\n",
       "    <tr>\n",
       "      <th>16</th>\n",
       "      <td>1</td>\n",
       "      <td>0</td>\n",
       "      <td>0</td>\n",
       "      <td>0</td>\n",
       "      <td>0</td>\n",
       "      <td>0</td>\n",
       "      <td>0</td>\n",
       "      <td>0</td>\n",
       "      <td>0</td>\n",
       "      <td>0</td>\n",
       "      <td>...</td>\n",
       "      <td>0</td>\n",
       "      <td>0</td>\n",
       "      <td>0</td>\n",
       "      <td>0</td>\n",
       "      <td>0</td>\n",
       "      <td>0</td>\n",
       "      <td>4</td>\n",
       "      <td>0</td>\n",
       "      <td>0</td>\n",
       "      <td>0</td>\n",
       "    </tr>\n",
       "    <tr>\n",
       "      <th>103</th>\n",
       "      <td>0</td>\n",
       "      <td>2</td>\n",
       "      <td>2</td>\n",
       "      <td>2</td>\n",
       "      <td>2</td>\n",
       "      <td>2</td>\n",
       "      <td>0</td>\n",
       "      <td>0</td>\n",
       "      <td>0</td>\n",
       "      <td>0</td>\n",
       "      <td>...</td>\n",
       "      <td>0</td>\n",
       "      <td>0</td>\n",
       "      <td>0</td>\n",
       "      <td>0</td>\n",
       "      <td>0</td>\n",
       "      <td>0</td>\n",
       "      <td>0</td>\n",
       "      <td>0</td>\n",
       "      <td>12</td>\n",
       "      <td>27</td>\n",
       "    </tr>\n",
       "    <tr>\n",
       "      <th>58</th>\n",
       "      <td>1</td>\n",
       "      <td>1</td>\n",
       "      <td>1</td>\n",
       "      <td>2</td>\n",
       "      <td>2</td>\n",
       "      <td>1</td>\n",
       "      <td>4</td>\n",
       "      <td>0</td>\n",
       "      <td>0</td>\n",
       "      <td>0</td>\n",
       "      <td>...</td>\n",
       "      <td>0</td>\n",
       "      <td>0</td>\n",
       "      <td>0</td>\n",
       "      <td>0</td>\n",
       "      <td>0</td>\n",
       "      <td>1</td>\n",
       "      <td>4</td>\n",
       "      <td>0</td>\n",
       "      <td>1</td>\n",
       "      <td>1</td>\n",
       "    </tr>\n",
       "    <tr>\n",
       "      <th>113</th>\n",
       "      <td>0</td>\n",
       "      <td>0</td>\n",
       "      <td>0</td>\n",
       "      <td>0</td>\n",
       "      <td>0</td>\n",
       "      <td>0</td>\n",
       "      <td>0</td>\n",
       "      <td>0</td>\n",
       "      <td>0</td>\n",
       "      <td>0</td>\n",
       "      <td>...</td>\n",
       "      <td>0</td>\n",
       "      <td>0</td>\n",
       "      <td>0</td>\n",
       "      <td>0</td>\n",
       "      <td>0</td>\n",
       "      <td>0</td>\n",
       "      <td>0</td>\n",
       "      <td>0</td>\n",
       "      <td>5</td>\n",
       "      <td>12</td>\n",
       "    </tr>\n",
       "  </tbody>\n",
       "</table>\n",
       "<p>94 rows × 42 columns</p>\n",
       "</div>"
      ],
      "text/plain": [
       "     AlwaysConstructs  AssignLHSPortNum  AssignLHSWidth  AssignRHSPortNum  \\\n",
       "54                  3                 0               0                 0   \n",
       "120                 0                 1               8                 0   \n",
       "136                10                 2               2                 3   \n",
       "17                  0                 1               1                 2   \n",
       "107                 3                 0               0                 0   \n",
       "..                ...               ...             ...               ...   \n",
       "117                 3                 2               2                 2   \n",
       "16                  1                 0               0                 0   \n",
       "103                 0                 2               2                 2   \n",
       "58                  1                 1               1                 2   \n",
       "113                 0                 0               0                 0   \n",
       "\n",
       "     AssignRHSWidth  AssignStmts  BLOCKINGASSIGN  CASECONDITIONNUM  \\\n",
       "54                0            0               5                 2   \n",
       "120               0            1               0                 0   \n",
       "136               1            2              20                 1   \n",
       "17                2            1               0                 0   \n",
       "107               0            0              66                 5   \n",
       "..              ...          ...             ...               ...   \n",
       "117              33            2               6                 0   \n",
       "16                0            0               0                 0   \n",
       "103               2            2               0                 0   \n",
       "58                2            1               4                 0   \n",
       "113               0            0               0                 0   \n",
       "\n",
       "     CASECONDITIONWIDTH  CASEITEMCONDITIONNUM  ...  QUESTIONCOLONELSE  \\\n",
       "54                    3                     8  ...                  0   \n",
       "120                   0                     0  ...                  0   \n",
       "136                   4                     0  ...                  1   \n",
       "17                    0                     0  ...                  0   \n",
       "107                  11                    32  ...                  0   \n",
       "..                  ...                   ...  ...                ...   \n",
       "117                   0                     0  ...                  0   \n",
       "16                    0                     0  ...                  0   \n",
       "103                   0                     0  ...                  0   \n",
       "58                    0                     0  ...                  0   \n",
       "113                   0                     0  ...                  0   \n",
       "\n",
       "     QUESTIONCOLONIF  QUESTIONCOLONTHEN  REDAND  REDAOR  REDXOR  REG  \\\n",
       "54                 0                  0       0       0       0    3   \n",
       "120                0                  0       0       0       0    0   \n",
       "136                1                  1       0       0       0   10   \n",
       "17                 0                  0       1       0       0    0   \n",
       "107                0                  0      16       0       0    3   \n",
       "..               ...                ...     ...     ...     ...  ...   \n",
       "117                0                  0       0       0       0    3   \n",
       "16                 0                  0       0       0       0    4   \n",
       "103                0                  0       0       0       0    0   \n",
       "58                 0                  0       0       0       1    4   \n",
       "113                0                  0       0       0       0    0   \n",
       "\n",
       "     REGWIDTH  WIRENUM  WIREWIDTH  \n",
       "54          7        0          0  \n",
       "120         0        0          0  \n",
       "136        26        2          3  \n",
       "17          0        0          0  \n",
       "107        16        0          0  \n",
       "..        ...      ...        ...  \n",
       "117        96        0          0  \n",
       "16          0        0          0  \n",
       "103         0       12         27  \n",
       "58          0        1          1  \n",
       "113         0        5         12  \n",
       "\n",
       "[94 rows x 42 columns]"
      ]
     },
     "execution_count": 24,
     "metadata": {},
     "output_type": "execute_result"
    }
   ],
   "source": [
    "X_train_full"
   ]
  },
  {
   "cell_type": "code",
   "execution_count": 25,
   "id": "f0a96fa7",
   "metadata": {},
   "outputs": [],
   "source": [
    "scaler = StandardScaler() ##标准化\n",
    "X_train = scaler.fit_transform(X_train)\n",
    "X_valid = scaler.transform(X_valid)\n",
    "X_test = scaler.transform(X_test)\n",
    "X_train_full = scaler.transform(X_train_full)\n",
    "X_data_full = scaler.transform(resource_lut_data)"
   ]
  },
  {
   "cell_type": "code",
   "execution_count": 26,
   "id": "3074ed2c",
   "metadata": {},
   "outputs": [
    {
     "data": {
      "text/plain": [
       "(126, 42)"
      ]
     },
     "execution_count": 26,
     "metadata": {},
     "output_type": "execute_result"
    }
   ],
   "source": [
    "X_data_full.shape"
   ]
  },
  {
   "cell_type": "code",
   "execution_count": 27,
   "id": "ab37fb07",
   "metadata": {},
   "outputs": [
    {
     "data": {
      "text/plain": [
       "(70,)"
      ]
     },
     "execution_count": 27,
     "metadata": {},
     "output_type": "execute_result"
    }
   ],
   "source": [
    "y_train.shape"
   ]
  },
  {
   "cell_type": "code",
   "execution_count": 28,
   "id": "f050bfb9",
   "metadata": {},
   "outputs": [],
   "source": [
    "#线性回归"
   ]
  },
  {
   "cell_type": "code",
   "execution_count": 29,
   "id": "9891ab59",
   "metadata": {},
   "outputs": [],
   "source": [
    "from sklearn.linear_model import LinearRegression"
   ]
  },
  {
   "cell_type": "code",
   "execution_count": 30,
   "id": "6b042d1b",
   "metadata": {},
   "outputs": [],
   "source": [
    "lin_reg = LinearRegression()"
   ]
  },
  {
   "cell_type": "code",
   "execution_count": 31,
   "id": "171d5eab",
   "metadata": {},
   "outputs": [
    {
     "data": {
      "text/plain": [
       "LinearRegression()"
      ]
     },
     "execution_count": 31,
     "metadata": {},
     "output_type": "execute_result"
    }
   ],
   "source": [
    "lin_reg.fit(X_train,y_train)"
   ]
  },
  {
   "cell_type": "code",
   "execution_count": 32,
   "id": "0f3fe4f3",
   "metadata": {},
   "outputs": [],
   "source": [
    "lin_predic = lin_reg.predict(X_valid)"
   ]
  },
  {
   "cell_type": "code",
   "execution_count": 33,
   "id": "acaa419f",
   "metadata": {},
   "outputs": [
    {
     "data": {
      "text/plain": [
       "21.55008015921051"
      ]
     },
     "execution_count": 33,
     "metadata": {},
     "output_type": "execute_result"
    }
   ],
   "source": [
    "line_mse = mean_squared_error(y_valid,lin_predic)\n",
    "line_rmse = np.sqrt(line_mse)\n",
    "line_rmse"
   ]
  },
  {
   "cell_type": "code",
   "execution_count": 34,
   "id": "f6242f4f",
   "metadata": {},
   "outputs": [
    {
     "data": {
      "image/png": "[encoded data removed]",
      "text/plain": [
       "<Figure size 432x288 with 1 Axes>"
      ]
     },
     "metadata": {
      "needs_background": "light"
     },
     "output_type": "display_data"
    }
   ],
   "source": [
    "plot_learning_curves(lin_reg, X_data_full, resource_lut)\n",
    "plt.axis([0, 300, 0, 300])                         # not shown in the book   # not shown\n",
    "plt.show()                                      # not shown"
   ]
  },
  {
   "cell_type": "code",
   "execution_count": 35,
   "id": "8ddbf336",
   "metadata": {},
   "outputs": [],
   "source": [
    "#决策树\n",
    "from sklearn.tree import DecisionTreeRegressor\n",
    "tree_reg = DecisionTreeRegressor()"
   ]
  },
  {
   "cell_type": "code",
   "execution_count": 36,
   "id": "3581ef8c",
   "metadata": {},
   "outputs": [
    {
     "data": {
      "text/plain": [
       "DecisionTreeRegressor()"
      ]
     },
     "execution_count": 36,
     "metadata": {},
     "output_type": "execute_result"
    }
   ],
   "source": [
    "tree_reg.fit(X_train,y_train)"
   ]
  },
  {
   "cell_type": "code",
   "execution_count": 37,
   "id": "51cdb4aa",
   "metadata": {},
   "outputs": [
    {
     "data": {
      "text/plain": [
       "8.8928810479694"
      ]
     },
     "execution_count": 37,
     "metadata": {},
     "output_type": "execute_result"
    }
   ],
   "source": [
    "tree_predictions = tree_reg.predict(X_valid)\n",
    "tree_mse = mean_squared_error(tree_predictions,y_valid)\n",
    "tree_rmse = np.sqrt(tree_mse)\n",
    "tree_rmse"
   ]
  },
  {
   "cell_type": "code",
   "execution_count": 38,
   "id": "e76765eb",
   "metadata": {},
   "outputs": [
    {
     "data": {
      "image/png": "[encoded data removed]",
      "text/plain": [
       "<Figure size 432x288 with 1 Axes>"
      ]
     },
     "metadata": {
      "needs_background": "light"
     },
     "output_type": "display_data"
    }
   ],
   "source": [
    "plot_learning_curves(tree_reg, X_train_full, y_train_full)\n",
    "plt.axis([0, 100, 0, 100])                         # not shown in the book   # not shown\n",
    "plt.show()    "
   ]
  },
  {
   "cell_type": "code",
   "execution_count": 39,
   "id": "f9030230",
   "metadata": {},
   "outputs": [
    {
     "data": {
      "text/plain": [
       "RandomForestRegressor()"
      ]
     },
     "execution_count": 39,
     "metadata": {},
     "output_type": "execute_result"
    }
   ],
   "source": [
    "#随机森林\n",
    "from sklearn.ensemble import RandomForestRegressor\n",
    "forest_reg = RandomForestRegressor()\n",
    "forest_reg.fit(X_train,y_train)"
   ]
  },
  {
   "cell_type": "code",
   "execution_count": 40,
   "id": "2855e840",
   "metadata": {},
   "outputs": [
    {
     "data": {
      "text/plain": [
       "4.944965453199176"
      ]
     },
     "execution_count": 40,
     "metadata": {},
     "output_type": "execute_result"
    }
   ],
   "source": [
    "forest_predic = forest_reg.predict(X_valid)\n",
    "forest_mse = mean_squared_error(y_valid,forest_predic)\n",
    "forest_rmse = np.sqrt(forest_mse)\n",
    "forest_rmse"
   ]
  },
  {
   "cell_type": "code",
   "execution_count": 42,
   "id": "012f5d3c",
   "metadata": {},
   "outputs": [
    {
     "ename": "SyntaxError",
     "evalue": "invalid character in identifier (<ipython-input-42-d26578b2dafa>, line 13)",
     "output_type": "error",
     "traceback": [
      "\u001b[1;36m  File \u001b[1;32m\"<ipython-input-42-d26578b2dafa>\"\u001b[1;36m, line \u001b[1;32m13\u001b[0m\n\u001b[1;33m    'C': reciprocal(20，30),\u001b[0m\n\u001b[1;37m                        ^\u001b[0m\n\u001b[1;31mSyntaxError\u001b[0m\u001b[1;31m:\u001b[0m invalid character in identifier\n"
     ]
    }
   ],
   "source": [
    "#svm\n",
    "from sklearn.model_selection import RandomizedSearchCV\n",
    "from scipy.stats import expon, reciprocal\n",
    "from sklearn.model_selection import GridSearchCV\n",
    "from sklearn.svm import SVR\n",
    "\n",
    "# see https://docs.scipy.org/doc/scipy/reference/stats.html\n",
    "# for `expon()` and `reciprocal()` documentation and more probability distribution functions.\n",
    "\n",
    "# Note: gamma is ignored when kernel is \"linear\"\n",
    "param_distribs = {\n",
    "        'kernel': ['linear', 'rbf'],\n",
    "        'C': reciprocal(20, 100),\n",
    "        'gamma': expon(scale=1.0),\n",
    "    }\n",
    "\n",
    "svm_reg = SVR()\n",
    "rnd_search = RandomizedSearchCV(svm_reg, param_distributions=param_distribs,\n",
    "                                n_iter=50, cv=5, scoring='neg_mean_squared_error',\n",
    "                                verbose=2, random_state=42)\n",
    "rnd_search.fit(X_train, y_train)"
   ]
  },
  {
   "cell_type": "code",
   "execution_count": 205,
   "id": "aa230c7c",
   "metadata": {},
   "outputs": [
    {
     "name": "stdout",
     "output_type": "stream",
     "text": [
      "82.84841035376448 {'C': 629.782329591372, 'gamma': 3.010121430917521, 'kernel': 'linear'}\n",
      "23.786447428563257 {'C': 26290.206464300216, 'gamma': 0.9084469696321253, 'kernel': 'rbf'}\n",
      "19.238551207419448 {'C': 84.14107900575871, 'gamma': 0.059838768608680676, 'kernel': 'rbf'}\n",
      "78.88772969826209 {'C': 432.37884813148855, 'gamma': 0.15416196746656105, 'kernel': 'linear'}\n",
      "25.02843236299788 {'C': 24.17508294611391, 'gamma': 3.503557475158312, 'kernel': 'rbf'}\n",
      "63.5273592234812 {'C': 113564.03940586245, 'gamma': 0.0007790692366582295, 'kernel': 'rbf'}\n",
      "23.421188655873486 {'C': 108.30488238805073, 'gamma': 0.3627537294604771, 'kernel': 'rbf'}\n",
      "57.05613052338382 {'C': 21.344953672647435, 'gamma': 0.023332523598323388, 'kernel': 'linear'}\n",
      "21.990038100570818 {'C': 5603.270317432516, 'gamma': 0.15023452872733867, 'kernel': 'rbf'}\n",
      "23.10005824750638 {'C': 157055.10989448498, 'gamma': 0.26497040005002437, 'kernel': 'rbf'}\n",
      "398.5419812048968 {'C': 27652.464358739708, 'gamma': 0.2227358621286903, 'kernel': 'linear'}\n",
      "416.6753474880944 {'C': 171377.39570378003, 'gamma': 0.628789100540856, 'kernel': 'linear'}\n",
      "258.6400377457734 {'C': 5385.293820172355, 'gamma': 0.18696125197741642, 'kernel': 'linear'}\n",
      "24.989635334876766 {'C': 22.59903216621323, 'gamma': 2.850796878935603, 'kernel': 'rbf'}\n",
      "400.3494026438314 {'C': 34246.75194632794, 'gamma': 0.3632878599687583, 'kernel': 'linear'}\n",
      "23.151689547414993 {'C': 167.7278956080511, 'gamma': 0.2757870542258224, 'kernel': 'rbf'}\n",
      "71.50331787858482 {'C': 61.54360542501371, 'gamma': 0.6835472281341501, 'kernel': 'linear'}\n",
      "23.598186668144415 {'C': 98.73897389920914, 'gamma': 0.4960365360493639, 'kernel': 'rbf'}\n",
      "23.44224944587792 {'C': 8935.505635947808, 'gamma': 0.37354658165762367, 'kernel': 'rbf'}\n",
      "72.93325381469195 {'C': 135.76775824842434, 'gamma': 0.838636245624803, 'kernel': 'linear'}\n",
      "24.00076398505653 {'C': 151136.20282548846, 'gamma': 1.4922453771381408, 'kernel': 'rbf'}\n",
      "85.08567972188358 {'C': 761.4316758498783, 'gamma': 2.6126336514161914, 'kernel': 'linear'}\n",
      "416.21053570376614 {'C': 97392.81883041795, 'gamma': 0.09265545895311562, 'kernel': 'linear'}\n",
      "129.3445027931583 {'C': 2423.0759984939164, 'gamma': 3.248614270240346, 'kernel': 'linear'}\n",
      "84.60299523713115 {'C': 717.3632997255095, 'gamma': 0.3165604432088257, 'kernel': 'linear'}\n",
      "24.523167671944584 {'C': 4446.667521184072, 'gamma': 3.3597284456608496, 'kernel': 'rbf'}\n",
      "139.3511406978976 {'C': 2963.564121207815, 'gamma': 0.15189814782062885, 'kernel': 'linear'}\n",
      "71.96375593159263 {'C': 91.64267381686706, 'gamma': 0.01575994483585621, 'kernel': 'linear'}\n",
      "22.823207244415936 {'C': 24547.601975705915, 'gamma': 0.22153944050588595, 'kernel': 'rbf'}\n",
      "23.550845543880325 {'C': 22.76927941060928, 'gamma': 0.22169760231351215, 'kernel': 'rbf'}\n",
      "397.35629216142206 {'C': 16483.850529752886, 'gamma': 1.4752145260435134, 'kernel': 'linear'}\n",
      "23.841325960702253 {'C': 101445.66881340064, 'gamma': 1.052904084582266, 'kernel': 'rbf'}\n",
      "23.812370928496037 {'C': 56681.80859029545, 'gamma': 0.9763011917123741, 'kernel': 'rbf'}\n",
      "23.647608388080748 {'C': 48.15822390928914, 'gamma': 0.4633351167983427, 'kernel': 'rbf'}\n",
      "23.935653407295394 {'C': 399.7268155705774, 'gamma': 1.3078757839577408, 'kernel': 'rbf'}\n",
      "75.21436994016894 {'C': 251.14073886281363, 'gamma': 0.8238105204914145, 'kernel': 'linear'}\n",
      "71.50737069007691 {'C': 60.17373642891687, 'gamma': 1.2491263443165994, 'kernel': 'linear'}\n",
      "23.120860202218953 {'C': 15415.161544891856, 'gamma': 0.2691677514619319, 'kernel': 'rbf'}\n",
      "111.41620978796674 {'C': 1888.9148509967113, 'gamma': 0.739678838777267, 'kernel': 'linear'}\n",
      "71.48477475297344 {'C': 55.53838911232773, 'gamma': 0.578634378499143, 'kernel': 'linear'}\n",
      "24.315668491781928 {'C': 26.714480823948186, 'gamma': 1.0117295509275495, 'kernel': 'rbf'}\n",
      "168.55215439421977 {'C': 3582.0552780489566, 'gamma': 1.1891370222133257, 'kernel': 'linear'}\n",
      "74.36667652513837 {'C': 198.7004781812736, 'gamma': 0.5282819748826726, 'kernel': 'linear'}\n",
      "72.78555163277382 {'C': 129.8000604143307, 'gamma': 2.8621383676481322, 'kernel': 'linear'}\n",
      "22.362816333565085 {'C': 288.4269299593897, 'gamma': 0.17580835850006285, 'kernel': 'rbf'}\n",
      "275.92189063831853 {'C': 6287.039489427172, 'gamma': 0.3504567255332862, 'kernel': 'linear'}\n",
      "24.047182027779467 {'C': 61217.04421344494, 'gamma': 1.6279689407405564, 'kernel': 'rbf'}\n",
      "24.21337454264335 {'C': 926.9787684096649, 'gamma': 2.147979593060577, 'kernel': 'rbf'}\n",
      "400.25191969813767 {'C': 33946.157064934, 'gamma': 2.2642426492862313, 'kernel': 'linear'}\n",
      "412.5293201510805 {'C': 84789.82947739525, 'gamma': 0.3176359085304841, 'kernel': 'linear'}\n"
     ]
    }
   ],
   "source": [
    "cvres = rnd_search.cv_results_\n",
    "for mean_score, params in zip(cvres[\"mean_test_score\"], cvres[\"params\"]):\n",
    "    print(np.sqrt(-mean_score), params)"
   ]
  },
  {
   "cell_type": "code",
   "execution_count": 204,
   "id": "76e6b5c2",
   "metadata": {},
   "outputs": [
    {
     "ename": "AttributeError",
     "evalue": "'SVR' object has no attribute 'feature_importances_'",
     "output_type": "error",
     "traceback": [
      "\u001b[1;31m---------------------------------------------------------------------------\u001b[0m",
      "\u001b[1;31mAttributeError\u001b[0m                            Traceback (most recent call last)",
      "\u001b[1;32m<ipython-input-204-5fe7f30606e1>\u001b[0m in \u001b[0;36m<module>\u001b[1;34m\u001b[0m\n\u001b[0;32m      1\u001b[0m \u001b[1;31m#贡献度分析\u001b[0m\u001b[1;33m\u001b[0m\u001b[1;33m\u001b[0m\u001b[1;33m\u001b[0m\u001b[0m\n\u001b[1;32m----> 2\u001b[1;33m \u001b[0mfeature_importance\u001b[0m \u001b[1;33m=\u001b[0m \u001b[0mrnd_search\u001b[0m\u001b[1;33m.\u001b[0m\u001b[0mbest_estimator_\u001b[0m\u001b[1;33m.\u001b[0m\u001b[0mfeature_importances_\u001b[0m\u001b[1;33m\u001b[0m\u001b[1;33m\u001b[0m\u001b[0m\n\u001b[0m\u001b[0;32m      3\u001b[0m \u001b[0msorted\u001b[0m\u001b[1;33m(\u001b[0m\u001b[0mzip\u001b[0m\u001b[1;33m(\u001b[0m\u001b[0mfeature_importance\u001b[0m\u001b[1;33m,\u001b[0m \u001b[0mnum_attribs\u001b[0m\u001b[1;33m)\u001b[0m\u001b[1;33m,\u001b[0m \u001b[0mreverse\u001b[0m\u001b[1;33m=\u001b[0m\u001b[1;32mTrue\u001b[0m\u001b[1;33m)\u001b[0m\u001b[1;33m\u001b[0m\u001b[1;33m\u001b[0m\u001b[0m\n",
      "\u001b[1;31mAttributeError\u001b[0m: 'SVR' object has no attribute 'feature_importances_'"
     ]
    }
   ],
   "source": [
    "#贡献度分析\n",
    "feature_importance = rnd_search.best_estimator_.feature_importances_\n",
    "sorted(zip(feature_importance, num_attribs), reverse=True)"
   ]
  },
  {
   "cell_type": "code",
   "execution_count": 44,
   "id": "756cbfc4",
   "metadata": {},
   "outputs": [
    {
     "data": {
      "text/plain": [
       "19.238551207419448"
      ]
     },
     "execution_count": 44,
     "metadata": {},
     "output_type": "execute_result"
    }
   ],
   "source": [
    "negative_mse = rnd_search.best_score_\n",
    "rmse = np.sqrt(-negative_mse)\n",
    "rmse"
   ]
  },
  {
   "cell_type": "code",
   "execution_count": null,
   "id": "bd05b538",
   "metadata": {},
   "outputs": [],
   "source": []
  },
  {
   "cell_type": "code",
   "execution_count": 45,
   "id": "025ad851",
   "metadata": {},
   "outputs": [
    {
     "data": {
      "image/png": "[encoded data removed]",
      "text/plain": [
       "<Figure size 432x288 with 1 Axes>"
      ]
     },
     "metadata": {
      "needs_background": "light"
     },
     "output_type": "display_data"
    }
   ],
   "source": [
    "plot_learning_curves(rnd_search.best_estimator_, X_train_full, y_train_full)\n",
    "plt.axis([0, 100, 0, 100])                         # not shown in the book   # not shown\n",
    "plt.show()    "
   ]
  },
  {
   "cell_type": "code",
   "execution_count": 46,
   "id": "80286e53",
   "metadata": {},
   "outputs": [
    {
     "data": {
      "text/plain": [
       "RandomizedSearchCV(cv=5, estimator=RandomForestRegressor(random_state=42),\n",
       "                   n_iter=500,\n",
       "                   param_distributions={'max_features': <scipy.stats._distn_infrastructure.rv_frozen object at 0x0000012FCBE4A5B0>,\n",
       "                                        'n_estimators': <scipy.stats._distn_infrastructure.rv_frozen object at 0x0000012FCBF264C0>},\n",
       "                   random_state=42, scoring='neg_mean_squared_error')"
      ]
     },
     "execution_count": 46,
     "metadata": {},
     "output_type": "execute_result"
    }
   ],
   "source": [
    "from scipy.stats import randint\n",
    "param_distribs = {\n",
    "        'n_estimators': randint(low=1, high=200),\n",
    "        'max_features': randint(low=1, high=15),\n",
    "    }\n",
    "\n",
    "forest_reg = RandomForestRegressor(random_state=42)\n",
    "rnd_forest_search = RandomizedSearchCV(forest_reg, param_distributions=param_distribs,\n",
    "                                n_iter=500, cv=5, scoring='neg_mean_squared_error', random_state=42)\n",
    "rnd_forest_search.fit(X_train, y_train)"
   ]
  },
  {
   "cell_type": "code",
   "execution_count": 47,
   "id": "83a71556",
   "metadata": {},
   "outputs": [
    {
     "data": {
      "image/png": "[encoded data removed]",
      "text/plain": [
       "<Figure size 432x288 with 1 Axes>"
      ]
     },
     "metadata": {
      "needs_background": "light"
     },
     "output_type": "display_data"
    }
   ],
   "source": [
    "plot_learning_curves(rnd_forest_search.best_estimator_, X_data_full, resource_lut)\n",
    "plt.axis([0, 300, 0, 300])                         # not shown in the book   # not shown\n",
    "plt.show()    "
   ]
  },
  {
   "cell_type": "code",
   "execution_count": null,
   "id": "9a78013f",
   "metadata": {},
   "outputs": [],
   "source": []
  }
 ],
 "metadata": {
  "kernelspec": {
   "display_name": "Python 3",
   "language": "python",
   "name": "python3"
  },
  "language_info": {
   "codemirror_mode": {
    "name": "ipython",
    "version": 3
   },
   "file_extension": ".py",
   "mimetype": "text/x-python",
   "name": "python",
   "nbconvert_exporter": "python",
   "pygments_lexer": "ipython3",
   "version": "3.8.8"
  }
 },
 "nbformat": 4,
 "nbformat_minor": 5
}
