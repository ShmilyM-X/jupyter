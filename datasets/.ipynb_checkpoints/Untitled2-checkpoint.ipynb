{
 "cells": [
  {
   "cell_type": "code",
   "execution_count": 1,
   "id": "29f433ea",
   "metadata": {},
   "outputs": [],
   "source": [
    "from sklearn.datasets import fetch_california_housing"
   ]
  },
  {
   "cell_type": "code",
   "execution_count": 3,
   "id": "02fef328",
   "metadata": {},
   "outputs": [],
   "source": [
    "from sklearn.model_selection import train_test_split\n",
    "from sklearn.preprocessing import StandardScaler"
   ]
  },
  {
   "cell_type": "code",
   "execution_count": 5,
   "id": "d5377c79",
   "metadata": {},
   "outputs": [],
   "source": [
    "housing = fetch_california_housing()"
   ]
  },
  {
   "cell_type": "code",
   "execution_count": 6,
   "id": "ec35fa3e",
   "metadata": {},
   "outputs": [],
   "source": [
    "X_train_full,X_test,y_train_full,y_test = train_test_split(housing.data,housing.target)"
   ]
  },
  {
   "cell_type": "code",
   "execution_count": 7,
   "id": "c42d3a42",
   "metadata": {},
   "outputs": [],
   "source": [
    "X_train,X_valid,y_train,y_valid = train_test_split(X_train_full,y_train_full)"
   ]
  },
  {
   "cell_type": "code",
   "execution_count": 8,
   "id": "91c3d2fb",
   "metadata": {},
   "outputs": [],
   "source": [
    "scaler = StandardScaler()"
   ]
  },
  {
   "cell_type": "code",
   "execution_count": 9,
   "id": "90b6e9a7",
   "metadata": {},
   "outputs": [],
   "source": [
    "X_train = scaler.fit_transform(X_train)"
   ]
  },
  {
   "cell_type": "code",
   "execution_count": 10,
   "id": "bbb46a9d",
   "metadata": {},
   "outputs": [],
   "source": [
    "X_valid = scaler.fit_transform(X_valid)"
   ]
  },
  {
   "cell_type": "code",
   "execution_count": 11,
   "id": "85452564",
   "metadata": {},
   "outputs": [],
   "source": [
    "X_test = scaler.fit_transform(X_test)"
   ]
  },
  {
   "cell_type": "code",
   "execution_count": 13,
   "id": "6c6cbc2e",
   "metadata": {},
   "outputs": [],
   "source": [
    "import tensorflow as tf\n",
    "from tensorflow import keras"
   ]
  },
  {
   "cell_type": "code",
   "execution_count": 31,
   "id": "401207dc",
   "metadata": {},
   "outputs": [],
   "source": [
    "model = keras.models.Sequential([\n",
    "    keras.layers.Dense(30,activation = \"relu\",input_shape = X_train.shape[1:]),\n",
    "    keras.layers.Dense(1)\n",
    "])"
   ]
  },
  {
   "cell_type": "code",
   "execution_count": 32,
   "id": "492f8c10",
   "metadata": {},
   "outputs": [
    {
     "name": "stdout",
     "output_type": "stream",
     "text": [
      "Model: \"sequential_2\"\n",
      "_________________________________________________________________\n",
      " Layer (type)                Output Shape              Param #   \n",
      "=================================================================\n",
      " dense_2 (Dense)             (None, 30)                270       \n",
      "                                                                 \n",
      " dense_3 (Dense)             (None, 1)                 31        \n",
      "                                                                 \n",
      "=================================================================\n",
      "Total params: 301\n",
      "Trainable params: 301\n",
      "Non-trainable params: 0\n",
      "_________________________________________________________________\n"
     ]
    }
   ],
   "source": [
    "model.summary()"
   ]
  },
  {
   "cell_type": "code",
   "execution_count": 33,
   "id": "96ff66a3",
   "metadata": {},
   "outputs": [],
   "source": [
    "model.compile(loss=\"mean_squared_error\",optimizer=\"sgd\")"
   ]
  },
  {
   "cell_type": "code",
   "execution_count": 34,
   "id": "5ff23b69",
   "metadata": {},
   "outputs": [
    {
     "name": "stdout",
     "output_type": "stream",
     "text": [
      "Epoch 1/20\n",
      "363/363 [==============================] - 0s 889us/step - loss: 0.8237 - val_loss: 0.5584\n",
      "Epoch 2/20\n",
      "363/363 [==============================] - 0s 728us/step - loss: 0.5116 - val_loss: 0.4819\n",
      "Epoch 3/20\n",
      "363/363 [==============================] - 0s 741us/step - loss: 0.4451 - val_loss: 0.4479\n",
      "Epoch 4/20\n",
      "363/363 [==============================] - 0s 739us/step - loss: 0.4203 - val_loss: 0.4369\n",
      "Epoch 5/20\n",
      "363/363 [==============================] - 0s 714us/step - loss: 0.4063 - val_loss: 0.4288\n",
      "Epoch 6/20\n",
      "363/363 [==============================] - 0s 720us/step - loss: 0.3955 - val_loss: 0.4205\n",
      "Epoch 7/20\n",
      "363/363 [==============================] - 0s 775us/step - loss: 0.3984 - val_loss: 0.4209\n",
      "Epoch 8/20\n",
      "363/363 [==============================] - 0s 714us/step - loss: 0.3837 - val_loss: 0.4215\n",
      "Epoch 9/20\n",
      "363/363 [==============================] - 0s 706us/step - loss: 0.3866 - val_loss: 0.4373\n",
      "Epoch 10/20\n",
      "363/363 [==============================] - 0s 708us/step - loss: 0.3935 - val_loss: 0.4101\n",
      "Epoch 11/20\n",
      "363/363 [==============================] - 0s 783us/step - loss: 0.3789 - val_loss: 0.4120\n",
      "Epoch 12/20\n",
      "363/363 [==============================] - 0s 719us/step - loss: 0.3706 - val_loss: 0.4153\n",
      "Epoch 13/20\n",
      "363/363 [==============================] - 0s 693us/step - loss: 0.3661 - val_loss: 0.4162\n",
      "Epoch 14/20\n",
      "363/363 [==============================] - 0s 700us/step - loss: 0.3645 - val_loss: 0.4105\n",
      "Epoch 15/20\n",
      "363/363 [==============================] - 0s 737us/step - loss: 0.3605 - val_loss: 0.4041\n",
      "Epoch 16/20\n",
      "363/363 [==============================] - 0s 685us/step - loss: 0.3632 - val_loss: 0.4014\n",
      "Epoch 17/20\n",
      "363/363 [==============================] - 0s 681us/step - loss: 0.3680 - val_loss: 0.4069\n",
      "Epoch 18/20\n",
      "363/363 [==============================] - 0s 698us/step - loss: 0.3546 - val_loss: 0.4102\n",
      "Epoch 19/20\n",
      "363/363 [==============================] - 0s 700us/step - loss: 0.3548 - val_loss: 0.4647\n",
      "Epoch 20/20\n",
      "363/363 [==============================] - 0s 779us/step - loss: 0.3508 - val_loss: 0.3998\n"
     ]
    }
   ],
   "source": [
    "history = model.fit(X_train,y_train,epochs = 20,validation_data=(X_valid,y_valid))\n"
   ]
  },
  {
   "cell_type": "code",
   "execution_count": 37,
   "id": "9ba2bbbb",
   "metadata": {},
   "outputs": [
    {
     "name": "stdout",
     "output_type": "stream",
     "text": [
      "162/162 [==============================] - 0s 496us/step - loss: 0.8615\n"
     ]
    }
   ],
   "source": [
    "mse_test = model.evaluate(X_test,y_test)\n",
    "x_new = X_test[:50]\n",
    "y_pred= model.predict(x_new)"
   ]
  },
  {
   "cell_type": "code",
   "execution_count": 36,
   "id": "52d987d5",
   "metadata": {},
   "outputs": [
    {
     "data": {
      "text/plain": [
       "array([[1.4752282 ],\n",
       "       [3.1282306 ],\n",
       "       [0.56733274]], dtype=float32)"
      ]
     },
     "execution_count": 36,
     "metadata": {},
     "output_type": "execute_result"
    }
   ],
   "source": [
    "y_pred"
   ]
  },
  {
   "cell_type": "code",
   "execution_count": 38,
   "id": "3ad40af0",
   "metadata": {},
   "outputs": [],
   "source": [
    "# 宽深神经网络\n"
   ]
  },
  {
   "cell_type": "code",
   "execution_count": 39,
   "id": "4027bde3",
   "metadata": {},
   "outputs": [],
   "source": [
    "input_ = keras.layers.Input(shape = X_train.shape[1:])"
   ]
  },
  {
   "cell_type": "code",
   "execution_count": 41,
   "id": "799cc28d",
   "metadata": {},
   "outputs": [],
   "source": [
    "hidden1 = keras.layers.Dense(30,activation = \"relu\")(input_)"
   ]
  },
  {
   "cell_type": "code",
   "execution_count": 43,
   "id": "77dd0eb4",
   "metadata": {},
   "outputs": [],
   "source": [
    "hidden2 = keras.layers.Dense(30,activation = \"relu\")(hidden1)"
   ]
  },
  {
   "cell_type": "code",
   "execution_count": 45,
   "id": "3e15fbef",
   "metadata": {},
   "outputs": [],
   "source": [
    "concat = keras.layers.Concatenate()([input_,hidden2])"
   ]
  },
  {
   "cell_type": "code",
   "execution_count": 46,
   "id": "6773f760",
   "metadata": {},
   "outputs": [],
   "source": [
    "output = keras.layers.Dense(1)(concat)"
   ]
  },
  {
   "cell_type": "code",
   "execution_count": 48,
   "id": "82a0b5d0",
   "metadata": {},
   "outputs": [],
   "source": [
    "model = keras.Model(inputs = [input_],outputs = [output])"
   ]
  },
  {
   "cell_type": "code",
   "execution_count": 49,
   "id": "76d6e041",
   "metadata": {},
   "outputs": [
    {
     "name": "stdout",
     "output_type": "stream",
     "text": [
      "Model: \"model\"\n",
      "__________________________________________________________________________________________________\n",
      " Layer (type)                   Output Shape         Param #     Connected to                     \n",
      "==================================================================================================\n",
      " input_1 (InputLayer)           [(None, 8)]          0           []                               \n",
      "                                                                                                  \n",
      " dense_5 (Dense)                (None, 30)           270         ['input_1[0][0]']                \n",
      "                                                                                                  \n",
      " dense_6 (Dense)                (None, 30)           930         ['dense_5[0][0]']                \n",
      "                                                                                                  \n",
      " dense_7 (Dense)                (None, 30)           930         ['dense_6[0][0]']                \n",
      "                                                                                                  \n",
      " concatenate_1 (Concatenate)    (None, 38)           0           ['input_1[0][0]',                \n",
      "                                                                  'dense_7[0][0]']                \n",
      "                                                                                                  \n",
      " dense_8 (Dense)                (None, 1)            39          ['concatenate_1[0][0]']          \n",
      "                                                                                                  \n",
      "==================================================================================================\n",
      "Total params: 2,169\n",
      "Trainable params: 2,169\n",
      "Non-trainable params: 0\n",
      "__________________________________________________________________________________________________\n"
     ]
    }
   ],
   "source": [
    "model.summary()"
   ]
  },
  {
   "cell_type": "code",
   "execution_count": 50,
   "id": "c1246170",
   "metadata": {},
   "outputs": [],
   "source": [
    "input_A = keras.layers.Input(shape=[5],name= \"wide_input\")"
   ]
  },
  {
   "cell_type": "code",
   "execution_count": 51,
   "id": "f249653f",
   "metadata": {},
   "outputs": [],
   "source": [
    "input_B = keras.layers.Input(shape=[6],name = \"deep_input\")"
   ]
  },
  {
   "cell_type": "code",
   "execution_count": 52,
   "id": "0be39797",
   "metadata": {},
   "outputs": [],
   "source": [
    "hidden1 = keras.layers.Dense(30,activation=\"relu\")(input_B)\n",
    "hidden2 = keras.layers.Dense(30,activation=\"relu\")(hidden1)\n",
    "concat = keras.layers.Concatenate()([input_A,hidden2])\n",
    "output = keras.layers.Dense(1,name = \"output\")(concat)"
   ]
  },
  {
   "cell_type": "code",
   "execution_count": 56,
   "id": "dcbb1443",
   "metadata": {},
   "outputs": [],
   "source": [
    "model_2 = keras.Model(inputs = [input_A,input_B],outputs = [output])"
   ]
  },
  {
   "cell_type": "code",
   "execution_count": 57,
   "id": "9f60bac7",
   "metadata": {},
   "outputs": [
    {
     "name": "stderr",
     "output_type": "stream",
     "text": [
      "D:\\ProgramData\\Anaconda3\\lib\\site-packages\\keras\\optimizer_v2\\gradient_descent.py:102: UserWarning: The `lr` argument is deprecated, use `learning_rate` instead.\n",
      "  super(SGD, self).__init__(name, **kwargs)\n"
     ]
    }
   ],
   "source": [
    "model_2.compile(loss=\"mse\",optimizer = keras.optimizers.SGD(lr=1e-3))"
   ]
  },
  {
   "cell_type": "code",
   "execution_count": 67,
   "id": "a4daf461",
   "metadata": {},
   "outputs": [],
   "source": [
    "X_train_A,X_train_B = X_train[:,:5],X_train[:,2:]"
   ]
  },
  {
   "cell_type": "code",
   "execution_count": 68,
   "id": "654c0cdb",
   "metadata": {},
   "outputs": [],
   "source": [
    "X_valid_A,X_valid_B = X_valid[:,:5],X_valid[:,2:]"
   ]
  },
  {
   "cell_type": "code",
   "execution_count": 69,
   "id": "cc5621f4",
   "metadata": {},
   "outputs": [],
   "source": [
    "X_test_A,X_test_B = X_test[:,:5],X_test[:,2:]"
   ]
  },
  {
   "cell_type": "code",
   "execution_count": 70,
   "id": "a55f8b81",
   "metadata": {},
   "outputs": [],
   "source": [
    "X_new_A,X_new_B = X_test_A[:3],X_test_B[:3]"
   ]
  },
  {
   "cell_type": "code",
   "execution_count": 71,
   "id": "e534ad0f",
   "metadata": {},
   "outputs": [
    {
     "name": "stdout",
     "output_type": "stream",
     "text": [
      "Epoch 1/20\n",
      "363/363 [==============================] - 0s 1ms/step - loss: 0.6054 - val_loss: 0.5730\n",
      "Epoch 2/20\n",
      "363/363 [==============================] - 0s 852us/step - loss: 0.5839 - val_loss: 0.5570\n",
      "Epoch 3/20\n",
      "363/363 [==============================] - 0s 836us/step - loss: 0.5672 - val_loss: 0.5424\n",
      "Epoch 4/20\n",
      "363/363 [==============================] - 0s 866us/step - loss: 0.5530 - val_loss: 0.5311\n",
      "Epoch 5/20\n",
      "363/363 [==============================] - 0s 855us/step - loss: 0.5410 - val_loss: 0.5226\n",
      "Epoch 6/20\n",
      "363/363 [==============================] - 0s 861us/step - loss: 0.5308 - val_loss: 0.5158\n",
      "Epoch 7/20\n",
      "363/363 [==============================] - 0s 925us/step - loss: 0.5216 - val_loss: 0.5082\n",
      "Epoch 8/20\n",
      "363/363 [==============================] - 0s 833us/step - loss: 0.5133 - val_loss: 0.5031\n",
      "Epoch 9/20\n",
      "363/363 [==============================] - 0s 807us/step - loss: 0.5060 - val_loss: 0.4985\n",
      "Epoch 10/20\n",
      "363/363 [==============================] - 0s 856us/step - loss: 0.4981 - val_loss: 0.4934\n",
      "Epoch 11/20\n",
      "363/363 [==============================] - 0s 863us/step - loss: 0.4917 - val_loss: 0.4893\n",
      "Epoch 12/20\n",
      "363/363 [==============================] - 0s 914us/step - loss: 0.4851 - val_loss: 0.4853\n",
      "Epoch 13/20\n",
      "363/363 [==============================] - 0s 839us/step - loss: 0.4796 - val_loss: 0.4814\n",
      "Epoch 14/20\n",
      "363/363 [==============================] - 0s 849us/step - loss: 0.4744 - val_loss: 0.4782\n",
      "Epoch 15/20\n",
      "363/363 [==============================] - 0s 848us/step - loss: 0.4690 - val_loss: 0.4746\n",
      "Epoch 16/20\n",
      "363/363 [==============================] - 0s 913us/step - loss: 0.4642 - val_loss: 0.4722\n",
      "Epoch 17/20\n",
      "363/363 [==============================] - 0s 866us/step - loss: 0.4596 - val_loss: 0.4686\n",
      "Epoch 18/20\n",
      "363/363 [==============================] - 0s 851us/step - loss: 0.4554 - val_loss: 0.4666\n",
      "Epoch 19/20\n",
      "363/363 [==============================] - 0s 856us/step - loss: 0.4514 - val_loss: 0.4647\n",
      "Epoch 20/20\n",
      "363/363 [==============================] - 0s 903us/step - loss: 0.4473 - val_loss: 0.4613\n",
      "162/162 [==============================] - 0s 604us/step - loss: 0.4620\n"
     ]
    }
   ],
   "source": [
    "history = model_2.fit((X_train_A,X_train_B),y_train,epochs=20,\n",
    "                   validation_data=((X_valid_A,X_valid_B),y_valid))\n",
    "mse_test = model_2.evaluate((X_test_A,X_test_B),y_test)\n",
    "y_pred = model_2.predict((X_new_A,X_new_B))"
   ]
  },
  {
   "cell_type": "code",
   "execution_count": 73,
   "id": "fe3f452b",
   "metadata": {},
   "outputs": [],
   "source": [
    "#使用子类API构建动态模型\n",
    "class WideAndDeepModel(keras.Model):\n",
    "    def __init__(self,units=30,activation=\"relu\",**kwargs):\n",
    "        super().__init__(**kwargs)\n",
    "        self.hidden1 = keras.layers.Dense(units,activation=activation)\n",
    "        self.hidden2 = keras.layers.Dense(units,activation = activation)\n",
    "        self.main_output = keras.layers.Dense(1)\n",
    "        self.aux_output = keras.layers.Dense(1)\n",
    "        \n",
    "    def call(self,inputs):\n",
    "        input_A,input_B = inputs\n",
    "        hidden1 = self.hidden1(input_B)\n",
    "        hidden2 = self.hidden2(hidden1)\n",
    "        concat = keras.layers.concatenate([input_A,hidden2])\n",
    "        main_output = self.main_output(concat)\n",
    "        aux_output = self.aux_output(hidden2)\n",
    "        return main_output,aux_output\n",
    "    \n",
    "model_3 = WideAndDeepModel()"
   ]
  },
  {
   "cell_type": "code",
   "execution_count": 74,
   "id": "f256ecc2",
   "metadata": {},
   "outputs": [],
   "source": [
    "model_2.save(\"my_test_model.h5\")"
   ]
  },
  {
   "cell_type": "code",
   "execution_count": 75,
   "id": "a144933d",
   "metadata": {},
   "outputs": [],
   "source": [
    "import os\n",
    "root_logidr = os.path.join(os.curdir,\"my_logs\")"
   ]
  },
  {
   "cell_type": "code",
   "execution_count": 76,
   "id": "bfedeb34",
   "metadata": {},
   "outputs": [
    {
     "data": {
      "text/plain": [
       "'.\\\\my_logs'"
      ]
     },
     "execution_count": 76,
     "metadata": {},
     "output_type": "execute_result"
    }
   ],
   "source": [
    "root_logidr"
   ]
  },
  {
   "cell_type": "code",
   "execution_count": 77,
   "id": "fce9aaf2",
   "metadata": {},
   "outputs": [],
   "source": [
    "def get_run_logdir():\n",
    "    import time\n",
    "    run_id = time.strftime(\"run_%Y_%m_%d-%H_%M_%S\")\n",
    "    return os.path.join(root_logidr,run_id)\n",
    "\n",
    "run_logdir = get_run_logdir()"
   ]
  },
  {
   "cell_type": "code",
   "execution_count": 78,
   "id": "11e78dd4",
   "metadata": {},
   "outputs": [
    {
     "data": {
      "text/plain": [
       "'.\\\\my_logs\\\\run_2021_11_25-17_16_11'"
      ]
     },
     "execution_count": 78,
     "metadata": {},
     "output_type": "execute_result"
    }
   ],
   "source": [
    "run_logdir"
   ]
  },
  {
   "cell_type": "code",
   "execution_count": 80,
   "id": "643e52f6",
   "metadata": {},
   "outputs": [
    {
     "name": "stdout",
     "output_type": "stream",
     "text": [
      "Epoch 1/30\n",
      "363/363 [==============================] - 1s 2ms/step - loss: 0.8514 - val_loss: 1.0498\n",
      "Epoch 2/30\n",
      "363/363 [==============================] - 1s 1ms/step - loss: 0.6255 - val_loss: 1.5077\n",
      "Epoch 3/30\n",
      "363/363 [==============================] - 0s 1ms/step - loss: nan - val_loss: nan\n",
      "Epoch 4/30\n",
      "363/363 [==============================] - 1s 1ms/step - loss: nan - val_loss: nan\n",
      "Epoch 5/30\n",
      "363/363 [==============================] - 0s 1ms/step - loss: nan - val_loss: nan\n",
      "Epoch 6/30\n",
      "363/363 [==============================] - 0s 1ms/step - loss: nan - val_loss: nan\n",
      "Epoch 7/30\n",
      "363/363 [==============================] - 0s 1ms/step - loss: nan - val_loss: nan\n",
      "Epoch 8/30\n",
      "363/363 [==============================] - 0s 1ms/step - loss: nan - val_loss: nan\n",
      "Epoch 9/30\n",
      "363/363 [==============================] - 0s 1ms/step - loss: nan - val_loss: nan\n",
      "Epoch 10/30\n",
      "363/363 [==============================] - 0s 1ms/step - loss: nan - val_loss: nan\n",
      "Epoch 11/30\n",
      "363/363 [==============================] - 0s 1ms/step - loss: nan - val_loss: nan\n",
      "Epoch 12/30\n",
      "363/363 [==============================] - 1s 2ms/step - loss: nan - val_loss: nan\n",
      "Epoch 13/30\n",
      "363/363 [==============================] - 1s 2ms/step - loss: nan - val_loss: nan\n",
      "Epoch 14/30\n",
      "363/363 [==============================] - 0s 1ms/step - loss: nan - val_loss: nan\n",
      "Epoch 15/30\n",
      "363/363 [==============================] - 0s 1ms/step - loss: nan - val_loss: nan\n",
      "Epoch 16/30\n",
      "363/363 [==============================] - 0s 1ms/step - loss: nan - val_loss: nan\n",
      "Epoch 17/30\n",
      "363/363 [==============================] - 0s 1ms/step - loss: nan - val_loss: nan\n",
      "Epoch 18/30\n",
      "363/363 [==============================] - 0s 1ms/step - loss: nan - val_loss: nan\n",
      "Epoch 19/30\n",
      "363/363 [==============================] - 0s 1ms/step - loss: nan - val_loss: nan\n",
      "Epoch 20/30\n",
      "363/363 [==============================] - 0s 1ms/step - loss: nan - val_loss: nan\n",
      "Epoch 21/30\n",
      "363/363 [==============================] - 0s 1ms/step - loss: nan - val_loss: nan\n",
      "Epoch 22/30\n",
      "363/363 [==============================] - 0s 1ms/step - loss: nan - val_loss: nan\n",
      "Epoch 23/30\n",
      "363/363 [==============================] - 0s 1ms/step - loss: nan - val_loss: nan\n",
      "Epoch 24/30\n",
      "363/363 [==============================] - 0s 1ms/step - loss: nan - val_loss: nan\n",
      "Epoch 25/30\n",
      "363/363 [==============================] - 0s 1ms/step - loss: nan - val_loss: nan\n",
      "Epoch 26/30\n",
      "363/363 [==============================] - 0s 1ms/step - loss: nan - val_loss: nan\n",
      "Epoch 27/30\n",
      "363/363 [==============================] - 0s 1ms/step - loss: nan - val_loss: nan\n",
      "Epoch 28/30\n",
      "363/363 [==============================] - 0s 1ms/step - loss: nan - val_loss: nan\n",
      "Epoch 29/30\n",
      "363/363 [==============================] - 0s 1ms/step - loss: nan - val_loss: nan\n",
      "Epoch 30/30\n",
      "363/363 [==============================] - 0s 1ms/step - loss: nan - val_loss: nan\n"
     ]
    }
   ],
   "source": [
    "tensorboard_cb = keras.callbacks.TensorBoard(run_logdir)\n",
    "model.compile(loss=\"mean_squared_error\",optimizer=\"sgd\")\n",
    "history = model.fit(X_train,y_train,epochs=30,validation_data=(X_valid,y_valid),callbacks=[tensorboard_cb])"
   ]
  },
  {
   "cell_type": "code",
   "execution_count": 82,
   "id": "5e77c88e",
   "metadata": {},
   "outputs": [
    {
     "name": "stdout",
     "output_type": "stream",
     "text": [
      "Epoch 1/30\n",
      "363/363 [==============================] - 1s 2ms/step - loss: nan - val_loss: nan\n",
      "Epoch 2/30\n",
      "363/363 [==============================] - 0s 1ms/step - loss: nan - val_loss: nan\n",
      "Epoch 3/30\n",
      "363/363 [==============================] - 0s 1ms/step - loss: nan - val_loss: nan\n",
      "Epoch 4/30\n",
      "363/363 [==============================] - 0s 1ms/step - loss: nan - val_loss: nan\n",
      "Epoch 5/30\n",
      "363/363 [==============================] - 0s 1ms/step - loss: nan - val_loss: nan\n",
      "Epoch 6/30\n",
      "363/363 [==============================] - 0s 1ms/step - loss: nan - val_loss: nan\n",
      "Epoch 7/30\n",
      "363/363 [==============================] - 0s 1ms/step - loss: nan - val_loss: nan\n",
      "Epoch 8/30\n",
      "363/363 [==============================] - 0s 1ms/step - loss: nan - val_loss: nan\n",
      "Epoch 9/30\n",
      "363/363 [==============================] - 0s 1ms/step - loss: nan - val_loss: nan\n",
      "Epoch 10/30\n",
      "363/363 [==============================] - 0s 1ms/step - loss: nan - val_loss: nan\n",
      "Epoch 11/30\n",
      "363/363 [==============================] - 0s 1ms/step - loss: nan - val_loss: nan\n",
      "Epoch 12/30\n",
      "363/363 [==============================] - 0s 1ms/step - loss: nan - val_loss: nan\n",
      "Epoch 13/30\n",
      "363/363 [==============================] - 0s 1ms/step - loss: nan - val_loss: nan\n",
      "Epoch 14/30\n",
      "363/363 [==============================] - 0s 1ms/step - loss: nan - val_loss: nan\n",
      "Epoch 15/30\n",
      "363/363 [==============================] - 0s 1ms/step - loss: nan - val_loss: nan\n",
      "Epoch 16/30\n",
      "363/363 [==============================] - 0s 1ms/step - loss: nan - val_loss: nan\n",
      "Epoch 17/30\n",
      "363/363 [==============================] - 0s 1ms/step - loss: nan - val_loss: nan\n",
      "Epoch 18/30\n",
      "363/363 [==============================] - 0s 1ms/step - loss: nan - val_loss: nan\n",
      "Epoch 19/30\n",
      "363/363 [==============================] - 0s 1ms/step - loss: nan - val_loss: nan\n",
      "Epoch 20/30\n",
      "363/363 [==============================] - 0s 1ms/step - loss: nan - val_loss: nan\n",
      "Epoch 21/30\n",
      "363/363 [==============================] - 0s 1ms/step - loss: nan - val_loss: nan\n",
      "Epoch 22/30\n",
      "363/363 [==============================] - 0s 1ms/step - loss: nan - val_loss: nan\n",
      "Epoch 23/30\n",
      "363/363 [==============================] - 0s 1ms/step - loss: nan - val_loss: nan\n",
      "Epoch 24/30\n",
      "363/363 [==============================] - 0s 1ms/step - loss: nan - val_loss: nan\n",
      "Epoch 25/30\n",
      "363/363 [==============================] - 0s 1ms/step - loss: nan - val_loss: nan\n",
      "Epoch 26/30\n",
      "363/363 [==============================] - 0s 1ms/step - loss: nan - val_loss: nan\n",
      "Epoch 27/30\n",
      "363/363 [==============================] - 0s 1ms/step - loss: nan - val_loss: nan\n",
      "Epoch 28/30\n",
      "363/363 [==============================] - 0s 1ms/step - loss: nan - val_loss: nan\n",
      "Epoch 29/30\n",
      "363/363 [==============================] - 0s 1ms/step - loss: nan - val_loss: nan\n",
      "Epoch 30/30\n",
      "363/363 [==============================] - 0s 1ms/step - loss: nan - val_loss: nan\n"
     ]
    }
   ],
   "source": [
    "tensorboard_cb = keras.callbacks.TensorBoard(run_logdir)\n",
    "model.compile(loss=\"mean_squared_error\",optimizer=\"sgd\")\n",
    "history = model.fit(X_train,y_train,epochs=30,validation_data=(X_valid,y_valid),callbacks=[tensorboard_cb])"
   ]
  },
  {
   "cell_type": "code",
   "execution_count": null,
   "id": "f23c4a67",
   "metadata": {},
   "outputs": [],
   "source": [
    "model_2.compile(loss=\"mse\",optimizer = keras.optimizers.SGD(lr=1e-3))\n",
    "history = model_2.fit((X_train_A,X_train_B),y_train,epochs=20,\n",
    "                   validation_data=((X_valid_A,X_valid_B),y_valid),callbacks=[tensorboard_cb])"
   ]
  }
 ],
 "metadata": {
  "kernelspec": {
   "display_name": "Python 3",
   "language": "python",
   "name": "python3"
  },
  "language_info": {
   "codemirror_mode": {
    "name": "ipython",
    "version": 3
   },
   "file_extension": ".py",
   "mimetype": "text/x-python",
   "name": "python",
   "nbconvert_exporter": "python",
   "pygments_lexer": "ipython3",
   "version": "3.8.8"
  }
 },
 "nbformat": 4,
 "nbformat_minor": 5
}
