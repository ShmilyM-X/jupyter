{
 "cells": [
  {
   "cell_type": "code",
   "execution_count": 1,
   "id": "60276092",
   "metadata": {},
   "outputs": [],
   "source": [
    "import os\n",
    "import tarfile\n",
    "import urllib.request\n",
    "\n",
    "RES_PATH = os.path.join(\"res_datasets\",\"resourceing\")"
   ]
  },
  {
   "cell_type": "code",
   "execution_count": 2,
   "id": "67091991",
   "metadata": {},
   "outputs": [],
   "source": [
    "def fetch_housing_data(res_path=RES_PATH):\n",
    "    if not os.path.isdir(res_path):\n",
    "        os.makedirs(res_path)\n",
    "##创建文件夹路径函数\n",
    "from sklearn.metrics import mean_squared_error\n",
    "from sklearn.model_selection import train_test_split\n",
    "import matplotlib as mpl\n",
    "import matplotlib.pyplot as plt\n",
    "import numpy as np\n",
    "\n",
    "def plot_learning_curves(model, X, y):\n",
    "    X_train, X_val, y_train, y_val = train_test_split(X, y, test_size=0.2, random_state=10)\n",
    "    train_errors, val_errors = [], []\n",
    "    for m in range(1, len(X_train) + 1):\n",
    "        model.fit(X_train[:m], y_train[:m])\n",
    "        y_train_predict = model.predict(X_train[:m])\n",
    "        y_val_predict = model.predict(X_val)\n",
    "        train_errors.append(mean_squared_error(y_train[:m], y_train_predict))\n",
    "        val_errors.append(mean_squared_error(y_val, y_val_predict))\n",
    "\n",
    "    plt.plot(np.sqrt(train_errors), \"r-+\", linewidth=2, label=\"train\")\n",
    "    plt.plot(np.sqrt(val_errors), \"b-\", linewidth=3, label=\"val\")\n",
    "    plt.legend(loc=\"upper right\", fontsize=14)   # not shown in the book\n",
    "    plt.xlabel(\"Training set size\", fontsize=14) # not shown\n",
    "    plt.ylabel(\"RMSE\", fontsize=14)              # not shown"
   ]
  },
  {
   "cell_type": "code",
   "execution_count": 3,
   "id": "5f9ab33b",
   "metadata": {},
   "outputs": [],
   "source": [
    "fetch_housing_data() ##调用创建"
   ]
  },
  {
   "cell_type": "code",
   "execution_count": 8,
   "id": "8aa730a5",
   "metadata": {},
   "outputs": [],
   "source": [
    "import pandas as pd\n",
    "\n",
    "def load_res_data(res_path = RES_PATH,file_name=\"new_feature_1214.csv\"):\n",
    "    csv_path = os.path.join(RES_PATH,file_name)\n",
    "    return pd.read_csv(csv_path) \n",
    "##读取CSV文件"
   ]
  },
  {
   "cell_type": "code",
   "execution_count": 9,
   "id": "9fb02018",
   "metadata": {},
   "outputs": [],
   "source": [
    "resource_origin_data = load_res_data() "
   ]
  },
  {
   "cell_type": "code",
   "execution_count": 10,
   "id": "21203430",
   "metadata": {},
   "outputs": [
    {
     "data": {
      "text/plain": [
       "(230, 66)"
      ]
     },
     "execution_count": 10,
     "metadata": {},
     "output_type": "execute_result"
    }
   ],
   "source": [
    "resource_origin_data.shape"
   ]
  },
  {
   "cell_type": "code",
   "execution_count": 11,
   "id": "68387058",
   "metadata": {},
   "outputs": [
    {
     "data": {
      "text/html": [
       "<div>\n",
       "<style scoped>\n",
       "    .dataframe tbody tr th:only-of-type {\n",
       "        vertical-align: middle;\n",
       "    }\n",
       "\n",
       "    .dataframe tbody tr th {\n",
       "        vertical-align: top;\n",
       "    }\n",
       "\n",
       "    .dataframe thead th {\n",
       "        text-align: right;\n",
       "    }\n",
       "</style>\n",
       "<table border=\"1\" class=\"dataframe\">\n",
       "  <thead>\n",
       "    <tr style=\"text-align: right;\">\n",
       "      <th></th>\n",
       "      <th>ARITLSHIFT</th>\n",
       "      <th>ARITLSHIFT_PORT_NUM</th>\n",
       "      <th>ARITLSHIFT_PORT_WIDTH</th>\n",
       "      <th>ARITLSHIFT_VALUE</th>\n",
       "      <th>ARITRSHIFT</th>\n",
       "      <th>ARITRSHIFT_PORT_NUM</th>\n",
       "      <th>ARITRSHIFT_PORT_WIDTH</th>\n",
       "      <th>ARITRSHIFT_VALUE</th>\n",
       "      <th>AlwaysConstructs</th>\n",
       "      <th>AssignLHSPortNum</th>\n",
       "      <th>...</th>\n",
       "      <th>REDXOR</th>\n",
       "      <th>REG</th>\n",
       "      <th>REGWIDTH</th>\n",
       "      <th>UnaryOperator</th>\n",
       "      <th>WIRENUM</th>\n",
       "      <th>WIREWIDTH</th>\n",
       "      <th>LUT</th>\n",
       "      <th>FF</th>\n",
       "      <th>IO</th>\n",
       "      <th>BUFG</th>\n",
       "    </tr>\n",
       "  </thead>\n",
       "  <tbody>\n",
       "    <tr>\n",
       "      <th>count</th>\n",
       "      <td>230.0</td>\n",
       "      <td>230.0</td>\n",
       "      <td>230.0</td>\n",
       "      <td>230.0</td>\n",
       "      <td>230.000000</td>\n",
       "      <td>230.000000</td>\n",
       "      <td>230.000000</td>\n",
       "      <td>230.000000</td>\n",
       "      <td>230.000000</td>\n",
       "      <td>230.000000</td>\n",
       "      <td>...</td>\n",
       "      <td>230.000000</td>\n",
       "      <td>230.00000</td>\n",
       "      <td>230.000000</td>\n",
       "      <td>230.000000</td>\n",
       "      <td>230.000000</td>\n",
       "      <td>230.000000</td>\n",
       "      <td>212.000000</td>\n",
       "      <td>212.000000</td>\n",
       "      <td>212.000000</td>\n",
       "      <td>212.000000</td>\n",
       "    </tr>\n",
       "    <tr>\n",
       "      <th>mean</th>\n",
       "      <td>0.0</td>\n",
       "      <td>0.0</td>\n",
       "      <td>0.0</td>\n",
       "      <td>0.0</td>\n",
       "      <td>0.104348</td>\n",
       "      <td>0.065217</td>\n",
       "      <td>0.621739</td>\n",
       "      <td>0.356522</td>\n",
       "      <td>2.239130</td>\n",
       "      <td>2.882609</td>\n",
       "      <td>...</td>\n",
       "      <td>0.543478</td>\n",
       "      <td>3.76087</td>\n",
       "      <td>121.152174</td>\n",
       "      <td>0.234783</td>\n",
       "      <td>2.956522</td>\n",
       "      <td>16.543478</td>\n",
       "      <td>32.731132</td>\n",
       "      <td>22.627358</td>\n",
       "      <td>30.537736</td>\n",
       "      <td>0.825472</td>\n",
       "    </tr>\n",
       "    <tr>\n",
       "      <th>std</th>\n",
       "      <td>0.0</td>\n",
       "      <td>0.0</td>\n",
       "      <td>0.0</td>\n",
       "      <td>0.0</td>\n",
       "      <td>0.728388</td>\n",
       "      <td>0.503359</td>\n",
       "      <td>4.396352</td>\n",
       "      <td>2.691378</td>\n",
       "      <td>3.164933</td>\n",
       "      <td>9.842833</td>\n",
       "      <td>...</td>\n",
       "      <td>3.926767</td>\n",
       "      <td>5.39442</td>\n",
       "      <td>679.017296</td>\n",
       "      <td>2.148750</td>\n",
       "      <td>8.431995</td>\n",
       "      <td>56.044706</td>\n",
       "      <td>85.157887</td>\n",
       "      <td>59.159899</td>\n",
       "      <td>57.435672</td>\n",
       "      <td>0.586347</td>\n",
       "    </tr>\n",
       "    <tr>\n",
       "      <th>min</th>\n",
       "      <td>0.0</td>\n",
       "      <td>0.0</td>\n",
       "      <td>0.0</td>\n",
       "      <td>0.0</td>\n",
       "      <td>0.000000</td>\n",
       "      <td>0.000000</td>\n",
       "      <td>0.000000</td>\n",
       "      <td>0.000000</td>\n",
       "      <td>0.000000</td>\n",
       "      <td>0.000000</td>\n",
       "      <td>...</td>\n",
       "      <td>0.000000</td>\n",
       "      <td>0.00000</td>\n",
       "      <td>0.000000</td>\n",
       "      <td>0.000000</td>\n",
       "      <td>0.000000</td>\n",
       "      <td>0.000000</td>\n",
       "      <td>0.000000</td>\n",
       "      <td>0.000000</td>\n",
       "      <td>0.000000</td>\n",
       "      <td>0.000000</td>\n",
       "    </tr>\n",
       "    <tr>\n",
       "      <th>25%</th>\n",
       "      <td>0.0</td>\n",
       "      <td>0.0</td>\n",
       "      <td>0.0</td>\n",
       "      <td>0.0</td>\n",
       "      <td>0.000000</td>\n",
       "      <td>0.000000</td>\n",
       "      <td>0.000000</td>\n",
       "      <td>0.000000</td>\n",
       "      <td>1.000000</td>\n",
       "      <td>0.000000</td>\n",
       "      <td>...</td>\n",
       "      <td>0.000000</td>\n",
       "      <td>1.00000</td>\n",
       "      <td>1.000000</td>\n",
       "      <td>0.000000</td>\n",
       "      <td>0.000000</td>\n",
       "      <td>0.000000</td>\n",
       "      <td>1.000000</td>\n",
       "      <td>0.000000</td>\n",
       "      <td>5.000000</td>\n",
       "      <td>0.000000</td>\n",
       "    </tr>\n",
       "    <tr>\n",
       "      <th>50%</th>\n",
       "      <td>0.0</td>\n",
       "      <td>0.0</td>\n",
       "      <td>0.0</td>\n",
       "      <td>0.0</td>\n",
       "      <td>0.000000</td>\n",
       "      <td>0.000000</td>\n",
       "      <td>0.000000</td>\n",
       "      <td>0.000000</td>\n",
       "      <td>1.000000</td>\n",
       "      <td>1.000000</td>\n",
       "      <td>...</td>\n",
       "      <td>0.000000</td>\n",
       "      <td>2.00000</td>\n",
       "      <td>8.000000</td>\n",
       "      <td>0.000000</td>\n",
       "      <td>0.000000</td>\n",
       "      <td>0.000000</td>\n",
       "      <td>8.000000</td>\n",
       "      <td>4.500000</td>\n",
       "      <td>14.000000</td>\n",
       "      <td>1.000000</td>\n",
       "    </tr>\n",
       "    <tr>\n",
       "      <th>75%</th>\n",
       "      <td>0.0</td>\n",
       "      <td>0.0</td>\n",
       "      <td>0.0</td>\n",
       "      <td>0.0</td>\n",
       "      <td>0.000000</td>\n",
       "      <td>0.000000</td>\n",
       "      <td>0.000000</td>\n",
       "      <td>0.000000</td>\n",
       "      <td>2.000000</td>\n",
       "      <td>2.000000</td>\n",
       "      <td>...</td>\n",
       "      <td>0.000000</td>\n",
       "      <td>4.00000</td>\n",
       "      <td>31.750000</td>\n",
       "      <td>0.000000</td>\n",
       "      <td>1.750000</td>\n",
       "      <td>2.000000</td>\n",
       "      <td>35.250000</td>\n",
       "      <td>26.000000</td>\n",
       "      <td>33.000000</td>\n",
       "      <td>1.000000</td>\n",
       "    </tr>\n",
       "    <tr>\n",
       "      <th>max</th>\n",
       "      <td>0.0</td>\n",
       "      <td>0.0</td>\n",
       "      <td>0.0</td>\n",
       "      <td>0.0</td>\n",
       "      <td>8.000000</td>\n",
       "      <td>7.000000</td>\n",
       "      <td>56.000000</td>\n",
       "      <td>28.000000</td>\n",
       "      <td>24.000000</td>\n",
       "      <td>127.000000</td>\n",
       "      <td>...</td>\n",
       "      <td>56.000000</td>\n",
       "      <td>32.00000</td>\n",
       "      <td>8202.000000</td>\n",
       "      <td>32.000000</td>\n",
       "      <td>65.000000</td>\n",
       "      <td>575.000000</td>\n",
       "      <td>948.000000</td>\n",
       "      <td>768.000000</td>\n",
       "      <td>556.000000</td>\n",
       "      <td>3.000000</td>\n",
       "    </tr>\n",
       "  </tbody>\n",
       "</table>\n",
       "<p>8 rows × 65 columns</p>\n",
       "</div>"
      ],
      "text/plain": [
       "       ARITLSHIFT  ARITLSHIFT_PORT_NUM  ARITLSHIFT_PORT_WIDTH  \\\n",
       "count       230.0                230.0                  230.0   \n",
       "mean          0.0                  0.0                    0.0   \n",
       "std           0.0                  0.0                    0.0   \n",
       "min           0.0                  0.0                    0.0   \n",
       "25%           0.0                  0.0                    0.0   \n",
       "50%           0.0                  0.0                    0.0   \n",
       "75%           0.0                  0.0                    0.0   \n",
       "max           0.0                  0.0                    0.0   \n",
       "\n",
       "       ARITLSHIFT_VALUE  ARITRSHIFT  ARITRSHIFT_PORT_NUM  \\\n",
       "count             230.0  230.000000           230.000000   \n",
       "mean                0.0    0.104348             0.065217   \n",
       "std                 0.0    0.728388             0.503359   \n",
       "min                 0.0    0.000000             0.000000   \n",
       "25%                 0.0    0.000000             0.000000   \n",
       "50%                 0.0    0.000000             0.000000   \n",
       "75%                 0.0    0.000000             0.000000   \n",
       "max                 0.0    8.000000             7.000000   \n",
       "\n",
       "       ARITRSHIFT_PORT_WIDTH  ARITRSHIFT_VALUE  AlwaysConstructs  \\\n",
       "count             230.000000        230.000000        230.000000   \n",
       "mean                0.621739          0.356522          2.239130   \n",
       "std                 4.396352          2.691378          3.164933   \n",
       "min                 0.000000          0.000000          0.000000   \n",
       "25%                 0.000000          0.000000          1.000000   \n",
       "50%                 0.000000          0.000000          1.000000   \n",
       "75%                 0.000000          0.000000          2.000000   \n",
       "max                56.000000         28.000000         24.000000   \n",
       "\n",
       "       AssignLHSPortNum  ...      REDXOR        REG     REGWIDTH  \\\n",
       "count        230.000000  ...  230.000000  230.00000   230.000000   \n",
       "mean           2.882609  ...    0.543478    3.76087   121.152174   \n",
       "std            9.842833  ...    3.926767    5.39442   679.017296   \n",
       "min            0.000000  ...    0.000000    0.00000     0.000000   \n",
       "25%            0.000000  ...    0.000000    1.00000     1.000000   \n",
       "50%            1.000000  ...    0.000000    2.00000     8.000000   \n",
       "75%            2.000000  ...    0.000000    4.00000    31.750000   \n",
       "max          127.000000  ...   56.000000   32.00000  8202.000000   \n",
       "\n",
       "       UnaryOperator     WIRENUM   WIREWIDTH         LUT          FF  \\\n",
       "count     230.000000  230.000000  230.000000  212.000000  212.000000   \n",
       "mean        0.234783    2.956522   16.543478   32.731132   22.627358   \n",
       "std         2.148750    8.431995   56.044706   85.157887   59.159899   \n",
       "min         0.000000    0.000000    0.000000    0.000000    0.000000   \n",
       "25%         0.000000    0.000000    0.000000    1.000000    0.000000   \n",
       "50%         0.000000    0.000000    0.000000    8.000000    4.500000   \n",
       "75%         0.000000    1.750000    2.000000   35.250000   26.000000   \n",
       "max        32.000000   65.000000  575.000000  948.000000  768.000000   \n",
       "\n",
       "               IO        BUFG  \n",
       "count  212.000000  212.000000  \n",
       "mean    30.537736    0.825472  \n",
       "std     57.435672    0.586347  \n",
       "min      0.000000    0.000000  \n",
       "25%      5.000000    0.000000  \n",
       "50%     14.000000    1.000000  \n",
       "75%     33.000000    1.000000  \n",
       "max    556.000000    3.000000  \n",
       "\n",
       "[8 rows x 65 columns]"
      ]
     },
     "execution_count": 11,
     "metadata": {},
     "output_type": "execute_result"
    }
   ],
   "source": [
    "resource_origin_data.describe() "
   ]
  },
  {
   "cell_type": "code",
   "execution_count": 12,
   "id": "b937b13a",
   "metadata": {},
   "outputs": [
    {
     "data": {
      "image/png": "[encoded data removed]",
      "text/plain": [
       "<Figure size 1440x1080 with 72 Axes>"
      ]
     },
     "metadata": {
      "needs_background": "light"
     },
     "output_type": "display_data"
    }
   ],
   "source": [
    "%matplotlib inline\n",
    "import matplotlib.pyplot as plt\n",
    "resource_origin_data.hist(bins=50, figsize=(20,15))\n",
    "plt.show()"
   ]
  },
  {
   "cell_type": "code",
   "execution_count": 13,
   "id": "49557a45",
   "metadata": {},
   "outputs": [
    {
     "data": {
      "text/html": [
       "<div>\n",
       "<style scoped>\n",
       "    .dataframe tbody tr th:only-of-type {\n",
       "        vertical-align: middle;\n",
       "    }\n",
       "\n",
       "    .dataframe tbody tr th {\n",
       "        vertical-align: top;\n",
       "    }\n",
       "\n",
       "    .dataframe thead th {\n",
       "        text-align: right;\n",
       "    }\n",
       "</style>\n",
       "<table border=\"1\" class=\"dataframe\">\n",
       "  <thead>\n",
       "    <tr style=\"text-align: right;\">\n",
       "      <th></th>\n",
       "      <th>ModuleName</th>\n",
       "      <th>ARITLSHIFT</th>\n",
       "      <th>ARITLSHIFT_PORT_NUM</th>\n",
       "      <th>ARITLSHIFT_PORT_WIDTH</th>\n",
       "      <th>ARITLSHIFT_VALUE</th>\n",
       "      <th>ARITRSHIFT</th>\n",
       "      <th>ARITRSHIFT_PORT_NUM</th>\n",
       "      <th>ARITRSHIFT_PORT_WIDTH</th>\n",
       "      <th>ARITRSHIFT_VALUE</th>\n",
       "      <th>AlwaysConstructs</th>\n",
       "      <th>...</th>\n",
       "      <th>REDXOR</th>\n",
       "      <th>REG</th>\n",
       "      <th>REGWIDTH</th>\n",
       "      <th>UnaryOperator</th>\n",
       "      <th>WIRENUM</th>\n",
       "      <th>WIREWIDTH</th>\n",
       "      <th>LUT</th>\n",
       "      <th>FF</th>\n",
       "      <th>IO</th>\n",
       "      <th>BUFG</th>\n",
       "    </tr>\n",
       "  </thead>\n",
       "  <tbody>\n",
       "    <tr>\n",
       "      <th>0</th>\n",
       "      <td>a429_rx_iface</td>\n",
       "      <td>0</td>\n",
       "      <td>0</td>\n",
       "      <td>0</td>\n",
       "      <td>0</td>\n",
       "      <td>0</td>\n",
       "      <td>0</td>\n",
       "      <td>0</td>\n",
       "      <td>0</td>\n",
       "      <td>2</td>\n",
       "      <td>...</td>\n",
       "      <td>1</td>\n",
       "      <td>6</td>\n",
       "      <td>50</td>\n",
       "      <td>0</td>\n",
       "      <td>5</td>\n",
       "      <td>29</td>\n",
       "      <td>42.0</td>\n",
       "      <td>93.0</td>\n",
       "      <td>39.0</td>\n",
       "      <td>1.0</td>\n",
       "    </tr>\n",
       "    <tr>\n",
       "      <th>1</th>\n",
       "      <td>a429_tx_iface</td>\n",
       "      <td>0</td>\n",
       "      <td>0</td>\n",
       "      <td>0</td>\n",
       "      <td>0</td>\n",
       "      <td>0</td>\n",
       "      <td>0</td>\n",
       "      <td>0</td>\n",
       "      <td>0</td>\n",
       "      <td>3</td>\n",
       "      <td>...</td>\n",
       "      <td>0</td>\n",
       "      <td>6</td>\n",
       "      <td>55</td>\n",
       "      <td>0</td>\n",
       "      <td>5</td>\n",
       "      <td>50</td>\n",
       "      <td>74.0</td>\n",
       "      <td>56.0</td>\n",
       "      <td>47.0</td>\n",
       "      <td>2.0</td>\n",
       "    </tr>\n",
       "    <tr>\n",
       "      <th>2</th>\n",
       "      <td>account</td>\n",
       "      <td>0</td>\n",
       "      <td>0</td>\n",
       "      <td>0</td>\n",
       "      <td>0</td>\n",
       "      <td>0</td>\n",
       "      <td>0</td>\n",
       "      <td>0</td>\n",
       "      <td>0</td>\n",
       "      <td>3</td>\n",
       "      <td>...</td>\n",
       "      <td>0</td>\n",
       "      <td>10</td>\n",
       "      <td>28</td>\n",
       "      <td>0</td>\n",
       "      <td>0</td>\n",
       "      <td>0</td>\n",
       "      <td>100.0</td>\n",
       "      <td>88.0</td>\n",
       "      <td>29.0</td>\n",
       "      <td>1.0</td>\n",
       "    </tr>\n",
       "    <tr>\n",
       "      <th>3</th>\n",
       "      <td>add8</td>\n",
       "      <td>0</td>\n",
       "      <td>0</td>\n",
       "      <td>0</td>\n",
       "      <td>0</td>\n",
       "      <td>0</td>\n",
       "      <td>0</td>\n",
       "      <td>0</td>\n",
       "      <td>0</td>\n",
       "      <td>0</td>\n",
       "      <td>...</td>\n",
       "      <td>0</td>\n",
       "      <td>0</td>\n",
       "      <td>0</td>\n",
       "      <td>0</td>\n",
       "      <td>0</td>\n",
       "      <td>0</td>\n",
       "      <td>8.0</td>\n",
       "      <td>0.0</td>\n",
       "      <td>26.0</td>\n",
       "      <td>0.0</td>\n",
       "    </tr>\n",
       "    <tr>\n",
       "      <th>4</th>\n",
       "      <td>adder4</td>\n",
       "      <td>0</td>\n",
       "      <td>0</td>\n",
       "      <td>0</td>\n",
       "      <td>0</td>\n",
       "      <td>0</td>\n",
       "      <td>0</td>\n",
       "      <td>0</td>\n",
       "      <td>0</td>\n",
       "      <td>0</td>\n",
       "      <td>...</td>\n",
       "      <td>0</td>\n",
       "      <td>0</td>\n",
       "      <td>0</td>\n",
       "      <td>0</td>\n",
       "      <td>0</td>\n",
       "      <td>0</td>\n",
       "      <td>4.0</td>\n",
       "      <td>0.0</td>\n",
       "      <td>14.0</td>\n",
       "      <td>0.0</td>\n",
       "    </tr>\n",
       "  </tbody>\n",
       "</table>\n",
       "<p>5 rows × 66 columns</p>\n",
       "</div>"
      ],
      "text/plain": [
       "      ModuleName  ARITLSHIFT  ARITLSHIFT_PORT_NUM  ARITLSHIFT_PORT_WIDTH  \\\n",
       "0  a429_rx_iface           0                    0                      0   \n",
       "1  a429_tx_iface           0                    0                      0   \n",
       "2        account           0                    0                      0   \n",
       "3           add8           0                    0                      0   \n",
       "4         adder4           0                    0                      0   \n",
       "\n",
       "   ARITLSHIFT_VALUE  ARITRSHIFT  ARITRSHIFT_PORT_NUM  ARITRSHIFT_PORT_WIDTH  \\\n",
       "0                 0           0                    0                      0   \n",
       "1                 0           0                    0                      0   \n",
       "2                 0           0                    0                      0   \n",
       "3                 0           0                    0                      0   \n",
       "4                 0           0                    0                      0   \n",
       "\n",
       "   ARITRSHIFT_VALUE  AlwaysConstructs  ...  REDXOR  REG  REGWIDTH  \\\n",
       "0                 0                 2  ...       1    6        50   \n",
       "1                 0                 3  ...       0    6        55   \n",
       "2                 0                 3  ...       0   10        28   \n",
       "3                 0                 0  ...       0    0         0   \n",
       "4                 0                 0  ...       0    0         0   \n",
       "\n",
       "   UnaryOperator  WIRENUM  WIREWIDTH    LUT    FF    IO  BUFG  \n",
       "0              0        5         29   42.0  93.0  39.0   1.0  \n",
       "1              0        5         50   74.0  56.0  47.0   2.0  \n",
       "2              0        0          0  100.0  88.0  29.0   1.0  \n",
       "3              0        0          0    8.0   0.0  26.0   0.0  \n",
       "4              0        0          0    4.0   0.0  14.0   0.0  \n",
       "\n",
       "[5 rows x 66 columns]"
      ]
     },
     "execution_count": 13,
     "metadata": {},
     "output_type": "execute_result"
    }
   ],
   "source": [
    "resource_origin_data.head()"
   ]
  },
  {
   "cell_type": "code",
   "execution_count": 14,
   "id": "b950fb21",
   "metadata": {},
   "outputs": [],
   "source": [
    "import pandas as pd"
   ]
  },
  {
   "cell_type": "code",
   "execution_count": 15,
   "id": "a23b234c",
   "metadata": {},
   "outputs": [],
   "source": [
    "resource_origin_data_lut = resource_origin_data.dropna(subset = [\"LUT\"])"
   ]
  },
  {
   "cell_type": "code",
   "execution_count": 16,
   "id": "8bbe39bf",
   "metadata": {},
   "outputs": [],
   "source": [
    "resource_origin_data_lut=resource_origin_data_lut.drop(\"FF\",axis=1)"
   ]
  },
  {
   "cell_type": "code",
   "execution_count": 17,
   "id": "197cf732",
   "metadata": {},
   "outputs": [],
   "source": [
    "resource_origin_data_lut=resource_origin_data_lut.drop(\"BUFG\",axis=1)"
   ]
  },
  {
   "cell_type": "code",
   "execution_count": 18,
   "id": "25d219e4",
   "metadata": {},
   "outputs": [],
   "source": [
    "resource_origin_data_lut=resource_origin_data_lut.drop(\"IO\",axis=1)"
   ]
  },
  {
   "cell_type": "code",
   "execution_count": 19,
   "id": "ba916b36",
   "metadata": {},
   "outputs": [],
   "source": [
    "resource_origin_data_lut=resource_origin_data_lut.drop(\"ModuleName\",axis=1)"
   ]
  },
  {
   "cell_type": "code",
   "execution_count": 20,
   "id": "ae6849db",
   "metadata": {},
   "outputs": [],
   "source": [
    "resource_origin_data_lut=resource_origin_data_lut.drop(\"PARAMETERVALUE\",axis=1)"
   ]
  },
  {
   "cell_type": "code",
   "execution_count": 21,
   "id": "842074f2",
   "metadata": {},
   "outputs": [],
   "source": [
    "resource_origin_data_lut=resource_origin_data_lut.drop(\"ModuleInsts\",axis=1)"
   ]
  },
  {
   "cell_type": "code",
   "execution_count": 22,
   "id": "6b6b0603",
   "metadata": {},
   "outputs": [
    {
     "name": "stdout",
     "output_type": "stream",
     "text": [
      "<class 'pandas.core.frame.DataFrame'>\n",
      "Int64Index: 212 entries, 0 to 229\n",
      "Data columns (total 60 columns):\n",
      " #   Column                     Non-Null Count  Dtype  \n",
      "---  ------                     --------------  -----  \n",
      " 0   ARITLSHIFT                 212 non-null    int64  \n",
      " 1   ARITLSHIFT_PORT_NUM        212 non-null    int64  \n",
      " 2   ARITLSHIFT_PORT_WIDTH      212 non-null    int64  \n",
      " 3   ARITLSHIFT_VALUE           212 non-null    int64  \n",
      " 4   ARITRSHIFT                 212 non-null    int64  \n",
      " 5   ARITRSHIFT_PORT_NUM        212 non-null    int64  \n",
      " 6   ARITRSHIFT_PORT_WIDTH      212 non-null    int64  \n",
      " 7   ARITRSHIFT_VALUE           212 non-null    int64  \n",
      " 8   AlwaysConstructs           212 non-null    int64  \n",
      " 9   AssignLHSPortNum           212 non-null    int64  \n",
      " 10  AssignLHSWidth             212 non-null    int64  \n",
      " 11  AssignRHSPortNum           212 non-null    int64  \n",
      " 12  AssignRHSWidth             212 non-null    int64  \n",
      " 13  AssignStmts                212 non-null    int64  \n",
      " 14  BLOCKINGASSIGN             212 non-null    int64  \n",
      " 15  BlockAssign_Left_PortNum   212 non-null    int64  \n",
      " 16  BlockAssign_Left_Width     212 non-null    int64  \n",
      " 17  BlockAssign_Right_PortNum  212 non-null    int64  \n",
      " 18  BlockAssign_Right_Width    212 non-null    int64  \n",
      " 19  CASECONDITIONNUM           212 non-null    int64  \n",
      " 20  CASECONDITIONWIDTH         212 non-null    int64  \n",
      " 21  CASEITEMCONDITIONNUM       212 non-null    int64  \n",
      " 22  CASEITEMCONDITIOWIDTH      212 non-null    int64  \n",
      " 23  CASEITEMNUM                212 non-null    int64  \n",
      " 24  CONDITIONALELSE            212 non-null    int64  \n",
      " 25  CONDITIONALIF              212 non-null    int64  \n",
      " 26  CONDITIONALIFWIDTH         212 non-null    int64  \n",
      " 27  CONDITIONALTHEN            212 non-null    int64  \n",
      " 28  FORBLOCK                   212 non-null    int64  \n",
      " 29  FORTIMES                   212 non-null    int64  \n",
      " 30  FUNCTIONCALL               212 non-null    int64  \n",
      " 31  FUNCTIONNUM                212 non-null    int64  \n",
      " 32  INDEXMEMRORY               212 non-null    int64  \n",
      " 33  INOUT                      212 non-null    int64  \n",
      " 34  INOUTWIDTH                 212 non-null    int64  \n",
      " 35  INPUT                      212 non-null    int64  \n",
      " 36  INPUTWIDTH                 212 non-null    int64  \n",
      " 37  MIN                        212 non-null    int64  \n",
      " 38  NonBlockLeftWidth          212 non-null    int64  \n",
      " 39  NonBlockRightWidth         212 non-null    int64  \n",
      " 40  NonBlockingAssign          212 non-null    int64  \n",
      " 41  NonBlockingLeftPortNum     212 non-null    int64  \n",
      " 42  NonBlockingRightPortNum    212 non-null    int64  \n",
      " 43  OUTPUT                     212 non-null    int64  \n",
      " 44  OUTPUTWIDTH                212 non-null    int64  \n",
      " 45  PARAMETERNUM               212 non-null    int64  \n",
      " 46  PLUS                       212 non-null    int64  \n",
      " 47  QUESTIONCOLON              212 non-null    int64  \n",
      " 48  QUESTIONCOLONELSE          212 non-null    int64  \n",
      " 49  QUESTIONCOLONIF            212 non-null    int64  \n",
      " 50  QUESTIONCOLONTHEN          212 non-null    int64  \n",
      " 51  REDAND                     212 non-null    int64  \n",
      " 52  REDAOR                     212 non-null    int64  \n",
      " 53  REDXOR                     212 non-null    int64  \n",
      " 54  REG                        212 non-null    int64  \n",
      " 55  REGWIDTH                   212 non-null    int64  \n",
      " 56  UnaryOperator              212 non-null    int64  \n",
      " 57  WIRENUM                    212 non-null    int64  \n",
      " 58  WIREWIDTH                  212 non-null    int64  \n",
      " 59  LUT                        212 non-null    float64\n",
      "dtypes: float64(1), int64(59)\n",
      "memory usage: 101.0 KB\n"
     ]
    }
   ],
   "source": [
    "resource_origin_data_lut.info()"
   ]
  },
  {
   "cell_type": "code",
   "execution_count": 23,
   "id": "2e46f9c0",
   "metadata": {},
   "outputs": [
    {
     "data": {
      "text/plain": [
       "LUT                          1.000000\n",
       "CONDITIONALELSE              0.431417\n",
       "NonBlockLeftWidth            0.417203\n",
       "PLUS                         0.399622\n",
       "NonBlockingAssign            0.393835\n",
       "CONDITIONALTHEN              0.392870\n",
       "CONDITIONALIF                0.392870\n",
       "NonBlockingLeftPortNum       0.387136\n",
       "REG                          0.318705\n",
       "AlwaysConstructs             0.276555\n",
       "CONDITIONALIFWIDTH           0.266208\n",
       "REDAND                       0.251582\n",
       "MIN                          0.232235\n",
       "CASEITEMNUM                  0.232026\n",
       "NonBlockRightWidth           0.229791\n",
       "CASECONDITIONNUM             0.214073\n",
       "OUTPUTWIDTH                  0.211457\n",
       "AssignLHSWidth               0.201654\n",
       "INPUTWIDTH                   0.192558\n",
       "CASECONDITIONWIDTH           0.189411\n",
       "AssignRHSWidth               0.180115\n",
       "NonBlockingRightPortNum      0.179107\n",
       "BlockAssign_Left_Width       0.143185\n",
       "ARITRSHIFT_PORT_NUM          0.139558\n",
       "WIREWIDTH                    0.136321\n",
       "BLOCKINGASSIGN               0.133238\n",
       "INPUT                        0.128534\n",
       "ARITRSHIFT                   0.123943\n",
       "ARITRSHIFT_PORT_WIDTH        0.123009\n",
       "WIRENUM                      0.114305\n",
       "BlockAssign_Right_Width      0.114102\n",
       "OUTPUT                       0.109189\n",
       "BlockAssign_Left_PortNum     0.096120\n",
       "ARITRSHIFT_VALUE             0.092706\n",
       "AssignStmts                  0.092402\n",
       "AssignLHSPortNum             0.090951\n",
       "AssignRHSPortNum             0.073878\n",
       "PARAMETERNUM                 0.072880\n",
       "CASEITEMCONDITIONNUM         0.067238\n",
       "INDEXMEMRORY                 0.063462\n",
       "BlockAssign_Right_PortNum    0.062788\n",
       "QUESTIONCOLON                0.060573\n",
       "QUESTIONCOLONELSE            0.060573\n",
       "QUESTIONCOLONIF              0.060573\n",
       "QUESTIONCOLONTHEN            0.060573\n",
       "CASEITEMCONDITIOWIDTH        0.031240\n",
       "REGWIDTH                     0.026338\n",
       "INOUTWIDTH                   0.024424\n",
       "REDAOR                       0.011938\n",
       "FUNCTIONCALL                 0.011406\n",
       "UnaryOperator                0.011401\n",
       "FORTIMES                    -0.000455\n",
       "FORBLOCK                    -0.006157\n",
       "REDXOR                      -0.018117\n",
       "FUNCTIONNUM                 -0.018206\n",
       "ARITLSHIFT                        NaN\n",
       "ARITLSHIFT_PORT_NUM               NaN\n",
       "ARITLSHIFT_PORT_WIDTH             NaN\n",
       "ARITLSHIFT_VALUE                  NaN\n",
       "INOUT                             NaN\n",
       "Name: LUT, dtype: float64"
      ]
     },
     "execution_count": 23,
     "metadata": {},
     "output_type": "execute_result"
    }
   ],
   "source": [
    "#相关性分析\n",
    "corr_matrix=resource_origin_data_lut.corr()\n",
    "corr_matrix[\"LUT\"].sort_values(ascending=False)"
   ]
  },
  {
   "cell_type": "code",
   "execution_count": 24,
   "id": "292203b4",
   "metadata": {},
   "outputs": [],
   "source": [
    "#训练数据处理\n",
    "resource_lut = resource_origin_data_lut[\"LUT\"].copy()\n",
    "resource_lut_data = resource_origin_data_lut.drop(\"LUT\",axis=1)"
   ]
  },
  {
   "cell_type": "code",
   "execution_count": 25,
   "id": "2de8ee33",
   "metadata": {},
   "outputs": [],
   "source": [
    "resource_label = list(resource_lut_data)"
   ]
  },
  {
   "cell_type": "code",
   "execution_count": 26,
   "id": "42fbb38c",
   "metadata": {},
   "outputs": [
    {
     "data": {
      "text/plain": [
       "0       42.0\n",
       "1       74.0\n",
       "2      100.0\n",
       "3        8.0\n",
       "4        4.0\n",
       "       ...  \n",
       "225      2.0\n",
       "226     38.0\n",
       "227      3.0\n",
       "228      0.0\n",
       "229     10.0\n",
       "Name: LUT, Length: 212, dtype: float64"
      ]
     },
     "execution_count": 26,
     "metadata": {},
     "output_type": "execute_result"
    }
   ],
   "source": [
    "resource_lut"
   ]
  },
  {
   "cell_type": "code",
   "execution_count": 58,
   "id": "c9793977",
   "metadata": {},
   "outputs": [],
   "source": [
    "from sklearn.datasets import fetch_california_housing\n",
    "from sklearn.model_selection import train_test_split\n",
    "from sklearn.preprocessing import StandardScaler\n",
    "#训练集、测试集、验证集\n",
    "X_train_full, X_test, y_train_full, y_test = train_test_split(resource_lut_data, resource_lut,test_size=0.2,random_state=42)\n",
    "X_train, X_valid, y_train, y_valid = train_test_split(X_train_full, y_train_full, random_state=42)\n"
   ]
  },
  {
   "cell_type": "code",
   "execution_count": 59,
   "id": "8a5484bd",
   "metadata": {},
   "outputs": [],
   "source": [
    "scaler = StandardScaler() ##标准化\n",
    "X_train = scaler.fit_transform(X_train)\n",
    "X_valid = scaler.transform(X_valid)\n",
    "X_test = scaler.transform(X_test)\n",
    "X_train_full = scaler.transform(X_train_full)\n",
    "X_data_full = scaler.transform(resource_lut_data)"
   ]
  },
  {
   "cell_type": "code",
   "execution_count": 60,
   "id": "819b5acd",
   "metadata": {},
   "outputs": [
    {
     "data": {
      "text/plain": [
       "(212, 59)"
      ]
     },
     "execution_count": 60,
     "metadata": {},
     "output_type": "execute_result"
    }
   ],
   "source": [
    "X_data_full.shape"
   ]
  },
  {
   "cell_type": "code",
   "execution_count": 61,
   "id": "39f90769",
   "metadata": {},
   "outputs": [
    {
     "data": {
      "text/plain": [
       "(126,)"
      ]
     },
     "execution_count": 61,
     "metadata": {},
     "output_type": "execute_result"
    }
   ],
   "source": [
    "y_train.shape"
   ]
  },
  {
   "cell_type": "code",
   "execution_count": 62,
   "id": "cffb58dc",
   "metadata": {},
   "outputs": [],
   "source": [
    "#线性回归"
   ]
  },
  {
   "cell_type": "code",
   "execution_count": 63,
   "id": "2f82694e",
   "metadata": {},
   "outputs": [],
   "source": [
    "from sklearn.linear_model import LinearRegression"
   ]
  },
  {
   "cell_type": "code",
   "execution_count": 64,
   "id": "556def12",
   "metadata": {},
   "outputs": [],
   "source": [
    "lin_reg = LinearRegression()"
   ]
  },
  {
   "cell_type": "code",
   "execution_count": 65,
   "id": "0746efd9",
   "metadata": {},
   "outputs": [
    {
     "data": {
      "text/plain": [
       "LinearRegression()"
      ]
     },
     "execution_count": 65,
     "metadata": {},
     "output_type": "execute_result"
    }
   ],
   "source": [
    "lin_reg.fit(X_train,y_train)"
   ]
  },
  {
   "cell_type": "code",
   "execution_count": 66,
   "id": "ef7029d7",
   "metadata": {},
   "outputs": [],
   "source": [
    "lin_predic = lin_reg.predict(X_valid)"
   ]
  },
  {
   "cell_type": "code",
   "execution_count": 196,
   "id": "93f2f8fd",
   "metadata": {},
   "outputs": [
    {
     "data": {
      "text/plain": [
       "2354.4041981178057"
      ]
     },
     "execution_count": 196,
     "metadata": {},
     "output_type": "execute_result"
    }
   ],
   "source": [
    "line_mse = mean_squared_error(y_valid,lin_predic)\n",
    "line_rmse = np.sqrt(line_mse)\n",
    "line_rmse"
   ]
  },
  {
   "cell_type": "code",
   "execution_count": 197,
   "id": "bbd5014b",
   "metadata": {},
   "outputs": [
    {
     "data": {
      "text/plain": [
       "-1303.6956165166584"
      ]
     },
     "execution_count": 197,
     "metadata": {},
     "output_type": "execute_result"
    }
   ],
   "source": [
    "from sklearn.metrics import r2_score\n",
    "r2_score(y_valid,lin_predic)"
   ]
  },
  {
   "cell_type": "code",
   "execution_count": 201,
   "id": "8a155d1c",
   "metadata": {},
   "outputs": [
    {
     "data": {
      "image/png": "[encoded data removed]",
      "text/plain": [
       "<Figure size 432x288 with 1 Axes>"
      ]
     },
     "metadata": {
      "needs_background": "light"
     },
     "output_type": "display_data"
    }
   ],
   "source": [
    "plot_learning_curves(lin_reg, X_data_full, resource_lut)\n",
    "plt.axis([0, 200, 0, 500])                         # not shown in the book   # not shown\n",
    "plt.show()                                      # not shown"
   ]
  },
  {
   "cell_type": "code",
   "execution_count": 423,
   "id": "36aecd81",
   "metadata": {},
   "outputs": [],
   "source": [
    "#决策树\n",
    "from sklearn.tree import DecisionTreeRegressor\n",
    "tree_reg = DecisionTreeRegressor()"
   ]
  },
  {
   "cell_type": "code",
   "execution_count": 432,
   "id": "4d614061",
   "metadata": {},
   "outputs": [
    {
     "data": {
      "text/plain": [
       "DecisionTreeRegressor()"
      ]
     },
     "execution_count": 432,
     "metadata": {},
     "output_type": "execute_result"
    }
   ],
   "source": [
    "tree_reg.fit(X_train,y_train)"
   ]
  },
  {
   "cell_type": "code",
   "execution_count": 433,
   "id": "0f0fd88b",
   "metadata": {},
   "outputs": [
    {
     "data": {
      "text/plain": [
       "0.23119004738926274"
      ]
     },
     "execution_count": 433,
     "metadata": {},
     "output_type": "execute_result"
    }
   ],
   "source": [
    "tree_predictions = tree_reg.predict(X_valid)\n",
    "tree_mse = mean_squared_error(tree_predictions,y_valid)\n",
    "tree_rmse = np.sqrt(tree_mse)\n",
    "\n",
    "r2_score(y_valid,tree_predictions)"
   ]
  },
  {
   "cell_type": "code",
   "execution_count": 434,
   "id": "eada5c5a",
   "metadata": {},
   "outputs": [
    {
     "data": {
      "text/plain": [
       "57.15259053316098"
      ]
     },
     "execution_count": 434,
     "metadata": {},
     "output_type": "execute_result"
    }
   ],
   "source": [
    "tree_rmse"
   ]
  },
  {
   "cell_type": "code",
   "execution_count": 435,
   "id": "1b074fb4",
   "metadata": {},
   "outputs": [
    {
     "data": {
      "text/plain": [
       "array([  4.,   1.,   1.,   4.,   1.,  35.,  95.,  13.,   0.,   7.,  48.,\n",
       "       104.,   0.,  38.,   2.,  57.,  38.,   2.,   7.,  17., 123.,  13.,\n",
       "        36.,   3.,   1.,   3.,   4.,  90.,  36., 121.,  95.,   0.,   1.,\n",
       "         8.,   3.,  36.,  35.,   0.,  32.,   4.,   0.,   1.,   3.])"
      ]
     },
     "execution_count": 435,
     "metadata": {},
     "output_type": "execute_result"
    }
   ],
   "source": [
    "tree_predictions"
   ]
  },
  {
   "cell_type": "code",
   "execution_count": 436,
   "id": "1afe11b9",
   "metadata": {},
   "outputs": [
    {
     "data": {
      "text/plain": [
       "58       4.0\n",
       "151      1.0\n",
       "16       1.0\n",
       "52       9.0\n",
       "220      2.0\n",
       "204      2.0\n",
       "17     170.0\n",
       "96     200.0\n",
       "208      1.0\n",
       "11      47.0\n",
       "77      78.0\n",
       "99       0.0\n",
       "60      20.0\n",
       "2      100.0\n",
       "4        4.0\n",
       "75      61.0\n",
       "196     45.0\n",
       "91       1.0\n",
       "10      91.0\n",
       "59      10.0\n",
       "110    220.0\n",
       "5        8.0\n",
       "214     42.0\n",
       "66       2.0\n",
       "201      1.0\n",
       "130      3.0\n",
       "177      1.0\n",
       "178     73.0\n",
       "72     276.0\n",
       "71      80.0\n",
       "156     90.0\n",
       "28       0.0\n",
       "166      0.0\n",
       "7        8.0\n",
       "40      13.0\n",
       "68     102.0\n",
       "80      14.0\n",
       "92       1.0\n",
       "226     38.0\n",
       "62       4.0\n",
       "29       0.0\n",
       "94       1.0\n",
       "14       4.0\n",
       "Name: LUT, dtype: float64"
      ]
     },
     "execution_count": 436,
     "metadata": {},
     "output_type": "execute_result"
    }
   ],
   "source": [
    "y_valid"
   ]
  },
  {
   "cell_type": "code",
   "execution_count": 437,
   "id": "cb906588",
   "metadata": {},
   "outputs": [
    {
     "data": {
      "image/png": "[encoded data removed]",
      "text/plain": [
       "<Figure size 432x288 with 1 Axes>"
      ]
     },
     "metadata": {
      "needs_background": "light"
     },
     "output_type": "display_data"
    }
   ],
   "source": [
    "plot_learning_curves(tree_reg, X_train_full, y_train_full)\n",
    "plt.axis([0, 200, 0, 200])                         # not shown in the book   # not shown\n",
    "plt.show()    "
   ]
  },
  {
   "cell_type": "code",
   "execution_count": 585,
   "id": "81d1b5df",
   "metadata": {},
   "outputs": [
    {
     "data": {
      "text/plain": [
       "RandomForestRegressor()"
      ]
     },
     "execution_count": 585,
     "metadata": {},
     "output_type": "execute_result"
    }
   ],
   "source": [
    "#随机森林\n",
    "from sklearn.ensemble import RandomForestRegressor\n",
    "forest_reg = RandomForestRegressor()\n",
    "forest_reg.fit(X_train,y_train)"
   ]
  },
  {
   "cell_type": "code",
   "execution_count": 586,
   "id": "0d98e034",
   "metadata": {},
   "outputs": [
    {
     "data": {
      "text/plain": [
       "50.58548617566017"
      ]
     },
     "execution_count": 586,
     "metadata": {},
     "output_type": "execute_result"
    }
   ],
   "source": [
    "forest_predic = forest_reg.predict(X_valid)\n",
    "forest_mse = mean_squared_error(y_valid,forest_predic)\n",
    "forest_rmse = np.sqrt(forest_mse)\n",
    "forest_rmse\n"
   ]
  },
  {
   "cell_type": "code",
   "execution_count": 587,
   "id": "dfa0d88e",
   "metadata": {},
   "outputs": [
    {
     "data": {
      "text/plain": [
       "0.3977192077866666"
      ]
     },
     "execution_count": 587,
     "metadata": {},
     "output_type": "execute_result"
    }
   ],
   "source": [
    "r2_score(y_valid,forest_predic)"
   ]
  },
  {
   "cell_type": "code",
   "execution_count": 183,
   "id": "9af9e458",
   "metadata": {},
   "outputs": [
    {
     "data": {
      "text/plain": [
       "RandomizedSearchCV(cv=5, estimator=RandomForestRegressor(random_state=42),\n",
       "                   n_iter=500,\n",
       "                   param_distributions={'max_features': <scipy.stats._distn_infrastructure.rv_frozen object at 0x00000171E1BE2820>,\n",
       "                                        'n_estimators': <scipy.stats._distn_infrastructure.rv_frozen object at 0x00000171E1BE2790>},\n",
       "                   random_state=42, scoring='neg_mean_squared_error')"
      ]
     },
     "execution_count": 183,
     "metadata": {},
     "output_type": "execute_result"
    }
   ],
   "source": [
    "from sklearn.model_selection import RandomizedSearchCV\n",
    "from scipy.stats import randint\n",
    "\n",
    "param_distribs = {\n",
    "        'n_estimators': randint(low=1, high=200),\n",
    "        'max_features': randint(low=1, high=15),\n",
    "    }\n",
    "\n",
    "forest_reg = RandomForestRegressor(random_state=42)\n",
    "forest_rnd_search = RandomizedSearchCV(forest_reg, param_distributions=param_distribs,\n",
    "                                n_iter=500, cv=5, scoring='neg_mean_squared_error', random_state=42)\n",
    "forest_rnd_search.fit(X_train, y_train)"
   ]
  },
  {
   "cell_type": "code",
   "execution_count": 184,
   "id": "cc9a7fbd",
   "metadata": {
    "scrolled": true
   },
   "outputs": [
    {
     "data": {
      "text/plain": [
       "[(0.060683983518509635, 'CONDITIONALTHEN'),\n",
       " (0.05675122635312744, 'PLUS'),\n",
       " (0.051292915698273614, 'REGWIDTH'),\n",
       " (0.05049370588714946, 'NonBlockLeftWidth'),\n",
       " (0.04810814927523429, 'CONDITIONALIF'),\n",
       " (0.04538487031620176, 'NonBlockingAssign'),\n",
       " (0.04201438742398461, 'INPUTWIDTH'),\n",
       " (0.039265574118950534, 'NonBlockingRightPortNum'),\n",
       " (0.03849501942333853, 'CONDITIONALIFWIDTH'),\n",
       " (0.037416673339291724, 'CONDITIONALELSE'),\n",
       " (0.03456783678016418, 'CASECONDITIONNUM'),\n",
       " (0.034093902347813225, 'REG'),\n",
       " (0.02843349882950075, 'AlwaysConstructs'),\n",
       " (0.0279789445193946, 'NonBlockingLeftPortNum'),\n",
       " (0.02783501851055612, 'WIREWIDTH'),\n",
       " (0.025107960443193966, 'AssignLHSPortNum'),\n",
       " (0.024638461304732445, 'AssignRHSPortNum'),\n",
       " (0.02277384838107871, 'OUTPUTWIDTH'),\n",
       " (0.021336302515634845, 'ARITRSHIFT'),\n",
       " (0.02055876938969383, 'ARITRSHIFT_VALUE'),\n",
       " (0.019585883446733565, 'REDAND'),\n",
       " (0.018562779439046308, 'OUTPUT'),\n",
       " (0.0180748111910723, 'BlockAssign_Right_Width'),\n",
       " (0.017469920069552575, 'MIN'),\n",
       " (0.016969834252598747, 'NonBlockRightWidth'),\n",
       " (0.016847880625060613, 'BlockAssign_Left_Width'),\n",
       " (0.015596521512646901, 'AssignLHSWidth'),\n",
       " (0.015260453427007568, 'CASEITEMNUM'),\n",
       " (0.014849647255851329, 'AssignStmts'),\n",
       " (0.011186991144170154, 'WIRENUM'),\n",
       " (0.010562885639206357, 'ARITRSHIFT_PORT_WIDTH'),\n",
       " (0.010362672696755925, 'AssignRHSWidth'),\n",
       " (0.009684802822802357, 'REDAOR'),\n",
       " (0.009395838504094185, 'BlockAssign_Left_PortNum'),\n",
       " (0.008276999627713291, 'ARITRSHIFT_PORT_NUM'),\n",
       " (0.00690527281426671, 'QUESTIONCOLONELSE'),\n",
       " (0.006862461177235251, 'INPUT'),\n",
       " (0.004519148014750872, 'QUESTIONCOLONIF'),\n",
       " (0.004128291726846235, 'QUESTIONCOLON'),\n",
       " (0.004057158952059674, 'CASECONDITIONWIDTH'),\n",
       " (0.004035166579866521, 'UnaryOperator'),\n",
       " (0.0036729150561173457, 'QUESTIONCOLONTHEN'),\n",
       " (0.0036442514753972574, 'BlockAssign_Right_PortNum'),\n",
       " (0.0033238050427300972, 'PARAMETERNUM'),\n",
       " (0.003322450609359699, 'BLOCKINGASSIGN'),\n",
       " (0.0023226986555869205, 'CASEITEMCONDITIONNUM'),\n",
       " (0.0013901154686704199, 'INDEXMEMRORY'),\n",
       " (0.0007039885925212355, 'REDXOR'),\n",
       " (0.0005656685044995764, 'CASEITEMCONDITIOWIDTH'),\n",
       " (0.0003467530666045211, 'FUNCTIONNUM'),\n",
       " (0.00013146558091148562, 'INOUTWIDTH'),\n",
       " (0.00011793274919316837, 'FUNCTIONCALL'),\n",
       " (3.1153300480634974e-05, 'FORBLOCK'),\n",
       " (3.326027661069293e-07, 'FORTIMES'),\n",
       " (0.0, 'INOUT'),\n",
       " (0.0, 'ARITLSHIFT_VALUE'),\n",
       " (0.0, 'ARITLSHIFT_PORT_WIDTH'),\n",
       " (0.0, 'ARITLSHIFT_PORT_NUM'),\n",
       " (0.0, 'ARITLSHIFT')]"
      ]
     },
     "execution_count": 184,
     "metadata": {},
     "output_type": "execute_result"
    }
   ],
   "source": [
    "#随机森林贡献度分析\n",
    "feature_importance = forest_rnd_search.best_estimator_.feature_importances_\n",
    "sorted(zip(feature_importance, resource_label), reverse=True)"
   ]
  },
  {
   "cell_type": "code",
   "execution_count": 185,
   "id": "2878e8ea",
   "metadata": {},
   "outputs": [],
   "source": [
    "forest_predict = forest_rnd_search.best_estimator_.predict(X_valid)"
   ]
  },
  {
   "cell_type": "code",
   "execution_count": 475,
   "id": "6f4ce80e",
   "metadata": {},
   "outputs": [
    {
     "data": {
      "text/plain": [
       "3082.2241468281272"
      ]
     },
     "execution_count": 475,
     "metadata": {},
     "output_type": "execute_result"
    }
   ],
   "source": [
    "forest_mse = mean_squared_error(y_valid,forest_predict)\n",
    "forest_mse"
   ]
  },
  {
   "cell_type": "code",
   "execution_count": 476,
   "id": "383a8431",
   "metadata": {},
   "outputs": [
    {
     "data": {
      "text/plain": [
       "55.517782257832735"
      ]
     },
     "execution_count": 476,
     "metadata": {},
     "output_type": "execute_result"
    }
   ],
   "source": [
    "forest_rmse = np.sqrt(forest_mse)\n",
    "forest_rmse"
   ]
  },
  {
   "cell_type": "code",
   "execution_count": 477,
   "id": "29c533ec",
   "metadata": {},
   "outputs": [],
   "source": [
    "#R^2评估\n",
    "from sklearn.metrics import r2_score"
   ]
  },
  {
   "cell_type": "code",
   "execution_count": 478,
   "id": "b236335a",
   "metadata": {},
   "outputs": [
    {
     "data": {
      "text/plain": [
       "0.2745435025123889"
      ]
     },
     "execution_count": 478,
     "metadata": {},
     "output_type": "execute_result"
    }
   ],
   "source": [
    "r2_score(y_valid,forest_predict)"
   ]
  },
  {
   "cell_type": "code",
   "execution_count": 190,
   "id": "94595b1b",
   "metadata": {},
   "outputs": [
    {
     "name": "stdout",
     "output_type": "stream",
     "text": [
      "Fitting 5 folds for each of 50 candidates, totalling 250 fits\n",
      "[CV] END C=36.544523552132475, gamma=3.010121430917521, kernel=linear; total time=   0.0s\n",
      "[CV] END C=36.544523552132475, gamma=3.010121430917521, kernel=linear; total time=   0.0s\n",
      "[CV] END C=36.544523552132475, gamma=3.010121430917521, kernel=linear; total time=   0.0s\n",
      "[CV] END C=36.544523552132475, gamma=3.010121430917521, kernel=linear; total time=   0.0s\n",
      "[CV] END C=36.544523552132475, gamma=3.010121430917521, kernel=linear; total time=   0.0s\n",
      "[CV] END C=70.14724476050635, gamma=0.9084469696321253, kernel=rbf; total time=   0.0s\n",
      "[CV] END C=70.14724476050635, gamma=0.9084469696321253, kernel=rbf; total time=   0.0s\n",
      "[CV] END C=70.14724476050635, gamma=0.9084469696321253, kernel=rbf; total time=   0.0s\n",
      "[CV] END C=70.14724476050635, gamma=0.9084469696321253, kernel=rbf; total time=   0.0s\n",
      "[CV] END C=70.14724476050635, gamma=0.9084469696321253, kernel=rbf; total time=   0.0s\n",
      "[CV] END C=25.70783395786027, gamma=0.059838768608680676, kernel=rbf; total time=   0.0s\n",
      "[CV] END C=25.70783395786027, gamma=0.059838768608680676, kernel=rbf; total time=   0.0s\n",
      "[CV] END C=25.70783395786027, gamma=0.059838768608680676, kernel=rbf; total time=   0.0s\n",
      "[CV] END C=25.70783395786027, gamma=0.059838768608680676, kernel=rbf; total time=   0.0s\n",
      "[CV] END C=25.70783395786027, gamma=0.059838768608680676, kernel=rbf; total time=   0.0s\n",
      "[CV] END C=34.220181214639304, gamma=0.15416196746656105, kernel=linear; total time=   0.0s\n",
      "[CV] END C=34.220181214639304, gamma=0.15416196746656105, kernel=linear; total time=   0.0s\n",
      "[CV] END C=34.220181214639304, gamma=0.15416196746656105, kernel=linear; total time=   0.0s\n",
      "[CV] END C=34.220181214639304, gamma=0.15416196746656105, kernel=linear; total time=   0.0s\n",
      "[CV] END C=34.220181214639304, gamma=0.15416196746656105, kernel=linear; total time=   0.0s\n",
      "[CV] END C=20.673687141394804, gamma=3.503557475158312, kernel=rbf; total time=   0.0s\n",
      "[CV] END C=20.673687141394804, gamma=3.503557475158312, kernel=rbf; total time=   0.0s\n",
      "[CV] END C=20.673687141394804, gamma=3.503557475158312, kernel=rbf; total time=   0.0s\n",
      "[CV] END C=20.673687141394804, gamma=3.503557475158312, kernel=rbf; total time=   0.0s\n",
      "[CV] END C=20.673687141394804, gamma=3.503557475158312, kernel=rbf; total time=   0.0s\n",
      "[CV] END C=90.58372727462633, gamma=0.0007790692366582295, kernel=rbf; total time=   0.0s\n",
      "[CV] END C=90.58372727462633, gamma=0.0007790692366582295, kernel=rbf; total time=   0.0s\n",
      "[CV] END C=90.58372727462633, gamma=0.0007790692366582295, kernel=rbf; total time=   0.0s\n",
      "[CV] END C=90.58372727462633, gamma=0.0007790692366582295, kernel=rbf; total time=   0.0s\n",
      "[CV] END C=90.58372727462633, gamma=0.0007790692366582295, kernel=rbf; total time=   0.0s\n",
      "[CV] END C=26.86731373606859, gamma=0.3627537294604771, kernel=rbf; total time=   0.0s\n",
      "[CV] END C=26.86731373606859, gamma=0.3627537294604771, kernel=rbf; total time=   0.0s\n",
      "[CV] END C=26.86731373606859, gamma=0.3627537294604771, kernel=rbf; total time=   0.0s\n",
      "[CV] END C=26.86731373606859, gamma=0.3627537294604771, kernel=rbf; total time=   0.0s\n",
      "[CV] END C=26.86731373606859, gamma=0.3627537294604771, kernel=rbf; total time=   0.0s\n",
      "[CV] END C=20.228753908730475, gamma=0.023332523598323388, kernel=linear; total time=   0.0s\n",
      "[CV] END C=20.228753908730475, gamma=0.023332523598323388, kernel=linear; total time=   0.0s\n",
      "[CV] END C=20.228753908730475, gamma=0.023332523598323388, kernel=linear; total time=   0.0s\n",
      "[CV] END C=20.228753908730475, gamma=0.023332523598323388, kernel=linear; total time=   0.0s\n",
      "[CV] END C=20.228753908730475, gamma=0.023332523598323388, kernel=linear; total time=   0.0s\n",
      "[CV] END C=53.542274484291816, gamma=0.15023452872733867, kernel=rbf; total time=   0.0s\n",
      "[CV] END C=53.542274484291816, gamma=0.15023452872733867, kernel=rbf; total time=   0.0s\n",
      "[CV] END C=53.542274484291816, gamma=0.15023452872733867, kernel=rbf; total time=   0.0s\n",
      "[CV] END C=53.542274484291816, gamma=0.15023452872733867, kernel=rbf; total time=   0.0s\n",
      "[CV] END C=53.542274484291816, gamma=0.15023452872733867, kernel=rbf; total time=   0.0s\n",
      "[CV] END C=95.8640769442311, gamma=0.26497040005002437, kernel=rbf; total time=   0.0s\n",
      "[CV] END C=95.8640769442311, gamma=0.26497040005002437, kernel=rbf; total time=   0.0s\n",
      "[CV] END C=95.8640769442311, gamma=0.26497040005002437, kernel=rbf; total time=   0.0s\n",
      "[CV] END C=95.8640769442311, gamma=0.26497040005002437, kernel=rbf; total time=   0.0s\n",
      "[CV] END C=95.8640769442311, gamma=0.26497040005002437, kernel=rbf; total time=   0.0s\n",
      "[CV] END C=70.76922519051031, gamma=0.2227358621286903, kernel=linear; total time=   0.0s\n",
      "[CV] END C=70.76922519051031, gamma=0.2227358621286903, kernel=linear; total time=   0.0s\n",
      "[CV] END C=70.76922519051031, gamma=0.2227358621286903, kernel=linear; total time=   0.0s\n",
      "[CV] END C=70.76922519051031, gamma=0.2227358621286903, kernel=linear; total time=   0.0s\n",
      "[CV] END C=70.76922519051031, gamma=0.2227358621286903, kernel=linear; total time=   0.0s\n",
      "[CV] END C=97.33720963726788, gamma=0.628789100540856, kernel=linear; total time=   0.0s\n",
      "[CV] END C=97.33720963726788, gamma=0.628789100540856, kernel=linear; total time=   0.2s\n",
      "[CV] END C=97.33720963726788, gamma=0.628789100540856, kernel=linear; total time=   0.0s\n",
      "[CV] END C=97.33720963726788, gamma=0.628789100540856, kernel=linear; total time=   0.0s\n",
      "[CV] END C=97.33720963726788, gamma=0.628789100540856, kernel=linear; total time=   0.0s\n",
      "[CV] END C=53.17232167577955, gamma=0.18696125197741642, kernel=linear; total time=   0.0s\n",
      "[CV] END C=53.17232167577955, gamma=0.18696125197741642, kernel=linear; total time=   0.0s\n",
      "[CV] END C=53.17232167577955, gamma=0.18696125197741642, kernel=linear; total time=   0.0s\n",
      "[CV] END C=53.17232167577955, gamma=0.18696125197741642, kernel=linear; total time=   0.0s\n",
      "[CV] END C=53.17232167577955, gamma=0.18696125197741642, kernel=linear; total time=   0.0s\n",
      "[CV] END C=20.431573091335004, gamma=2.850796878935603, kernel=rbf; total time=   0.0s\n",
      "[CV] END C=20.431573091335004, gamma=2.850796878935603, kernel=rbf; total time=   0.0s\n",
      "[CV] END C=20.431573091335004, gamma=2.850796878935603, kernel=rbf; total time=   0.0s\n",
      "[CV] END C=20.431573091335004, gamma=2.850796878935603, kernel=rbf; total time=   0.0s\n",
      "[CV] END C=20.431573091335004, gamma=2.850796878935603, kernel=rbf; total time=   0.0s\n",
      "[CV] END C=73.46415600924095, gamma=0.3632878599687583, kernel=linear; total time=   0.0s\n",
      "[CV] END C=73.46415600924095, gamma=0.3632878599687583, kernel=linear; total time=   0.0s\n",
      "[CV] END C=73.46415600924095, gamma=0.3632878599687583, kernel=linear; total time=   0.0s\n",
      "[CV] END C=73.46415600924095, gamma=0.3632878599687583, kernel=linear; total time=   0.0s\n",
      "[CV] END C=73.46415600924095, gamma=0.3632878599687583, kernel=linear; total time=   0.0s\n",
      "[CV] END C=29.001325918162237, gamma=0.2757870542258224, kernel=rbf; total time=   0.0s\n",
      "[CV] END C=29.001325918162237, gamma=0.2757870542258224, kernel=rbf; total time=   0.0s\n",
      "[CV] END C=29.001325918162237, gamma=0.2757870542258224, kernel=rbf; total time=   0.0s\n",
      "[CV] END C=29.001325918162237, gamma=0.2757870542258224, kernel=rbf; total time=   0.0s\n",
      "[CV] END C=29.001325918162237, gamma=0.2757870542258224, kernel=rbf; total time=   0.0s\n",
      "[CV] END C=24.34058776747756, gamma=0.6835472281341501, kernel=linear; total time=   0.0s\n",
      "[CV] END C=24.34058776747756, gamma=0.6835472281341501, kernel=linear; total time=   0.0s\n",
      "[CV] END C=24.34058776747756, gamma=0.6835472281341501, kernel=linear; total time=   0.0s\n",
      "[CV] END C=24.34058776747756, gamma=0.6835472281341501, kernel=linear; total time=   0.0s\n",
      "[CV] END C=24.34058776747756, gamma=0.6835472281341501, kernel=linear; total time=   0.0s\n",
      "[CV] END C=26.43666624786446, gamma=0.4960365360493639, kernel=rbf; total time=   0.0s\n",
      "[CV] END C=26.43666624786446, gamma=0.4960365360493639, kernel=rbf; total time=   0.0s\n",
      "[CV] END C=26.43666624786446, gamma=0.4960365360493639, kernel=rbf; total time=   0.0s\n",
      "[CV] END C=26.43666624786446, gamma=0.4960365360493639, kernel=rbf; total time=   0.0s\n",
      "[CV] END C=26.43666624786446, gamma=0.4960365360493639, kernel=rbf; total time=   0.0s\n",
      "[CV] END C=58.09158145330548, gamma=0.37354658165762367, kernel=rbf; total time=   0.0s\n",
      "[CV] END C=58.09158145330548, gamma=0.37354658165762367, kernel=rbf; total time=   0.0s\n",
      "[CV] END C=58.09158145330548, gamma=0.37354658165762367, kernel=rbf; total time=   0.0s\n",
      "[CV] END C=58.09158145330548, gamma=0.37354658165762367, kernel=rbf; total time=   0.0s\n",
      "[CV] END C=58.09158145330548, gamma=0.37354658165762367, kernel=rbf; total time=   0.0s\n",
      "[CV] END C=27.949560342901606, gamma=0.838636245624803, kernel=linear; total time=   0.0s\n",
      "[CV] END C=27.949560342901606, gamma=0.838636245624803, kernel=linear; total time=   0.0s\n",
      "[CV] END C=27.949560342901606, gamma=0.838636245624803, kernel=linear; total time=   0.0s\n"
     ]
    },
    {
     "name": "stdout",
     "output_type": "stream",
     "text": [
      "[CV] END C=27.949560342901606, gamma=0.838636245624803, kernel=linear; total time=   0.0s\n",
      "[CV] END C=27.949560342901606, gamma=0.838636245624803, kernel=linear; total time=   0.0s\n",
      "[CV] END C=95.22271657253029, gamma=1.4922453771381408, kernel=rbf; total time=   0.0s\n",
      "[CV] END C=95.22271657253029, gamma=1.4922453771381408, kernel=rbf; total time=   0.0s\n",
      "[CV] END C=95.22271657253029, gamma=1.4922453771381408, kernel=rbf; total time=   0.0s\n",
      "[CV] END C=95.22271657253029, gamma=1.4922453771381408, kernel=rbf; total time=   0.0s\n",
      "[CV] END C=95.22271657253029, gamma=1.4922453771381408, kernel=rbf; total time=   0.0s\n",
      "[CV] END C=37.77706016580759, gamma=2.6126336514161914, kernel=linear; total time=   0.0s\n",
      "[CV] END C=37.77706016580759, gamma=2.6126336514161914, kernel=linear; total time=   0.0s\n",
      "[CV] END C=37.77706016580759, gamma=2.6126336514161914, kernel=linear; total time=   0.0s\n",
      "[CV] END C=37.77706016580759, gamma=2.6126336514161914, kernel=linear; total time=   0.0s\n",
      "[CV] END C=37.77706016580759, gamma=2.6126336514161914, kernel=linear; total time=   0.0s\n",
      "[CV] END C=88.18453591655187, gamma=0.09265545895311562, kernel=linear; total time=   0.0s\n",
      "[CV] END C=88.18453591655187, gamma=0.09265545895311562, kernel=linear; total time=   0.0s\n",
      "[CV] END C=88.18453591655187, gamma=0.09265545895311562, kernel=linear; total time=   0.0s\n",
      "[CV] END C=88.18453591655187, gamma=0.09265545895311562, kernel=linear; total time=   0.0s\n",
      "[CV] END C=88.18453591655187, gamma=0.09265545895311562, kernel=linear; total time=   0.0s\n",
      "[CV] END C=46.24635628066443, gamma=3.248614270240346, kernel=linear; total time=   0.0s\n",
      "[CV] END C=46.24635628066443, gamma=3.248614270240346, kernel=linear; total time=   0.0s\n",
      "[CV] END C=46.24635628066443, gamma=3.248614270240346, kernel=linear; total time=   0.0s\n",
      "[CV] END C=46.24635628066443, gamma=3.248614270240346, kernel=linear; total time=   0.0s\n",
      "[CV] END C=46.24635628066443, gamma=3.248614270240346, kernel=linear; total time=   0.0s\n",
      "[CV] END C=37.38554899641905, gamma=0.3165604432088257, kernel=linear; total time=   0.0s\n",
      "[CV] END C=37.38554899641905, gamma=0.3165604432088257, kernel=linear; total time=   0.0s\n",
      "[CV] END C=37.38554899641905, gamma=0.3165604432088257, kernel=linear; total time=   0.0s\n",
      "[CV] END C=37.38554899641905, gamma=0.3165604432088257, kernel=linear; total time=   0.0s\n",
      "[CV] END C=37.38554899641905, gamma=0.3165604432088257, kernel=linear; total time=   0.0s\n",
      "[CV] END C=51.42229558918659, gamma=3.3597284456608496, kernel=rbf; total time=   0.0s\n",
      "[CV] END C=51.42229558918659, gamma=3.3597284456608496, kernel=rbf; total time=   0.0s\n",
      "[CV] END C=51.42229558918659, gamma=3.3597284456608496, kernel=rbf; total time=   0.0s\n",
      "[CV] END C=51.42229558918659, gamma=3.3597284456608496, kernel=rbf; total time=   0.0s\n",
      "[CV] END C=51.42229558918659, gamma=3.3597284456608496, kernel=rbf; total time=   0.0s\n",
      "[CV] END C=47.90251099825472, gamma=0.15189814782062885, kernel=linear; total time=   0.0s\n",
      "[CV] END C=47.90251099825472, gamma=0.15189814782062885, kernel=linear; total time=   0.0s\n",
      "[CV] END C=47.90251099825472, gamma=0.15189814782062885, kernel=linear; total time=   0.0s\n",
      "[CV] END C=47.90251099825472, gamma=0.15189814782062885, kernel=linear; total time=   0.0s\n",
      "[CV] END C=47.90251099825472, gamma=0.15189814782062885, kernel=linear; total time=   0.0s\n",
      "[CV] END C=26.09435874565795, gamma=0.01575994483585621, kernel=linear; total time=   0.0s\n",
      "[CV] END C=26.09435874565795, gamma=0.01575994483585621, kernel=linear; total time=   0.0s\n",
      "[CV] END C=26.09435874565795, gamma=0.01575994483585621, kernel=linear; total time=   0.0s\n",
      "[CV] END C=26.09435874565795, gamma=0.01575994483585621, kernel=linear; total time=   0.0s\n",
      "[CV] END C=26.09435874565795, gamma=0.01575994483585621, kernel=linear; total time=   0.0s\n",
      "[CV] END C=69.31160017906979, gamma=0.22153944050588595, kernel=rbf; total time=   0.0s\n",
      "[CV] END C=69.31160017906979, gamma=0.22153944050588595, kernel=rbf; total time=   0.0s\n",
      "[CV] END C=69.31160017906979, gamma=0.22153944050588595, kernel=rbf; total time=   0.0s\n",
      "[CV] END C=69.31160017906979, gamma=0.22153944050588595, kernel=rbf; total time=   0.0s\n",
      "[CV] END C=69.31160017906979, gamma=0.22153944050588595, kernel=rbf; total time=   0.0s\n",
      "[CV] END C=20.4583860460447, gamma=0.22169760231351215, kernel=rbf; total time=   0.0s\n",
      "[CV] END C=20.4583860460447, gamma=0.22169760231351215, kernel=rbf; total time=   0.0s\n",
      "[CV] END C=20.4583860460447, gamma=0.22169760231351215, kernel=rbf; total time=   0.0s\n",
      "[CV] END C=20.4583860460447, gamma=0.22169760231351215, kernel=rbf; total time=   0.0s\n",
      "[CV] END C=20.4583860460447, gamma=0.22169760231351215, kernel=rbf; total time=   0.0s\n",
      "[CV] END C=64.65232375784298, gamma=1.4752145260435134, kernel=linear; total time=   0.0s\n",
      "[CV] END C=64.65232375784298, gamma=1.4752145260435134, kernel=linear; total time=   0.0s\n",
      "[CV] END C=64.65232375784298, gamma=1.4752145260435134, kernel=linear; total time=   0.0s\n",
      "[CV] END C=64.65232375784298, gamma=1.4752145260435134, kernel=linear; total time=   0.0s\n",
      "[CV] END C=64.65232375784298, gamma=1.4752145260435134, kernel=linear; total time=   0.0s\n",
      "[CV] END C=88.8150418409819, gamma=1.052904084582266, kernel=rbf; total time=   0.0s\n",
      "[CV] END C=88.8150418409819, gamma=1.052904084582266, kernel=rbf; total time=   0.0s\n",
      "[CV] END C=88.8150418409819, gamma=1.052904084582266, kernel=rbf; total time=   0.0s\n",
      "[CV] END C=88.8150418409819, gamma=1.052904084582266, kernel=rbf; total time=   0.0s\n",
      "[CV] END C=88.8150418409819, gamma=1.052904084582266, kernel=rbf; total time=   0.0s\n",
      "[CV] END C=80.22567890805875, gamma=0.9763011917123741, kernel=rbf; total time=   0.0s\n",
      "[CV] END C=80.22567890805875, gamma=0.9763011917123741, kernel=rbf; total time=   0.0s\n",
      "[CV] END C=80.22567890805875, gamma=0.9763011917123741, kernel=rbf; total time=   0.0s\n",
      "[CV] END C=80.22567890805875, gamma=0.9763011917123741, kernel=rbf; total time=   0.0s\n",
      "[CV] END C=80.22567890805875, gamma=0.9763011917123741, kernel=rbf; total time=   0.0s\n",
      "[CV] END C=23.3194769564815, gamma=0.4633351167983427, kernel=rbf; total time=   0.0s\n",
      "[CV] END C=23.3194769564815, gamma=0.4633351167983427, kernel=rbf; total time=   0.0s\n",
      "[CV] END C=23.3194769564815, gamma=0.4633351167983427, kernel=rbf; total time=   0.0s\n",
      "[CV] END C=23.3194769564815, gamma=0.4633351167983427, kernel=rbf; total time=   0.0s\n",
      "[CV] END C=23.3194769564815, gamma=0.4633351167983427, kernel=rbf; total time=   0.0s\n",
      "[CV] END C=33.75385525305957, gamma=1.3078757839577408, kernel=rbf; total time=   0.0s\n",
      "[CV] END C=33.75385525305957, gamma=1.3078757839577408, kernel=rbf; total time=   0.0s\n",
      "[CV] END C=33.75385525305957, gamma=1.3078757839577408, kernel=rbf; total time=   0.0s\n",
      "[CV] END C=33.75385525305957, gamma=1.3078757839577408, kernel=rbf; total time=   0.0s\n",
      "[CV] END C=33.75385525305957, gamma=1.3078757839577408, kernel=rbf; total time=   0.0s\n",
      "[CV] END C=31.12091006336735, gamma=0.8238105204914145, kernel=linear; total time=   0.0s\n",
      "[CV] END C=31.12091006336735, gamma=0.8238105204914145, kernel=linear; total time=   0.0s\n",
      "[CV] END C=31.12091006336735, gamma=0.8238105204914145, kernel=linear; total time=   0.0s\n",
      "[CV] END C=31.12091006336735, gamma=0.8238105204914145, kernel=linear; total time=   0.0s\n",
      "[CV] END C=31.12091006336735, gamma=0.8238105204914145, kernel=linear; total time=   0.0s\n",
      "[CV] END C=24.245033373719966, gamma=1.2491263443165994, kernel=linear; total time=   0.0s\n",
      "[CV] END C=24.245033373719966, gamma=1.2491263443165994, kernel=linear; total time=   0.0s\n",
      "[CV] END C=24.245033373719966, gamma=1.2491263443165994, kernel=linear; total time=   0.0s\n",
      "[CV] END C=24.245033373719966, gamma=1.2491263443165994, kernel=linear; total time=   0.0s\n",
      "[CV] END C=24.245033373719966, gamma=1.2491263443165994, kernel=linear; total time=   0.0s\n",
      "[CV] END C=63.89947385315465, gamma=0.2691677514619319, kernel=rbf; total time=   0.0s\n",
      "[CV] END C=63.89947385315465, gamma=0.2691677514619319, kernel=rbf; total time=   0.0s\n",
      "[CV] END C=63.89947385315465, gamma=0.2691677514619319, kernel=rbf; total time=   0.0s\n",
      "[CV] END C=63.89947385315465, gamma=0.2691677514619319, kernel=rbf; total time=   0.0s\n",
      "[CV] END C=63.89947385315465, gamma=0.2691677514619319, kernel=rbf; total time=   0.0s\n",
      "[CV] END C=44.27701206407167, gamma=0.739678838777267, kernel=linear; total time=   0.0s\n"
     ]
    },
    {
     "name": "stdout",
     "output_type": "stream",
     "text": [
      "[CV] END C=44.27701206407167, gamma=0.739678838777267, kernel=linear; total time=   0.0s\n",
      "[CV] END C=44.27701206407167, gamma=0.739678838777267, kernel=linear; total time=   0.0s\n",
      "[CV] END C=44.27701206407167, gamma=0.739678838777267, kernel=linear; total time=   0.0s\n",
      "[CV] END C=44.27701206407167, gamma=0.739678838777267, kernel=linear; total time=   0.0s\n",
      "[CV] END C=23.9077856357958, gamma=0.578634378499143, kernel=linear; total time=   0.0s\n",
      "[CV] END C=23.9077856357958, gamma=0.578634378499143, kernel=linear; total time=   0.0s\n",
      "[CV] END C=23.9077856357958, gamma=0.578634378499143, kernel=linear; total time=   0.0s\n",
      "[CV] END C=23.9077856357958, gamma=0.578634378499143, kernel=linear; total time=   0.0s\n",
      "[CV] END C=23.9077856357958, gamma=0.578634378499143, kernel=linear; total time=   0.0s\n",
      "[CV] END C=21.037690117550767, gamma=1.0117295509275495, kernel=rbf; total time=   0.0s\n",
      "[CV] END C=21.037690117550767, gamma=1.0117295509275495, kernel=rbf; total time=   0.0s\n",
      "[CV] END C=21.037690117550767, gamma=1.0117295509275495, kernel=rbf; total time=   0.0s\n",
      "[CV] END C=21.037690117550767, gamma=1.0117295509275495, kernel=rbf; total time=   0.0s\n",
      "[CV] END C=21.037690117550767, gamma=1.0117295509275495, kernel=rbf; total time=   0.0s\n",
      "[CV] END C=49.51567738307962, gamma=1.1891370222133257, kernel=linear; total time=   0.0s\n",
      "[CV] END C=49.51567738307962, gamma=1.1891370222133257, kernel=linear; total time=   0.0s\n",
      "[CV] END C=49.51567738307962, gamma=1.1891370222133257, kernel=linear; total time=   0.0s\n",
      "[CV] END C=49.51567738307962, gamma=1.1891370222133257, kernel=linear; total time=   0.0s\n",
      "[CV] END C=49.51567738307962, gamma=1.1891370222133257, kernel=linear; total time=   0.0s\n",
      "[CV] END C=29.872927588454857, gamma=0.5282819748826726, kernel=linear; total time=   0.0s\n",
      "[CV] END C=29.872927588454857, gamma=0.5282819748826726, kernel=linear; total time=   0.0s\n",
      "[CV] END C=29.872927588454857, gamma=0.5282819748826726, kernel=linear; total time=   0.0s\n",
      "[CV] END C=29.872927588454857, gamma=0.5282819748826726, kernel=linear; total time=   0.0s\n",
      "[CV] END C=29.872927588454857, gamma=0.5282819748826726, kernel=linear; total time=   0.0s\n",
      "[CV] END C=27.73088314689464, gamma=2.8621383676481322, kernel=linear; total time=   0.0s\n",
      "[CV] END C=27.73088314689464, gamma=2.8621383676481322, kernel=linear; total time=   0.0s\n",
      "[CV] END C=27.73088314689464, gamma=2.8621383676481322, kernel=linear; total time=   0.0s\n",
      "[CV] END C=27.73088314689464, gamma=2.8621383676481322, kernel=linear; total time=   0.0s\n",
      "[CV] END C=27.73088314689464, gamma=2.8621383676481322, kernel=linear; total time=   0.0s\n",
      "[CV] END C=31.88288186336855, gamma=0.17580835850006285, kernel=rbf; total time=   0.0s\n",
      "[CV] END C=31.88288186336855, gamma=0.17580835850006285, kernel=rbf; total time=   0.0s\n",
      "[CV] END C=31.88288186336855, gamma=0.17580835850006285, kernel=rbf; total time=   0.0s\n",
      "[CV] END C=31.88288186336855, gamma=0.17580835850006285, kernel=rbf; total time=   0.0s\n",
      "[CV] END C=31.88288186336855, gamma=0.17580835850006285, kernel=rbf; total time=   0.0s\n",
      "[CV] END C=54.63044616473673, gamma=0.3504567255332862, kernel=linear; total time=   0.0s\n",
      "[CV] END C=54.63044616473673, gamma=0.3504567255332862, kernel=linear; total time=   0.0s\n",
      "[CV] END C=54.63044616473673, gamma=0.3504567255332862, kernel=linear; total time=   0.0s\n",
      "[CV] END C=54.63044616473673, gamma=0.3504567255332862, kernel=linear; total time=   0.0s\n",
      "[CV] END C=54.63044616473673, gamma=0.3504567255332862, kernel=linear; total time=   0.0s\n",
      "[CV] END C=81.3120308543766, gamma=1.6279689407405564, kernel=rbf; total time=   0.0s\n",
      "[CV] END C=81.3120308543766, gamma=1.6279689407405564, kernel=rbf; total time=   0.0s\n",
      "[CV] END C=81.3120308543766, gamma=1.6279689407405564, kernel=rbf; total time=   0.0s\n",
      "[CV] END C=81.3120308543766, gamma=1.6279689407405564, kernel=rbf; total time=   0.0s\n",
      "[CV] END C=81.3120308543766, gamma=1.6279689407405564, kernel=rbf; total time=   0.0s\n",
      "[CV] END C=39.09830730267424, gamma=2.147979593060577, kernel=rbf; total time=   0.0s\n",
      "[CV] END C=39.09830730267424, gamma=2.147979593060577, kernel=rbf; total time=   0.0s\n",
      "[CV] END C=39.09830730267424, gamma=2.147979593060577, kernel=rbf; total time=   0.0s\n",
      "[CV] END C=39.09830730267424, gamma=2.147979593060577, kernel=rbf; total time=   0.0s\n",
      "[CV] END C=39.09830730267424, gamma=2.147979593060577, kernel=rbf; total time=   0.0s\n",
      "[CV] END C=73.35106847579299, gamma=2.2642426492862313, kernel=linear; total time=   0.0s\n",
      "[CV] END C=73.35106847579299, gamma=2.2642426492862313, kernel=linear; total time=   0.0s\n",
      "[CV] END C=73.35106847579299, gamma=2.2642426492862313, kernel=linear; total time=   0.0s\n",
      "[CV] END C=73.35106847579299, gamma=2.2642426492862313, kernel=linear; total time=   0.0s\n",
      "[CV] END C=73.35106847579299, gamma=2.2642426492862313, kernel=linear; total time=   0.0s\n",
      "[CV] END C=86.07477088816559, gamma=0.3176359085304841, kernel=linear; total time=   0.0s\n",
      "[CV] END C=86.07477088816559, gamma=0.3176359085304841, kernel=linear; total time=   0.0s\n",
      "[CV] END C=86.07477088816559, gamma=0.3176359085304841, kernel=linear; total time=   0.0s\n",
      "[CV] END C=86.07477088816559, gamma=0.3176359085304841, kernel=linear; total time=   0.0s\n",
      "[CV] END C=86.07477088816559, gamma=0.3176359085304841, kernel=linear; total time=   0.0s\n"
     ]
    },
    {
     "data": {
      "text/plain": [
       "RandomizedSearchCV(cv=5, estimator=SVR(), n_iter=50,\n",
       "                   param_distributions={'C': <scipy.stats._distn_infrastructure.rv_frozen object at 0x00000171DDB94940>,\n",
       "                                        'gamma': <scipy.stats._distn_infrastructure.rv_frozen object at 0x00000171DDBC37F0>,\n",
       "                                        'kernel': ['linear', 'rbf']},\n",
       "                   random_state=42, scoring='neg_mean_squared_error',\n",
       "                   verbose=2)"
      ]
     },
     "execution_count": 190,
     "metadata": {},
     "output_type": "execute_result"
    }
   ],
   "source": [
    "#svm\n",
    "from sklearn.model_selection import RandomizedSearchCV\n",
    "from scipy.stats import expon, reciprocal\n",
    "from sklearn.model_selection import GridSearchCV\n",
    "from sklearn.svm import SVR\n",
    "\n",
    "# see https://docs.scipy.org/doc/scipy/reference/stats.html\n",
    "# for `expon()` and `reciprocal()` documentation and more probability distribution functions.\n",
    "\n",
    "# Note: gamma is ignored when kernel is \"linear\"\n",
    "param_distribs = {\n",
    "        'kernel': ['linear', 'rbf'],\n",
    "        'C': reciprocal(20, 100),\n",
    "        'gamma': expon(scale=1.0),\n",
    "    }\n",
    "\n",
    "svm_reg = SVR()\n",
    "rnd_search = RandomizedSearchCV(svm_reg, param_distributions=param_distribs,\n",
    "                                n_iter=50, cv=5, scoring='neg_mean_squared_error',\n",
    "                                verbose=2, random_state=42)\n",
    "rnd_search.fit(X_train, y_train)"
   ]
  },
  {
   "cell_type": "code",
   "execution_count": 191,
   "id": "0acd878f",
   "metadata": {},
   "outputs": [
    {
     "name": "stdout",
     "output_type": "stream",
     "text": [
      "91.2074935268415 {'C': 36.544523552132475, 'gamma': 3.010121430917521, 'kernel': 'linear'}\n",
      "88.54318423674474 {'C': 70.14724476050635, 'gamma': 0.9084469696321253, 'kernel': 'rbf'}\n",
      "87.05254872768563 {'C': 25.70783395786027, 'gamma': 0.059838768608680676, 'kernel': 'rbf'}\n",
      "90.92048824316635 {'C': 34.220181214639304, 'gamma': 0.15416196746656105, 'kernel': 'linear'}\n",
      "90.48634301866943 {'C': 20.673687141394804, 'gamma': 3.503557475158312, 'kernel': 'rbf'}\n",
      "86.87496531553546 {'C': 90.58372727462633, 'gamma': 0.0007790692366582295, 'kernel': 'rbf'}\n",
      "88.82173352050458 {'C': 26.86731373606859, 'gamma': 0.3627537294604771, 'kernel': 'rbf'}\n",
      "89.6937932492006 {'C': 20.228753908730475, 'gamma': 0.023332523598323388, 'kernel': 'linear'}\n",
      "87.27128575328294 {'C': 53.542274484291816, 'gamma': 0.15023452872733867, 'kernel': 'rbf'}\n",
      "87.25590402513404 {'C': 95.8640769442311, 'gamma': 0.26497040005002437, 'kernel': 'rbf'}\n",
      "93.35726493102213 {'C': 70.76922519051031, 'gamma': 0.2227358621286903, 'kernel': 'linear'}\n",
      "94.34544182365599 {'C': 97.33720963726788, 'gamma': 0.628789100540856, 'kernel': 'linear'}\n",
      "92.60184066056486 {'C': 53.17232167577955, 'gamma': 0.18696125197741642, 'kernel': 'linear'}\n",
      "90.4108289617015 {'C': 20.431573091335004, 'gamma': 2.850796878935603, 'kernel': 'rbf'}\n",
      "93.41605355489907 {'C': 73.46415600924095, 'gamma': 0.3632878599687583, 'kernel': 'linear'}\n",
      "88.48737348726603 {'C': 29.001325918162237, 'gamma': 0.2757870542258224, 'kernel': 'rbf'}\n",
      "89.99083692208603 {'C': 24.34058776747756, 'gamma': 0.6835472281341501, 'kernel': 'linear'}\n",
      "89.09373134599555 {'C': 26.43666624786446, 'gamma': 0.4960365360493639, 'kernel': 'rbf'}\n",
      "87.9990133887858 {'C': 58.09158145330548, 'gamma': 0.37354658165762367, 'kernel': 'rbf'}\n",
      "90.2855924511373 {'C': 27.949560342901606, 'gamma': 0.838636245624803, 'kernel': 'linear'}\n",
      "88.64536401363151 {'C': 95.22271657253029, 'gamma': 1.4922453771381408, 'kernel': 'rbf'}\n",
      "91.30018879667534 {'C': 37.77706016580759, 'gamma': 2.6126336514161914, 'kernel': 'linear'}\n",
      "94.0059629568986 {'C': 88.18453591655187, 'gamma': 0.09265545895311562, 'kernel': 'linear'}\n",
      "91.99651146116581 {'C': 46.24635628066443, 'gamma': 3.248614270240346, 'kernel': 'linear'}\n",
      "91.27391430941202 {'C': 37.38554899641905, 'gamma': 0.3165604432088257, 'kernel': 'linear'}\n",
      "89.53166917202529 {'C': 51.42229558918659, 'gamma': 3.3597284456608496, 'kernel': 'rbf'}\n",
      "92.13352929894204 {'C': 47.90251099825472, 'gamma': 0.15189814782062885, 'kernel': 'linear'}\n",
      "90.11431402647602 {'C': 26.09435874565795, 'gamma': 0.01575994483585621, 'kernel': 'linear'}\n",
      "87.34313698997494 {'C': 69.31160017906979, 'gamma': 0.22153944050588595, 'kernel': 'rbf'}\n",
      "88.6878078031112 {'C': 20.4583860460447, 'gamma': 0.22169760231351215, 'kernel': 'rbf'}\n",
      "93.21995782640997 {'C': 64.65232375784298, 'gamma': 1.4752145260435134, 'kernel': 'linear'}\n",
      "88.46389613427294 {'C': 88.8150418409819, 'gamma': 1.052904084582266, 'kernel': 'rbf'}\n",
      "88.48837718948774 {'C': 80.22567890805875, 'gamma': 0.9763011917123741, 'kernel': 'rbf'}\n",
      "89.1992329181965 {'C': 23.3194769564815, 'gamma': 0.4633351167983427, 'kernel': 'rbf'}\n",
      "89.43557531949614 {'C': 33.75385525305957, 'gamma': 1.3078757839577408, 'kernel': 'rbf'}\n",
      "90.60105584175017 {'C': 31.12091006336735, 'gamma': 0.8238105204914145, 'kernel': 'linear'}\n",
      "89.9820166843541 {'C': 24.245033373719966, 'gamma': 1.2491263443165994, 'kernel': 'linear'}\n",
      "87.597882129682 {'C': 63.89947385315465, 'gamma': 0.2691677514619319, 'kernel': 'rbf'}\n",
      "91.77779285459187 {'C': 44.27701206407167, 'gamma': 0.739678838777267, 'kernel': 'linear'}\n",
      "89.95106835279188 {'C': 23.9077856357958, 'gamma': 0.578634378499143, 'kernel': 'linear'}\n",
      "89.85213933211882 {'C': 21.037690117550767, 'gamma': 1.0117295509275495, 'kernel': 'rbf'}\n",
      "92.24424383712675 {'C': 49.51567738307962, 'gamma': 1.1891370222133257, 'kernel': 'linear'}\n",
      "90.48248903250571 {'C': 29.872927588454857, 'gamma': 0.5282819748826726, 'kernel': 'linear'}\n",
      "90.26094700665531 {'C': 27.73088314689464, 'gamma': 2.8621383676481322, 'kernel': 'linear'}\n",
      "87.97099817924246 {'C': 31.88288186336855, 'gamma': 0.17580835850006285, 'kernel': 'rbf'}\n",
      "92.75105874180683 {'C': 54.63044616473673, 'gamma': 0.3504567255332862, 'kernel': 'linear'}\n",
      "88.80885171912234 {'C': 81.3120308543766, 'gamma': 1.6279689407405564, 'kernel': 'rbf'}\n",
      "89.55779813354587 {'C': 39.09830730267424, 'gamma': 2.147979593060577, 'kernel': 'rbf'}\n",
      "93.41571399743994 {'C': 73.35106847579299, 'gamma': 2.2642426492862313, 'kernel': 'linear'}\n",
      "93.93143701442894 {'C': 86.07477088816559, 'gamma': 0.3176359085304841, 'kernel': 'linear'}\n"
     ]
    }
   ],
   "source": [
    "cvres = rnd_search.cv_results_\n",
    "for mean_score, params in zip(cvres[\"mean_test_score\"], cvres[\"params\"]):\n",
    "    print(np.sqrt(-mean_score), params)"
   ]
  },
  {
   "cell_type": "code",
   "execution_count": 595,
   "id": "cb9c2ed7",
   "metadata": {},
   "outputs": [
    {
     "data": {
      "text/plain": [
       "86.87496531553546"
      ]
     },
     "execution_count": 595,
     "metadata": {},
     "output_type": "execute_result"
    }
   ],
   "source": [
    "negative_mse = rnd_search.best_score_\n",
    "rmse = np.sqrt(-negative_mse)\n",
    "rmse"
   ]
  },
  {
   "cell_type": "code",
   "execution_count": 596,
   "id": "226134d9",
   "metadata": {},
   "outputs": [
    {
     "data": {
      "text/plain": [
       "0.6108729711897263"
      ]
     },
     "execution_count": 596,
     "metadata": {},
     "output_type": "execute_result"
    }
   ],
   "source": [
    "svm_predict = rnd_search.best_estimator_.predict(X_valid)\n",
    "r2_score(y_valid,svm_predict)"
   ]
  },
  {
   "cell_type": "code",
   "execution_count": 195,
   "id": "e8dbc485",
   "metadata": {},
   "outputs": [
    {
     "data": {
      "image/png": "[encoded data removed]",
      "text/plain": [
       "<Figure size 432x288 with 1 Axes>"
      ]
     },
     "metadata": {
      "needs_background": "light"
     },
     "output_type": "display_data"
    }
   ],
   "source": [
    "plot_learning_curves(rnd_search.best_estimator_, X_train_full, y_train_full)\n",
    "plt.axis([0, 100, 0, 100])                         # not shown in the book   # not shown\n",
    "plt.show()    "
   ]
  },
  {
   "cell_type": "code",
   "execution_count": 46,
   "id": "61ee2b0a",
   "metadata": {},
   "outputs": [
    {
     "data": {
      "text/plain": [
       "RandomizedSearchCV(cv=5, estimator=RandomForestRegressor(random_state=42),\n",
       "                   n_iter=500,\n",
       "                   param_distributions={'max_features': <scipy.stats._distn_infrastructure.rv_frozen object at 0x0000012FCBE4A5B0>,\n",
       "                                        'n_estimators': <scipy.stats._distn_infrastructure.rv_frozen object at 0x0000012FCBF264C0>},\n",
       "                   random_state=42, scoring='neg_mean_squared_error')"
      ]
     },
     "execution_count": 46,
     "metadata": {},
     "output_type": "execute_result"
    }
   ],
   "source": [
    "from scipy.stats import randint\n",
    "param_distribs = {\n",
    "        'n_estimators': randint(low=1, high=200),\n",
    "        'max_features': randint(low=1, high=15),\n",
    "    }\n",
    "\n",
    "forest_reg = RandomForestRegressor(random_state=42)\n",
    "rnd_forest_search = RandomizedSearchCV(forest_reg, param_distributions=param_distribs,\n",
    "                                n_iter=500, cv=5, scoring='neg_mean_squared_error', random_state=42)\n",
    "rnd_forest_search.fit(X_train, y_train)"
   ]
  },
  {
   "cell_type": "code",
   "execution_count": 194,
   "id": "702a128d",
   "metadata": {},
   "outputs": [
    {
     "ename": "NameError",
     "evalue": "name 'rnd_forest_search' is not defined",
     "output_type": "error",
     "traceback": [
      "\u001b[1;31m---------------------------------------------------------------------------\u001b[0m",
      "\u001b[1;31mNameError\u001b[0m                                 Traceback (most recent call last)",
      "\u001b[1;32m<ipython-input-194-dce732109c7f>\u001b[0m in \u001b[0;36m<module>\u001b[1;34m\u001b[0m\n\u001b[1;32m----> 1\u001b[1;33m \u001b[0mplot_learning_curves\u001b[0m\u001b[1;33m(\u001b[0m\u001b[0mrnd_forest_search\u001b[0m\u001b[1;33m.\u001b[0m\u001b[0mbest_estimator_\u001b[0m\u001b[1;33m,\u001b[0m \u001b[0mX_data_full\u001b[0m\u001b[1;33m,\u001b[0m \u001b[0mresource_lut\u001b[0m\u001b[1;33m)\u001b[0m\u001b[1;33m\u001b[0m\u001b[1;33m\u001b[0m\u001b[0m\n\u001b[0m\u001b[0;32m      2\u001b[0m \u001b[0mplt\u001b[0m\u001b[1;33m.\u001b[0m\u001b[0maxis\u001b[0m\u001b[1;33m(\u001b[0m\u001b[1;33m[\u001b[0m\u001b[1;36m0\u001b[0m\u001b[1;33m,\u001b[0m \u001b[1;36m300\u001b[0m\u001b[1;33m,\u001b[0m \u001b[1;36m0\u001b[0m\u001b[1;33m,\u001b[0m \u001b[1;36m300\u001b[0m\u001b[1;33m]\u001b[0m\u001b[1;33m)\u001b[0m                         \u001b[1;31m# not shown in the book   # not shown\u001b[0m\u001b[1;33m\u001b[0m\u001b[1;33m\u001b[0m\u001b[0m\n\u001b[0;32m      3\u001b[0m \u001b[0mplt\u001b[0m\u001b[1;33m.\u001b[0m\u001b[0mshow\u001b[0m\u001b[1;33m(\u001b[0m\u001b[1;33m)\u001b[0m\u001b[1;33m\u001b[0m\u001b[1;33m\u001b[0m\u001b[0m\n",
      "\u001b[1;31mNameError\u001b[0m: name 'rnd_forest_search' is not defined"
     ]
    }
   ],
   "source": [
    "plot_learning_curves(rnd_forest_search.best_estimator_, X_data_full, resource_lut)\n",
    "plt.axis([0, 300, 0, 300])                         # not shown in the book   # not shown\n",
    "plt.show()    "
   ]
  },
  {
   "cell_type": "code",
   "execution_count": null,
   "id": "430c8b9e",
   "metadata": {},
   "outputs": [],
   "source": []
  }
 ],
 "metadata": {
  "kernelspec": {
   "display_name": "Python 3",
   "language": "python",
   "name": "python3"
  },
  "language_info": {
   "codemirror_mode": {
    "name": "ipython",
    "version": 3
   },
   "file_extension": ".py",
   "mimetype": "text/x-python",
   "name": "python",
   "nbconvert_exporter": "python",
   "pygments_lexer": "ipython3",
   "version": "3.8.8"
  }
 },
 "nbformat": 4,
 "nbformat_minor": 5
}
