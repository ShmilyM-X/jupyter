{
 "cells": [
  {
   "cell_type": "code",
   "execution_count": 1,
   "id": "fecb3920",
   "metadata": {},
   "outputs": [],
   "source": [
    "from sklearn.datasets import fetch_california_housing"
   ]
  },
  {
   "cell_type": "code",
   "execution_count": 3,
   "id": "a3f85e25",
   "metadata": {},
   "outputs": [],
   "source": [
    "from sklearn.model_selection import train_test_split\n",
    "from sklearn.preprocessing import StandardScaler"
   ]
  },
  {
   "cell_type": "code",
   "execution_count": 5,
   "id": "1b9b8fa5",
   "metadata": {},
   "outputs": [],
   "source": [
    "housing = fetch_california_housing()"
   ]
  },
  {
   "cell_type": "code",
   "execution_count": 6,
   "id": "90367592",
   "metadata": {},
   "outputs": [],
   "source": [
    "X_train_full,X_test,y_train_full,y_test = train_test_split(housing.data,housing.target)"
   ]
  },
  {
   "cell_type": "code",
   "execution_count": 7,
   "id": "ad878791",
   "metadata": {},
   "outputs": [],
   "source": [
    "X_train,X_valid,y_train,y_valid = train_test_split(X_train_full,y_train_full)"
   ]
  },
  {
   "cell_type": "code",
   "execution_count": 8,
   "id": "e152144f",
   "metadata": {},
   "outputs": [],
   "source": [
    "scaler = StandardScaler()"
   ]
  },
  {
   "cell_type": "code",
   "execution_count": 9,
   "id": "d0a0a9c5",
   "metadata": {},
   "outputs": [],
   "source": [
    "X_train = scaler.fit_transform(X_train)"
   ]
  },
  {
   "cell_type": "code",
   "execution_count": 10,
   "id": "193926fe",
   "metadata": {},
   "outputs": [],
   "source": [
    "X_valid = scaler.fit_transform(X_valid)"
   ]
  },
  {
   "cell_type": "code",
   "execution_count": 11,
   "id": "327a527e",
   "metadata": {},
   "outputs": [],
   "source": [
    "X_test = scaler.fit_transform(X_test)"
   ]
  },
  {
   "cell_type": "code",
   "execution_count": 13,
   "id": "83bebec1",
   "metadata": {},
   "outputs": [],
   "source": [
    "import tensorflow as tf\n",
    "from tensorflow import keras"
   ]
  },
  {
   "cell_type": "code",
   "execution_count": 31,
   "id": "a9cb4af4",
   "metadata": {},
   "outputs": [],
   "source": [
    "model = keras.models.Sequential([\n",
    "    keras.layers.Dense(30,activation = \"relu\",input_shape = X_train.shape[1:]),\n",
    "    keras.layers.Dense(1)\n",
    "])"
   ]
  },
  {
   "cell_type": "code",
   "execution_count": 32,
   "id": "81a2aeeb",
   "metadata": {},
   "outputs": [
    {
     "name": "stdout",
     "output_type": "stream",
     "text": [
      "Model: \"sequential_2\"\n",
      "_________________________________________________________________\n",
      " Layer (type)                Output Shape              Param #   \n",
      "=================================================================\n",
      " dense_2 (Dense)             (None, 30)                270       \n",
      "                                                                 \n",
      " dense_3 (Dense)             (None, 1)                 31        \n",
      "                                                                 \n",
      "=================================================================\n",
      "Total params: 301\n",
      "Trainable params: 301\n",
      "Non-trainable params: 0\n",
      "_________________________________________________________________\n"
     ]
    }
   ],
   "source": [
    "model.summary()"
   ]
  },
  {
   "cell_type": "code",
   "execution_count": 33,
   "id": "0e19e3e4",
   "metadata": {},
   "outputs": [],
   "source": [
    "model.compile(loss=\"mean_squared_error\",optimizer=\"sgd\")"
   ]
  },
  {
   "cell_type": "code",
   "execution_count": 34,
   "id": "566eb869",
   "metadata": {},
   "outputs": [
    {
     "name": "stdout",
     "output_type": "stream",
     "text": [
      "Epoch 1/20\n",
      "363/363 [==============================] - 0s 889us/step - loss: 0.8237 - val_loss: 0.5584\n",
      "Epoch 2/20\n",
      "363/363 [==============================] - 0s 728us/step - loss: 0.5116 - val_loss: 0.4819\n",
      "Epoch 3/20\n",
      "363/363 [==============================] - 0s 741us/step - loss: 0.4451 - val_loss: 0.4479\n",
      "Epoch 4/20\n",
      "363/363 [==============================] - 0s 739us/step - loss: 0.4203 - val_loss: 0.4369\n",
      "Epoch 5/20\n",
      "363/363 [==============================] - 0s 714us/step - loss: 0.4063 - val_loss: 0.4288\n",
      "Epoch 6/20\n",
      "363/363 [==============================] - 0s 720us/step - loss: 0.3955 - val_loss: 0.4205\n",
      "Epoch 7/20\n",
      "363/363 [==============================] - 0s 775us/step - loss: 0.3984 - val_loss: 0.4209\n",
      "Epoch 8/20\n",
      "363/363 [==============================] - 0s 714us/step - loss: 0.3837 - val_loss: 0.4215\n",
      "Epoch 9/20\n",
      "363/363 [==============================] - 0s 706us/step - loss: 0.3866 - val_loss: 0.4373\n",
      "Epoch 10/20\n",
      "363/363 [==============================] - 0s 708us/step - loss: 0.3935 - val_loss: 0.4101\n",
      "Epoch 11/20\n",
      "363/363 [==============================] - 0s 783us/step - loss: 0.3789 - val_loss: 0.4120\n",
      "Epoch 12/20\n",
      "363/363 [==============================] - 0s 719us/step - loss: 0.3706 - val_loss: 0.4153\n",
      "Epoch 13/20\n",
      "363/363 [==============================] - 0s 693us/step - loss: 0.3661 - val_loss: 0.4162\n",
      "Epoch 14/20\n",
      "363/363 [==============================] - 0s 700us/step - loss: 0.3645 - val_loss: 0.4105\n",
      "Epoch 15/20\n",
      "363/363 [==============================] - 0s 737us/step - loss: 0.3605 - val_loss: 0.4041\n",
      "Epoch 16/20\n",
      "363/363 [==============================] - 0s 685us/step - loss: 0.3632 - val_loss: 0.4014\n",
      "Epoch 17/20\n",
      "363/363 [==============================] - 0s 681us/step - loss: 0.3680 - val_loss: 0.4069\n",
      "Epoch 18/20\n",
      "363/363 [==============================] - 0s 698us/step - loss: 0.3546 - val_loss: 0.4102\n",
      "Epoch 19/20\n",
      "363/363 [==============================] - 0s 700us/step - loss: 0.3548 - val_loss: 0.4647\n",
      "Epoch 20/20\n",
      "363/363 [==============================] - 0s 779us/step - loss: 0.3508 - val_loss: 0.3998\n"
     ]
    }
   ],
   "source": [
    "history = model.fit(X_train,y_train,epochs = 20,validation_data=(X_valid,y_valid))\n"
   ]
  },
  {
   "cell_type": "code",
   "execution_count": 37,
   "id": "8ad355eb",
   "metadata": {},
   "outputs": [
    {
     "name": "stdout",
     "output_type": "stream",
     "text": [
      "162/162 [==============================] - 0s 496us/step - loss: 0.8615\n"
     ]
    }
   ],
   "source": [
    "mse_test = model.evaluate(X_test,y_test)\n",
    "x_new = X_test[:50]\n",
    "y_pred= model.predict(x_new)"
   ]
  },
  {
   "cell_type": "code",
   "execution_count": 36,
   "id": "e9d5be30",
   "metadata": {},
   "outputs": [
    {
     "data": {
      "text/plain": [
       "array([[1.4752282 ],\n",
       "       [3.1282306 ],\n",
       "       [0.56733274]], dtype=float32)"
      ]
     },
     "execution_count": 36,
     "metadata": {},
     "output_type": "execute_result"
    }
   ],
   "source": [
    "y_pred"
   ]
  },
  {
   "cell_type": "code",
   "execution_count": 38,
   "id": "71154c14",
   "metadata": {},
   "outputs": [],
   "source": [
    "# 宽深神经网络\n"
   ]
  },
  {
   "cell_type": "code",
   "execution_count": 39,
   "id": "e7632fb7",
   "metadata": {},
   "outputs": [],
   "source": [
    "input_ = keras.layers.Input(shape = X_train.shape[1:])"
   ]
  },
  {
   "cell_type": "code",
   "execution_count": 41,
   "id": "9f541a11",
   "metadata": {},
   "outputs": [],
   "source": [
    "hidden1 = keras.layers.Dense(30,activation = \"relu\")(input_)"
   ]
  },
  {
   "cell_type": "code",
   "execution_count": 43,
   "id": "bf393626",
   "metadata": {},
   "outputs": [],
   "source": [
    "hidden2 = keras.layers.Dense(30,activation = \"relu\")(hidden1)"
   ]
  },
  {
   "cell_type": "code",
   "execution_count": 45,
   "id": "a9abfa5d",
   "metadata": {},
   "outputs": [],
   "source": [
    "concat = keras.layers.Concatenate()([input_,hidden2])"
   ]
  },
  {
   "cell_type": "code",
   "execution_count": 46,
   "id": "0b4d996b",
   "metadata": {},
   "outputs": [],
   "source": [
    "output = keras.layers.Dense(1)(concat)"
   ]
  },
  {
   "cell_type": "code",
   "execution_count": 48,
   "id": "b88ef2ab",
   "metadata": {},
   "outputs": [],
   "source": [
    "model = keras.Model(inputs = [input_],outputs = [output])"
   ]
  },
  {
   "cell_type": "code",
   "execution_count": 49,
   "id": "62d5fcd5",
   "metadata": {},
   "outputs": [
    {
     "name": "stdout",
     "output_type": "stream",
     "text": [
      "Model: \"model\"\n",
      "__________________________________________________________________________________________________\n",
      " Layer (type)                   Output Shape         Param #     Connected to                     \n",
      "==================================================================================================\n",
      " input_1 (InputLayer)           [(None, 8)]          0           []                               \n",
      "                                                                                                  \n",
      " dense_5 (Dense)                (None, 30)           270         ['input_1[0][0]']                \n",
      "                                                                                                  \n",
      " dense_6 (Dense)                (None, 30)           930         ['dense_5[0][0]']                \n",
      "                                                                                                  \n",
      " dense_7 (Dense)                (None, 30)           930         ['dense_6[0][0]']                \n",
      "                                                                                                  \n",
      " concatenate_1 (Concatenate)    (None, 38)           0           ['input_1[0][0]',                \n",
      "                                                                  'dense_7[0][0]']                \n",
      "                                                                                                  \n",
      " dense_8 (Dense)                (None, 1)            39          ['concatenate_1[0][0]']          \n",
      "                                                                                                  \n",
      "==================================================================================================\n",
      "Total params: 2,169\n",
      "Trainable params: 2,169\n",
      "Non-trainable params: 0\n",
      "__________________________________________________________________________________________________\n"
     ]
    }
   ],
   "source": [
    "model.summary()"
   ]
  },
  {
   "cell_type": "code",
   "execution_count": 50,
   "id": "d93d75d9",
   "metadata": {},
   "outputs": [],
   "source": [
    "input_A = keras.layers.Input(shape=[5],name= \"wide_input\")"
   ]
  },
  {
   "cell_type": "code",
   "execution_count": 51,
   "id": "c1c2b824",
   "metadata": {},
   "outputs": [],
   "source": [
    "input_B = keras.layers.Input(shape=[6],name = \"deep_input\")"
   ]
  },
  {
   "cell_type": "code",
   "execution_count": 52,
   "id": "a844c19b",
   "metadata": {},
   "outputs": [],
   "source": [
    "hidden1 = keras.layers.Dense(30,activation=\"relu\")(input_B)\n",
    "hidden2 = keras.layers.Dense(30,activation=\"relu\")(hidden1)\n",
    "concat = keras.layers.Concatenate()([input_A,hidden2])\n",
    "output = keras.layers.Dense(1,name = \"output\")(concat)"
   ]
  },
  {
   "cell_type": "code",
   "execution_count": 56,
   "id": "22a37dcf",
   "metadata": {},
   "outputs": [],
   "source": [
    "model_2 = keras.Model(inputs = [input_A,input_B],outputs = [output])"
   ]
  },
  {
   "cell_type": "code",
   "execution_count": 57,
   "id": "133e5f77",
   "metadata": {},
   "outputs": [
    {
     "name": "stderr",
     "output_type": "stream",
     "text": [
      "D:\\ProgramData\\Anaconda3\\lib\\site-packages\\keras\\optimizer_v2\\gradient_descent.py:102: UserWarning: The `lr` argument is deprecated, use `learning_rate` instead.\n",
      "  super(SGD, self).__init__(name, **kwargs)\n"
     ]
    }
   ],
   "source": [
    "model_2.compile(loss=\"mse\",optimizer = keras.optimizers.SGD(lr=1e-3))"
   ]
  },
  {
   "cell_type": "code",
   "execution_count": 67,
   "id": "ce248457",
   "metadata": {},
   "outputs": [],
   "source": [
    "X_train_A,X_train_B = X_train[:,:5],X_train[:,2:]"
   ]
  },
  {
   "cell_type": "code",
   "execution_count": 68,
   "id": "b0943c62",
   "metadata": {},
   "outputs": [],
   "source": [
    "X_valid_A,X_valid_B = X_valid[:,:5],X_valid[:,2:]"
   ]
  },
  {
   "cell_type": "code",
   "execution_count": 69,
   "id": "d20c0366",
   "metadata": {},
   "outputs": [],
   "source": [
    "X_test_A,X_test_B = X_test[:,:5],X_test[:,2:]"
   ]
  },
  {
   "cell_type": "code",
   "execution_count": 70,
   "id": "bbe77c2f",
   "metadata": {},
   "outputs": [],
   "source": [
    "X_new_A,X_new_B = X_test_A[:3],X_test_B[:3]"
   ]
  },
  {
   "cell_type": "code",
   "execution_count": 71,
   "id": "ba3791b5",
   "metadata": {},
   "outputs": [
    {
     "name": "stdout",
     "output_type": "stream",
     "text": [
      "Epoch 1/20\n",
      "363/363 [==============================] - 0s 1ms/step - loss: 0.6054 - val_loss: 0.5730\n",
      "Epoch 2/20\n",
      "363/363 [==============================] - 0s 852us/step - loss: 0.5839 - val_loss: 0.5570\n",
      "Epoch 3/20\n",
      "363/363 [==============================] - 0s 836us/step - loss: 0.5672 - val_loss: 0.5424\n",
      "Epoch 4/20\n",
      "363/363 [==============================] - 0s 866us/step - loss: 0.5530 - val_loss: 0.5311\n",
      "Epoch 5/20\n",
      "363/363 [==============================] - 0s 855us/step - loss: 0.5410 - val_loss: 0.5226\n",
      "Epoch 6/20\n",
      "363/363 [==============================] - 0s 861us/step - loss: 0.5308 - val_loss: 0.5158\n",
      "Epoch 7/20\n",
      "363/363 [==============================] - 0s 925us/step - loss: 0.5216 - val_loss: 0.5082\n",
      "Epoch 8/20\n",
      "363/363 [==============================] - 0s 833us/step - loss: 0.5133 - val_loss: 0.5031\n",
      "Epoch 9/20\n",
      "363/363 [==============================] - 0s 807us/step - loss: 0.5060 - val_loss: 0.4985\n",
      "Epoch 10/20\n",
      "363/363 [==============================] - 0s 856us/step - loss: 0.4981 - val_loss: 0.4934\n",
      "Epoch 11/20\n",
      "363/363 [==============================] - 0s 863us/step - loss: 0.4917 - val_loss: 0.4893\n",
      "Epoch 12/20\n",
      "363/363 [==============================] - 0s 914us/step - loss: 0.4851 - val_loss: 0.4853\n",
      "Epoch 13/20\n",
      "363/363 [==============================] - 0s 839us/step - loss: 0.4796 - val_loss: 0.4814\n",
      "Epoch 14/20\n",
      "363/363 [==============================] - 0s 849us/step - loss: 0.4744 - val_loss: 0.4782\n",
      "Epoch 15/20\n",
      "363/363 [==============================] - 0s 848us/step - loss: 0.4690 - val_loss: 0.4746\n",
      "Epoch 16/20\n",
      "363/363 [==============================] - 0s 913us/step - loss: 0.4642 - val_loss: 0.4722\n",
      "Epoch 17/20\n",
      "363/363 [==============================] - 0s 866us/step - loss: 0.4596 - val_loss: 0.4686\n",
      "Epoch 18/20\n",
      "363/363 [==============================] - 0s 851us/step - loss: 0.4554 - val_loss: 0.4666\n",
      "Epoch 19/20\n",
      "363/363 [==============================] - 0s 856us/step - loss: 0.4514 - val_loss: 0.4647\n",
      "Epoch 20/20\n",
      "363/363 [==============================] - 0s 903us/step - loss: 0.4473 - val_loss: 0.4613\n",
      "162/162 [==============================] - 0s 604us/step - loss: 0.4620\n"
     ]
    }
   ],
   "source": [
    "history = model_2.fit((X_train_A,X_train_B),y_train,epochs=20,\n",
    "                   validation_data=((X_valid_A,X_valid_B),y_valid))\n",
    "mse_test = model_2.evaluate((X_test_A,X_test_B),y_test)\n",
    "y_pred = model_2.predict((X_new_A,X_new_B))"
   ]
  },
  {
   "cell_type": "code",
   "execution_count": 73,
   "id": "88dd0af7",
   "metadata": {},
   "outputs": [],
   "source": [
    "#使用子类API构建动态模型\n",
    "class WideAndDeepModel(keras.Model):\n",
    "    def __init__(self,units=30,activation=\"relu\",**kwargs):\n",
    "        super().__init__(**kwargs)\n",
    "        self.hidden1 = keras.layers.Dense(units,activation=activation)\n",
    "        self.hidden2 = keras.layers.Dense(units,activation = activation)\n",
    "        self.main_output = keras.layers.Dense(1)\n",
    "        self.aux_output = keras.layers.Dense(1)\n",
    "        \n",
    "    def call(self,inputs):\n",
    "        input_A,input_B = inputs\n",
    "        hidden1 = self.hidden1(input_B)\n",
    "        hidden2 = self.hidden2(hidden1)\n",
    "        concat = keras.layers.concatenate([input_A,hidden2])\n",
    "        main_output = self.main_output(concat)\n",
    "        aux_output = self.aux_output(hidden2)\n",
    "        return main_output,aux_output\n",
    "    \n",
    "model_3 = WideAndDeepModel()"
   ]
  },
  {
   "cell_type": "code",
   "execution_count": 74,
   "id": "3f6d58b9",
   "metadata": {},
   "outputs": [],
   "source": [
    "model_2.save(\"my_test_model.h5\")"
   ]
  },
  {
   "cell_type": "code",
   "execution_count": 75,
   "id": "281e6d99",
   "metadata": {},
   "outputs": [],
   "source": [
    "import os\n",
    "root_logidr = os.path.join(os.curdir,\"my_logs\")"
   ]
  },
  {
   "cell_type": "code",
   "execution_count": 76,
   "id": "2fbb7482",
   "metadata": {},
   "outputs": [
    {
     "data": {
      "text/plain": [
       "'.\\\\my_logs'"
      ]
     },
     "execution_count": 76,
     "metadata": {},
     "output_type": "execute_result"
    }
   ],
   "source": [
    "root_logidr"
   ]
  },
  {
   "cell_type": "code",
   "execution_count": 77,
   "id": "89763a91",
   "metadata": {},
   "outputs": [],
   "source": [
    "def get_run_logdir():\n",
    "    import time\n",
    "    run_id = time.strftime(\"run_%Y_%m_%d-%H_%M_%S\")\n",
    "    return os.path.join(root_logidr,run_id)\n",
    "\n",
    "run_logdir = get_run_logdir()"
   ]
  },
  {
   "cell_type": "code",
   "execution_count": 78,
   "id": "30315199",
   "metadata": {},
   "outputs": [
    {
     "data": {
      "text/plain": [
       "'.\\\\my_logs\\\\run_2021_11_25-17_16_11'"
      ]
     },
     "execution_count": 78,
     "metadata": {},
     "output_type": "execute_result"
    }
   ],
   "source": [
    "run_logdir"
   ]
  },
  {
   "cell_type": "code",
   "execution_count": 80,
   "id": "75252e80",
   "metadata": {},
   "outputs": [
    {
     "name": "stdout",
     "output_type": "stream",
     "text": [
      "Epoch 1/30\n",
      "363/363 [==============================] - 1s 2ms/step - loss: 0.8514 - val_loss: 1.0498\n",
      "Epoch 2/30\n",
      "363/363 [==============================] - 1s 1ms/step - loss: 0.6255 - val_loss: 1.5077\n",
      "Epoch 3/30\n",
      "363/363 [==============================] - 0s 1ms/step - loss: nan - val_loss: nan\n",
      "Epoch 4/30\n",
      "363/363 [==============================] - 1s 1ms/step - loss: nan - val_loss: nan\n",
      "Epoch 5/30\n",
      "363/363 [==============================] - 0s 1ms/step - loss: nan - val_loss: nan\n",
      "Epoch 6/30\n",
      "363/363 [==============================] - 0s 1ms/step - loss: nan - val_loss: nan\n",
      "Epoch 7/30\n",
      "363/363 [==============================] - 0s 1ms/step - loss: nan - val_loss: nan\n",
      "Epoch 8/30\n",
      "363/363 [==============================] - 0s 1ms/step - loss: nan - val_loss: nan\n",
      "Epoch 9/30\n",
      "363/363 [==============================] - 0s 1ms/step - loss: nan - val_loss: nan\n",
      "Epoch 10/30\n",
      "363/363 [==============================] - 0s 1ms/step - loss: nan - val_loss: nan\n",
      "Epoch 11/30\n",
      "363/363 [==============================] - 0s 1ms/step - loss: nan - val_loss: nan\n",
      "Epoch 12/30\n",
      "363/363 [==============================] - 1s 2ms/step - loss: nan - val_loss: nan\n",
      "Epoch 13/30\n",
      "363/363 [==============================] - 1s 2ms/step - loss: nan - val_loss: nan\n",
      "Epoch 14/30\n",
      "363/363 [==============================] - 0s 1ms/step - loss: nan - val_loss: nan\n",
      "Epoch 15/30\n",
      "363/363 [==============================] - 0s 1ms/step - loss: nan - val_loss: nan\n",
      "Epoch 16/30\n",
      "363/363 [==============================] - 0s 1ms/step - loss: nan - val_loss: nan\n",
      "Epoch 17/30\n",
      "363/363 [==============================] - 0s 1ms/step - loss: nan - val_loss: nan\n",
      "Epoch 18/30\n",
      "363/363 [==============================] - 0s 1ms/step - loss: nan - val_loss: nan\n",
      "Epoch 19/30\n",
      "363/363 [==============================] - 0s 1ms/step - loss: nan - val_loss: nan\n",
      "Epoch 20/30\n",
      "363/363 [==============================] - 0s 1ms/step - loss: nan - val_loss: nan\n",
      "Epoch 21/30\n",
      "363/363 [==============================] - 0s 1ms/step - loss: nan - val_loss: nan\n",
      "Epoch 22/30\n",
      "363/363 [==============================] - 0s 1ms/step - loss: nan - val_loss: nan\n",
      "Epoch 23/30\n",
      "363/363 [==============================] - 0s 1ms/step - loss: nan - val_loss: nan\n",
      "Epoch 24/30\n",
      "363/363 [==============================] - 0s 1ms/step - loss: nan - val_loss: nan\n",
      "Epoch 25/30\n",
      "363/363 [==============================] - 0s 1ms/step - loss: nan - val_loss: nan\n",
      "Epoch 26/30\n",
      "363/363 [==============================] - 0s 1ms/step - loss: nan - val_loss: nan\n",
      "Epoch 27/30\n",
      "363/363 [==============================] - 0s 1ms/step - loss: nan - val_loss: nan\n",
      "Epoch 28/30\n",
      "363/363 [==============================] - 0s 1ms/step - loss: nan - val_loss: nan\n",
      "Epoch 29/30\n",
      "363/363 [==============================] - 0s 1ms/step - loss: nan - val_loss: nan\n",
      "Epoch 30/30\n",
      "363/363 [==============================] - 0s 1ms/step - loss: nan - val_loss: nan\n"
     ]
    }
   ],
   "source": [
    "tensorboard_cb = keras.callbacks.TensorBoard(run_logdir)\n",
    "model.compile(loss=\"mean_squared_error\",optimizer=\"sgd\")\n",
    "history = model.fit(X_train,y_train,epochs=30,validation_data=(X_valid,y_valid),callbacks=[tensorboard_cb])"
   ]
  },
  {
   "cell_type": "code",
   "execution_count": 82,
   "id": "e0689e1e",
   "metadata": {},
   "outputs": [
    {
     "name": "stdout",
     "output_type": "stream",
     "text": [
      "Epoch 1/30\n",
      "363/363 [==============================] - 1s 2ms/step - loss: nan - val_loss: nan\n",
      "Epoch 2/30\n",
      "363/363 [==============================] - 0s 1ms/step - loss: nan - val_loss: nan\n",
      "Epoch 3/30\n",
      "363/363 [==============================] - 0s 1ms/step - loss: nan - val_loss: nan\n",
      "Epoch 4/30\n",
      "363/363 [==============================] - 0s 1ms/step - loss: nan - val_loss: nan\n",
      "Epoch 5/30\n",
      "363/363 [==============================] - 0s 1ms/step - loss: nan - val_loss: nan\n",
      "Epoch 6/30\n",
      "363/363 [==============================] - 0s 1ms/step - loss: nan - val_loss: nan\n",
      "Epoch 7/30\n",
      "363/363 [==============================] - 0s 1ms/step - loss: nan - val_loss: nan\n",
      "Epoch 8/30\n",
      "363/363 [==============================] - 0s 1ms/step - loss: nan - val_loss: nan\n",
      "Epoch 9/30\n",
      "363/363 [==============================] - 0s 1ms/step - loss: nan - val_loss: nan\n",
      "Epoch 10/30\n",
      "363/363 [==============================] - 0s 1ms/step - loss: nan - val_loss: nan\n",
      "Epoch 11/30\n",
      "363/363 [==============================] - 0s 1ms/step - loss: nan - val_loss: nan\n",
      "Epoch 12/30\n",
      "363/363 [==============================] - 0s 1ms/step - loss: nan - val_loss: nan\n",
      "Epoch 13/30\n",
      "363/363 [==============================] - 0s 1ms/step - loss: nan - val_loss: nan\n",
      "Epoch 14/30\n",
      "363/363 [==============================] - 0s 1ms/step - loss: nan - val_loss: nan\n",
      "Epoch 15/30\n",
      "363/363 [==============================] - 0s 1ms/step - loss: nan - val_loss: nan\n",
      "Epoch 16/30\n",
      "363/363 [==============================] - 0s 1ms/step - loss: nan - val_loss: nan\n",
      "Epoch 17/30\n",
      "363/363 [==============================] - 0s 1ms/step - loss: nan - val_loss: nan\n",
      "Epoch 18/30\n",
      "363/363 [==============================] - 0s 1ms/step - loss: nan - val_loss: nan\n",
      "Epoch 19/30\n",
      "363/363 [==============================] - 0s 1ms/step - loss: nan - val_loss: nan\n",
      "Epoch 20/30\n",
      "363/363 [==============================] - 0s 1ms/step - loss: nan - val_loss: nan\n",
      "Epoch 21/30\n",
      "363/363 [==============================] - 0s 1ms/step - loss: nan - val_loss: nan\n",
      "Epoch 22/30\n",
      "363/363 [==============================] - 0s 1ms/step - loss: nan - val_loss: nan\n",
      "Epoch 23/30\n",
      "363/363 [==============================] - 0s 1ms/step - loss: nan - val_loss: nan\n",
      "Epoch 24/30\n",
      "363/363 [==============================] - 0s 1ms/step - loss: nan - val_loss: nan\n",
      "Epoch 25/30\n",
      "363/363 [==============================] - 0s 1ms/step - loss: nan - val_loss: nan\n",
      "Epoch 26/30\n",
      "363/363 [==============================] - 0s 1ms/step - loss: nan - val_loss: nan\n",
      "Epoch 27/30\n",
      "363/363 [==============================] - 0s 1ms/step - loss: nan - val_loss: nan\n",
      "Epoch 28/30\n",
      "363/363 [==============================] - 0s 1ms/step - loss: nan - val_loss: nan\n",
      "Epoch 29/30\n",
      "363/363 [==============================] - 0s 1ms/step - loss: nan - val_loss: nan\n",
      "Epoch 30/30\n",
      "363/363 [==============================] - 0s 1ms/step - loss: nan - val_loss: nan\n"
     ]
    }
   ],
   "source": [
    "tensorboard_cb = keras.callbacks.TensorBoard(run_logdir)\n",
    "model.compile(loss=\"mean_squared_error\",optimizer=\"sgd\")\n",
    "history = model.fit(X_train,y_train,epochs=30,validation_data=(X_valid,y_valid),callbacks=[tensorboard_cb])"
   ]
  },
  {
   "cell_type": "code",
   "execution_count": 85,
   "id": "47bccd20",
   "metadata": {},
   "outputs": [
    {
     "name": "stdout",
     "output_type": "stream",
     "text": [
      "Epoch 1/50\n",
      "363/363 [==============================] - 1s 2ms/step - loss: 0.3588 - val_loss: 0.4209\n",
      "Epoch 2/50\n",
      "363/363 [==============================] - 0s 1ms/step - loss: 0.3585 - val_loss: 0.4186\n",
      "Epoch 3/50\n",
      "363/363 [==============================] - 0s 1ms/step - loss: 0.3574 - val_loss: 0.4200\n",
      "Epoch 4/50\n",
      "363/363 [==============================] - 0s 1ms/step - loss: 0.3569 - val_loss: 0.4172\n",
      "Epoch 5/50\n",
      "363/363 [==============================] - 0s 1ms/step - loss: 0.3563 - val_loss: 0.4220\n",
      "Epoch 6/50\n",
      "363/363 [==============================] - 0s 1ms/step - loss: 0.3557 - val_loss: 0.4165\n",
      "Epoch 7/50\n",
      "363/363 [==============================] - 0s 1ms/step - loss: 0.3551 - val_loss: 0.4188\n",
      "Epoch 8/50\n",
      "363/363 [==============================] - 0s 1ms/step - loss: 0.3546 - val_loss: 0.4163\n",
      "Epoch 9/50\n",
      "363/363 [==============================] - 0s 1ms/step - loss: 0.3542 - val_loss: 0.4226\n",
      "Epoch 10/50\n",
      "363/363 [==============================] - 0s 1ms/step - loss: 0.3535 - val_loss: 0.4181\n",
      "Epoch 11/50\n",
      "363/363 [==============================] - 0s 1ms/step - loss: 0.3526 - val_loss: 0.4234\n",
      "Epoch 12/50\n",
      "363/363 [==============================] - 0s 1ms/step - loss: 0.3522 - val_loss: 0.4196\n",
      "Epoch 13/50\n",
      "363/363 [==============================] - 0s 1ms/step - loss: 0.3519 - val_loss: 0.4176\n",
      "Epoch 14/50\n",
      "363/363 [==============================] - 0s 1ms/step - loss: 0.3511 - val_loss: 0.4187\n",
      "Epoch 15/50\n",
      "363/363 [==============================] - 0s 1ms/step - loss: 0.3505 - val_loss: 0.4196\n",
      "Epoch 16/50\n",
      "363/363 [==============================] - 0s 1ms/step - loss: 0.3504 - val_loss: 0.4154\n",
      "Epoch 17/50\n",
      "363/363 [==============================] - 0s 1ms/step - loss: 0.3495 - val_loss: 0.4180\n",
      "Epoch 18/50\n",
      "363/363 [==============================] - 0s 1ms/step - loss: 0.3493 - val_loss: 0.4192\n",
      "Epoch 19/50\n",
      "363/363 [==============================] - 0s 1ms/step - loss: 0.3490 - val_loss: 0.4223\n",
      "Epoch 20/50\n",
      "363/363 [==============================] - 0s 1ms/step - loss: 0.3491 - val_loss: 0.4180\n",
      "Epoch 21/50\n",
      "363/363 [==============================] - 0s 1ms/step - loss: 0.3479 - val_loss: 0.4213\n",
      "Epoch 22/50\n",
      "363/363 [==============================] - 0s 1ms/step - loss: 0.3475 - val_loss: 0.4203\n",
      "Epoch 23/50\n",
      "363/363 [==============================] - 0s 1ms/step - loss: 0.3467 - val_loss: 0.4199\n",
      "Epoch 24/50\n",
      "363/363 [==============================] - 0s 1ms/step - loss: 0.3466 - val_loss: 0.4172\n",
      "Epoch 25/50\n",
      "363/363 [==============================] - 0s 1ms/step - loss: 0.3456 - val_loss: 0.4123\n",
      "Epoch 26/50\n",
      "363/363 [==============================] - 0s 1ms/step - loss: 0.3458 - val_loss: 0.4176\n",
      "Epoch 27/50\n",
      "363/363 [==============================] - 0s 1ms/step - loss: 0.3449 - val_loss: 0.4145\n",
      "Epoch 28/50\n",
      "363/363 [==============================] - 0s 1ms/step - loss: 0.3440 - val_loss: 0.4170\n",
      "Epoch 29/50\n",
      "363/363 [==============================] - 0s 1ms/step - loss: 0.3439 - val_loss: 0.4208\n",
      "Epoch 30/50\n",
      "363/363 [==============================] - 0s 1ms/step - loss: 0.3445 - val_loss: 0.4149\n",
      "Epoch 31/50\n",
      "363/363 [==============================] - 0s 1ms/step - loss: 0.3438 - val_loss: 0.4156\n",
      "Epoch 32/50\n",
      "363/363 [==============================] - 0s 1ms/step - loss: 0.3429 - val_loss: 0.4141\n",
      "Epoch 33/50\n",
      "363/363 [==============================] - 0s 1ms/step - loss: 0.3425 - val_loss: 0.4156\n",
      "Epoch 34/50\n",
      "363/363 [==============================] - 0s 1ms/step - loss: 0.3418 - val_loss: 0.4165\n",
      "Epoch 35/50\n",
      "363/363 [==============================] - 0s 1ms/step - loss: 0.3416 - val_loss: 0.4192\n",
      "Epoch 36/50\n",
      "363/363 [==============================] - 0s 1ms/step - loss: 0.3413 - val_loss: 0.4162\n",
      "Epoch 37/50\n",
      "363/363 [==============================] - 0s 1ms/step - loss: 0.3406 - val_loss: 0.4161\n",
      "Epoch 38/50\n",
      "363/363 [==============================] - 0s 1ms/step - loss: 0.3402 - val_loss: 0.4140\n",
      "Epoch 39/50\n",
      "363/363 [==============================] - 0s 1ms/step - loss: 0.3399 - val_loss: 0.4120\n",
      "Epoch 40/50\n",
      "363/363 [==============================] - 0s 1ms/step - loss: 0.3395 - val_loss: 0.4167\n",
      "Epoch 41/50\n",
      "363/363 [==============================] - 0s 1ms/step - loss: 0.3395 - val_loss: 0.4102\n",
      "Epoch 42/50\n",
      "363/363 [==============================] - 0s 1ms/step - loss: 0.3393 - val_loss: 0.4142\n",
      "Epoch 43/50\n",
      "363/363 [==============================] - 0s 1ms/step - loss: 0.3383 - val_loss: 0.4172\n",
      "Epoch 44/50\n",
      "363/363 [==============================] - 0s 1ms/step - loss: 0.3373 - val_loss: 0.4203\n",
      "Epoch 45/50\n",
      "363/363 [==============================] - 0s 1ms/step - loss: 0.3369 - val_loss: 0.4193\n",
      "Epoch 46/50\n",
      "363/363 [==============================] - 0s 1ms/step - loss: 0.3371 - val_loss: 0.4100\n",
      "Epoch 47/50\n",
      "363/363 [==============================] - 0s 1ms/step - loss: 0.3367 - val_loss: 0.4207\n",
      "Epoch 48/50\n",
      "363/363 [==============================] - 0s 1ms/step - loss: 0.3383 - val_loss: 0.4085\n",
      "Epoch 49/50\n",
      "363/363 [==============================] - 0s 1ms/step - loss: 0.3361 - val_loss: 0.4187\n",
      "Epoch 50/50\n",
      "363/363 [==============================] - 0s 1ms/step - loss: 0.3367 - val_loss: 0.4115\n"
     ]
    }
   ],
   "source": [
    "model_2 = keras.Model(inputs = [input_A,input_B],outputs = [output])\n",
    "model_2.compile(loss=\"mse\",optimizer = keras.optimizers.SGD(lr=1e-3))\n",
    "history = model_2.fit((X_train_A,X_train_B),y_train,epochs=50,\n",
    "                   validation_data=((X_valid_A,X_valid_B),y_valid),callbacks=[tensorboard_cb])"
   ]
  },
  {
   "cell_type": "code",
   "execution_count": 95,
   "id": "fa1951b7",
   "metadata": {},
   "outputs": [],
   "source": [
    "def build_model(n_hidden=1, n_neurons=30, learning_rate=3e-3, input_shape=[8]):\n",
    "    model = keras.models.Sequential()\n",
    "    model.add(keras.layers.InputLayer(input_shape=input_shape))\n",
    "    for layer in range(n_hidden):\n",
    "        model.add(keras.layers.Dense(n_neurons, activation=\"relu\"))\n",
    "    model.add(keras.layers.Dense(1))\n",
    "    optimizer = keras.optimizers.SGD(learning_rate=learning_rate)\n",
    "    model.compile(loss=\"mse\", optimizer=optimizer)\n",
    "    return model"
   ]
  },
  {
   "cell_type": "code",
   "execution_count": 96,
   "id": "becf9c14",
   "metadata": {},
   "outputs": [
    {
     "name": "stderr",
     "output_type": "stream",
     "text": [
      "<ipython-input-96-651c14c6d32f>:1: DeprecationWarning: KerasRegressor is deprecated, use Sci-Keras (https://github.com/adriangb/scikeras) instead.\n",
      "  keras_reg = keras.wrappers.scikit_learn.KerasRegressor(build_model)\n"
     ]
    }
   ],
   "source": [
    "keras_reg = keras.wrappers.scikit_learn.KerasRegressor(build_model)"
   ]
  },
  {
   "cell_type": "code",
   "execution_count": 97,
   "id": "a9b9718d",
   "metadata": {},
   "outputs": [
    {
     "name": "stdout",
     "output_type": "stream",
     "text": [
      "Epoch 1/100\n",
      "363/363 [==============================] - 1s 2ms/step - loss: 1.2046 - val_loss: 0.6889\n",
      "Epoch 2/100\n",
      "363/363 [==============================] - 0s 1ms/step - loss: 0.6386 - val_loss: 0.5865\n",
      "Epoch 3/100\n",
      "363/363 [==============================] - 0s 1ms/step - loss: 0.5833 - val_loss: 0.5329\n",
      "Epoch 4/100\n",
      "363/363 [==============================] - 0s 1ms/step - loss: 0.5396 - val_loss: 0.5401\n",
      "Epoch 5/100\n",
      "363/363 [==============================] - 0s 1ms/step - loss: 0.5102 - val_loss: 0.5451\n",
      "Epoch 6/100\n",
      "363/363 [==============================] - 0s 1ms/step - loss: 0.4865 - val_loss: 0.4675\n",
      "Epoch 7/100\n",
      "363/363 [==============================] - 0s 1ms/step - loss: 0.4652 - val_loss: 0.4582\n",
      "Epoch 8/100\n",
      "363/363 [==============================] - 0s 1ms/step - loss: 0.4511 - val_loss: 0.4603\n",
      "Epoch 9/100\n",
      "363/363 [==============================] - 0s 1ms/step - loss: 0.4409 - val_loss: 0.4443\n",
      "Epoch 10/100\n",
      "363/363 [==============================] - 0s 1ms/step - loss: 0.4324 - val_loss: 0.4510\n",
      "Epoch 11/100\n",
      "363/363 [==============================] - 0s 1ms/step - loss: 0.4257 - val_loss: 0.4391\n",
      "Epoch 12/100\n",
      "363/363 [==============================] - 0s 1ms/step - loss: 0.4207 - val_loss: 0.4347\n",
      "Epoch 13/100\n",
      "363/363 [==============================] - 0s 1ms/step - loss: 0.4151 - val_loss: 0.4346\n",
      "Epoch 14/100\n",
      "363/363 [==============================] - 0s 1ms/step - loss: 0.4094 - val_loss: 0.4288\n",
      "Epoch 15/100\n",
      "363/363 [==============================] - 0s 1ms/step - loss: 0.4055 - val_loss: 0.4308\n",
      "Epoch 16/100\n",
      "363/363 [==============================] - 0s 1ms/step - loss: 0.4016 - val_loss: 0.4278\n",
      "Epoch 17/100\n",
      "363/363 [==============================] - 0s 1ms/step - loss: 0.3984 - val_loss: 0.4284\n",
      "Epoch 18/100\n",
      "363/363 [==============================] - 0s 1ms/step - loss: 0.3965 - val_loss: 0.4195\n",
      "Epoch 19/100\n",
      "363/363 [==============================] - 0s 1ms/step - loss: 0.3927 - val_loss: 0.4282\n",
      "Epoch 20/100\n",
      "363/363 [==============================] - 0s 1ms/step - loss: 0.3902 - val_loss: 0.4233\n",
      "Epoch 21/100\n",
      "363/363 [==============================] - 0s 1ms/step - loss: 0.3898 - val_loss: 0.4170\n",
      "Epoch 22/100\n",
      "363/363 [==============================] - 0s 1ms/step - loss: 0.3863 - val_loss: 0.4200\n",
      "Epoch 23/100\n",
      "363/363 [==============================] - 0s 1ms/step - loss: 0.3846 - val_loss: 0.4175\n",
      "Epoch 24/100\n",
      "363/363 [==============================] - 0s 1ms/step - loss: 0.3824 - val_loss: 0.4160\n",
      "Epoch 25/100\n",
      "363/363 [==============================] - 0s 1ms/step - loss: 0.3809 - val_loss: 0.4148\n",
      "Epoch 26/100\n",
      "363/363 [==============================] - 0s 1ms/step - loss: 0.3810 - val_loss: 0.4122\n",
      "Epoch 27/100\n",
      "363/363 [==============================] - 0s 1ms/step - loss: 0.3789 - val_loss: 0.4111\n",
      "Epoch 28/100\n",
      "363/363 [==============================] - 0s 1ms/step - loss: 0.3766 - val_loss: 0.4102\n",
      "Epoch 29/100\n",
      "363/363 [==============================] - 0s 1ms/step - loss: 0.3751 - val_loss: 0.4126\n",
      "Epoch 30/100\n",
      "363/363 [==============================] - 0s 1ms/step - loss: 0.3755 - val_loss: 0.4079\n",
      "Epoch 31/100\n",
      "363/363 [==============================] - 0s 1ms/step - loss: 0.3731 - val_loss: 0.4121\n",
      "Epoch 32/100\n",
      "363/363 [==============================] - 0s 1ms/step - loss: 0.3720 - val_loss: 0.4165\n",
      "Epoch 33/100\n",
      "363/363 [==============================] - 0s 1ms/step - loss: 0.3767 - val_loss: 0.4063\n",
      "Epoch 34/100\n",
      "363/363 [==============================] - 0s 1ms/step - loss: 0.3695 - val_loss: 0.4149\n",
      "Epoch 35/100\n",
      "363/363 [==============================] - 0s 1ms/step - loss: 0.3700 - val_loss: 0.4060\n",
      "Epoch 36/100\n",
      "363/363 [==============================] - 0s 1ms/step - loss: 0.3681 - val_loss: 0.4069\n",
      "Epoch 37/100\n",
      "363/363 [==============================] - 0s 1ms/step - loss: 0.3670 - val_loss: 0.4074\n",
      "Epoch 38/100\n",
      "363/363 [==============================] - 0s 1ms/step - loss: 0.3666 - val_loss: 0.4063\n",
      "Epoch 39/100\n",
      "363/363 [==============================] - 0s 1ms/step - loss: 0.3653 - val_loss: 0.4081\n",
      "Epoch 40/100\n",
      "363/363 [==============================] - 0s 1ms/step - loss: 0.3650 - val_loss: 0.4084\n",
      "Epoch 41/100\n",
      "363/363 [==============================] - 0s 1ms/step - loss: 0.3637 - val_loss: 0.4035\n",
      "Epoch 42/100\n",
      "363/363 [==============================] - 0s 1ms/step - loss: 0.3658 - val_loss: 0.4045\n",
      "Epoch 43/100\n",
      "363/363 [==============================] - 1s 3ms/step - loss: 0.3621 - val_loss: 0.4083\n",
      "Epoch 44/100\n",
      "363/363 [==============================] - 0s 1ms/step - loss: 0.3611 - val_loss: 0.4063\n",
      "Epoch 45/100\n",
      "363/363 [==============================] - 0s 1ms/step - loss: 0.3606 - val_loss: 0.4102\n",
      "Epoch 46/100\n",
      "363/363 [==============================] - 0s 1ms/step - loss: 0.3665 - val_loss: 0.4021\n",
      "Epoch 47/100\n",
      "363/363 [==============================] - 0s 1ms/step - loss: 0.3592 - val_loss: 0.4097\n",
      "Epoch 48/100\n",
      "363/363 [==============================] - 0s 1ms/step - loss: 0.3599 - val_loss: 0.4010\n",
      "Epoch 49/100\n",
      "363/363 [==============================] - 0s 1ms/step - loss: 0.3583 - val_loss: 0.4042\n",
      "Epoch 50/100\n",
      "363/363 [==============================] - 0s 1ms/step - loss: 0.3568 - val_loss: 0.4011\n",
      "Epoch 51/100\n",
      "363/363 [==============================] - 0s 1ms/step - loss: 0.3565 - val_loss: 0.4028\n",
      "Epoch 52/100\n",
      "363/363 [==============================] - 0s 1ms/step - loss: 0.3565 - val_loss: 0.4011\n",
      "Epoch 53/100\n",
      "363/363 [==============================] - 0s 1ms/step - loss: 0.3556 - val_loss: 0.4007\n",
      "Epoch 54/100\n",
      "363/363 [==============================] - 0s 1ms/step - loss: 0.3540 - val_loss: 0.4012\n",
      "Epoch 55/100\n",
      "363/363 [==============================] - 0s 1ms/step - loss: 0.3538 - val_loss: 0.4090\n",
      "Epoch 56/100\n",
      "363/363 [==============================] - 0s 1ms/step - loss: 0.3634 - val_loss: 0.4038\n",
      "Epoch 57/100\n",
      "363/363 [==============================] - 0s 1ms/step - loss: 0.3526 - val_loss: 0.3998\n",
      "Epoch 58/100\n",
      "363/363 [==============================] - 0s 1ms/step - loss: 0.3525 - val_loss: 0.4010\n",
      "Epoch 59/100\n",
      "363/363 [==============================] - 0s 1ms/step - loss: 0.3515 - val_loss: 0.3998\n",
      "Epoch 60/100\n",
      "363/363 [==============================] - 0s 1ms/step - loss: 0.3511 - val_loss: 0.4030\n",
      "Epoch 61/100\n",
      "363/363 [==============================] - 0s 1ms/step - loss: 0.3511 - val_loss: 0.4003\n",
      "Epoch 62/100\n",
      "363/363 [==============================] - 0s 1ms/step - loss: 0.3491 - val_loss: 0.3986\n",
      "Epoch 63/100\n",
      "363/363 [==============================] - 0s 1ms/step - loss: 0.3493 - val_loss: 0.4010\n",
      "Epoch 64/100\n",
      "363/363 [==============================] - 0s 1ms/step - loss: 0.3483 - val_loss: 0.4038\n",
      "Epoch 65/100\n",
      "363/363 [==============================] - 0s 1ms/step - loss: 0.3480 - val_loss: 0.4007\n",
      "Epoch 66/100\n",
      "363/363 [==============================] - 0s 1ms/step - loss: 0.3476 - val_loss: 0.4078\n",
      "Epoch 67/100\n",
      "363/363 [==============================] - 0s 1ms/step - loss: 0.3468 - val_loss: 0.4009\n",
      "Epoch 68/100\n",
      "363/363 [==============================] - 0s 1ms/step - loss: 0.3469 - val_loss: 0.4011\n",
      "Epoch 69/100\n",
      "363/363 [==============================] - 0s 1ms/step - loss: 0.3478 - val_loss: 0.4010\n",
      "Epoch 70/100\n",
      "363/363 [==============================] - 0s 1ms/step - loss: 0.3465 - val_loss: 0.4010\n",
      "Epoch 71/100\n",
      "363/363 [==============================] - 0s 1ms/step - loss: 0.3466 - val_loss: 0.4017\n",
      "Epoch 72/100\n",
      "363/363 [==============================] - 0s 1ms/step - loss: 0.3444 - val_loss: 0.4007\n"
     ]
    },
    {
     "data": {
      "text/plain": [
       "<keras.callbacks.History at 0x1a8eb241a60>"
      ]
     },
     "execution_count": 97,
     "metadata": {},
     "output_type": "execute_result"
    }
   ],
   "source": [
    "keras_reg.fit(X_train,y_train,epochs=100,validation_data = (X_valid,y_valid)\n",
    "              ,callbacks = [keras.callbacks.EarlyStopping(patience=10),tensorboard_cb])"
   ]
  },
  {
   "cell_type": "code",
   "execution_count": null,
   "id": "0bcb9714",
   "metadata": {},
   "outputs": [],
   "source": []
  }
 ],
 "metadata": {
  "kernelspec": {
   "display_name": "Python 3",
   "language": "python",
   "name": "python3"
  },
  "language_info": {
   "codemirror_mode": {
    "name": "ipython",
    "version": 3
   },
   "file_extension": ".py",
   "mimetype": "text/x-python",
   "name": "python",
   "nbconvert_exporter": "python",
   "pygments_lexer": "ipython3",
   "version": "3.8.8"
  }
 },
 "nbformat": 4,
 "nbformat_minor": 5
}
