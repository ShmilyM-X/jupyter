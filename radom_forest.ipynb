{
 "cells": [
  {
   "cell_type": "code",
   "execution_count": 68,
   "id": "d07192d1",
   "metadata": {},
   "outputs": [],
   "source": [
    "import os\n",
    "import tarfile\n",
    "import urllib.request\n",
    "\n",
    "RES_PATH = os.path.join(\"res_datasets\",\"resourceing\")\n",
    "\n",
    "def fetch_resource_data(res_path=RES_PATH):\n",
    "    if not os.path.isdir(res_path):\n",
    "        os.makedirs(res_path)\n",
    "##创建文件夹路径函数\n",
    "from sklearn.metrics import mean_squared_error\n",
    "from sklearn.model_selection import train_test_split\n",
    "import matplotlib as mpl\n",
    "import matplotlib.pyplot as plt\n",
    "import numpy as np\n",
    "\n",
    "def plot_learning_curves(model, X, y):\n",
    "    X_train, X_val, y_train, y_val = train_test_split(X, y, test_size=0.2, random_state=10)\n",
    "    train_errors, val_errors = [], []\n",
    "    for m in range(1, len(X_train) + 1):\n",
    "        model.fit(X_train[:m], y_train[:m])\n",
    "        y_train_predict = model.predict(X_train[:m])\n",
    "        y_val_predict = model.predict(X_val)\n",
    "        train_errors.append(mean_squared_error(y_train[:m], y_train_predict))\n",
    "        val_errors.append(mean_squared_error(y_val, y_val_predict))\n",
    "\n",
    "    #train_errors=train_errors[12:]\n",
    "    #val_errors = val_errors[12:]\n",
    "    plt.plot(np.sqrt(train_errors), \"r-\",linewidth=1, label=\"train\")\n",
    "    plt.plot(np.sqrt(val_errors), \"b-\", linewidth=1, label=\"val\")\n",
    "    plt.legend(loc=\"upper right\", fontsize=14)   # not shown in the book\n",
    "    plt.xlabel(\"Training set size\", fontsize=14) # not shown\n",
    "    plt.ylabel(\"RMSE\", fontsize=14)              # not shown\n",
    "    \n",
    "fetch_resource_data() ##调用创建\n",
    "\n",
    "##读取CSV文件\n",
    "import pandas as pd\n",
    "\n",
    "def load_res_data(res_path = RES_PATH,file_name=\"new_feature_1214.csv\"):\n",
    "    csv_path = os.path.join(RES_PATH,file_name)\n",
    "    return pd.read_csv(csv_path) \n",
    "\n",
    "\n",
    "\n"
   ]
  },
  {
   "cell_type": "code",
   "execution_count": 72,
   "id": "de58d688",
   "metadata": {},
   "outputs": [],
   "source": [
    "##数据处理\n",
    "resource_origin_data = load_res_data()  #get origin csv data\n",
    "\n",
    "#%matplotlib inline\n",
    "#import matplotlib.pyplot as plt\n",
    "#resource_origin_data.hist(bins=50, figsize=(20,15))\n",
    "#plt.show() #data plot show\n",
    "\n",
    "resource_origin_data_lut = resource_origin_data.dropna(subset = [\"LUT\"])\n",
    "#resource_origin_data_lut=resource_origin_data_lut.drop(\"FF\",axis=1)\n",
    "#resource_origin_data_lut=resource_origin_data_lut.drop(\"BUFG\",axis=1)\n",
    "#resource_origin_data_lut=resource_origin_data_lut.drop(\"IO\",axis=1)\n",
    "#resource_origin_data_lut=resource_origin_data_lut.drop(\"ModuleName\",axis=1)\n",
    "resource_origin_data_lut=resource_origin_data_lut.drop(\"PARAMETERVALUE\",axis=1)\n",
    "resource_origin_data_lut=resource_origin_data_lut.drop(\"ModuleInsts\",axis=1)\n",
    "\n",
    "\n"
   ]
  },
  {
   "cell_type": "code",
   "execution_count": 73,
   "id": "a2526879",
   "metadata": {
    "scrolled": true
   },
   "outputs": [
    {
     "name": "stdout",
     "output_type": "stream",
     "text": [
      "<class 'pandas.core.frame.DataFrame'>\n",
      "Int64Index: 212 entries, 0 to 229\n",
      "Data columns (total 64 columns):\n",
      " #   Column                     Non-Null Count  Dtype  \n",
      "---  ------                     --------------  -----  \n",
      " 0   ModuleName                 212 non-null    object \n",
      " 1   ARITLSHIFT                 212 non-null    int64  \n",
      " 2   ARITLSHIFT_PORT_NUM        212 non-null    int64  \n",
      " 3   ARITLSHIFT_PORT_WIDTH      212 non-null    int64  \n",
      " 4   ARITLSHIFT_VALUE           212 non-null    int64  \n",
      " 5   ARITRSHIFT                 212 non-null    int64  \n",
      " 6   ARITRSHIFT_PORT_NUM        212 non-null    int64  \n",
      " 7   ARITRSHIFT_PORT_WIDTH      212 non-null    int64  \n",
      " 8   ARITRSHIFT_VALUE           212 non-null    int64  \n",
      " 9   AlwaysConstructs           212 non-null    int64  \n",
      " 10  AssignLHSPortNum           212 non-null    int64  \n",
      " 11  AssignLHSWidth             212 non-null    int64  \n",
      " 12  AssignRHSPortNum           212 non-null    int64  \n",
      " 13  AssignRHSWidth             212 non-null    int64  \n",
      " 14  AssignStmts                212 non-null    int64  \n",
      " 15  BLOCKINGASSIGN             212 non-null    int64  \n",
      " 16  BlockAssign_Left_PortNum   212 non-null    int64  \n",
      " 17  BlockAssign_Left_Width     212 non-null    int64  \n",
      " 18  BlockAssign_Right_PortNum  212 non-null    int64  \n",
      " 19  BlockAssign_Right_Width    212 non-null    int64  \n",
      " 20  CASECONDITIONNUM           212 non-null    int64  \n",
      " 21  CASECONDITIONWIDTH         212 non-null    int64  \n",
      " 22  CASEITEMCONDITIONNUM       212 non-null    int64  \n",
      " 23  CASEITEMCONDITIOWIDTH      212 non-null    int64  \n",
      " 24  CASEITEMNUM                212 non-null    int64  \n",
      " 25  CONDITIONALELSE            212 non-null    int64  \n",
      " 26  CONDITIONALIF              212 non-null    int64  \n",
      " 27  CONDITIONALIFWIDTH         212 non-null    int64  \n",
      " 28  CONDITIONALTHEN            212 non-null    int64  \n",
      " 29  FORBLOCK                   212 non-null    int64  \n",
      " 30  FORTIMES                   212 non-null    int64  \n",
      " 31  FUNCTIONCALL               212 non-null    int64  \n",
      " 32  FUNCTIONNUM                212 non-null    int64  \n",
      " 33  INDEXMEMRORY               212 non-null    int64  \n",
      " 34  INOUT                      212 non-null    int64  \n",
      " 35  INOUTWIDTH                 212 non-null    int64  \n",
      " 36  INPUT                      212 non-null    int64  \n",
      " 37  INPUTWIDTH                 212 non-null    int64  \n",
      " 38  MIN                        212 non-null    int64  \n",
      " 39  NonBlockLeftWidth          212 non-null    int64  \n",
      " 40  NonBlockRightWidth         212 non-null    int64  \n",
      " 41  NonBlockingAssign          212 non-null    int64  \n",
      " 42  NonBlockingLeftPortNum     212 non-null    int64  \n",
      " 43  NonBlockingRightPortNum    212 non-null    int64  \n",
      " 44  OUTPUT                     212 non-null    int64  \n",
      " 45  OUTPUTWIDTH                212 non-null    int64  \n",
      " 46  PARAMETERNUM               212 non-null    int64  \n",
      " 47  PLUS                       212 non-null    int64  \n",
      " 48  QUESTIONCOLON              212 non-null    int64  \n",
      " 49  QUESTIONCOLONELSE          212 non-null    int64  \n",
      " 50  QUESTIONCOLONIF            212 non-null    int64  \n",
      " 51  QUESTIONCOLONTHEN          212 non-null    int64  \n",
      " 52  REDAND                     212 non-null    int64  \n",
      " 53  REDAOR                     212 non-null    int64  \n",
      " 54  REDXOR                     212 non-null    int64  \n",
      " 55  REG                        212 non-null    int64  \n",
      " 56  REGWIDTH                   212 non-null    int64  \n",
      " 57  UnaryOperator              212 non-null    int64  \n",
      " 58  WIRENUM                    212 non-null    int64  \n",
      " 59  WIREWIDTH                  212 non-null    int64  \n",
      " 60  LUT                        212 non-null    float64\n",
      " 61  FF                         212 non-null    float64\n",
      " 62  IO                         212 non-null    float64\n",
      " 63  BUFG                       212 non-null    float64\n",
      "dtypes: float64(4), int64(59), object(1)\n",
      "memory usage: 107.7+ KB\n"
     ]
    }
   ],
   "source": [
    "#数据信息\n",
    "resource_origin_data_lut.info()"
   ]
  },
  {
   "cell_type": "code",
   "execution_count": 85,
   "id": "674bc37e",
   "metadata": {},
   "outputs": [
    {
     "data": {
      "text/plain": [
       "LUT                      1.000000\n",
       "CONDITIONALELSE          0.431417\n",
       "NonBlockLeftWidth        0.417203\n",
       "PLUS                     0.399622\n",
       "NonBlockingAssign        0.393835\n",
       "                           ...   \n",
       "ARITLSHIFT                    NaN\n",
       "ARITLSHIFT_PORT_NUM           NaN\n",
       "ARITLSHIFT_PORT_WIDTH         NaN\n",
       "ARITLSHIFT_VALUE              NaN\n",
       "INOUT                         NaN\n",
       "Name: LUT, Length: 63, dtype: float64"
      ]
     },
     "execution_count": 85,
     "metadata": {},
     "output_type": "execute_result"
    }
   ],
   "source": [
    "#相关性分析\n",
    "corr_matrix=resource_origin_data_lut.corr()\n",
    "corr_matrix[\"LUT\"].sort_values(ascending=False)\n"
   ]
  },
  {
   "cell_type": "code",
   "execution_count": 82,
   "id": "72b4ff51",
   "metadata": {},
   "outputs": [],
   "source": [
    "#特征优化\n",
    "resource_lut = resource_origin_data_lut[\"LUT\"].copy() #label data\n",
    "resource_lut_data = resource_origin_data_lut.drop(\"LUT\",axis=1) #feature data\n",
    "resource_label = list(resource_lut_data) #labal list\n"
   ]
  },
  {
   "cell_type": "code",
   "execution_count": 51,
   "id": "38e54e1b",
   "metadata": {},
   "outputs": [],
   "source": [
    "#数据分割\n",
    "from sklearn.datasets import fetch_california_housing\n",
    "from sklearn.model_selection import train_test_split\n",
    "from sklearn.preprocessing import StandardScaler\n",
    "#训练集、测试集、验证集\n",
    "X_train_full, X_test, y_train_full, y_test = train_test_split(resource_lut_data, resource_lut, test_size=0.2,random_state=42)\n",
    "X_train, X_valid, y_train, y_valid = train_test_split(X_train_full, y_train_full)"
   ]
  },
  {
   "cell_type": "code",
   "execution_count": 52,
   "id": "4dfb54d8",
   "metadata": {},
   "outputs": [
    {
     "data": {
      "text/html": [
       "<div>\n",
       "<style scoped>\n",
       "    .dataframe tbody tr th:only-of-type {\n",
       "        vertical-align: middle;\n",
       "    }\n",
       "\n",
       "    .dataframe tbody tr th {\n",
       "        vertical-align: top;\n",
       "    }\n",
       "\n",
       "    .dataframe thead th {\n",
       "        text-align: right;\n",
       "    }\n",
       "</style>\n",
       "<table border=\"1\" class=\"dataframe\">\n",
       "  <thead>\n",
       "    <tr style=\"text-align: right;\">\n",
       "      <th></th>\n",
       "      <th>ARITLSHIFT</th>\n",
       "      <th>ARITLSHIFT_PORT_NUM</th>\n",
       "      <th>ARITLSHIFT_PORT_WIDTH</th>\n",
       "      <th>ARITLSHIFT_VALUE</th>\n",
       "      <th>ARITRSHIFT</th>\n",
       "      <th>ARITRSHIFT_PORT_NUM</th>\n",
       "      <th>ARITRSHIFT_PORT_WIDTH</th>\n",
       "      <th>ARITRSHIFT_VALUE</th>\n",
       "      <th>AlwaysConstructs</th>\n",
       "      <th>AssignLHSPortNum</th>\n",
       "      <th>...</th>\n",
       "      <th>QUESTIONCOLONIF</th>\n",
       "      <th>QUESTIONCOLONTHEN</th>\n",
       "      <th>REDAND</th>\n",
       "      <th>REDAOR</th>\n",
       "      <th>REDXOR</th>\n",
       "      <th>REG</th>\n",
       "      <th>REGWIDTH</th>\n",
       "      <th>UnaryOperator</th>\n",
       "      <th>WIRENUM</th>\n",
       "      <th>WIREWIDTH</th>\n",
       "    </tr>\n",
       "  </thead>\n",
       "  <tbody>\n",
       "    <tr>\n",
       "      <th>140</th>\n",
       "      <td>0</td>\n",
       "      <td>0</td>\n",
       "      <td>0</td>\n",
       "      <td>0</td>\n",
       "      <td>0</td>\n",
       "      <td>0</td>\n",
       "      <td>0</td>\n",
       "      <td>0</td>\n",
       "      <td>0</td>\n",
       "      <td>1</td>\n",
       "      <td>...</td>\n",
       "      <td>1</td>\n",
       "      <td>1</td>\n",
       "      <td>0</td>\n",
       "      <td>0</td>\n",
       "      <td>0</td>\n",
       "      <td>0</td>\n",
       "      <td>0</td>\n",
       "      <td>0</td>\n",
       "      <td>0</td>\n",
       "      <td>0</td>\n",
       "    </tr>\n",
       "    <tr>\n",
       "      <th>120</th>\n",
       "      <td>0</td>\n",
       "      <td>0</td>\n",
       "      <td>0</td>\n",
       "      <td>0</td>\n",
       "      <td>0</td>\n",
       "      <td>0</td>\n",
       "      <td>0</td>\n",
       "      <td>0</td>\n",
       "      <td>2</td>\n",
       "      <td>11</td>\n",
       "      <td>...</td>\n",
       "      <td>5</td>\n",
       "      <td>5</td>\n",
       "      <td>3</td>\n",
       "      <td>0</td>\n",
       "      <td>0</td>\n",
       "      <td>2</td>\n",
       "      <td>22</td>\n",
       "      <td>0</td>\n",
       "      <td>2</td>\n",
       "      <td>2</td>\n",
       "    </tr>\n",
       "    <tr>\n",
       "      <th>80</th>\n",
       "      <td>0</td>\n",
       "      <td>0</td>\n",
       "      <td>0</td>\n",
       "      <td>0</td>\n",
       "      <td>0</td>\n",
       "      <td>0</td>\n",
       "      <td>0</td>\n",
       "      <td>0</td>\n",
       "      <td>4</td>\n",
       "      <td>1</td>\n",
       "      <td>...</td>\n",
       "      <td>0</td>\n",
       "      <td>0</td>\n",
       "      <td>1</td>\n",
       "      <td>0</td>\n",
       "      <td>0</td>\n",
       "      <td>12</td>\n",
       "      <td>83</td>\n",
       "      <td>0</td>\n",
       "      <td>4</td>\n",
       "      <td>18</td>\n",
       "    </tr>\n",
       "    <tr>\n",
       "      <th>95</th>\n",
       "      <td>0</td>\n",
       "      <td>0</td>\n",
       "      <td>0</td>\n",
       "      <td>0</td>\n",
       "      <td>0</td>\n",
       "      <td>0</td>\n",
       "      <td>0</td>\n",
       "      <td>0</td>\n",
       "      <td>1</td>\n",
       "      <td>0</td>\n",
       "      <td>...</td>\n",
       "      <td>0</td>\n",
       "      <td>0</td>\n",
       "      <td>0</td>\n",
       "      <td>0</td>\n",
       "      <td>0</td>\n",
       "      <td>1</td>\n",
       "      <td>32</td>\n",
       "      <td>0</td>\n",
       "      <td>0</td>\n",
       "      <td>0</td>\n",
       "    </tr>\n",
       "    <tr>\n",
       "      <th>109</th>\n",
       "      <td>0</td>\n",
       "      <td>0</td>\n",
       "      <td>0</td>\n",
       "      <td>0</td>\n",
       "      <td>0</td>\n",
       "      <td>0</td>\n",
       "      <td>0</td>\n",
       "      <td>0</td>\n",
       "      <td>5</td>\n",
       "      <td>5</td>\n",
       "      <td>...</td>\n",
       "      <td>1</td>\n",
       "      <td>1</td>\n",
       "      <td>5</td>\n",
       "      <td>0</td>\n",
       "      <td>0</td>\n",
       "      <td>7</td>\n",
       "      <td>64</td>\n",
       "      <td>1</td>\n",
       "      <td>4</td>\n",
       "      <td>64</td>\n",
       "    </tr>\n",
       "    <tr>\n",
       "      <th>...</th>\n",
       "      <td>...</td>\n",
       "      <td>...</td>\n",
       "      <td>...</td>\n",
       "      <td>...</td>\n",
       "      <td>...</td>\n",
       "      <td>...</td>\n",
       "      <td>...</td>\n",
       "      <td>...</td>\n",
       "      <td>...</td>\n",
       "      <td>...</td>\n",
       "      <td>...</td>\n",
       "      <td>...</td>\n",
       "      <td>...</td>\n",
       "      <td>...</td>\n",
       "      <td>...</td>\n",
       "      <td>...</td>\n",
       "      <td>...</td>\n",
       "      <td>...</td>\n",
       "      <td>...</td>\n",
       "      <td>...</td>\n",
       "      <td>...</td>\n",
       "    </tr>\n",
       "    <tr>\n",
       "      <th>118</th>\n",
       "      <td>0</td>\n",
       "      <td>0</td>\n",
       "      <td>0</td>\n",
       "      <td>0</td>\n",
       "      <td>0</td>\n",
       "      <td>0</td>\n",
       "      <td>0</td>\n",
       "      <td>0</td>\n",
       "      <td>1</td>\n",
       "      <td>0</td>\n",
       "      <td>...</td>\n",
       "      <td>0</td>\n",
       "      <td>0</td>\n",
       "      <td>0</td>\n",
       "      <td>0</td>\n",
       "      <td>0</td>\n",
       "      <td>1</td>\n",
       "      <td>8</td>\n",
       "      <td>0</td>\n",
       "      <td>0</td>\n",
       "      <td>0</td>\n",
       "    </tr>\n",
       "    <tr>\n",
       "      <th>17</th>\n",
       "      <td>0</td>\n",
       "      <td>0</td>\n",
       "      <td>0</td>\n",
       "      <td>0</td>\n",
       "      <td>0</td>\n",
       "      <td>0</td>\n",
       "      <td>0</td>\n",
       "      <td>0</td>\n",
       "      <td>9</td>\n",
       "      <td>21</td>\n",
       "      <td>...</td>\n",
       "      <td>0</td>\n",
       "      <td>0</td>\n",
       "      <td>55</td>\n",
       "      <td>0</td>\n",
       "      <td>0</td>\n",
       "      <td>11</td>\n",
       "      <td>139</td>\n",
       "      <td>0</td>\n",
       "      <td>35</td>\n",
       "      <td>346</td>\n",
       "    </tr>\n",
       "    <tr>\n",
       "      <th>104</th>\n",
       "      <td>0</td>\n",
       "      <td>0</td>\n",
       "      <td>0</td>\n",
       "      <td>0</td>\n",
       "      <td>0</td>\n",
       "      <td>0</td>\n",
       "      <td>0</td>\n",
       "      <td>0</td>\n",
       "      <td>1</td>\n",
       "      <td>0</td>\n",
       "      <td>...</td>\n",
       "      <td>0</td>\n",
       "      <td>0</td>\n",
       "      <td>0</td>\n",
       "      <td>0</td>\n",
       "      <td>0</td>\n",
       "      <td>2</td>\n",
       "      <td>2</td>\n",
       "      <td>0</td>\n",
       "      <td>0</td>\n",
       "      <td>0</td>\n",
       "    </tr>\n",
       "    <tr>\n",
       "      <th>195</th>\n",
       "      <td>0</td>\n",
       "      <td>0</td>\n",
       "      <td>0</td>\n",
       "      <td>0</td>\n",
       "      <td>0</td>\n",
       "      <td>0</td>\n",
       "      <td>0</td>\n",
       "      <td>0</td>\n",
       "      <td>0</td>\n",
       "      <td>1</td>\n",
       "      <td>...</td>\n",
       "      <td>0</td>\n",
       "      <td>0</td>\n",
       "      <td>0</td>\n",
       "      <td>0</td>\n",
       "      <td>0</td>\n",
       "      <td>0</td>\n",
       "      <td>0</td>\n",
       "      <td>0</td>\n",
       "      <td>0</td>\n",
       "      <td>0</td>\n",
       "    </tr>\n",
       "    <tr>\n",
       "      <th>114</th>\n",
       "      <td>0</td>\n",
       "      <td>0</td>\n",
       "      <td>0</td>\n",
       "      <td>0</td>\n",
       "      <td>0</td>\n",
       "      <td>0</td>\n",
       "      <td>0</td>\n",
       "      <td>0</td>\n",
       "      <td>3</td>\n",
       "      <td>0</td>\n",
       "      <td>...</td>\n",
       "      <td>0</td>\n",
       "      <td>0</td>\n",
       "      <td>6</td>\n",
       "      <td>0</td>\n",
       "      <td>0</td>\n",
       "      <td>2</td>\n",
       "      <td>26</td>\n",
       "      <td>0</td>\n",
       "      <td>0</td>\n",
       "      <td>0</td>\n",
       "    </tr>\n",
       "  </tbody>\n",
       "</table>\n",
       "<p>169 rows × 59 columns</p>\n",
       "</div>"
      ],
      "text/plain": [
       "     ARITLSHIFT  ARITLSHIFT_PORT_NUM  ARITLSHIFT_PORT_WIDTH  ARITLSHIFT_VALUE  \\\n",
       "140           0                    0                      0                 0   \n",
       "120           0                    0                      0                 0   \n",
       "80            0                    0                      0                 0   \n",
       "95            0                    0                      0                 0   \n",
       "109           0                    0                      0                 0   \n",
       "..          ...                  ...                    ...               ...   \n",
       "118           0                    0                      0                 0   \n",
       "17            0                    0                      0                 0   \n",
       "104           0                    0                      0                 0   \n",
       "195           0                    0                      0                 0   \n",
       "114           0                    0                      0                 0   \n",
       "\n",
       "     ARITRSHIFT  ARITRSHIFT_PORT_NUM  ARITRSHIFT_PORT_WIDTH  ARITRSHIFT_VALUE  \\\n",
       "140           0                    0                      0                 0   \n",
       "120           0                    0                      0                 0   \n",
       "80            0                    0                      0                 0   \n",
       "95            0                    0                      0                 0   \n",
       "109           0                    0                      0                 0   \n",
       "..          ...                  ...                    ...               ...   \n",
       "118           0                    0                      0                 0   \n",
       "17            0                    0                      0                 0   \n",
       "104           0                    0                      0                 0   \n",
       "195           0                    0                      0                 0   \n",
       "114           0                    0                      0                 0   \n",
       "\n",
       "     AlwaysConstructs  AssignLHSPortNum  ...  QUESTIONCOLONIF  \\\n",
       "140                 0                 1  ...                1   \n",
       "120                 2                11  ...                5   \n",
       "80                  4                 1  ...                0   \n",
       "95                  1                 0  ...                0   \n",
       "109                 5                 5  ...                1   \n",
       "..                ...               ...  ...              ...   \n",
       "118                 1                 0  ...                0   \n",
       "17                  9                21  ...                0   \n",
       "104                 1                 0  ...                0   \n",
       "195                 0                 1  ...                0   \n",
       "114                 3                 0  ...                0   \n",
       "\n",
       "     QUESTIONCOLONTHEN  REDAND  REDAOR  REDXOR  REG  REGWIDTH  UnaryOperator  \\\n",
       "140                  1       0       0       0    0         0              0   \n",
       "120                  5       3       0       0    2        22              0   \n",
       "80                   0       1       0       0   12        83              0   \n",
       "95                   0       0       0       0    1        32              0   \n",
       "109                  1       5       0       0    7        64              1   \n",
       "..                 ...     ...     ...     ...  ...       ...            ...   \n",
       "118                  0       0       0       0    1         8              0   \n",
       "17                   0      55       0       0   11       139              0   \n",
       "104                  0       0       0       0    2         2              0   \n",
       "195                  0       0       0       0    0         0              0   \n",
       "114                  0       6       0       0    2        26              0   \n",
       "\n",
       "     WIRENUM  WIREWIDTH  \n",
       "140        0          0  \n",
       "120        2          2  \n",
       "80         4         18  \n",
       "95         0          0  \n",
       "109        4         64  \n",
       "..       ...        ...  \n",
       "118        0          0  \n",
       "17        35        346  \n",
       "104        0          0  \n",
       "195        0          0  \n",
       "114        0          0  \n",
       "\n",
       "[169 rows x 59 columns]"
      ]
     },
     "execution_count": 52,
     "metadata": {},
     "output_type": "execute_result"
    }
   ],
   "source": [
    "X_train_full"
   ]
  },
  {
   "cell_type": "code",
   "execution_count": 53,
   "id": "f6cc0806",
   "metadata": {},
   "outputs": [],
   "source": [
    "#数据标准化\n",
    "scaler = StandardScaler() \n",
    "X_train = scaler.fit_transform(X_train)\n",
    "X_valid = scaler.transform(X_valid)\n",
    "X_test = scaler.transform(X_test)\n",
    "X_train_full = scaler.transform(X_train_full)\n",
    "X_data_full = scaler.transform(resource_lut_data)"
   ]
  },
  {
   "cell_type": "code",
   "execution_count": 54,
   "id": "d01e24e5",
   "metadata": {},
   "outputs": [
    {
     "data": {
      "text/plain": [
       "15.251782206192042"
      ]
     },
     "execution_count": 54,
     "metadata": {},
     "output_type": "execute_result"
    }
   ],
   "source": [
    "#随机森林\n",
    "from sklearn.ensemble import RandomForestRegressor\n",
    "forest_reg = RandomForestRegressor(random_state=42)\n",
    "forest_reg.fit(X_train_full,y_train_full)\n",
    "forest_predic = forest_reg.predict(X_valid)\n",
    "forest_mse = mean_squared_error(y_valid,forest_predic)\n",
    "forest_rmse = np.sqrt(forest_mse)\n",
    "forest_rmse"
   ]
  },
  {
   "cell_type": "code",
   "execution_count": 55,
   "id": "96b8dc4d",
   "metadata": {},
   "outputs": [
    {
     "data": {
      "text/plain": [
       "0.9268125279275852"
      ]
     },
     "execution_count": 55,
     "metadata": {},
     "output_type": "execute_result"
    }
   ],
   "source": [
    "from sklearn.metrics import r2_score\n",
    "r2_score(y_valid,forest_predic)"
   ]
  },
  {
   "cell_type": "code",
   "execution_count": 56,
   "id": "97d14f16",
   "metadata": {},
   "outputs": [
    {
     "data": {
      "image/png": "[encoded data removed]",
      "text/plain": [
       "<Figure size 432x288 with 1 Axes>"
      ]
     },
     "metadata": {
      "needs_background": "light"
     },
     "output_type": "display_data"
    }
   ],
   "source": [
    "plot_learning_curves(forest_reg, X_train_full, y_train_full)\n",
    "#plt.axis([0, 200, 0, 250])                         # not shown in the book\n",
    "plt.show()    "
   ]
  },
  {
   "cell_type": "code",
   "execution_count": 57,
   "id": "e02bbb41",
   "metadata": {},
   "outputs": [
    {
     "data": {
      "text/plain": [
       "[(0.1498709495398286, 'REGWIDTH'),\n",
       " (0.1322949873323349, 'NonBlockRightWidth'),\n",
       " (0.09004232002559581, 'PLUS'),\n",
       " (0.07825285458922467, 'NonBlockLeftWidth'),\n",
       " (0.04749206002185161, 'CASEITEMNUM'),\n",
       " (0.046884718284176424, 'AssignRHSWidth'),\n",
       " (0.04568701146860615, 'OUTPUTWIDTH'),\n",
       " (0.04340905256748948, 'MIN'),\n",
       " (0.03517975138900473, 'BlockAssign_Left_Width'),\n",
       " (0.03459796799269837, 'REDAND'),\n",
       " (0.031777389748849964, 'AssignLHSWidth'),\n",
       " (0.024577101487372993, 'CASECONDITIONNUM'),\n",
       " (0.02174606865698909, 'REG'),\n",
       " (0.021326451543742457, 'INPUTWIDTH'),\n",
       " (0.01635407681891477, 'INPUT'),\n",
       " (0.016062142465784357, 'CONDITIONALIF'),\n",
       " (0.014231767342865794, 'NonBlockingRightPortNum'),\n",
       " (0.013632111532035165, 'NonBlockingAssign'),\n",
       " (0.013491425912223942, 'CONDITIONALTHEN'),\n",
       " (0.01228546701369886, 'CONDITIONALELSE'),\n",
       " (0.011759519138423206, 'AssignRHSPortNum'),\n",
       " (0.011158334442180073, 'OUTPUT'),\n",
       " (0.010822348488360063, 'BLOCKINGASSIGN'),\n",
       " (0.007896726326140857, 'AssignLHSPortNum'),\n",
       " (0.007065352811759254, 'ARITRSHIFT_PORT_WIDTH'),\n",
       " (0.006226003002637757, 'CASECONDITIONWIDTH'),\n",
       " (0.005955364713167137, 'BlockAssign_Right_Width'),\n",
       " (0.005730523206924387, 'WIREWIDTH'),\n",
       " (0.005610197073368581, 'CONDITIONALIFWIDTH'),\n",
       " (0.005590883646997695, 'AssignStmts'),\n",
       " (0.004670030668267927, 'WIRENUM'),\n",
       " (0.004001956687350245, 'NonBlockingLeftPortNum'),\n",
       " (0.00326648340258353, 'AlwaysConstructs'),\n",
       " (0.0031527223372069665, 'BlockAssign_Left_PortNum'),\n",
       " (0.002280594095188947, 'CASEITEMCONDITIOWIDTH'),\n",
       " (0.0022755694966871023, 'CASEITEMCONDITIONNUM'),\n",
       " (0.002192174449321429, 'PARAMETERNUM'),\n",
       " (0.0021307413175758825, 'BlockAssign_Right_PortNum'),\n",
       " (0.0013899337951803455, 'QUESTIONCOLONELSE'),\n",
       " (0.0012954541837917148, 'ARITRSHIFT_VALUE'),\n",
       " (0.0012336610523057921, 'ARITRSHIFT'),\n",
       " (0.0011781565045651476, 'FUNCTIONNUM'),\n",
       " (0.0010815901346390678, 'QUESTIONCOLONTHEN'),\n",
       " (0.0009669919609189652, 'REDXOR'),\n",
       " (0.0006177388241802782, 'QUESTIONCOLONIF'),\n",
       " (0.00044262510447734934, 'INOUTWIDTH'),\n",
       " (0.00032939275403277623, 'QUESTIONCOLON'),\n",
       " (0.0002151838624773216, 'UnaryOperator'),\n",
       " (6.130929066266469e-05, 'ARITRSHIFT_PORT_NUM'),\n",
       " (5.7117032552021776e-05, 'REDAOR'),\n",
       " (5.2160278951588434e-05, 'INDEXMEMRORY'),\n",
       " (5.07334277425278e-05, 'FUNCTIONCALL'),\n",
       " (3.255967198721331e-05, 'FORTIMES'),\n",
       " (1.4191084106161416e-05, 'FORBLOCK'),\n",
       " (0.0, 'INOUT'),\n",
       " (0.0, 'ARITLSHIFT_VALUE'),\n",
       " (0.0, 'ARITLSHIFT_PORT_WIDTH'),\n",
       " (0.0, 'ARITLSHIFT_PORT_NUM'),\n",
       " (0.0, 'ARITLSHIFT')]"
      ]
     },
     "execution_count": 57,
     "metadata": {},
     "output_type": "execute_result"
    }
   ],
   "source": [
    "#随机森林贡献度分析\n",
    "feature_importance = forest_reg.feature_importances_\n",
    "sorted(zip(feature_importance, resource_label), reverse=True)"
   ]
  },
  {
   "cell_type": "code",
   "execution_count": 58,
   "id": "823a28a1",
   "metadata": {},
   "outputs": [
    {
     "data": {
      "text/plain": [
       "RandomizedSearchCV(cv=10, estimator=RandomForestRegressor(random_state=10),\n",
       "                   n_iter=100,\n",
       "                   param_distributions={'n_estimators': <scipy.stats._distn_infrastructure.rv_frozen object at 0x00000130B0A6F7C0>},\n",
       "                   random_state=42, scoring='neg_mean_squared_error')"
      ]
     },
     "execution_count": 58,
     "metadata": {},
     "output_type": "execute_result"
    }
   ],
   "source": [
    "#随机搜索\n",
    "from sklearn.model_selection import RandomizedSearchCV\n",
    "from scipy.stats import randint\n",
    "\n",
    "param_distribs = {\n",
    "        'n_estimators': randint(low=1, high=100),\n",
    "    }\n",
    "\n",
    "forest_reg = RandomForestRegressor(random_state=10)\n",
    "forest_rnd_search = RandomizedSearchCV(forest_reg, param_distributions=param_distribs,\n",
    "                                n_iter=100, cv=10, scoring='neg_mean_squared_error', random_state=42)\n",
    "forest_rnd_search.fit(X_train, y_train)"
   ]
  },
  {
   "cell_type": "code",
   "execution_count": 63,
   "id": "b68aa2cd",
   "metadata": {},
   "outputs": [
    {
     "data": {
      "text/plain": [
       "5788.630902531727"
      ]
     },
     "execution_count": 63,
     "metadata": {},
     "output_type": "execute_result"
    }
   ],
   "source": [
    "#随机森林mse\n",
    "forest_predict = forest_rnd_search.best_estimator_.predict(X_test)\n",
    "forest_mse = mean_squared_error(y_test,forest_predict)\n",
    "forest_mse"
   ]
  },
  {
   "cell_type": "code",
   "execution_count": 64,
   "id": "4ce9cf2d",
   "metadata": {},
   "outputs": [
    {
     "data": {
      "text/plain": [
       "76.0830526630716"
      ]
     },
     "execution_count": 64,
     "metadata": {},
     "output_type": "execute_result"
    }
   ],
   "source": [
    "#随机森林rmse\n",
    "forest_rmse = np.sqrt(forest_mse)\n",
    "forest_rmse"
   ]
  },
  {
   "cell_type": "code",
   "execution_count": 65,
   "id": "673b7d23",
   "metadata": {},
   "outputs": [
    {
     "data": {
      "text/plain": [
       "0.04066686671625985"
      ]
     },
     "execution_count": 65,
     "metadata": {},
     "output_type": "execute_result"
    }
   ],
   "source": [
    "#随机森林R方评估\n",
    "from sklearn.metrics import r2_score\n",
    "r2_score(y_valid,forest_predict)"
   ]
  },
  {
   "cell_type": "code",
   "execution_count": 66,
   "id": "8866a07e",
   "metadata": {},
   "outputs": [
    {
     "data": {
      "image/png": "[encoded data removed]",
      "text/plain": [
       "<Figure size 432x288 with 1 Axes>"
      ]
     },
     "metadata": {
      "needs_background": "light"
     },
     "output_type": "display_data"
    }
   ],
   "source": [
    "plot_learning_curves(forest_rnd_search.best_estimator_, X_train_full, y_train_full)\n",
    "plt.axis([0, 200, 0, 300])                         # not shown in the book\n",
    "plt.show()    "
   ]
  },
  {
   "cell_type": "code",
   "execution_count": 67,
   "id": "5b2c8f80",
   "metadata": {},
   "outputs": [
    {
     "data": {
      "image/png": "[encoded data removed]",
      "text/plain": [
       "<Figure size 432x288 with 1 Axes>"
      ]
     },
     "metadata": {
      "needs_background": "light"
     },
     "output_type": "display_data"
    },
    {
     "data": {
      "image/png": "[encoded data removed]",
      "text/plain": [
       "<Figure size 432x288 with 1 Axes>"
      ]
     },
     "metadata": {
      "needs_background": "light"
     },
     "output_type": "display_data"
    }
   ],
   "source": [
    "plt.figure(1)\n",
    "plt.clf()\n",
    "ax=plt.axes(aspect='equal')\n",
    "plt.scatter(y_valid,forest_predic)\n",
    "plt.xlabel('True Values')\n",
    "plt.ylabel('Predictions')\n",
    "Lims=[0,500]\n",
    "plt.xlim(Lims)\n",
    "plt.ylim(Lims)\n",
    "plt.plot(Lims,Lims)\n",
    "plt.grid(False)\n",
    "    \n",
    "plt.figure(2)\n",
    "plt.clf()\n",
    "plt.hist(forest_predict,bins=30)\n",
    "plt.xlabel('Prediction Error')\n",
    "plt.ylabel('Count')\n",
    "plt.grid(False)\n"
   ]
  },
  {
   "cell_type": "code",
   "execution_count": null,
   "id": "0aa9faaa",
   "metadata": {},
   "outputs": [],
   "source": []
  },
  {
   "cell_type": "code",
   "execution_count": null,
   "id": "9171a15e",
   "metadata": {},
   "outputs": [],
   "source": []
  },
  {
   "cell_type": "code",
   "execution_count": null,
   "id": "d640c5e5",
   "metadata": {},
   "outputs": [],
   "source": []
  },
  {
   "cell_type": "code",
   "execution_count": null,
   "id": "4142444e",
   "metadata": {},
   "outputs": [],
   "source": []
  }
 ],
 "metadata": {
  "kernelspec": {
   "display_name": "Python 3",
   "language": "python",
   "name": "python3"
  },
  "language_info": {
   "codemirror_mode": {
    "name": "ipython",
    "version": 3
   },
   "file_extension": ".py",
   "mimetype": "text/x-python",
   "name": "python",
   "nbconvert_exporter": "python",
   "pygments_lexer": "ipython3",
   "version": "3.8.8"
  }
 },
 "nbformat": 4,
 "nbformat_minor": 5
}
