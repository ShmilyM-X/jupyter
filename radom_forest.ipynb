{
 "cells": [
  {
   "cell_type": "code",
   "execution_count": 405,
   "id": "d07192d1",
   "metadata": {},
   "outputs": [],
   "source": [
    "import os\n",
    "import tarfile\n",
    "import urllib.request\n",
    "\n",
    "RES_PATH = os.path.join(\"res_datasets\",\"resourceing\")\n",
    "\n",
    "def fetch_resource_data(res_path=RES_PATH):\n",
    "    if not os.path.isdir(res_path):\n",
    "        os.makedirs(res_path)\n",
    "##创建文件夹路径函数\n",
    "from sklearn.metrics import mean_squared_error\n",
    "from sklearn.model_selection import train_test_split\n",
    "import matplotlib as mpl\n",
    "import matplotlib.pyplot as plt\n",
    "import numpy as np\n",
    "\n",
    "def plot_learning_curves(model, X, y):\n",
    "    X_train, X_val, y_train, y_val = train_test_split(X, y, test_size=0.1, random_state=10)\n",
    "    train_errors, val_errors = [], []\n",
    "    for m in range(1, len(X_train) + 1):\n",
    "        model.fit(X_train[:m], y_train[:m])\n",
    "        y_train_predict = model.predict(X_train[:m])\n",
    "        y_val_predict = model.predict(X_val)\n",
    "        train_errors.append(mean_squared_error(y_train[:m], y_train_predict))\n",
    "        val_errors.append(mean_squared_error(y_val, y_val_predict))\n",
    "\n",
    "    #train_errors=train_errors[12:]\n",
    "    #val_errors = val_errors[12:]\n",
    "    plt.plot(np.sqrt(train_errors), \"r-\",linewidth=1, label=\"train\")\n",
    "    plt.plot(np.sqrt(val_errors), \"b-\", linewidth=1, label=\"val\")\n",
    "    plt.legend(loc=\"upper right\", fontsize=14)   # not shown in the book\n",
    "    plt.xlabel(\"Training set size\", fontsize=14) # not shown\n",
    "    plt.ylabel(\"RMSE\", fontsize=14)              # not shown\n",
    "    X_train\n",
    "fetch_resource_data() ##调用创建\n",
    "\n",
    "##读取CSV文件\n",
    "import pandas as pd\n",
    "pd.set_option('display.max_rows', None)  # 设置显示最大行\n",
    "def load_res_data(res_path = RES_PATH,file_name=\"lable.csv\"):\n",
    "    csv_path = os.path.join(RES_PATH,file_name)\n",
    "    return pd.read_csv(csv_path) \n",
    "\n",
    "\n",
    "\n"
   ]
  },
  {
   "cell_type": "code",
   "execution_count": 406,
   "id": "de58d688",
   "metadata": {},
   "outputs": [],
   "source": [
    "##数据处理\n",
    "resource_origin_data = load_res_data()  #get origin csv data\n",
    "\n",
    "#%matplotlib inline\n",
    "#import matplotlib.pyplot as plt\n",
    "#resource_origin_data.hist(bins=50, figsize=(20,15))\n",
    "#plt.show() #data plot show\n",
    "\n",
    "resource_origin_data_lut = resource_origin_data.dropna(subset = [\"LUT\"])\n",
    "resource_origin_data_lut=resource_origin_data_lut.drop(\"FF\",axis=1)\n",
    "resource_origin_data_lut=resource_origin_data_lut.drop(\"BUFG\",axis=1)\n",
    "resource_origin_data_lut=resource_origin_data_lut.drop(\"IO\",axis=1)\n",
    "resource_origin_data_lut=resource_origin_data_lut.drop(\"ModuleName\",axis=1)\n",
    "resource_origin_data_lut=resource_origin_data_lut.drop(\"PARAMETERVALUE\",axis=1)\n",
    "resource_origin_data_lut=resource_origin_data_lut.drop(\"ModuleInsts\",axis=1)\n",
    "\n",
    "\n"
   ]
  },
  {
   "cell_type": "code",
   "execution_count": 407,
   "id": "a2526879",
   "metadata": {
    "scrolled": true
   },
   "outputs": [
    {
     "name": "stdout",
     "output_type": "stream",
     "text": [
      "<class 'pandas.core.frame.DataFrame'>\n",
      "Int64Index: 212 entries, 0 to 211\n",
      "Data columns (total 60 columns):\n",
      " #   Column                     Non-Null Count  Dtype\n",
      "---  ------                     --------------  -----\n",
      " 0   ARITLSHIFT                 212 non-null    int64\n",
      " 1   ARITLSHIFT_PORT_NUM        212 non-null    int64\n",
      " 2   ARITLSHIFT_PORT_WIDTH      212 non-null    int64\n",
      " 3   ARITLSHIFT_VALUE           212 non-null    int64\n",
      " 4   ARITRSHIFT                 212 non-null    int64\n",
      " 5   ARITRSHIFT_PORT_NUM        212 non-null    int64\n",
      " 6   ARITRSHIFT_PORT_WIDTH      212 non-null    int64\n",
      " 7   ARITRSHIFT_VALUE           212 non-null    int64\n",
      " 8   AlwaysConstructs           212 non-null    int64\n",
      " 9   AssignLHSPortNum           212 non-null    int64\n",
      " 10  AssignLHSWidth             212 non-null    int64\n",
      " 11  AssignRHSPortNum           212 non-null    int64\n",
      " 12  AssignRHSWidth             212 non-null    int64\n",
      " 13  AssignStmts                212 non-null    int64\n",
      " 14  BLOCKINGASSIGN             212 non-null    int64\n",
      " 15  BlockAssign_Left_PortNum   212 non-null    int64\n",
      " 16  BlockAssign_Left_Width     212 non-null    int64\n",
      " 17  BlockAssign_Right_PortNum  212 non-null    int64\n",
      " 18  BlockAssign_Right_Width    212 non-null    int64\n",
      " 19  CASECONDITIONNUM           212 non-null    int64\n",
      " 20  CASECONDITIONWIDTH         212 non-null    int64\n",
      " 21  CASEITEMCONDITIONNUM       212 non-null    int64\n",
      " 22  CASEITEMCONDITIOWIDTH      212 non-null    int64\n",
      " 23  CASEITEMNUM                212 non-null    int64\n",
      " 24  CONDITIONALELSE            212 non-null    int64\n",
      " 25  CONDITIONALIF              212 non-null    int64\n",
      " 26  CONDITIONALIFWIDTH         212 non-null    int64\n",
      " 27  CONDITIONALTHEN            212 non-null    int64\n",
      " 28  FORBLOCK                   212 non-null    int64\n",
      " 29  FORTIMES                   212 non-null    int64\n",
      " 30  FUNCTIONCALL               212 non-null    int64\n",
      " 31  FUNCTIONNUM                212 non-null    int64\n",
      " 32  INDEXMEMRORY               212 non-null    int64\n",
      " 33  INOUT                      212 non-null    int64\n",
      " 34  INOUTWIDTH                 212 non-null    int64\n",
      " 35  INPUT                      212 non-null    int64\n",
      " 36  INPUTWIDTH                 212 non-null    int64\n",
      " 37  MIN                        212 non-null    int64\n",
      " 38  NonBlockLeftWidth          212 non-null    int64\n",
      " 39  NonBlockRightWidth         212 non-null    int64\n",
      " 40  NonBlockingAssign          212 non-null    int64\n",
      " 41  NonBlockingLeftPortNum     212 non-null    int64\n",
      " 42  NonBlockingRightPortNum    212 non-null    int64\n",
      " 43  OUTPUT                     212 non-null    int64\n",
      " 44  OUTPUTWIDTH                212 non-null    int64\n",
      " 45  PARAMETERNUM               212 non-null    int64\n",
      " 46  PLUS                       212 non-null    int64\n",
      " 47  QUESTIONCOLON              212 non-null    int64\n",
      " 48  QUESTIONCOLONELSE          212 non-null    int64\n",
      " 49  QUESTIONCOLONIF            212 non-null    int64\n",
      " 50  QUESTIONCOLONTHEN          212 non-null    int64\n",
      " 51  REDAND                     212 non-null    int64\n",
      " 52  REDAOR                     212 non-null    int64\n",
      " 53  REDXOR                     212 non-null    int64\n",
      " 54  REG                        212 non-null    int64\n",
      " 55  REGWIDTH                   212 non-null    int64\n",
      " 56  UnaryOperator              212 non-null    int64\n",
      " 57  WIRENUM                    212 non-null    int64\n",
      " 58  WIREWIDTH                  212 non-null    int64\n",
      " 59  LUT                        212 non-null    int64\n",
      "dtypes: int64(60)\n",
      "memory usage: 101.0 KB\n"
     ]
    }
   ],
   "source": [
    "#数据信息\n",
    "resource_origin_data_lut.info()"
   ]
  },
  {
   "cell_type": "code",
   "execution_count": 408,
   "id": "674bc37e",
   "metadata": {},
   "outputs": [
    {
     "data": {
      "text/plain": [
       "LUT                          1.000000\n",
       "CONDITIONALELSE              0.431417\n",
       "NonBlockLeftWidth            0.417203\n",
       "PLUS                         0.399622\n",
       "NonBlockingAssign            0.393835\n",
       "CONDITIONALTHEN              0.392870\n",
       "CONDITIONALIF                0.392870\n",
       "NonBlockingLeftPortNum       0.387136\n",
       "REG                          0.318705\n",
       "AlwaysConstructs             0.276555\n",
       "CONDITIONALIFWIDTH           0.266208\n",
       "REDAND                       0.251582\n",
       "MIN                          0.232235\n",
       "CASEITEMNUM                  0.232026\n",
       "NonBlockRightWidth           0.229791\n",
       "CASECONDITIONNUM             0.214073\n",
       "OUTPUTWIDTH                  0.211457\n",
       "AssignLHSWidth               0.201654\n",
       "INPUTWIDTH                   0.192558\n",
       "CASECONDITIONWIDTH           0.189411\n",
       "AssignRHSWidth               0.180115\n",
       "NonBlockingRightPortNum      0.179107\n",
       "BlockAssign_Left_Width       0.143185\n",
       "ARITRSHIFT_PORT_NUM          0.139558\n",
       "WIREWIDTH                    0.136321\n",
       "BLOCKINGASSIGN               0.133238\n",
       "INPUT                        0.128534\n",
       "ARITRSHIFT                   0.123943\n",
       "ARITRSHIFT_PORT_WIDTH        0.123009\n",
       "WIRENUM                      0.114305\n",
       "BlockAssign_Right_Width      0.114102\n",
       "OUTPUT                       0.109189\n",
       "BlockAssign_Left_PortNum     0.096120\n",
       "ARITRSHIFT_VALUE             0.092706\n",
       "AssignStmts                  0.092402\n",
       "AssignLHSPortNum             0.090951\n",
       "AssignRHSPortNum             0.073878\n",
       "PARAMETERNUM                 0.072880\n",
       "CASEITEMCONDITIONNUM         0.067238\n",
       "INDEXMEMRORY                 0.063462\n",
       "BlockAssign_Right_PortNum    0.062788\n",
       "QUESTIONCOLON                0.060573\n",
       "QUESTIONCOLONELSE            0.060573\n",
       "QUESTIONCOLONIF              0.060573\n",
       "QUESTIONCOLONTHEN            0.060573\n",
       "CASEITEMCONDITIOWIDTH        0.031240\n",
       "REGWIDTH                     0.026338\n",
       "INOUTWIDTH                   0.024424\n",
       "REDAOR                       0.011938\n",
       "FUNCTIONCALL                 0.011406\n",
       "UnaryOperator                0.011401\n",
       "FORTIMES                    -0.000455\n",
       "FORBLOCK                    -0.006157\n",
       "REDXOR                      -0.018117\n",
       "FUNCTIONNUM                 -0.018206\n",
       "ARITLSHIFT                        NaN\n",
       "ARITLSHIFT_PORT_NUM               NaN\n",
       "ARITLSHIFT_PORT_WIDTH             NaN\n",
       "ARITLSHIFT_VALUE                  NaN\n",
       "INOUT                             NaN\n",
       "Name: LUT, dtype: float64"
      ]
     },
     "execution_count": 408,
     "metadata": {},
     "output_type": "execute_result"
    }
   ],
   "source": [
    "#相关性分析\n",
    "corr_matrix=resource_origin_data_lut.corr()\n",
    "corr_matrix[\"LUT\"].sort_values(ascending=False)\n"
   ]
  },
  {
   "cell_type": "code",
   "execution_count": 409,
   "id": "72b4ff51",
   "metadata": {},
   "outputs": [],
   "source": [
    "#特征优化\n",
    "resource_lut = resource_origin_data_lut[\"LUT\"].copy() #label data\n",
    "resource_lut_data = resource_origin_data_lut.drop(\"LUT\",axis=1) #feature data\n",
    "resource_label = list(resource_lut_data) #labal list\n"
   ]
  },
  {
   "cell_type": "code",
   "execution_count": 410,
   "id": "38e54e1b",
   "metadata": {},
   "outputs": [],
   "source": [
    "#数据分割\n",
    "from sklearn.datasets import fetch_california_housing\n",
    "from sklearn.model_selection import train_test_split\n",
    "from sklearn.preprocessing import StandardScaler\n",
    "from sklearn.preprocessing import MinMaxScaler\n",
    "from sklearn.preprocessing import RobustScaler\n",
    "#训练集、测试集、验证集\n",
    "X_train_full, X_test, y_train_full, y_test = train_test_split(resource_lut_data, resource_lut, test_size=0.2,random_state=42)\n",
    "X_train, X_valid, y_train, y_valid = train_test_split(X_train_full, y_train_full)"
   ]
  },
  {
   "cell_type": "code",
   "execution_count": 411,
   "id": "f6cc0806",
   "metadata": {},
   "outputs": [],
   "source": [
    "#数据标准化\n",
    "scaler = StandardScaler() \n",
    "X_train = scaler.fit_transform(X_train)\n",
    "X_valid = scaler.transform(X_valid)\n",
    "X_test = scaler.transform(X_test)\n",
    "X_train_full = scaler.transform(X_train_full)\n",
    "X_data_full = scaler.transform(resource_lut_data)"
   ]
  },
  {
   "cell_type": "code",
   "execution_count": 418,
   "id": "d01e24e5",
   "metadata": {},
   "outputs": [
    {
     "data": {
      "text/plain": [
       "62.93941509176124"
      ]
     },
     "execution_count": 418,
     "metadata": {},
     "output_type": "execute_result"
    }
   ],
   "source": [
    "#随机森林\n",
    "from sklearn.ensemble import RandomForestRegressor\n",
    "forest_reg = RandomForestRegressor(random_state=42)\n",
    "forest_reg.fit(X_train_full,y_train_full)\n",
    "forest_predic = forest_reg.predict(X_test)\n",
    "forest_mse = mean_squared_error(y_test,forest_predic)\n",
    "forest_rmse = np.sqrt(forest_mse)\n",
    "forest_rmse"
   ]
  },
  {
   "cell_type": "code",
   "execution_count": 419,
   "id": "96b8dc4d",
   "metadata": {},
   "outputs": [
    {
     "data": {
      "text/plain": [
       "0.4917366425878045"
      ]
     },
     "execution_count": 419,
     "metadata": {},
     "output_type": "execute_result"
    }
   ],
   "source": [
    "from sklearn.metrics import r2_score\n",
    "r2_score(y_test,forest_predic)"
   ]
  },
  {
   "cell_type": "code",
   "execution_count": 386,
   "id": "97d14f16",
   "metadata": {},
   "outputs": [
    {
     "data": {
      "image/png": "[encoded data removed]",
      "text/plain": [
       "<Figure size 432x288 with 1 Axes>"
      ]
     },
     "metadata": {
      "needs_background": "light"
     },
     "output_type": "display_data"
    }
   ],
   "source": [
    "plot_learning_curves(forest_reg, X_train_full, y_train_full)\n",
    "#plt.axis([0, 200, 0, 250])                         # not shown in the book\n",
    "plt.show()    "
   ]
  },
  {
   "cell_type": "code",
   "execution_count": 420,
   "id": "e02bbb41",
   "metadata": {},
   "outputs": [
    {
     "data": {
      "text/plain": [
       "[(0.2536180789116114, 'NonBlockLeftWidth'),\n",
       " (0.12679787008146579, 'REGWIDTH'),\n",
       " (0.05972747090195204, 'CASEITEMNUM'),\n",
       " (0.05392022363166385, 'NonBlockRightWidth'),\n",
       " (0.05128768920003244, 'OUTPUT'),\n",
       " (0.04534878622436089, 'OUTPUTWIDTH'),\n",
       " (0.04007377854061223, 'PLUS'),\n",
       " (0.031242549572939846, 'AssignRHSWidth'),\n",
       " (0.029140410023694496, 'AlwaysConstructs'),\n",
       " (0.027270609774432394, 'NonBlockingRightPortNum'),\n",
       " (0.02491683541531611, 'MIN'),\n",
       " (0.024909880571972985, 'NonBlockingAssign'),\n",
       " (0.02380947068617852, 'INPUTWIDTH'),\n",
       " (0.021759164863441625, 'CONDITIONALIFWIDTH'),\n",
       " (0.021244206715783292, 'CASECONDITIONNUM'),\n",
       " (0.01958116949331802, 'AssignRHSPortNum'),\n",
       " (0.019465579243440976, 'AssignLHSWidth'),\n",
       " (0.016465265343910046, 'NonBlockingLeftPortNum'),\n",
       " (0.013306102040150881, 'BlockAssign_Left_Width'),\n",
       " (0.010751248290526887, 'CASECONDITIONWIDTH'),\n",
       " (0.009990601557297826, 'AssignStmts'),\n",
       " (0.00795519530531399, 'REDAND'),\n",
       " (0.007563883396626128, 'CONDITIONALIF'),\n",
       " (0.007304643606240519, 'WIREWIDTH'),\n",
       " (0.006341418868251526, 'ARITRSHIFT_PORT_NUM'),\n",
       " (0.005243808506075654, 'CONDITIONALTHEN'),\n",
       " (0.004232839920500755, 'BLOCKINGASSIGN'),\n",
       " (0.0036852713551529686, 'CONDITIONALELSE'),\n",
       " (0.0035985666094800303, 'WIRENUM'),\n",
       " (0.003005871433664409, 'AssignLHSPortNum'),\n",
       " (0.0028986618431531322, 'REG'),\n",
       " (0.0026509333782399397, 'INPUT'),\n",
       " (0.002548948506330703, 'BlockAssign_Left_PortNum'),\n",
       " (0.0022000969012758603, 'ARITRSHIFT_PORT_WIDTH'),\n",
       " (0.002196819334627927, 'PARAMETERNUM'),\n",
       " (0.0019682625636691575, 'CASEITEMCONDITIONNUM'),\n",
       " (0.0018459482707049754, 'ARITRSHIFT'),\n",
       " (0.0017007493351592752, 'BlockAssign_Right_PortNum'),\n",
       " (0.0016759265984318222, 'QUESTIONCOLONTHEN'),\n",
       " (0.0010567835830640631, 'BlockAssign_Right_Width'),\n",
       " (0.0009246165168285468, 'REDAOR'),\n",
       " (0.0008057650315386655, 'INDEXMEMRORY'),\n",
       " (0.0007092910927637738, 'CASEITEMCONDITIOWIDTH'),\n",
       " (0.0007086642046823521, 'REDXOR'),\n",
       " (0.0006934727564411265, 'QUESTIONCOLONELSE'),\n",
       " (0.0006186856618572747, 'QUESTIONCOLON'),\n",
       " (0.0004829345809203548, 'ARITRSHIFT_VALUE'),\n",
       " (0.00037551204436745805, 'QUESTIONCOLONIF'),\n",
       " (0.00021046154736245758, 'FUNCTIONNUM'),\n",
       " (6.943048401112112e-05, 'INOUTWIDTH'),\n",
       " (4.787715379876535e-05, 'FORBLOCK'),\n",
       " (2.64021669435285e-05, 'UnaryOperator'),\n",
       " (2.2812871176357732e-05, 'FORTIMES'),\n",
       " (2.453487242966201e-06, 'FUNCTIONCALL'),\n",
       " (0.0, 'INOUT'),\n",
       " (0.0, 'ARITLSHIFT_VALUE'),\n",
       " (0.0, 'ARITLSHIFT_PORT_WIDTH'),\n",
       " (0.0, 'ARITLSHIFT_PORT_NUM'),\n",
       " (0.0, 'ARITLSHIFT')]"
      ]
     },
     "execution_count": 420,
     "metadata": {},
     "output_type": "execute_result"
    }
   ],
   "source": [
    "#随机森林贡献度分析\n",
    "feature_importance = forest_reg.feature_importances_\n",
    "sorted(zip(feature_importance, resource_label), reverse=True)"
   ]
  },
  {
   "cell_type": "code",
   "execution_count": 38,
   "id": "823a28a1",
   "metadata": {},
   "outputs": [
    {
     "data": {
      "text/plain": [
       "RandomizedSearchCV(cv=10, estimator=RandomForestRegressor(random_state=10),\n",
       "                   n_iter=100,\n",
       "                   param_distributions={'n_estimators': <scipy.stats._distn_infrastructure.rv_frozen object at 0x000002A5BD9218E0>},\n",
       "                   random_state=42, scoring='neg_mean_squared_error')"
      ]
     },
     "execution_count": 38,
     "metadata": {},
     "output_type": "execute_result"
    }
   ],
   "source": [
    "#随机搜索\n",
    "from sklearn.model_selection import RandomizedSearchCV\n",
    "from scipy.stats import randint\n",
    "\n",
    "param_distribs = {\n",
    "        'n_estimators': randint(low=1, high=10000),\n",
    "    }\n",
    "\n",
    "forest_reg = RandomForestRegressor(random_state=42)\n",
    "forest_rnd_search = RandomizedSearchCV(forest_reg, param_distributions=param_distribs,\n",
    "                                n_iter=100, cv=10, scoring='neg_mean_squared_error', random_state=42)\n",
    "forest_rnd_search.fit(X_train_full, y_train_full)"
   ]
  },
  {
   "cell_type": "code",
   "execution_count": 63,
   "id": "b68aa2cd",
   "metadata": {},
   "outputs": [
    {
     "data": {
      "text/plain": [
       "5788.630902531727"
      ]
     },
     "execution_count": 63,
     "metadata": {},
     "output_type": "execute_result"
    }
   ],
   "source": [
    "#随机森林mse\n",
    "forest_predict = forest_rnd_search.best_estimator_.predict(X_test)\n",
    "forest_mse = mean_squared_error(y_test,forest_predict)\n",
    "forest_mse"
   ]
  },
  {
   "cell_type": "code",
   "execution_count": 64,
   "id": "4ce9cf2d",
   "metadata": {},
   "outputs": [
    {
     "data": {
      "text/plain": [
       "76.0830526630716"
      ]
     },
     "execution_count": 64,
     "metadata": {},
     "output_type": "execute_result"
    }
   ],
   "source": [
    "#随机森林rmse\n",
    "forest_rmse = np.sqrt(forest_mse)\n",
    "forest_rmse"
   ]
  },
  {
   "cell_type": "code",
   "execution_count": 65,
   "id": "673b7d23",
   "metadata": {},
   "outputs": [
    {
     "data": {
      "text/plain": [
       "0.04066686671625985"
      ]
     },
     "execution_count": 65,
     "metadata": {},
     "output_type": "execute_result"
    }
   ],
   "source": [
    "#随机森林R方评估\n",
    "from sklearn.metrics import r2_score\n",
    "r2_score(y_valid,forest_predict)"
   ]
  },
  {
   "cell_type": "code",
   "execution_count": 54,
   "id": "8866a07e",
   "metadata": {
    "scrolled": true
   },
   "outputs": [
    {
     "ename": "NameError",
     "evalue": "name 'forest_rnd_search' is not defined",
     "output_type": "error",
     "traceback": [
      "\u001b[1;31m---------------------------------------------------------------------------\u001b[0m",
      "\u001b[1;31mNameError\u001b[0m                                 Traceback (most recent call last)",
      "\u001b[1;32m<ipython-input-54-caef0089eaa6>\u001b[0m in \u001b[0;36m<module>\u001b[1;34m\u001b[0m\n\u001b[1;32m----> 1\u001b[1;33m \u001b[0mplot_learning_curves\u001b[0m\u001b[1;33m(\u001b[0m\u001b[0mforest_rnd_search\u001b[0m\u001b[1;33m.\u001b[0m\u001b[0mbest_estimator_\u001b[0m\u001b[1;33m,\u001b[0m \u001b[0mX_data_full\u001b[0m\u001b[1;33m,\u001b[0m \u001b[0mresource_lut\u001b[0m\u001b[1;33m)\u001b[0m\u001b[1;33m\u001b[0m\u001b[1;33m\u001b[0m\u001b[0m\n\u001b[0m\u001b[0;32m      2\u001b[0m \u001b[0mplt\u001b[0m\u001b[1;33m.\u001b[0m\u001b[0maxis\u001b[0m\u001b[1;33m(\u001b[0m\u001b[1;33m[\u001b[0m\u001b[1;36m0\u001b[0m\u001b[1;33m,\u001b[0m \u001b[1;36m200\u001b[0m\u001b[1;33m,\u001b[0m \u001b[1;36m0\u001b[0m\u001b[1;33m,\u001b[0m \u001b[1;36m300\u001b[0m\u001b[1;33m]\u001b[0m\u001b[1;33m)\u001b[0m                         \u001b[1;31m# not shown in the book\u001b[0m\u001b[1;33m\u001b[0m\u001b[1;33m\u001b[0m\u001b[0m\n\u001b[0;32m      3\u001b[0m \u001b[0mplt\u001b[0m\u001b[1;33m.\u001b[0m\u001b[0mshow\u001b[0m\u001b[1;33m(\u001b[0m\u001b[1;33m)\u001b[0m\u001b[1;33m\u001b[0m\u001b[1;33m\u001b[0m\u001b[0m\n",
      "\u001b[1;31mNameError\u001b[0m: name 'forest_rnd_search' is not defined"
     ]
    }
   ],
   "source": [
    "plot_learning_curves(forest_rnd_search.best_estimator_, X_data_full, resource_lut)\n",
    "plt.axis([0, 200, 0, 300])                         # not shown in the book\n",
    "plt.show()    "
   ]
  },
  {
   "cell_type": "code",
   "execution_count": 422,
   "id": "0aa9faaa",
   "metadata": {},
   "outputs": [
    {
     "data": {
      "image/png": "[encoded data removed]",
      "text/plain": [
       "<Figure size 432x288 with 1 Axes>"
      ]
     },
     "metadata": {
      "needs_background": "light"
     },
     "output_type": "display_data"
    },
    {
     "data": {
      "image/png": "[encoded data removed]",
      "text/plain": [
       "<Figure size 432x288 with 1 Axes>"
      ]
     },
     "metadata": {
      "needs_background": "light"
     },
     "output_type": "display_data"
    }
   ],
   "source": [
    "plt.figure(1)\n",
    "plt.clf()\n",
    "ax=plt.axes(aspect='equal')\n",
    "plt.scatter(y_test,forest_predic)\n",
    "plt.xlabel('True Values')\n",
    "plt.ylabel('Predictions')\n",
    "Lims=[0,150]\n",
    "plt.xlim(Lims)\n",
    "plt.ylim(Lims)\n",
    "plt.plot(Lims,Lims)\n",
    "plt.grid(False)\n",
    "    \n",
    "plt.figure(2)\n",
    "plt.clf()\n",
    "plt.hist(forest_predic,bins=30)\n",
    "plt.xlabel('Prediction Error')\n",
    "plt.ylabel('Count')\n",
    "plt.grid(False)"
   ]
  },
  {
   "cell_type": "code",
   "execution_count": null,
   "id": "9171a15e",
   "metadata": {},
   "outputs": [],
   "source": []
  },
  {
   "cell_type": "code",
   "execution_count": null,
   "id": "d640c5e5",
   "metadata": {},
   "outputs": [],
   "source": []
  },
  {
   "cell_type": "code",
   "execution_count": null,
   "id": "4142444e",
   "metadata": {},
   "outputs": [],
   "source": []
  }
 ],
 "metadata": {
  "kernelspec": {
   "display_name": "Python 3",
   "language": "python",
   "name": "python3"
  },
  "language_info": {
   "codemirror_mode": {
    "name": "ipython",
    "version": 3
   },
   "file_extension": ".py",
   "mimetype": "text/x-python",
   "name": "python",
   "nbconvert_exporter": "python",
   "pygments_lexer": "ipython3",
   "version": "3.8.8"
  }
 },
 "nbformat": 4,
 "nbformat_minor": 5
}
