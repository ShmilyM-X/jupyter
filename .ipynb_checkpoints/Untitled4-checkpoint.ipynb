{
 "cells": [
  {
   "cell_type": "code",
   "execution_count": 19,
   "id": "d07192d1",
   "metadata": {},
   "outputs": [],
   "source": [
    "import os\n",
    "import tarfile\n",
    "import urllib.request\n",
    "\n",
    "RES_PATH = os.path.join(\"res_datasets\",\"resourceing\")\n",
    "\n",
    "def fetch_resource_data(res_path=RES_PATH):\n",
    "    if not os.path.isdir(res_path):\n",
    "        os.makedirs(res_path)\n",
    "##创建文件夹路径函数\n",
    "from sklearn.metrics import mean_squared_error\n",
    "from sklearn.model_selection import train_test_split\n",
    "import matplotlib as mpl\n",
    "import matplotlib.pyplot as plt\n",
    "import numpy as np\n",
    "\n",
    "def plot_learning_curves(model, X, y):\n",
    "    X_train, X_val, y_train, y_val = train_test_split(X, y, test_size=0.1, random_state=10)\n",
    "    train_errors, val_errors = [], []\n",
    "    for m in range(1, len(X_train) + 1):\n",
    "        model.fit(X_train[:m], y_train[:m])\n",
    "        y_train_predict = model.predict(X_train[:m])\n",
    "        y_val_predict = model.predict(X_val)\n",
    "        train_errors.append(mean_squared_error(y_train[:m], y_train_predict))\n",
    "        val_errors.append(mean_squared_error(y_val, y_val_predict))\n",
    "\n",
    "    plt.plot(np.sqrt(train_errors), \"r-+\", linewidth=2, label=\"train\")\n",
    "    plt.plot(np.sqrt(val_errors), \"b-\", linewidth=3, label=\"val\")\n",
    "    plt.legend(loc=\"upper right\", fontsize=14)   # not shown in the book\n",
    "    plt.xlabel(\"Training set size\", fontsize=14) # not shown\n",
    "    plt.ylabel(\"RMSE\", fontsize=14)              # not shown\n",
    "    \n",
    "fetch_resource_data() ##调用创建\n",
    "\n",
    "##读取CSV文件\n",
    "import pandas as pd\n",
    "\n",
    "def load_res_data(res_path = RES_PATH,file_name=\"\"new_feature_1214.csv\"):\n",
    "    csv_path = os.path.join(RES_PATH,file_name)\n",
    "    return pd.read_csv(csv_path) \n",
    "\n",
    "\n",
    "\n"
   ]
  },
  {
   "cell_type": "code",
   "execution_count": 21,
   "id": "de58d688",
   "metadata": {},
   "outputs": [],
   "source": [
    "##数据处理\n",
    "resource_origin_data = load_res_data()  #get origin csv data\n",
    "\n",
    "#%matplotlib inline\n",
    "#import matplotlib.pyplot as plt\n",
    "#resource_origin_data.hist(bins=50, figsize=(20,15))\n",
    "#plt.show() #data plot show\n",
    "\n",
    "resource_origin_data_lut = resource_origin_data.dropna(subset = [\"LUT\"])\n",
    "resource_origin_data_lut=resource_origin_data_lut.drop(\"FF\",axis=1)\n",
    "resource_origin_data_lut=resource_origin_data_lut.drop(\"BUFG\",axis=1)\n",
    "resource_origin_data_lut=resource_origin_data_lut.drop(\"IO\",axis=1)\n",
    "resource_origin_data_lut=resource_origin_data_lut.drop(\"ModuleName\",axis=1)\n",
    "resource_origin_data_lut=resource_origin_data_lut.drop(\"PARAMETERVALUE\",axis=1)\n",
    "resource_origin_data_lut=resource_origin_data_lut.drop(\"ModuleInsts\",axis=1)\n",
    "\n",
    "\n"
   ]
  },
  {
   "cell_type": "code",
   "execution_count": 22,
   "id": "a2526879",
   "metadata": {
    "scrolled": true
   },
   "outputs": [
    {
     "name": "stdout",
     "output_type": "stream",
     "text": [
      "<class 'pandas.core.frame.DataFrame'>\n",
      "Int64Index: 126 entries, 0 to 139\n",
      "Data columns (total 60 columns):\n",
      " #   Column                     Non-Null Count  Dtype  \n",
      "---  ------                     --------------  -----  \n",
      " 0   ARITLSHIFT                 126 non-null    int64  \n",
      " 1   ARITLSHIFT_PORT_NUM        126 non-null    int64  \n",
      " 2   ARITLSHIFT_PORT_WIDTH      126 non-null    int64  \n",
      " 3   ARITLSHIFT_VALUE           126 non-null    int64  \n",
      " 4   ARITRSHIFT                 126 non-null    int64  \n",
      " 5   ARITRSHIFT_PORT_NUM        126 non-null    int64  \n",
      " 6   ARITRSHIFT_PORT_WIDTH      126 non-null    int64  \n",
      " 7   ARITRSHIFT_VALUE           126 non-null    int64  \n",
      " 8   AlwaysConstructs           126 non-null    int64  \n",
      " 9   AssignLHSPortNum           126 non-null    int64  \n",
      " 10  AssignLHSWidth             126 non-null    int64  \n",
      " 11  AssignRHSPortNum           126 non-null    int64  \n",
      " 12  AssignRHSWidth             126 non-null    int64  \n",
      " 13  AssignStmts                126 non-null    int64  \n",
      " 14  BLOCKINGASSIGN             126 non-null    int64  \n",
      " 15  BlockAssign_Left_PortNum   126 non-null    int64  \n",
      " 16  BlockAssign_Left_Width     126 non-null    int64  \n",
      " 17  BlockAssign_Right_PortNum  126 non-null    int64  \n",
      " 18  BlockAssign_Right_Width    126 non-null    int64  \n",
      " 19  CASECONDITIONNUM           126 non-null    int64  \n",
      " 20  CASECONDITIONWIDTH         126 non-null    int64  \n",
      " 21  CASEITEMCONDITIONNUM       126 non-null    int64  \n",
      " 22  CASEITEMCONDITIOWIDTH      126 non-null    int64  \n",
      " 23  CASEITEMNUM                126 non-null    int64  \n",
      " 24  CONDITIONALELSE            126 non-null    int64  \n",
      " 25  CONDITIONALIF              126 non-null    int64  \n",
      " 26  CONDITIONALIFWIDTH         126 non-null    int64  \n",
      " 27  CONDITIONALTHEN            126 non-null    int64  \n",
      " 28  FORBLOCK                   126 non-null    int64  \n",
      " 29  FORTIMES                   126 non-null    int64  \n",
      " 30  FUNCTIONCALL               126 non-null    int64  \n",
      " 31  FUNCTIONNUM                126 non-null    int64  \n",
      " 32  INDEXMEMRORY               126 non-null    int64  \n",
      " 33  INOUT                      126 non-null    int64  \n",
      " 34  INOUTWIDTH                 126 non-null    int64  \n",
      " 35  INPUT                      126 non-null    int64  \n",
      " 36  INPUTWIDTH                 126 non-null    int64  \n",
      " 37  MIN                        126 non-null    int64  \n",
      " 38  NonBlockLeftWidth          126 non-null    int64  \n",
      " 39  NonBlockRightWidth         126 non-null    int64  \n",
      " 40  NonBlockingAssign          126 non-null    int64  \n",
      " 41  NonBlockingLeftPortNum     126 non-null    int64  \n",
      " 42  NonBlockingRightPortNum    126 non-null    int64  \n",
      " 43  OUTPUT                     126 non-null    int64  \n",
      " 44  OUTPUTWIDTH                126 non-null    int64  \n",
      " 45  PARAMETERNUM               126 non-null    int64  \n",
      " 46  PLUS                       126 non-null    int64  \n",
      " 47  QUESTIONCOLON              126 non-null    int64  \n",
      " 48  QUESTIONCOLONELSE          126 non-null    int64  \n",
      " 49  QUESTIONCOLONIF            126 non-null    int64  \n",
      " 50  QUESTIONCOLONTHEN          126 non-null    int64  \n",
      " 51  REDAND                     126 non-null    int64  \n",
      " 52  REDAOR                     126 non-null    int64  \n",
      " 53  REDXOR                     126 non-null    int64  \n",
      " 54  REG                        126 non-null    int64  \n",
      " 55  REGWIDTH                   126 non-null    int64  \n",
      " 56  UnaryOperator              126 non-null    int64  \n",
      " 57  WIRENUM                    126 non-null    int64  \n",
      " 58  WIREWIDTH                  126 non-null    int64  \n",
      " 59  LUT                        126 non-null    float64\n",
      "dtypes: float64(1), int64(59)\n",
      "memory usage: 60.0 KB\n"
     ]
    }
   ],
   "source": [
    "#数据信息\n",
    "resource_origin_data_lut.info()"
   ]
  },
  {
   "cell_type": "code",
   "execution_count": 23,
   "id": "674bc37e",
   "metadata": {},
   "outputs": [
    {
     "data": {
      "text/plain": [
       "LUT                          1.000000\n",
       "PLUS                         0.664219\n",
       "MIN                          0.636481\n",
       "ARITRSHIFT_PORT_WIDTH        0.620218\n",
       "ARITRSHIFT_PORT_NUM          0.613618\n",
       "NonBlockRightWidth           0.600402\n",
       "ARITRSHIFT                   0.543880\n",
       "NonBlockLeftWidth            0.540035\n",
       "REG                          0.512356\n",
       "ARITRSHIFT_VALUE             0.493848\n",
       "OUTPUTWIDTH                  0.474996\n",
       "AssignLHSWidth               0.447558\n",
       "NonBlockingAssign            0.408351\n",
       "NonBlockingLeftPortNum       0.403932\n",
       "INPUTWIDTH                   0.396212\n",
       "AssignRHSWidth               0.383146\n",
       "REDAND                       0.362164\n",
       "CONDITIONALIF                0.347190\n",
       "CONDITIONALTHEN              0.347190\n",
       "CONDITIONALELSE              0.321614\n",
       "INDEXMEMRORY                 0.317985\n",
       "AlwaysConstructs             0.275689\n",
       "BlockAssign_Right_Width      0.271372\n",
       "REGWIDTH                     0.265754\n",
       "NonBlockingRightPortNum      0.217369\n",
       "INPUT                        0.212890\n",
       "AssignRHSPortNum             0.202278\n",
       "BlockAssign_Left_Width       0.180888\n",
       "CONDITIONALIFWIDTH           0.175636\n",
       "CASECONDITIONWIDTH           0.167101\n",
       "FORTIMES                     0.156572\n",
       "CASECONDITIONNUM             0.150388\n",
       "OUTPUT                       0.144565\n",
       "WIREWIDTH                    0.123861\n",
       "QUESTIONCOLONTHEN            0.123676\n",
       "QUESTIONCOLON                0.123676\n",
       "QUESTIONCOLONELSE            0.123676\n",
       "QUESTIONCOLONIF              0.123676\n",
       "CASEITEMNUM                  0.121527\n",
       "CASEITEMCONDITIONNUM         0.121330\n",
       "BLOCKINGASSIGN               0.118625\n",
       "BlockAssign_Left_PortNum     0.111817\n",
       "BlockAssign_Right_PortNum    0.106441\n",
       "WIRENUM                      0.105106\n",
       "AssignStmts                  0.100581\n",
       "FUNCTIONCALL                 0.100289\n",
       "AssignLHSPortNum             0.095053\n",
       "PARAMETERNUM                 0.087106\n",
       "FUNCTIONNUM                  0.079805\n",
       "REDAOR                       0.077543\n",
       "CASEITEMCONDITIOWIDTH        0.058901\n",
       "FORBLOCK                     0.037149\n",
       "INOUTWIDTH                   0.028216\n",
       "REDXOR                       0.027490\n",
       "UnaryOperator               -0.085985\n",
       "ARITLSHIFT                        NaN\n",
       "ARITLSHIFT_PORT_NUM               NaN\n",
       "ARITLSHIFT_PORT_WIDTH             NaN\n",
       "ARITLSHIFT_VALUE                  NaN\n",
       "INOUT                             NaN\n",
       "Name: LUT, dtype: float64"
      ]
     },
     "execution_count": 23,
     "metadata": {},
     "output_type": "execute_result"
    }
   ],
   "source": [
    "#相关性分析\n",
    "corr_matrix=resource_origin_data_lut.corr()\n",
    "corr_matrix[\"LUT\"].sort_values(ascending=False)\n"
   ]
  },
  {
   "cell_type": "code",
   "execution_count": 24,
   "id": "72b4ff51",
   "metadata": {},
   "outputs": [],
   "source": [
    "#特征优化\n",
    "resource_lut = resource_origin_data_lut[\"LUT\"].copy() #label data\n",
    "resource_lut_data = resource_origin_data_lut.drop(\"LUT\",axis=1) #feature data\n",
    "resource_label = list(resource_lut_data) #labal list\n"
   ]
  },
  {
   "cell_type": "code",
   "execution_count": 79,
   "id": "38e54e1b",
   "metadata": {},
   "outputs": [],
   "source": [
    "#数据分割\n",
    "from sklearn.datasets import fetch_california_housing\n",
    "from sklearn.model_selection import train_test_split\n",
    "from sklearn.preprocessing import StandardScaler\n",
    "#训练集、测试集、验证集\n",
    "X_train_full, X_test, y_train_full, y_test = train_test_split(resource_lut_data, resource_lut, test_size=0.5,random_state=42)\n",
    "X_train, X_valid, y_train, y_valid = train_test_split(X_train_full, y_train_full)"
   ]
  },
  {
   "cell_type": "code",
   "execution_count": 82,
   "id": "4dfb54d8",
   "metadata": {},
   "outputs": [
    {
     "data": {
      "text/plain": [
       "array([[ 0.        ,  0.        ,  0.        , ..., -0.24525574,\n",
       "        -0.33949114, -0.27104531],\n",
       "       [ 0.        ,  0.        ,  0.        , ..., -0.24525574,\n",
       "         1.0683986 ,  0.3113149 ],\n",
       "       [ 0.        ,  0.        ,  0.        , ..., -0.24525574,\n",
       "        -0.33949114, -0.27104531],\n",
       "       ...,\n",
       "       [ 0.        ,  0.        ,  0.        , ..., -0.24525574,\n",
       "        -0.33949114, -0.27104531],\n",
       "       [ 0.        ,  0.        ,  0.        , ..., -0.24525574,\n",
       "        -0.33949114, -0.27104531],\n",
       "       [ 0.        ,  0.        ,  0.        , ..., -0.24525574,\n",
       "        -0.33949114, -0.27104531]])"
      ]
     },
     "execution_count": 82,
     "metadata": {},
     "output_type": "execute_result"
    }
   ],
   "source": [
    "X_train"
   ]
  },
  {
   "cell_type": "code",
   "execution_count": 83,
   "id": "f6cc0806",
   "metadata": {},
   "outputs": [],
   "source": [
    "#数据标准化\n",
    "scaler = StandardScaler() \n",
    "X_train = scaler.fit_transform(X_train)\n",
    "X_valid = scaler.transform(X_valid)\n",
    "X_test = scaler.transform(X_test)\n",
    "X_train_full = scaler.transform(X_train_full)\n",
    "X_data_full = scaler.transform(resource_lut_data)"
   ]
  },
  {
   "cell_type": "code",
   "execution_count": 84,
   "id": "d01e24e5",
   "metadata": {},
   "outputs": [
    {
     "data": {
      "text/plain": [
       "4.5908965627641845"
      ]
     },
     "execution_count": 84,
     "metadata": {},
     "output_type": "execute_result"
    }
   ],
   "source": [
    "#随机森林\n",
    "from sklearn.ensemble import RandomForestRegressor\n",
    "forest_reg = RandomForestRegressor(random_state=42)\n",
    "forest_reg.fit(X_train_full,y_train_full)\n",
    "forest_predic = forest_reg.predict(X_valid)\n",
    "forest_mse = mean_squared_error(y_valid,forest_predic)\n",
    "forest_rmse = np.sqrt(forest_mse)\n",
    "forest_rmse"
   ]
  },
  {
   "cell_type": "code",
   "execution_count": 85,
   "id": "96b8dc4d",
   "metadata": {},
   "outputs": [
    {
     "data": {
      "text/plain": [
       "0.9748585050813813"
      ]
     },
     "execution_count": 85,
     "metadata": {},
     "output_type": "execute_result"
    }
   ],
   "source": [
    "from sklearn.metrics import r2_score\n",
    "r2_score(y_valid,forest_predic)"
   ]
  },
  {
   "cell_type": "code",
   "execution_count": 86,
   "id": "97d14f16",
   "metadata": {},
   "outputs": [
    {
     "data": {
      "image/png": "[encoded data removed]",
      "text/plain": [
       "<Figure size 432x288 with 1 Axes>"
      ]
     },
     "metadata": {
      "needs_background": "light"
     },
     "output_type": "display_data"
    }
   ],
   "source": [
    "plot_learning_curves(forest_reg, X_train_full, y_train_full)\n",
    "plt.axis([0, 100, 0, 100])                         # not shown in the book\n",
    "plt.show()    "
   ]
  },
  {
   "cell_type": "code",
   "execution_count": 38,
   "id": "e02bbb41",
   "metadata": {},
   "outputs": [
    {
     "data": {
      "text/plain": [
       "[(0.2508352728566321, 'AssignLHSWidth'),\n",
       " (0.19880144369106392, 'INPUTWIDTH'),\n",
       " (0.1664412488573756, 'AssignRHSWidth'),\n",
       " (0.061659106255562784, 'REGWIDTH'),\n",
       " (0.05828354464425089, 'OUTPUTWIDTH'),\n",
       " (0.05290837741701608, 'FORTIMES'),\n",
       " (0.020555777408934175, 'NonBlockRightWidth'),\n",
       " (0.020085210028062003, 'PARAMETERNUM'),\n",
       " (0.013704620500911391, 'FORBLOCK'),\n",
       " (0.013574086402524888, 'CONDITIONALIFWIDTH'),\n",
       " (0.012249101800811379, 'BlockAssign_Left_Width'),\n",
       " (0.011933118463557999, 'BlockAssign_Right_Width'),\n",
       " (0.011034803902640243, 'BlockAssign_Right_PortNum'),\n",
       " (0.011026480800511522, 'PLUS'),\n",
       " (0.010338399333752251, 'BLOCKINGASSIGN'),\n",
       " (0.008396710236921335, 'CONDITIONALIF'),\n",
       " (0.008013188847750234, 'BlockAssign_Left_PortNum'),\n",
       " (0.007160384679770522, 'INPUT'),\n",
       " (0.007039652760022612, 'CONDITIONALTHEN'),\n",
       " (0.006101183951765273, 'NonBlockingLeftPortNum'),\n",
       " (0.00567087444947201, 'NonBlockingRightPortNum'),\n",
       " (0.0055711549343269, 'NonBlockingAssign'),\n",
       " (0.0051096442961834024, 'REG'),\n",
       " (0.004943645096107741, 'INDEXMEMRORY'),\n",
       " (0.0045400632487538175, 'AssignLHSPortNum'),\n",
       " (0.0037809792449439304, 'WIREWIDTH'),\n",
       " (0.0029056965194990446, 'NonBlockLeftWidth'),\n",
       " (0.0028949426907641214, 'AssignStmts'),\n",
       " (0.002488167480117294, 'REDAND'),\n",
       " (0.0017969143933264725, 'AlwaysConstructs'),\n",
       " (0.001715408606762143, 'CONDITIONALELSE'),\n",
       " (0.001502704813517628, 'CASEITEMCONDITIONNUM'),\n",
       " (0.001111224898389457, 'AssignRHSPortNum'),\n",
       " (0.0009587038528005064, 'REDXOR'),\n",
       " (0.0005507687810247627, 'FUNCTIONCALL'),\n",
       " (0.0005371118907014698, 'QUESTIONCOLONTHEN'),\n",
       " (0.000530293823839083, 'CASECONDITIONWIDTH'),\n",
       " (0.0005286020397163439, 'CASECONDITIONNUM'),\n",
       " (0.0005164705062052018, 'ARITRSHIFT_VALUE'),\n",
       " (0.0004725392843721515, 'QUESTIONCOLON'),\n",
       " (0.0004024036289393603, 'MIN'),\n",
       " (0.0003847338976037572, 'ARITRSHIFT'),\n",
       " (0.0003591980972823589, 'OUTPUT'),\n",
       " (0.00018630025184437622, 'CASEITEMNUM'),\n",
       " (0.00010827402683663556, 'QUESTIONCOLONIF'),\n",
       " (9.328267103097917e-05, 'WIRENUM'),\n",
       " (9.222237338291015e-05, 'FUNCTIONNUM'),\n",
       " (8.399201816549972e-05, 'QUESTIONCOLONELSE'),\n",
       " (1.9662440289825848e-05, 'UnaryOperator'),\n",
       " (1.596136002794765e-06, 'ARITRSHIFT_PORT_WIDTH'),\n",
       " (7.107679608084704e-07, 'ARITRSHIFT_PORT_NUM'),\n",
       " (0.0, 'REDAOR'),\n",
       " (0.0, 'INOUTWIDTH'),\n",
       " (0.0, 'INOUT'),\n",
       " (0.0, 'CASEITEMCONDITIOWIDTH'),\n",
       " (0.0, 'ARITLSHIFT_VALUE'),\n",
       " (0.0, 'ARITLSHIFT_PORT_WIDTH'),\n",
       " (0.0, 'ARITLSHIFT_PORT_NUM'),\n",
       " (0.0, 'ARITLSHIFT')]"
      ]
     },
     "execution_count": 38,
     "metadata": {},
     "output_type": "execute_result"
    }
   ],
   "source": [
    "#随机森林贡献度分析\n",
    "feature_importance = forest_reg.feature_importances_\n",
    "sorted(zip(feature_importance, resource_label), reverse=True)"
   ]
  },
  {
   "cell_type": "code",
   "execution_count": 33,
   "id": "823a28a1",
   "metadata": {},
   "outputs": [
    {
     "data": {
      "text/plain": [
       "RandomizedSearchCV(cv=10, estimator=RandomForestRegressor(random_state=10),\n",
       "                   n_iter=100,\n",
       "                   param_distributions={'n_estimators': <scipy.stats._distn_infrastructure.rv_frozen object at 0x000001D8B0DC36D0>},\n",
       "                   random_state=42, scoring='neg_mean_squared_error')"
      ]
     },
     "execution_count": 33,
     "metadata": {},
     "output_type": "execute_result"
    }
   ],
   "source": [
    "#随机搜索\n",
    "from sklearn.model_selection import RandomizedSearchCV\n",
    "from scipy.stats import randint\n",
    "\n",
    "param_distribs = {\n",
    "        'n_estimators': randint(low=1, high=100),\n",
    "    }\n",
    "\n",
    "forest_reg = RandomForestRegressor(random_state=10)\n",
    "forest_rnd_search = RandomizedSearchCV(forest_reg, param_distributions=param_distribs,\n",
    "                                n_iter=100, cv=10, scoring='neg_mean_squared_error', random_state=42)\n",
    "forest_rnd_search.fit(X_train, y_train)"
   ]
  },
  {
   "cell_type": "code",
   "execution_count": 34,
   "id": "b68aa2cd",
   "metadata": {},
   "outputs": [
    {
     "data": {
      "text/plain": [
       "457.87104749307133"
      ]
     },
     "execution_count": 34,
     "metadata": {},
     "output_type": "execute_result"
    }
   ],
   "source": [
    "#随机森林mse\n",
    "forest_predict = forest_rnd_search.best_estimator_.predict(X_valid)\n",
    "forest_mse = mean_squared_error(y_valid,forest_predict)\n",
    "forest_mse"
   ]
  },
  {
   "cell_type": "code",
   "execution_count": 35,
   "id": "4ce9cf2d",
   "metadata": {},
   "outputs": [
    {
     "data": {
      "text/plain": [
       "21.39792156946724"
      ]
     },
     "execution_count": 35,
     "metadata": {},
     "output_type": "execute_result"
    }
   ],
   "source": [
    "#随机森林rmse\n",
    "forest_rmse = np.sqrt(forest_mse)\n",
    "forest_rmse"
   ]
  },
  {
   "cell_type": "code",
   "execution_count": 36,
   "id": "673b7d23",
   "metadata": {},
   "outputs": [
    {
     "data": {
      "text/plain": [
       "-0.17328797091404913"
      ]
     },
     "execution_count": 36,
     "metadata": {},
     "output_type": "execute_result"
    }
   ],
   "source": [
    "#随机森林R方评估\n",
    "from sklearn.metrics import r2_score\n",
    "r2_score(y_valid,forest_predict)"
   ]
  },
  {
   "cell_type": "code",
   "execution_count": 18,
   "id": "8866a07e",
   "metadata": {},
   "outputs": [
    {
     "data": {
      "image/png": "[encoded data removed]",
      "text/plain": [
       "<Figure size 432x288 with 1 Axes>"
      ]
     },
     "metadata": {
      "needs_background": "light"
     },
     "output_type": "display_data"
    }
   ],
   "source": [
    "plot_learning_curves(forest_rnd_search.best_estimator_, X_train_full, y_train_full)\n",
    "plt.axis([0, 150, 0, 50])                         # not shown in the book\n",
    "plt.show()    "
   ]
  },
  {
   "cell_type": "code",
   "execution_count": 88,
   "id": "5b2c8f80",
   "metadata": {},
   "outputs": [
    {
     "data": {
      "image/png": "[encoded data removed]",
      "text/plain": [
       "<Figure size 432x288 with 1 Axes>"
      ]
     },
     "metadata": {
      "needs_background": "light"
     },
     "output_type": "display_data"
    },
    {
     "data": {
      "image/png": "[encoded data removed]",
      "text/plain": [
       "<Figure size 432x288 with 1 Axes>"
      ]
     },
     "metadata": {
      "needs_background": "light"
     },
     "output_type": "display_data"
    }
   ],
   "source": [
    "plt.figure(1)\n",
    "plt.clf()\n",
    "ax=plt.axes(aspect='equal')\n",
    "plt.scatter(y_valid,forest_predic)\n",
    "plt.xlabel('True Values')\n",
    "plt.ylabel('Predictions')\n",
    "Lims=[0,100]\n",
    "plt.xlim(Lims)\n",
    "plt.ylim(Lims)\n",
    "plt.plot(Lims,Lims)\n",
    "plt.grid(False)\n",
    "    \n",
    "plt.figure(2)\n",
    "plt.clf()\n",
    "plt.hist(forest_predict,bins=30)\n",
    "plt.xlabel('Prediction Error')\n",
    "plt.ylabel('Count')\n",
    "plt.grid(False)\n"
   ]
  },
  {
   "cell_type": "code",
   "execution_count": null,
   "id": "0aa9faaa",
   "metadata": {},
   "outputs": [],
   "source": []
  },
  {
   "cell_type": "code",
   "execution_count": null,
   "id": "9171a15e",
   "metadata": {},
   "outputs": [],
   "source": []
  },
  {
   "cell_type": "code",
   "execution_count": null,
   "id": "d640c5e5",
   "metadata": {},
   "outputs": [],
   "source": []
  }
 ],
 "metadata": {
  "kernelspec": {
   "display_name": "Python 3",
   "language": "python",
   "name": "python3"
  },
  "language_info": {
   "codemirror_mode": {
    "name": "ipython",
    "version": 3
   },
   "file_extension": ".py",
   "mimetype": "text/x-python",
   "name": "python",
   "nbconvert_exporter": "python",
   "pygments_lexer": "ipython3",
   "version": "3.8.8"
  }
 },
 "nbformat": 4,
 "nbformat_minor": 5
}
