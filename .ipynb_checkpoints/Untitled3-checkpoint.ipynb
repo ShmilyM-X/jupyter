{
 "cells": [
  {
   "cell_type": "code",
   "execution_count": 1,
   "id": "60276092",
   "metadata": {},
   "outputs": [],
   "source": [
    "import os\n",
    "import tarfile\n",
    "import urllib.request\n",
    "\n",
    "RES_PATH = os.path.join(\"res_datasets\",\"resourceing\")"
   ]
  },
  {
   "cell_type": "code",
   "execution_count": 2,
   "id": "67091991",
   "metadata": {},
   "outputs": [],
   "source": [
    "def fetch_housing_data(res_path=RES_PATH):\n",
    "    if not os.path.isdir(res_path):\n",
    "        os.makedirs(res_path)\n",
    "##创建文件夹路径函数\n",
    "from sklearn.metrics import mean_squared_error\n",
    "from sklearn.model_selection import train_test_split\n",
    "import matplotlib as mpl\n",
    "import matplotlib.pyplot as plt\n",
    "import numpy as np\n",
    "\n",
    "def plot_learning_curves(model, X, y):\n",
    "    X_train, X_val, y_train, y_val = train_test_split(X, y, test_size=0.2, random_state=10)\n",
    "    train_errors, val_errors = [], []\n",
    "    for m in range(1, len(X_train) + 1):\n",
    "        model.fit(X_train[:m], y_train[:m])\n",
    "        y_train_predict = model.predict(X_train[:m])\n",
    "        y_val_predict = model.predict(X_val)\n",
    "        train_errors.append(mean_squared_error(y_train[:m], y_train_predict))\n",
    "        val_errors.append(mean_squared_error(y_val, y_val_predict))\n",
    "\n",
    "    plt.plot(np.sqrt(train_errors), \"r-\", linewidth=2, label=\"train\")\n",
    "    plt.plot(np.sqrt(val_errors), \"b-\", linewidth=1, label=\"val\")\n",
    "    plt.legend(loc=\"upper right\", fontsize=14)   # not shown in the book\n",
    "    plt.xlabel(\"Training set size\", fontsize=14) # not shown\n",
    "    plt.ylabel(\"RMSE\", fontsize=14)              # not shown"
   ]
  },
  {
   "cell_type": "code",
   "execution_count": 3,
   "id": "5f9ab33b",
   "metadata": {},
   "outputs": [],
   "source": [
    "fetch_housing_data() ##调用创建"
   ]
  },
  {
   "cell_type": "code",
   "execution_count": 4,
   "id": "8aa730a5",
   "metadata": {},
   "outputs": [],
   "source": [
    "import pandas as pd\n",
    "\n",
    "def load_res_data(res_path = RES_PATH,file_name=\"new_feature_1214.csv\"):\n",
    "    csv_path = os.path.join(RES_PATH,file_name)\n",
    "    return pd.read_csv(csv_path) \n",
    "##读取CSV文件"
   ]
  },
  {
   "cell_type": "code",
   "execution_count": 5,
   "id": "9fb02018",
   "metadata": {},
   "outputs": [],
   "source": [
    "resource_origin_data = load_res_data() "
   ]
  },
  {
   "cell_type": "code",
   "execution_count": 6,
   "id": "21203430",
   "metadata": {},
   "outputs": [
    {
     "data": {
      "text/plain": [
       "(230, 66)"
      ]
     },
     "execution_count": 6,
     "metadata": {},
     "output_type": "execute_result"
    }
   ],
   "source": [
    "resource_origin_data.shape"
   ]
  },
  {
   "cell_type": "code",
   "execution_count": 7,
   "id": "68387058",
   "metadata": {},
   "outputs": [
    {
     "data": {
      "text/html": [
       "<div>\n",
       "<style scoped>\n",
       "    .dataframe tbody tr th:only-of-type {\n",
       "        vertical-align: middle;\n",
       "    }\n",
       "\n",
       "    .dataframe tbody tr th {\n",
       "        vertical-align: top;\n",
       "    }\n",
       "\n",
       "    .dataframe thead th {\n",
       "        text-align: right;\n",
       "    }\n",
       "</style>\n",
       "<table border=\"1\" class=\"dataframe\">\n",
       "  <thead>\n",
       "    <tr style=\"text-align: right;\">\n",
       "      <th></th>\n",
       "      <th>ARITLSHIFT</th>\n",
       "      <th>ARITLSHIFT_PORT_NUM</th>\n",
       "      <th>ARITLSHIFT_PORT_WIDTH</th>\n",
       "      <th>ARITLSHIFT_VALUE</th>\n",
       "      <th>ARITRSHIFT</th>\n",
       "      <th>ARITRSHIFT_PORT_NUM</th>\n",
       "      <th>ARITRSHIFT_PORT_WIDTH</th>\n",
       "      <th>ARITRSHIFT_VALUE</th>\n",
       "      <th>AlwaysConstructs</th>\n",
       "      <th>AssignLHSPortNum</th>\n",
       "      <th>...</th>\n",
       "      <th>REDXOR</th>\n",
       "      <th>REG</th>\n",
       "      <th>REGWIDTH</th>\n",
       "      <th>UnaryOperator</th>\n",
       "      <th>WIRENUM</th>\n",
       "      <th>WIREWIDTH</th>\n",
       "      <th>LUT</th>\n",
       "      <th>FF</th>\n",
       "      <th>IO</th>\n",
       "      <th>BUFG</th>\n",
       "    </tr>\n",
       "  </thead>\n",
       "  <tbody>\n",
       "    <tr>\n",
       "      <th>count</th>\n",
       "      <td>230.0</td>\n",
       "      <td>230.0</td>\n",
       "      <td>230.0</td>\n",
       "      <td>230.0</td>\n",
       "      <td>230.000000</td>\n",
       "      <td>230.000000</td>\n",
       "      <td>230.000000</td>\n",
       "      <td>230.000000</td>\n",
       "      <td>230.000000</td>\n",
       "      <td>230.000000</td>\n",
       "      <td>...</td>\n",
       "      <td>230.000000</td>\n",
       "      <td>230.00000</td>\n",
       "      <td>230.000000</td>\n",
       "      <td>230.000000</td>\n",
       "      <td>230.000000</td>\n",
       "      <td>230.000000</td>\n",
       "      <td>212.000000</td>\n",
       "      <td>212.000000</td>\n",
       "      <td>212.000000</td>\n",
       "      <td>212.000000</td>\n",
       "    </tr>\n",
       "    <tr>\n",
       "      <th>mean</th>\n",
       "      <td>0.0</td>\n",
       "      <td>0.0</td>\n",
       "      <td>0.0</td>\n",
       "      <td>0.0</td>\n",
       "      <td>0.104348</td>\n",
       "      <td>0.065217</td>\n",
       "      <td>0.621739</td>\n",
       "      <td>0.356522</td>\n",
       "      <td>2.239130</td>\n",
       "      <td>2.882609</td>\n",
       "      <td>...</td>\n",
       "      <td>0.543478</td>\n",
       "      <td>3.76087</td>\n",
       "      <td>121.152174</td>\n",
       "      <td>0.234783</td>\n",
       "      <td>2.956522</td>\n",
       "      <td>16.543478</td>\n",
       "      <td>32.731132</td>\n",
       "      <td>22.627358</td>\n",
       "      <td>30.537736</td>\n",
       "      <td>0.825472</td>\n",
       "    </tr>\n",
       "    <tr>\n",
       "      <th>std</th>\n",
       "      <td>0.0</td>\n",
       "      <td>0.0</td>\n",
       "      <td>0.0</td>\n",
       "      <td>0.0</td>\n",
       "      <td>0.728388</td>\n",
       "      <td>0.503359</td>\n",
       "      <td>4.396352</td>\n",
       "      <td>2.691378</td>\n",
       "      <td>3.164933</td>\n",
       "      <td>9.842833</td>\n",
       "      <td>...</td>\n",
       "      <td>3.926767</td>\n",
       "      <td>5.39442</td>\n",
       "      <td>679.017296</td>\n",
       "      <td>2.148750</td>\n",
       "      <td>8.431995</td>\n",
       "      <td>56.044706</td>\n",
       "      <td>85.157887</td>\n",
       "      <td>59.159899</td>\n",
       "      <td>57.435672</td>\n",
       "      <td>0.586347</td>\n",
       "    </tr>\n",
       "    <tr>\n",
       "      <th>min</th>\n",
       "      <td>0.0</td>\n",
       "      <td>0.0</td>\n",
       "      <td>0.0</td>\n",
       "      <td>0.0</td>\n",
       "      <td>0.000000</td>\n",
       "      <td>0.000000</td>\n",
       "      <td>0.000000</td>\n",
       "      <td>0.000000</td>\n",
       "      <td>0.000000</td>\n",
       "      <td>0.000000</td>\n",
       "      <td>...</td>\n",
       "      <td>0.000000</td>\n",
       "      <td>0.00000</td>\n",
       "      <td>0.000000</td>\n",
       "      <td>0.000000</td>\n",
       "      <td>0.000000</td>\n",
       "      <td>0.000000</td>\n",
       "      <td>0.000000</td>\n",
       "      <td>0.000000</td>\n",
       "      <td>0.000000</td>\n",
       "      <td>0.000000</td>\n",
       "    </tr>\n",
       "    <tr>\n",
       "      <th>25%</th>\n",
       "      <td>0.0</td>\n",
       "      <td>0.0</td>\n",
       "      <td>0.0</td>\n",
       "      <td>0.0</td>\n",
       "      <td>0.000000</td>\n",
       "      <td>0.000000</td>\n",
       "      <td>0.000000</td>\n",
       "      <td>0.000000</td>\n",
       "      <td>1.000000</td>\n",
       "      <td>0.000000</td>\n",
       "      <td>...</td>\n",
       "      <td>0.000000</td>\n",
       "      <td>1.00000</td>\n",
       "      <td>1.000000</td>\n",
       "      <td>0.000000</td>\n",
       "      <td>0.000000</td>\n",
       "      <td>0.000000</td>\n",
       "      <td>1.000000</td>\n",
       "      <td>0.000000</td>\n",
       "      <td>5.000000</td>\n",
       "      <td>0.000000</td>\n",
       "    </tr>\n",
       "    <tr>\n",
       "      <th>50%</th>\n",
       "      <td>0.0</td>\n",
       "      <td>0.0</td>\n",
       "      <td>0.0</td>\n",
       "      <td>0.0</td>\n",
       "      <td>0.000000</td>\n",
       "      <td>0.000000</td>\n",
       "      <td>0.000000</td>\n",
       "      <td>0.000000</td>\n",
       "      <td>1.000000</td>\n",
       "      <td>1.000000</td>\n",
       "      <td>...</td>\n",
       "      <td>0.000000</td>\n",
       "      <td>2.00000</td>\n",
       "      <td>8.000000</td>\n",
       "      <td>0.000000</td>\n",
       "      <td>0.000000</td>\n",
       "      <td>0.000000</td>\n",
       "      <td>8.000000</td>\n",
       "      <td>4.500000</td>\n",
       "      <td>14.000000</td>\n",
       "      <td>1.000000</td>\n",
       "    </tr>\n",
       "    <tr>\n",
       "      <th>75%</th>\n",
       "      <td>0.0</td>\n",
       "      <td>0.0</td>\n",
       "      <td>0.0</td>\n",
       "      <td>0.0</td>\n",
       "      <td>0.000000</td>\n",
       "      <td>0.000000</td>\n",
       "      <td>0.000000</td>\n",
       "      <td>0.000000</td>\n",
       "      <td>2.000000</td>\n",
       "      <td>2.000000</td>\n",
       "      <td>...</td>\n",
       "      <td>0.000000</td>\n",
       "      <td>4.00000</td>\n",
       "      <td>31.750000</td>\n",
       "      <td>0.000000</td>\n",
       "      <td>1.750000</td>\n",
       "      <td>2.000000</td>\n",
       "      <td>35.250000</td>\n",
       "      <td>26.000000</td>\n",
       "      <td>33.000000</td>\n",
       "      <td>1.000000</td>\n",
       "    </tr>\n",
       "    <tr>\n",
       "      <th>max</th>\n",
       "      <td>0.0</td>\n",
       "      <td>0.0</td>\n",
       "      <td>0.0</td>\n",
       "      <td>0.0</td>\n",
       "      <td>8.000000</td>\n",
       "      <td>7.000000</td>\n",
       "      <td>56.000000</td>\n",
       "      <td>28.000000</td>\n",
       "      <td>24.000000</td>\n",
       "      <td>127.000000</td>\n",
       "      <td>...</td>\n",
       "      <td>56.000000</td>\n",
       "      <td>32.00000</td>\n",
       "      <td>8202.000000</td>\n",
       "      <td>32.000000</td>\n",
       "      <td>65.000000</td>\n",
       "      <td>575.000000</td>\n",
       "      <td>948.000000</td>\n",
       "      <td>768.000000</td>\n",
       "      <td>556.000000</td>\n",
       "      <td>3.000000</td>\n",
       "    </tr>\n",
       "  </tbody>\n",
       "</table>\n",
       "<p>8 rows × 65 columns</p>\n",
       "</div>"
      ],
      "text/plain": [
       "       ARITLSHIFT  ARITLSHIFT_PORT_NUM  ARITLSHIFT_PORT_WIDTH  \\\n",
       "count       230.0                230.0                  230.0   \n",
       "mean          0.0                  0.0                    0.0   \n",
       "std           0.0                  0.0                    0.0   \n",
       "min           0.0                  0.0                    0.0   \n",
       "25%           0.0                  0.0                    0.0   \n",
       "50%           0.0                  0.0                    0.0   \n",
       "75%           0.0                  0.0                    0.0   \n",
       "max           0.0                  0.0                    0.0   \n",
       "\n",
       "       ARITLSHIFT_VALUE  ARITRSHIFT  ARITRSHIFT_PORT_NUM  \\\n",
       "count             230.0  230.000000           230.000000   \n",
       "mean                0.0    0.104348             0.065217   \n",
       "std                 0.0    0.728388             0.503359   \n",
       "min                 0.0    0.000000             0.000000   \n",
       "25%                 0.0    0.000000             0.000000   \n",
       "50%                 0.0    0.000000             0.000000   \n",
       "75%                 0.0    0.000000             0.000000   \n",
       "max                 0.0    8.000000             7.000000   \n",
       "\n",
       "       ARITRSHIFT_PORT_WIDTH  ARITRSHIFT_VALUE  AlwaysConstructs  \\\n",
       "count             230.000000        230.000000        230.000000   \n",
       "mean                0.621739          0.356522          2.239130   \n",
       "std                 4.396352          2.691378          3.164933   \n",
       "min                 0.000000          0.000000          0.000000   \n",
       "25%                 0.000000          0.000000          1.000000   \n",
       "50%                 0.000000          0.000000          1.000000   \n",
       "75%                 0.000000          0.000000          2.000000   \n",
       "max                56.000000         28.000000         24.000000   \n",
       "\n",
       "       AssignLHSPortNum  ...      REDXOR        REG     REGWIDTH  \\\n",
       "count        230.000000  ...  230.000000  230.00000   230.000000   \n",
       "mean           2.882609  ...    0.543478    3.76087   121.152174   \n",
       "std            9.842833  ...    3.926767    5.39442   679.017296   \n",
       "min            0.000000  ...    0.000000    0.00000     0.000000   \n",
       "25%            0.000000  ...    0.000000    1.00000     1.000000   \n",
       "50%            1.000000  ...    0.000000    2.00000     8.000000   \n",
       "75%            2.000000  ...    0.000000    4.00000    31.750000   \n",
       "max          127.000000  ...   56.000000   32.00000  8202.000000   \n",
       "\n",
       "       UnaryOperator     WIRENUM   WIREWIDTH         LUT          FF  \\\n",
       "count     230.000000  230.000000  230.000000  212.000000  212.000000   \n",
       "mean        0.234783    2.956522   16.543478   32.731132   22.627358   \n",
       "std         2.148750    8.431995   56.044706   85.157887   59.159899   \n",
       "min         0.000000    0.000000    0.000000    0.000000    0.000000   \n",
       "25%         0.000000    0.000000    0.000000    1.000000    0.000000   \n",
       "50%         0.000000    0.000000    0.000000    8.000000    4.500000   \n",
       "75%         0.000000    1.750000    2.000000   35.250000   26.000000   \n",
       "max        32.000000   65.000000  575.000000  948.000000  768.000000   \n",
       "\n",
       "               IO        BUFG  \n",
       "count  212.000000  212.000000  \n",
       "mean    30.537736    0.825472  \n",
       "std     57.435672    0.586347  \n",
       "min      0.000000    0.000000  \n",
       "25%      5.000000    0.000000  \n",
       "50%     14.000000    1.000000  \n",
       "75%     33.000000    1.000000  \n",
       "max    556.000000    3.000000  \n",
       "\n",
       "[8 rows x 65 columns]"
      ]
     },
     "execution_count": 7,
     "metadata": {},
     "output_type": "execute_result"
    }
   ],
   "source": [
    "resource_origin_data.describe() "
   ]
  },
  {
   "cell_type": "code",
   "execution_count": 8,
   "id": "b937b13a",
   "metadata": {},
   "outputs": [
    {
     "data": {
      "image/png": "[encoded data removed]",
      "text/plain": [
       "<Figure size 1440x1080 with 72 Axes>"
      ]
     },
     "metadata": {
      "needs_background": "light"
     },
     "output_type": "display_data"
    }
   ],
   "source": [
    "%matplotlib inline\n",
    "import matplotlib.pyplot as plt\n",
    "resource_origin_data.hist(bins=50, figsize=(20,15))\n",
    "plt.show()"
   ]
  },
  {
   "cell_type": "code",
   "execution_count": 9,
   "id": "49557a45",
   "metadata": {},
   "outputs": [
    {
     "data": {
      "text/html": [
       "<div>\n",
       "<style scoped>\n",
       "    .dataframe tbody tr th:only-of-type {\n",
       "        vertical-align: middle;\n",
       "    }\n",
       "\n",
       "    .dataframe tbody tr th {\n",
       "        vertical-align: top;\n",
       "    }\n",
       "\n",
       "    .dataframe thead th {\n",
       "        text-align: right;\n",
       "    }\n",
       "</style>\n",
       "<table border=\"1\" class=\"dataframe\">\n",
       "  <thead>\n",
       "    <tr style=\"text-align: right;\">\n",
       "      <th></th>\n",
       "      <th>ModuleName</th>\n",
       "      <th>ARITLSHIFT</th>\n",
       "      <th>ARITLSHIFT_PORT_NUM</th>\n",
       "      <th>ARITLSHIFT_PORT_WIDTH</th>\n",
       "      <th>ARITLSHIFT_VALUE</th>\n",
       "      <th>ARITRSHIFT</th>\n",
       "      <th>ARITRSHIFT_PORT_NUM</th>\n",
       "      <th>ARITRSHIFT_PORT_WIDTH</th>\n",
       "      <th>ARITRSHIFT_VALUE</th>\n",
       "      <th>AlwaysConstructs</th>\n",
       "      <th>...</th>\n",
       "      <th>REDXOR</th>\n",
       "      <th>REG</th>\n",
       "      <th>REGWIDTH</th>\n",
       "      <th>UnaryOperator</th>\n",
       "      <th>WIRENUM</th>\n",
       "      <th>WIREWIDTH</th>\n",
       "      <th>LUT</th>\n",
       "      <th>FF</th>\n",
       "      <th>IO</th>\n",
       "      <th>BUFG</th>\n",
       "    </tr>\n",
       "  </thead>\n",
       "  <tbody>\n",
       "    <tr>\n",
       "      <th>0</th>\n",
       "      <td>a429_rx_iface</td>\n",
       "      <td>0</td>\n",
       "      <td>0</td>\n",
       "      <td>0</td>\n",
       "      <td>0</td>\n",
       "      <td>0</td>\n",
       "      <td>0</td>\n",
       "      <td>0</td>\n",
       "      <td>0</td>\n",
       "      <td>2</td>\n",
       "      <td>...</td>\n",
       "      <td>1</td>\n",
       "      <td>6</td>\n",
       "      <td>50</td>\n",
       "      <td>0</td>\n",
       "      <td>5</td>\n",
       "      <td>29</td>\n",
       "      <td>42.0</td>\n",
       "      <td>93.0</td>\n",
       "      <td>39.0</td>\n",
       "      <td>1.0</td>\n",
       "    </tr>\n",
       "    <tr>\n",
       "      <th>1</th>\n",
       "      <td>a429_tx_iface</td>\n",
       "      <td>0</td>\n",
       "      <td>0</td>\n",
       "      <td>0</td>\n",
       "      <td>0</td>\n",
       "      <td>0</td>\n",
       "      <td>0</td>\n",
       "      <td>0</td>\n",
       "      <td>0</td>\n",
       "      <td>3</td>\n",
       "      <td>...</td>\n",
       "      <td>0</td>\n",
       "      <td>6</td>\n",
       "      <td>55</td>\n",
       "      <td>0</td>\n",
       "      <td>5</td>\n",
       "      <td>50</td>\n",
       "      <td>74.0</td>\n",
       "      <td>56.0</td>\n",
       "      <td>47.0</td>\n",
       "      <td>2.0</td>\n",
       "    </tr>\n",
       "    <tr>\n",
       "      <th>2</th>\n",
       "      <td>account</td>\n",
       "      <td>0</td>\n",
       "      <td>0</td>\n",
       "      <td>0</td>\n",
       "      <td>0</td>\n",
       "      <td>0</td>\n",
       "      <td>0</td>\n",
       "      <td>0</td>\n",
       "      <td>0</td>\n",
       "      <td>3</td>\n",
       "      <td>...</td>\n",
       "      <td>0</td>\n",
       "      <td>10</td>\n",
       "      <td>28</td>\n",
       "      <td>0</td>\n",
       "      <td>0</td>\n",
       "      <td>0</td>\n",
       "      <td>100.0</td>\n",
       "      <td>88.0</td>\n",
       "      <td>29.0</td>\n",
       "      <td>1.0</td>\n",
       "    </tr>\n",
       "    <tr>\n",
       "      <th>3</th>\n",
       "      <td>add8</td>\n",
       "      <td>0</td>\n",
       "      <td>0</td>\n",
       "      <td>0</td>\n",
       "      <td>0</td>\n",
       "      <td>0</td>\n",
       "      <td>0</td>\n",
       "      <td>0</td>\n",
       "      <td>0</td>\n",
       "      <td>0</td>\n",
       "      <td>...</td>\n",
       "      <td>0</td>\n",
       "      <td>0</td>\n",
       "      <td>0</td>\n",
       "      <td>0</td>\n",
       "      <td>0</td>\n",
       "      <td>0</td>\n",
       "      <td>8.0</td>\n",
       "      <td>0.0</td>\n",
       "      <td>26.0</td>\n",
       "      <td>0.0</td>\n",
       "    </tr>\n",
       "    <tr>\n",
       "      <th>4</th>\n",
       "      <td>adder4</td>\n",
       "      <td>0</td>\n",
       "      <td>0</td>\n",
       "      <td>0</td>\n",
       "      <td>0</td>\n",
       "      <td>0</td>\n",
       "      <td>0</td>\n",
       "      <td>0</td>\n",
       "      <td>0</td>\n",
       "      <td>0</td>\n",
       "      <td>...</td>\n",
       "      <td>0</td>\n",
       "      <td>0</td>\n",
       "      <td>0</td>\n",
       "      <td>0</td>\n",
       "      <td>0</td>\n",
       "      <td>0</td>\n",
       "      <td>4.0</td>\n",
       "      <td>0.0</td>\n",
       "      <td>14.0</td>\n",
       "      <td>0.0</td>\n",
       "    </tr>\n",
       "  </tbody>\n",
       "</table>\n",
       "<p>5 rows × 66 columns</p>\n",
       "</div>"
      ],
      "text/plain": [
       "      ModuleName  ARITLSHIFT  ARITLSHIFT_PORT_NUM  ARITLSHIFT_PORT_WIDTH  \\\n",
       "0  a429_rx_iface           0                    0                      0   \n",
       "1  a429_tx_iface           0                    0                      0   \n",
       "2        account           0                    0                      0   \n",
       "3           add8           0                    0                      0   \n",
       "4         adder4           0                    0                      0   \n",
       "\n",
       "   ARITLSHIFT_VALUE  ARITRSHIFT  ARITRSHIFT_PORT_NUM  ARITRSHIFT_PORT_WIDTH  \\\n",
       "0                 0           0                    0                      0   \n",
       "1                 0           0                    0                      0   \n",
       "2                 0           0                    0                      0   \n",
       "3                 0           0                    0                      0   \n",
       "4                 0           0                    0                      0   \n",
       "\n",
       "   ARITRSHIFT_VALUE  AlwaysConstructs  ...  REDXOR  REG  REGWIDTH  \\\n",
       "0                 0                 2  ...       1    6        50   \n",
       "1                 0                 3  ...       0    6        55   \n",
       "2                 0                 3  ...       0   10        28   \n",
       "3                 0                 0  ...       0    0         0   \n",
       "4                 0                 0  ...       0    0         0   \n",
       "\n",
       "   UnaryOperator  WIRENUM  WIREWIDTH    LUT    FF    IO  BUFG  \n",
       "0              0        5         29   42.0  93.0  39.0   1.0  \n",
       "1              0        5         50   74.0  56.0  47.0   2.0  \n",
       "2              0        0          0  100.0  88.0  29.0   1.0  \n",
       "3              0        0          0    8.0   0.0  26.0   0.0  \n",
       "4              0        0          0    4.0   0.0  14.0   0.0  \n",
       "\n",
       "[5 rows x 66 columns]"
      ]
     },
     "execution_count": 9,
     "metadata": {},
     "output_type": "execute_result"
    }
   ],
   "source": [
    "resource_origin_data.head()"
   ]
  },
  {
   "cell_type": "code",
   "execution_count": 126,
   "id": "b950fb21",
   "metadata": {},
   "outputs": [],
   "source": [
    "import pandas as pd"
   ]
  },
  {
   "cell_type": "code",
   "execution_count": 127,
   "id": "a23b234c",
   "metadata": {},
   "outputs": [],
   "source": [
    "resource_origin_data_lut = resource_origin_data.dropna(subset = [\"IO\"])"
   ]
  },
  {
   "cell_type": "code",
   "execution_count": 128,
   "id": "8bbe39bf",
   "metadata": {},
   "outputs": [],
   "source": [
    "resource_origin_data_lut=resource_origin_data_lut.drop(\"LUT\",axis=1)"
   ]
  },
  {
   "cell_type": "code",
   "execution_count": 129,
   "id": "197cf732",
   "metadata": {},
   "outputs": [],
   "source": [
    "resource_origin_data_lut=resource_origin_data_lut.drop(\"IO\",axis=1)"
   ]
  },
  {
   "cell_type": "code",
   "execution_count": 130,
   "id": "25d219e4",
   "metadata": {},
   "outputs": [],
   "source": [
    "resource_origin_data_lut=resource_origin_data_lut.drop(\"FF\",axis=1)"
   ]
  },
  {
   "cell_type": "code",
   "execution_count": 131,
   "id": "ba916b36",
   "metadata": {},
   "outputs": [],
   "source": [
    "resource_origin_data_lut=resource_origin_data_lut.drop(\"ModuleName\",axis=1)"
   ]
  },
  {
   "cell_type": "code",
   "execution_count": 132,
   "id": "ae6849db",
   "metadata": {},
   "outputs": [],
   "source": [
    "resource_origin_data_lut=resource_origin_data_lut.drop(\"PARAMETERVALUE\",axis=1)"
   ]
  },
  {
   "cell_type": "code",
   "execution_count": 133,
   "id": "842074f2",
   "metadata": {},
   "outputs": [],
   "source": [
    "resource_origin_data_lut=resource_origin_data_lut.drop(\"ModuleInsts\",axis=1)"
   ]
  },
  {
   "cell_type": "code",
   "execution_count": 134,
   "id": "6b6b0603",
   "metadata": {},
   "outputs": [
    {
     "name": "stdout",
     "output_type": "stream",
     "text": [
      "<class 'pandas.core.frame.DataFrame'>\n",
      "Int64Index: 212 entries, 0 to 229\n",
      "Data columns (total 60 columns):\n",
      " #   Column                     Non-Null Count  Dtype  \n",
      "---  ------                     --------------  -----  \n",
      " 0   ARITLSHIFT                 212 non-null    int64  \n",
      " 1   ARITLSHIFT_PORT_NUM        212 non-null    int64  \n",
      " 2   ARITLSHIFT_PORT_WIDTH      212 non-null    int64  \n",
      " 3   ARITLSHIFT_VALUE           212 non-null    int64  \n",
      " 4   ARITRSHIFT                 212 non-null    int64  \n",
      " 5   ARITRSHIFT_PORT_NUM        212 non-null    int64  \n",
      " 6   ARITRSHIFT_PORT_WIDTH      212 non-null    int64  \n",
      " 7   ARITRSHIFT_VALUE           212 non-null    int64  \n",
      " 8   AlwaysConstructs           212 non-null    int64  \n",
      " 9   AssignLHSPortNum           212 non-null    int64  \n",
      " 10  AssignLHSWidth             212 non-null    int64  \n",
      " 11  AssignRHSPortNum           212 non-null    int64  \n",
      " 12  AssignRHSWidth             212 non-null    int64  \n",
      " 13  AssignStmts                212 non-null    int64  \n",
      " 14  BLOCKINGASSIGN             212 non-null    int64  \n",
      " 15  BlockAssign_Left_PortNum   212 non-null    int64  \n",
      " 16  BlockAssign_Left_Width     212 non-null    int64  \n",
      " 17  BlockAssign_Right_PortNum  212 non-null    int64  \n",
      " 18  BlockAssign_Right_Width    212 non-null    int64  \n",
      " 19  CASECONDITIONNUM           212 non-null    int64  \n",
      " 20  CASECONDITIONWIDTH         212 non-null    int64  \n",
      " 21  CASEITEMCONDITIONNUM       212 non-null    int64  \n",
      " 22  CASEITEMCONDITIOWIDTH      212 non-null    int64  \n",
      " 23  CASEITEMNUM                212 non-null    int64  \n",
      " 24  CONDITIONALELSE            212 non-null    int64  \n",
      " 25  CONDITIONALIF              212 non-null    int64  \n",
      " 26  CONDITIONALIFWIDTH         212 non-null    int64  \n",
      " 27  CONDITIONALTHEN            212 non-null    int64  \n",
      " 28  FORBLOCK                   212 non-null    int64  \n",
      " 29  FORTIMES                   212 non-null    int64  \n",
      " 30  FUNCTIONCALL               212 non-null    int64  \n",
      " 31  FUNCTIONNUM                212 non-null    int64  \n",
      " 32  INDEXMEMRORY               212 non-null    int64  \n",
      " 33  INOUT                      212 non-null    int64  \n",
      " 34  INOUTWIDTH                 212 non-null    int64  \n",
      " 35  INPUT                      212 non-null    int64  \n",
      " 36  INPUTWIDTH                 212 non-null    int64  \n",
      " 37  MIN                        212 non-null    int64  \n",
      " 38  NonBlockLeftWidth          212 non-null    int64  \n",
      " 39  NonBlockRightWidth         212 non-null    int64  \n",
      " 40  NonBlockingAssign          212 non-null    int64  \n",
      " 41  NonBlockingLeftPortNum     212 non-null    int64  \n",
      " 42  NonBlockingRightPortNum    212 non-null    int64  \n",
      " 43  OUTPUT                     212 non-null    int64  \n",
      " 44  OUTPUTWIDTH                212 non-null    int64  \n",
      " 45  PARAMETERNUM               212 non-null    int64  \n",
      " 46  PLUS                       212 non-null    int64  \n",
      " 47  QUESTIONCOLON              212 non-null    int64  \n",
      " 48  QUESTIONCOLONELSE          212 non-null    int64  \n",
      " 49  QUESTIONCOLONIF            212 non-null    int64  \n",
      " 50  QUESTIONCOLONTHEN          212 non-null    int64  \n",
      " 51  REDAND                     212 non-null    int64  \n",
      " 52  REDAOR                     212 non-null    int64  \n",
      " 53  REDXOR                     212 non-null    int64  \n",
      " 54  REG                        212 non-null    int64  \n",
      " 55  REGWIDTH                   212 non-null    int64  \n",
      " 56  UnaryOperator              212 non-null    int64  \n",
      " 57  WIRENUM                    212 non-null    int64  \n",
      " 58  WIREWIDTH                  212 non-null    int64  \n",
      " 59  BUFG                       212 non-null    float64\n",
      "dtypes: float64(1), int64(59)\n",
      "memory usage: 101.0 KB\n"
     ]
    }
   ],
   "source": [
    "resource_origin_data_lut.info()"
   ]
  },
  {
   "cell_type": "code",
   "execution_count": 135,
   "id": "2e46f9c0",
   "metadata": {},
   "outputs": [
    {
     "data": {
      "text/plain": [
       "BUFG                         1.000000\n",
       "CONDITIONALELSE              0.495379\n",
       "CONDITIONALTHEN              0.482172\n",
       "CONDITIONALIF                0.482172\n",
       "REG                          0.470216\n",
       "AlwaysConstructs             0.428548\n",
       "NonBlockingAssign            0.403993\n",
       "NonBlockingLeftPortNum       0.401809\n",
       "REDAND                       0.317869\n",
       "CONDITIONALIFWIDTH           0.309479\n",
       "PLUS                         0.305559\n",
       "CASEITEMCONDITIONNUM         0.271905\n",
       "CASECONDITIONWIDTH           0.259700\n",
       "NonBlockLeftWidth            0.259330\n",
       "CASECONDITIONNUM             0.245627\n",
       "INPUT                        0.234286\n",
       "INOUTWIDTH                   0.224780\n",
       "NonBlockRightWidth           0.207749\n",
       "WIRENUM                      0.190672\n",
       "PARAMETERNUM                 0.182626\n",
       "CASEITEMNUM                  0.179864\n",
       "BlockAssign_Right_PortNum    0.165520\n",
       "OUTPUT                       0.165347\n",
       "NonBlockingRightPortNum      0.130424\n",
       "FORTIMES                     0.125342\n",
       "OUTPUTWIDTH                  0.122706\n",
       "FORBLOCK                     0.115528\n",
       "BlockAssign_Left_PortNum     0.113891\n",
       "CASEITEMCONDITIOWIDTH        0.108596\n",
       "BLOCKINGASSIGN               0.106294\n",
       "BlockAssign_Right_Width      0.094033\n",
       "WIREWIDTH                    0.091486\n",
       "INPUTWIDTH                   0.067951\n",
       "AssignRHSWidth               0.061723\n",
       "MIN                          0.053228\n",
       "BlockAssign_Left_Width       0.037454\n",
       "ARITRSHIFT_VALUE             0.035517\n",
       "ARITRSHIFT                   0.033995\n",
       "REGWIDTH                     0.016621\n",
       "ARITRSHIFT_PORT_WIDTH        0.015822\n",
       "AssignLHSWidth               0.014272\n",
       "ARITRSHIFT_PORT_NUM          0.009531\n",
       "FUNCTIONCALL                 0.008336\n",
       "REDXOR                      -0.002441\n",
       "AssignStmts                 -0.007832\n",
       "AssignLHSPortNum            -0.010132\n",
       "INDEXMEMRORY                -0.014562\n",
       "AssignRHSPortNum            -0.019116\n",
       "QUESTIONCOLONTHEN           -0.021202\n",
       "QUESTIONCOLONIF             -0.021202\n",
       "QUESTIONCOLONELSE           -0.021202\n",
       "QUESTIONCOLON               -0.021202\n",
       "UnaryOperator               -0.078593\n",
       "FUNCTIONNUM                 -0.092320\n",
       "REDAOR                      -0.103305\n",
       "ARITLSHIFT                        NaN\n",
       "ARITLSHIFT_PORT_NUM               NaN\n",
       "ARITLSHIFT_PORT_WIDTH             NaN\n",
       "ARITLSHIFT_VALUE                  NaN\n",
       "INOUT                             NaN\n",
       "Name: BUFG, dtype: float64"
      ]
     },
     "execution_count": 135,
     "metadata": {},
     "output_type": "execute_result"
    }
   ],
   "source": [
    "#相关性分析\n",
    "corr_matrix=resource_origin_data_lut.corr()\n",
    "corr_matrix[\"IO\"].sort_values(ascending=False)"
   ]
  },
  {
   "cell_type": "code",
   "execution_count": 137,
   "id": "292203b4",
   "metadata": {},
   "outputs": [],
   "source": [
    "#训练数据处理\n",
    "resource_lut = resource_origin_data_lut[\"IO\"].copy()\n",
    "resource_lut_data = resource_origin_data_lut.drop(\"IO\",axis=1)"
   ]
  },
  {
   "cell_type": "code",
   "execution_count": 138,
   "id": "2de8ee33",
   "metadata": {},
   "outputs": [],
   "source": [
    "resource_label = list(resource_lut_data)"
   ]
  },
  {
   "cell_type": "code",
   "execution_count": 139,
   "id": "42fbb38c",
   "metadata": {},
   "outputs": [
    {
     "data": {
      "text/plain": [
       "0      1.0\n",
       "1      2.0\n",
       "2      1.0\n",
       "3      0.0\n",
       "4      0.0\n",
       "      ... \n",
       "225    0.0\n",
       "226    1.0\n",
       "227    1.0\n",
       "228    1.0\n",
       "229    1.0\n",
       "Name: BUFG, Length: 212, dtype: float64"
      ]
     },
     "execution_count": 139,
     "metadata": {},
     "output_type": "execute_result"
    }
   ],
   "source": [
    "resource_lut"
   ]
  },
  {
   "cell_type": "code",
   "execution_count": 140,
   "id": "c9793977",
   "metadata": {},
   "outputs": [],
   "source": [
    "from sklearn.datasets import fetch_california_housing\n",
    "from sklearn.model_selection import train_test_split\n",
    "from sklearn.preprocessing import StandardScaler\n",
    "#训练集、测试集、验证集\n",
    "X_train_full, X_test, y_train_full, y_test = train_test_split(resource_lut_data, resource_lut,test_size=0.2,random_state=42)\n",
    "X_train, X_valid, y_train, y_valid = train_test_split(X_train_full, y_train_full, random_state=42)\n"
   ]
  },
  {
   "cell_type": "code",
   "execution_count": 141,
   "id": "8a5484bd",
   "metadata": {},
   "outputs": [],
   "source": [
    "scaler = StandardScaler() ##标准化\n",
    "X_train = scaler.fit_transform(X_train)\n",
    "X_valid = scaler.transform(X_valid)\n",
    "X_test = scaler.transform(X_test)\n",
    "X_train_full = scaler.transform(X_train_full)\n",
    "X_data_full = scaler.transform(resource_lut_data)"
   ]
  },
  {
   "cell_type": "code",
   "execution_count": 142,
   "id": "cffb58dc",
   "metadata": {},
   "outputs": [],
   "source": [
    "#线性回归"
   ]
  },
  {
   "cell_type": "code",
   "execution_count": 143,
   "id": "2f82694e",
   "metadata": {},
   "outputs": [],
   "source": [
    "from sklearn.linear_model import LinearRegression"
   ]
  },
  {
   "cell_type": "code",
   "execution_count": 144,
   "id": "556def12",
   "metadata": {},
   "outputs": [],
   "source": [
    "lin_reg = LinearRegression()"
   ]
  },
  {
   "cell_type": "code",
   "execution_count": 145,
   "id": "0746efd9",
   "metadata": {},
   "outputs": [
    {
     "data": {
      "text/plain": [
       "LinearRegression()"
      ]
     },
     "execution_count": 145,
     "metadata": {},
     "output_type": "execute_result"
    }
   ],
   "source": [
    "lin_reg.fit(X_train,y_train)"
   ]
  },
  {
   "cell_type": "code",
   "execution_count": 146,
   "id": "ef7029d7",
   "metadata": {},
   "outputs": [],
   "source": [
    "lin_predic = lin_reg.predict(X_valid)"
   ]
  },
  {
   "cell_type": "code",
   "execution_count": 149,
   "id": "93f2f8fd",
   "metadata": {},
   "outputs": [
    {
     "data": {
      "text/plain": [
       "6.694175590123277"
      ]
     },
     "execution_count": 149,
     "metadata": {},
     "output_type": "execute_result"
    }
   ],
   "source": [
    "line_mse = mean_squared_error(y_valid,lin_predic)\n",
    "line_rmse = np.sqrt(line_mse)\n",
    "line_rmse"
   ]
  },
  {
   "cell_type": "code",
   "execution_count": 150,
   "id": "bbd5014b",
   "metadata": {},
   "outputs": [
    {
     "data": {
      "text/plain": [
       "-126.08184609089399"
      ]
     },
     "execution_count": 150,
     "metadata": {},
     "output_type": "execute_result"
    }
   ],
   "source": [
    "from sklearn.metrics import r2_score\n",
    "r2_score(y_valid,lin_predic)"
   ]
  },
  {
   "cell_type": "code",
   "execution_count": 151,
   "id": "8a155d1c",
   "metadata": {},
   "outputs": [
    {
     "data": {
      "image/png": "[encoded data removed]",
      "text/plain": [
       "<Figure size 432x288 with 1 Axes>"
      ]
     },
     "metadata": {
      "needs_background": "light"
     },
     "output_type": "display_data"
    }
   ],
   "source": [
    "plot_learning_curves(lin_reg, X_train_full, y_train_full)\n",
    "plt.axis([0, 200, 0, 500])\n",
    "plt.savefig(\"Graph/line_gress.jpg\")# not shown in the book   # not shown\n",
    "plt.show()                                      # not shown"
   ]
  },
  {
   "cell_type": "code",
   "execution_count": 152,
   "id": "36aecd81",
   "metadata": {},
   "outputs": [],
   "source": [
    "#决策树\n",
    "from sklearn.tree import DecisionTreeRegressor\n",
    "tree_reg = DecisionTreeRegressor()"
   ]
  },
  {
   "cell_type": "code",
   "execution_count": 153,
   "id": "4d614061",
   "metadata": {},
   "outputs": [
    {
     "data": {
      "text/plain": [
       "DecisionTreeRegressor()"
      ]
     },
     "execution_count": 153,
     "metadata": {},
     "output_type": "execute_result"
    }
   ],
   "source": [
    "tree_reg.fit(X_train,y_train)"
   ]
  },
  {
   "cell_type": "code",
   "execution_count": 156,
   "id": "0f0fd88b",
   "metadata": {},
   "outputs": [
    {
     "data": {
      "text/plain": [
       "0.07668711656441729"
      ]
     },
     "execution_count": 156,
     "metadata": {},
     "output_type": "execute_result"
    }
   ],
   "source": [
    "tree_predictions = tree_reg.predict(X_valid)\n",
    "tree_mse = mean_squared_error(tree_predictions,y_valid)\n",
    "tree_rmse = np.sqrt(tree_mse)\n",
    "\n",
    "r2_score(y_valid,tree_predictions)"
   ]
  },
  {
   "cell_type": "code",
   "execution_count": 157,
   "id": "eada5c5a",
   "metadata": {},
   "outputs": [
    {
     "data": {
      "text/plain": [
       "0.5705974021574557"
      ]
     },
     "execution_count": 157,
     "metadata": {},
     "output_type": "execute_result"
    }
   ],
   "source": [
    "tree_rmse"
   ]
  },
  {
   "cell_type": "code",
   "execution_count": 158,
   "id": "1b074fb4",
   "metadata": {},
   "outputs": [
    {
     "data": {
      "text/plain": [
       "array([0., 1., 0., 2., 1., 1., 2., 0., 1., 1., 1., 0., 1., 1., 0., 1., 1.,\n",
       "       0., 2., 0., 0., 1., 1., 1., 1., 1., 1., 1., 3., 2., 2., 1., 0., 0.,\n",
       "       1., 1., 1., 0., 1., 0., 0., 0., 0.])"
      ]
     },
     "execution_count": 158,
     "metadata": {},
     "output_type": "execute_result"
    }
   ],
   "source": [
    "tree_predictions"
   ]
  },
  {
   "cell_type": "code",
   "execution_count": 159,
   "id": "1afe11b9",
   "metadata": {},
   "outputs": [
    {
     "data": {
      "text/plain": [
       "58     0.0\n",
       "151    1.0\n",
       "16     0.0\n",
       "52     1.0\n",
       "220    1.0\n",
       "204    1.0\n",
       "17     1.0\n",
       "96     1.0\n",
       "208    0.0\n",
       "11     1.0\n",
       "77     1.0\n",
       "99     1.0\n",
       "60     1.0\n",
       "2      1.0\n",
       "4      0.0\n",
       "75     1.0\n",
       "196    2.0\n",
       "91     0.0\n",
       "10     1.0\n",
       "59     1.0\n",
       "110    1.0\n",
       "5      1.0\n",
       "214    1.0\n",
       "66     1.0\n",
       "201    1.0\n",
       "130    1.0\n",
       "177    1.0\n",
       "178    2.0\n",
       "72     2.0\n",
       "71     1.0\n",
       "156    2.0\n",
       "28     1.0\n",
       "166    0.0\n",
       "7      0.0\n",
       "40     1.0\n",
       "68     2.0\n",
       "80     1.0\n",
       "92     0.0\n",
       "226    1.0\n",
       "62     0.0\n",
       "29     1.0\n",
       "94     0.0\n",
       "14     0.0\n",
       "Name: BUFG, dtype: float64"
      ]
     },
     "execution_count": 159,
     "metadata": {},
     "output_type": "execute_result"
    }
   ],
   "source": [
    "y_valid"
   ]
  },
  {
   "cell_type": "code",
   "execution_count": 160,
   "id": "cb906588",
   "metadata": {},
   "outputs": [
    {
     "data": {
      "image/png": "[encoded data removed]",
      "text/plain": [
       "<Figure size 432x288 with 1 Axes>"
      ]
     },
     "metadata": {
      "needs_background": "light"
     },
     "output_type": "display_data"
    }
   ],
   "source": [
    "plot_learning_curves(tree_reg, X_train_full, y_train_full)\n",
    "plt.axis([0, 200, 0, 200])                         # not shown in the book   # not shown\n",
    "plt.show()    "
   ]
  },
  {
   "cell_type": "code",
   "execution_count": 161,
   "id": "81d1b5df",
   "metadata": {},
   "outputs": [
    {
     "data": {
      "text/plain": [
       "RandomForestRegressor(random_state=42)"
      ]
     },
     "execution_count": 161,
     "metadata": {},
     "output_type": "execute_result"
    }
   ],
   "source": [
    "#随机森林\n",
    "from sklearn.ensemble import RandomForestRegressor\n",
    "forest_reg = RandomForestRegressor(random_state=42)\n",
    "forest_reg.fit(X_train,y_train)"
   ]
  },
  {
   "cell_type": "code",
   "execution_count": 162,
   "id": "0d98e034",
   "metadata": {},
   "outputs": [
    {
     "data": {
      "text/plain": [
       "0.33259025702772393"
      ]
     },
     "execution_count": 162,
     "metadata": {},
     "output_type": "execute_result"
    }
   ],
   "source": [
    "forest_predic = forest_reg.predict(X_valid)\n",
    "forest_mse = mean_squared_error(y_valid,forest_predic)\n",
    "forest_rmse = np.sqrt(forest_mse)\n",
    "forest_rmse\n"
   ]
  },
  {
   "cell_type": "code",
   "execution_count": 163,
   "id": "dfa0d88e",
   "metadata": {},
   "outputs": [
    {
     "data": {
      "text/plain": [
       "0.6863044478527607"
      ]
     },
     "execution_count": 163,
     "metadata": {},
     "output_type": "execute_result"
    }
   ],
   "source": [
    "r2_score(y_valid,forest_predic)"
   ]
  },
  {
   "cell_type": "code",
   "execution_count": 164,
   "id": "8833fef2",
   "metadata": {},
   "outputs": [
    {
     "data": {
      "image/png": "[encoded data removed]",
      "text/plain": [
       "<Figure size 432x288 with 1 Axes>"
      ]
     },
     "metadata": {
      "needs_background": "light"
     },
     "output_type": "display_data"
    }
   ],
   "source": [
    "plot_learning_curves(forest_reg, X_train_full, y_train_full)\n",
    "plt.axis([0, 140, 0, 70])                         # not shown in the book   # not shown\n",
    "plt.show()    "
   ]
  },
  {
   "cell_type": "code",
   "execution_count": 165,
   "id": "9af9e458",
   "metadata": {},
   "outputs": [
    {
     "ename": "KeyboardInterrupt",
     "evalue": "",
     "output_type": "error",
     "traceback": [
      "\u001b[1;31m---------------------------------------------------------------------------\u001b[0m",
      "\u001b[1;31mKeyboardInterrupt\u001b[0m                         Traceback (most recent call last)",
      "\u001b[1;32m<ipython-input-165-d3a926fb36d7>\u001b[0m in \u001b[0;36m<module>\u001b[1;34m\u001b[0m\n\u001b[0;32m     10\u001b[0m forest_rnd_search = RandomizedSearchCV(forest_reg, param_distributions=param_distribs,\n\u001b[0;32m     11\u001b[0m                                 n_iter=500, cv=5, scoring='neg_mean_squared_error', random_state=42)\n\u001b[1;32m---> 12\u001b[1;33m \u001b[0mforest_rnd_search\u001b[0m\u001b[1;33m.\u001b[0m\u001b[0mfit\u001b[0m\u001b[1;33m(\u001b[0m\u001b[0mX_train\u001b[0m\u001b[1;33m,\u001b[0m \u001b[0my_train\u001b[0m\u001b[1;33m)\u001b[0m\u001b[1;33m\u001b[0m\u001b[1;33m\u001b[0m\u001b[0m\n\u001b[0m",
      "\u001b[1;32mD:\\ProgramData\\Anaconda3\\lib\\site-packages\\sklearn\\utils\\validation.py\u001b[0m in \u001b[0;36minner_f\u001b[1;34m(*args, **kwargs)\u001b[0m\n\u001b[0;32m     61\u001b[0m             \u001b[0mextra_args\u001b[0m \u001b[1;33m=\u001b[0m \u001b[0mlen\u001b[0m\u001b[1;33m(\u001b[0m\u001b[0margs\u001b[0m\u001b[1;33m)\u001b[0m \u001b[1;33m-\u001b[0m \u001b[0mlen\u001b[0m\u001b[1;33m(\u001b[0m\u001b[0mall_args\u001b[0m\u001b[1;33m)\u001b[0m\u001b[1;33m\u001b[0m\u001b[1;33m\u001b[0m\u001b[0m\n\u001b[0;32m     62\u001b[0m             \u001b[1;32mif\u001b[0m \u001b[0mextra_args\u001b[0m \u001b[1;33m<=\u001b[0m \u001b[1;36m0\u001b[0m\u001b[1;33m:\u001b[0m\u001b[1;33m\u001b[0m\u001b[1;33m\u001b[0m\u001b[0m\n\u001b[1;32m---> 63\u001b[1;33m                 \u001b[1;32mreturn\u001b[0m \u001b[0mf\u001b[0m\u001b[1;33m(\u001b[0m\u001b[1;33m*\u001b[0m\u001b[0margs\u001b[0m\u001b[1;33m,\u001b[0m \u001b[1;33m**\u001b[0m\u001b[0mkwargs\u001b[0m\u001b[1;33m)\u001b[0m\u001b[1;33m\u001b[0m\u001b[1;33m\u001b[0m\u001b[0m\n\u001b[0m\u001b[0;32m     64\u001b[0m \u001b[1;33m\u001b[0m\u001b[0m\n\u001b[0;32m     65\u001b[0m             \u001b[1;31m# extra_args > 0\u001b[0m\u001b[1;33m\u001b[0m\u001b[1;33m\u001b[0m\u001b[1;33m\u001b[0m\u001b[0m\n",
      "\u001b[1;32mD:\\ProgramData\\Anaconda3\\lib\\site-packages\\sklearn\\model_selection\\_search.py\u001b[0m in \u001b[0;36mfit\u001b[1;34m(self, X, y, groups, **fit_params)\u001b[0m\n\u001b[0;32m    839\u001b[0m                 \u001b[1;32mreturn\u001b[0m \u001b[0mresults\u001b[0m\u001b[1;33m\u001b[0m\u001b[1;33m\u001b[0m\u001b[0m\n\u001b[0;32m    840\u001b[0m \u001b[1;33m\u001b[0m\u001b[0m\n\u001b[1;32m--> 841\u001b[1;33m             \u001b[0mself\u001b[0m\u001b[1;33m.\u001b[0m\u001b[0m_run_search\u001b[0m\u001b[1;33m(\u001b[0m\u001b[0mevaluate_candidates\u001b[0m\u001b[1;33m)\u001b[0m\u001b[1;33m\u001b[0m\u001b[1;33m\u001b[0m\u001b[0m\n\u001b[0m\u001b[0;32m    842\u001b[0m \u001b[1;33m\u001b[0m\u001b[0m\n\u001b[0;32m    843\u001b[0m             \u001b[1;31m# multimetric is determined here because in the case of a callable\u001b[0m\u001b[1;33m\u001b[0m\u001b[1;33m\u001b[0m\u001b[1;33m\u001b[0m\u001b[0m\n",
      "\u001b[1;32mD:\\ProgramData\\Anaconda3\\lib\\site-packages\\sklearn\\model_selection\\_search.py\u001b[0m in \u001b[0;36m_run_search\u001b[1;34m(self, evaluate_candidates)\u001b[0m\n\u001b[0;32m   1617\u001b[0m     \u001b[1;32mdef\u001b[0m \u001b[0m_run_search\u001b[0m\u001b[1;33m(\u001b[0m\u001b[0mself\u001b[0m\u001b[1;33m,\u001b[0m \u001b[0mevaluate_candidates\u001b[0m\u001b[1;33m)\u001b[0m\u001b[1;33m:\u001b[0m\u001b[1;33m\u001b[0m\u001b[1;33m\u001b[0m\u001b[0m\n\u001b[0;32m   1618\u001b[0m         \u001b[1;34m\"\"\"Search n_iter candidates from param_distributions\"\"\"\u001b[0m\u001b[1;33m\u001b[0m\u001b[1;33m\u001b[0m\u001b[0m\n\u001b[1;32m-> 1619\u001b[1;33m         evaluate_candidates(ParameterSampler(\n\u001b[0m\u001b[0;32m   1620\u001b[0m             \u001b[0mself\u001b[0m\u001b[1;33m.\u001b[0m\u001b[0mparam_distributions\u001b[0m\u001b[1;33m,\u001b[0m \u001b[0mself\u001b[0m\u001b[1;33m.\u001b[0m\u001b[0mn_iter\u001b[0m\u001b[1;33m,\u001b[0m\u001b[1;33m\u001b[0m\u001b[1;33m\u001b[0m\u001b[0m\n\u001b[0;32m   1621\u001b[0m             random_state=self.random_state))\n",
      "\u001b[1;32mD:\\ProgramData\\Anaconda3\\lib\\site-packages\\sklearn\\model_selection\\_search.py\u001b[0m in \u001b[0;36mevaluate_candidates\u001b[1;34m(candidate_params, cv, more_results)\u001b[0m\n\u001b[0;32m    793\u001b[0m                               n_splits, n_candidates, n_candidates * n_splits))\n\u001b[0;32m    794\u001b[0m \u001b[1;33m\u001b[0m\u001b[0m\n\u001b[1;32m--> 795\u001b[1;33m                 out = parallel(delayed(_fit_and_score)(clone(base_estimator),\n\u001b[0m\u001b[0;32m    796\u001b[0m                                                        \u001b[0mX\u001b[0m\u001b[1;33m,\u001b[0m \u001b[0my\u001b[0m\u001b[1;33m,\u001b[0m\u001b[1;33m\u001b[0m\u001b[1;33m\u001b[0m\u001b[0m\n\u001b[0;32m    797\u001b[0m                                                        \u001b[0mtrain\u001b[0m\u001b[1;33m=\u001b[0m\u001b[0mtrain\u001b[0m\u001b[1;33m,\u001b[0m \u001b[0mtest\u001b[0m\u001b[1;33m=\u001b[0m\u001b[0mtest\u001b[0m\u001b[1;33m,\u001b[0m\u001b[1;33m\u001b[0m\u001b[1;33m\u001b[0m\u001b[0m\n",
      "\u001b[1;32mD:\\ProgramData\\Anaconda3\\lib\\site-packages\\joblib\\parallel.py\u001b[0m in \u001b[0;36m__call__\u001b[1;34m(self, iterable)\u001b[0m\n\u001b[0;32m   1042\u001b[0m                 \u001b[0mself\u001b[0m\u001b[1;33m.\u001b[0m\u001b[0m_iterating\u001b[0m \u001b[1;33m=\u001b[0m \u001b[0mself\u001b[0m\u001b[1;33m.\u001b[0m\u001b[0m_original_iterator\u001b[0m \u001b[1;32mis\u001b[0m \u001b[1;32mnot\u001b[0m \u001b[1;32mNone\u001b[0m\u001b[1;33m\u001b[0m\u001b[1;33m\u001b[0m\u001b[0m\n\u001b[0;32m   1043\u001b[0m \u001b[1;33m\u001b[0m\u001b[0m\n\u001b[1;32m-> 1044\u001b[1;33m             \u001b[1;32mwhile\u001b[0m \u001b[0mself\u001b[0m\u001b[1;33m.\u001b[0m\u001b[0mdispatch_one_batch\u001b[0m\u001b[1;33m(\u001b[0m\u001b[0miterator\u001b[0m\u001b[1;33m)\u001b[0m\u001b[1;33m:\u001b[0m\u001b[1;33m\u001b[0m\u001b[1;33m\u001b[0m\u001b[0m\n\u001b[0m\u001b[0;32m   1045\u001b[0m                 \u001b[1;32mpass\u001b[0m\u001b[1;33m\u001b[0m\u001b[1;33m\u001b[0m\u001b[0m\n\u001b[0;32m   1046\u001b[0m \u001b[1;33m\u001b[0m\u001b[0m\n",
      "\u001b[1;32mD:\\ProgramData\\Anaconda3\\lib\\site-packages\\joblib\\parallel.py\u001b[0m in \u001b[0;36mdispatch_one_batch\u001b[1;34m(self, iterator)\u001b[0m\n\u001b[0;32m    857\u001b[0m                 \u001b[1;32mreturn\u001b[0m \u001b[1;32mFalse\u001b[0m\u001b[1;33m\u001b[0m\u001b[1;33m\u001b[0m\u001b[0m\n\u001b[0;32m    858\u001b[0m             \u001b[1;32melse\u001b[0m\u001b[1;33m:\u001b[0m\u001b[1;33m\u001b[0m\u001b[1;33m\u001b[0m\u001b[0m\n\u001b[1;32m--> 859\u001b[1;33m                 \u001b[0mself\u001b[0m\u001b[1;33m.\u001b[0m\u001b[0m_dispatch\u001b[0m\u001b[1;33m(\u001b[0m\u001b[0mtasks\u001b[0m\u001b[1;33m)\u001b[0m\u001b[1;33m\u001b[0m\u001b[1;33m\u001b[0m\u001b[0m\n\u001b[0m\u001b[0;32m    860\u001b[0m                 \u001b[1;32mreturn\u001b[0m \u001b[1;32mTrue\u001b[0m\u001b[1;33m\u001b[0m\u001b[1;33m\u001b[0m\u001b[0m\n\u001b[0;32m    861\u001b[0m \u001b[1;33m\u001b[0m\u001b[0m\n",
      "\u001b[1;32mD:\\ProgramData\\Anaconda3\\lib\\site-packages\\joblib\\parallel.py\u001b[0m in \u001b[0;36m_dispatch\u001b[1;34m(self, batch)\u001b[0m\n\u001b[0;32m    775\u001b[0m         \u001b[1;32mwith\u001b[0m \u001b[0mself\u001b[0m\u001b[1;33m.\u001b[0m\u001b[0m_lock\u001b[0m\u001b[1;33m:\u001b[0m\u001b[1;33m\u001b[0m\u001b[1;33m\u001b[0m\u001b[0m\n\u001b[0;32m    776\u001b[0m             \u001b[0mjob_idx\u001b[0m \u001b[1;33m=\u001b[0m \u001b[0mlen\u001b[0m\u001b[1;33m(\u001b[0m\u001b[0mself\u001b[0m\u001b[1;33m.\u001b[0m\u001b[0m_jobs\u001b[0m\u001b[1;33m)\u001b[0m\u001b[1;33m\u001b[0m\u001b[1;33m\u001b[0m\u001b[0m\n\u001b[1;32m--> 777\u001b[1;33m             \u001b[0mjob\u001b[0m \u001b[1;33m=\u001b[0m \u001b[0mself\u001b[0m\u001b[1;33m.\u001b[0m\u001b[0m_backend\u001b[0m\u001b[1;33m.\u001b[0m\u001b[0mapply_async\u001b[0m\u001b[1;33m(\u001b[0m\u001b[0mbatch\u001b[0m\u001b[1;33m,\u001b[0m \u001b[0mcallback\u001b[0m\u001b[1;33m=\u001b[0m\u001b[0mcb\u001b[0m\u001b[1;33m)\u001b[0m\u001b[1;33m\u001b[0m\u001b[1;33m\u001b[0m\u001b[0m\n\u001b[0m\u001b[0;32m    778\u001b[0m             \u001b[1;31m# A job can complete so quickly than its callback is\u001b[0m\u001b[1;33m\u001b[0m\u001b[1;33m\u001b[0m\u001b[1;33m\u001b[0m\u001b[0m\n\u001b[0;32m    779\u001b[0m             \u001b[1;31m# called before we get here, causing self._jobs to\u001b[0m\u001b[1;33m\u001b[0m\u001b[1;33m\u001b[0m\u001b[1;33m\u001b[0m\u001b[0m\n",
      "\u001b[1;32mD:\\ProgramData\\Anaconda3\\lib\\site-packages\\joblib\\_parallel_backends.py\u001b[0m in \u001b[0;36mapply_async\u001b[1;34m(self, func, callback)\u001b[0m\n\u001b[0;32m    206\u001b[0m     \u001b[1;32mdef\u001b[0m \u001b[0mapply_async\u001b[0m\u001b[1;33m(\u001b[0m\u001b[0mself\u001b[0m\u001b[1;33m,\u001b[0m \u001b[0mfunc\u001b[0m\u001b[1;33m,\u001b[0m \u001b[0mcallback\u001b[0m\u001b[1;33m=\u001b[0m\u001b[1;32mNone\u001b[0m\u001b[1;33m)\u001b[0m\u001b[1;33m:\u001b[0m\u001b[1;33m\u001b[0m\u001b[1;33m\u001b[0m\u001b[0m\n\u001b[0;32m    207\u001b[0m         \u001b[1;34m\"\"\"Schedule a func to be run\"\"\"\u001b[0m\u001b[1;33m\u001b[0m\u001b[1;33m\u001b[0m\u001b[0m\n\u001b[1;32m--> 208\u001b[1;33m         \u001b[0mresult\u001b[0m \u001b[1;33m=\u001b[0m \u001b[0mImmediateResult\u001b[0m\u001b[1;33m(\u001b[0m\u001b[0mfunc\u001b[0m\u001b[1;33m)\u001b[0m\u001b[1;33m\u001b[0m\u001b[1;33m\u001b[0m\u001b[0m\n\u001b[0m\u001b[0;32m    209\u001b[0m         \u001b[1;32mif\u001b[0m \u001b[0mcallback\u001b[0m\u001b[1;33m:\u001b[0m\u001b[1;33m\u001b[0m\u001b[1;33m\u001b[0m\u001b[0m\n\u001b[0;32m    210\u001b[0m             \u001b[0mcallback\u001b[0m\u001b[1;33m(\u001b[0m\u001b[0mresult\u001b[0m\u001b[1;33m)\u001b[0m\u001b[1;33m\u001b[0m\u001b[1;33m\u001b[0m\u001b[0m\n",
      "\u001b[1;32mD:\\ProgramData\\Anaconda3\\lib\\site-packages\\joblib\\_parallel_backends.py\u001b[0m in \u001b[0;36m__init__\u001b[1;34m(self, batch)\u001b[0m\n\u001b[0;32m    570\u001b[0m         \u001b[1;31m# Don't delay the application, to avoid keeping the input\u001b[0m\u001b[1;33m\u001b[0m\u001b[1;33m\u001b[0m\u001b[1;33m\u001b[0m\u001b[0m\n\u001b[0;32m    571\u001b[0m         \u001b[1;31m# arguments in memory\u001b[0m\u001b[1;33m\u001b[0m\u001b[1;33m\u001b[0m\u001b[1;33m\u001b[0m\u001b[0m\n\u001b[1;32m--> 572\u001b[1;33m         \u001b[0mself\u001b[0m\u001b[1;33m.\u001b[0m\u001b[0mresults\u001b[0m \u001b[1;33m=\u001b[0m \u001b[0mbatch\u001b[0m\u001b[1;33m(\u001b[0m\u001b[1;33m)\u001b[0m\u001b[1;33m\u001b[0m\u001b[1;33m\u001b[0m\u001b[0m\n\u001b[0m\u001b[0;32m    573\u001b[0m \u001b[1;33m\u001b[0m\u001b[0m\n\u001b[0;32m    574\u001b[0m     \u001b[1;32mdef\u001b[0m \u001b[0mget\u001b[0m\u001b[1;33m(\u001b[0m\u001b[0mself\u001b[0m\u001b[1;33m)\u001b[0m\u001b[1;33m:\u001b[0m\u001b[1;33m\u001b[0m\u001b[1;33m\u001b[0m\u001b[0m\n",
      "\u001b[1;32mD:\\ProgramData\\Anaconda3\\lib\\site-packages\\joblib\\parallel.py\u001b[0m in \u001b[0;36m__call__\u001b[1;34m(self)\u001b[0m\n\u001b[0;32m    260\u001b[0m         \u001b[1;31m# change the default number of processes to -1\u001b[0m\u001b[1;33m\u001b[0m\u001b[1;33m\u001b[0m\u001b[1;33m\u001b[0m\u001b[0m\n\u001b[0;32m    261\u001b[0m         \u001b[1;32mwith\u001b[0m \u001b[0mparallel_backend\u001b[0m\u001b[1;33m(\u001b[0m\u001b[0mself\u001b[0m\u001b[1;33m.\u001b[0m\u001b[0m_backend\u001b[0m\u001b[1;33m,\u001b[0m \u001b[0mn_jobs\u001b[0m\u001b[1;33m=\u001b[0m\u001b[0mself\u001b[0m\u001b[1;33m.\u001b[0m\u001b[0m_n_jobs\u001b[0m\u001b[1;33m)\u001b[0m\u001b[1;33m:\u001b[0m\u001b[1;33m\u001b[0m\u001b[1;33m\u001b[0m\u001b[0m\n\u001b[1;32m--> 262\u001b[1;33m             return [func(*args, **kwargs)\n\u001b[0m\u001b[0;32m    263\u001b[0m                     for func, args, kwargs in self.items]\n\u001b[0;32m    264\u001b[0m \u001b[1;33m\u001b[0m\u001b[0m\n",
      "\u001b[1;32mD:\\ProgramData\\Anaconda3\\lib\\site-packages\\joblib\\parallel.py\u001b[0m in \u001b[0;36m<listcomp>\u001b[1;34m(.0)\u001b[0m\n\u001b[0;32m    260\u001b[0m         \u001b[1;31m# change the default number of processes to -1\u001b[0m\u001b[1;33m\u001b[0m\u001b[1;33m\u001b[0m\u001b[1;33m\u001b[0m\u001b[0m\n\u001b[0;32m    261\u001b[0m         \u001b[1;32mwith\u001b[0m \u001b[0mparallel_backend\u001b[0m\u001b[1;33m(\u001b[0m\u001b[0mself\u001b[0m\u001b[1;33m.\u001b[0m\u001b[0m_backend\u001b[0m\u001b[1;33m,\u001b[0m \u001b[0mn_jobs\u001b[0m\u001b[1;33m=\u001b[0m\u001b[0mself\u001b[0m\u001b[1;33m.\u001b[0m\u001b[0m_n_jobs\u001b[0m\u001b[1;33m)\u001b[0m\u001b[1;33m:\u001b[0m\u001b[1;33m\u001b[0m\u001b[1;33m\u001b[0m\u001b[0m\n\u001b[1;32m--> 262\u001b[1;33m             return [func(*args, **kwargs)\n\u001b[0m\u001b[0;32m    263\u001b[0m                     for func, args, kwargs in self.items]\n\u001b[0;32m    264\u001b[0m \u001b[1;33m\u001b[0m\u001b[0m\n",
      "\u001b[1;32mD:\\ProgramData\\Anaconda3\\lib\\site-packages\\sklearn\\utils\\fixes.py\u001b[0m in \u001b[0;36m__call__\u001b[1;34m(self, *args, **kwargs)\u001b[0m\n\u001b[0;32m    220\u001b[0m     \u001b[1;32mdef\u001b[0m \u001b[0m__call__\u001b[0m\u001b[1;33m(\u001b[0m\u001b[0mself\u001b[0m\u001b[1;33m,\u001b[0m \u001b[1;33m*\u001b[0m\u001b[0margs\u001b[0m\u001b[1;33m,\u001b[0m \u001b[1;33m**\u001b[0m\u001b[0mkwargs\u001b[0m\u001b[1;33m)\u001b[0m\u001b[1;33m:\u001b[0m\u001b[1;33m\u001b[0m\u001b[1;33m\u001b[0m\u001b[0m\n\u001b[0;32m    221\u001b[0m         \u001b[1;32mwith\u001b[0m \u001b[0mconfig_context\u001b[0m\u001b[1;33m(\u001b[0m\u001b[1;33m**\u001b[0m\u001b[0mself\u001b[0m\u001b[1;33m.\u001b[0m\u001b[0mconfig\u001b[0m\u001b[1;33m)\u001b[0m\u001b[1;33m:\u001b[0m\u001b[1;33m\u001b[0m\u001b[1;33m\u001b[0m\u001b[0m\n\u001b[1;32m--> 222\u001b[1;33m             \u001b[1;32mreturn\u001b[0m \u001b[0mself\u001b[0m\u001b[1;33m.\u001b[0m\u001b[0mfunction\u001b[0m\u001b[1;33m(\u001b[0m\u001b[1;33m*\u001b[0m\u001b[0margs\u001b[0m\u001b[1;33m,\u001b[0m \u001b[1;33m**\u001b[0m\u001b[0mkwargs\u001b[0m\u001b[1;33m)\u001b[0m\u001b[1;33m\u001b[0m\u001b[1;33m\u001b[0m\u001b[0m\n\u001b[0m",
      "\u001b[1;32mD:\\ProgramData\\Anaconda3\\lib\\site-packages\\sklearn\\model_selection\\_validation.py\u001b[0m in \u001b[0;36m_fit_and_score\u001b[1;34m(estimator, X, y, scorer, train, test, verbose, parameters, fit_params, return_train_score, return_parameters, return_n_test_samples, return_times, return_estimator, split_progress, candidate_progress, error_score)\u001b[0m\n\u001b[0;32m    591\u001b[0m             \u001b[0mestimator\u001b[0m\u001b[1;33m.\u001b[0m\u001b[0mfit\u001b[0m\u001b[1;33m(\u001b[0m\u001b[0mX_train\u001b[0m\u001b[1;33m,\u001b[0m \u001b[1;33m**\u001b[0m\u001b[0mfit_params\u001b[0m\u001b[1;33m)\u001b[0m\u001b[1;33m\u001b[0m\u001b[1;33m\u001b[0m\u001b[0m\n\u001b[0;32m    592\u001b[0m         \u001b[1;32melse\u001b[0m\u001b[1;33m:\u001b[0m\u001b[1;33m\u001b[0m\u001b[1;33m\u001b[0m\u001b[0m\n\u001b[1;32m--> 593\u001b[1;33m             \u001b[0mestimator\u001b[0m\u001b[1;33m.\u001b[0m\u001b[0mfit\u001b[0m\u001b[1;33m(\u001b[0m\u001b[0mX_train\u001b[0m\u001b[1;33m,\u001b[0m \u001b[0my_train\u001b[0m\u001b[1;33m,\u001b[0m \u001b[1;33m**\u001b[0m\u001b[0mfit_params\u001b[0m\u001b[1;33m)\u001b[0m\u001b[1;33m\u001b[0m\u001b[1;33m\u001b[0m\u001b[0m\n\u001b[0m\u001b[0;32m    594\u001b[0m \u001b[1;33m\u001b[0m\u001b[0m\n\u001b[0;32m    595\u001b[0m     \u001b[1;32mexcept\u001b[0m \u001b[0mException\u001b[0m \u001b[1;32mas\u001b[0m \u001b[0me\u001b[0m\u001b[1;33m:\u001b[0m\u001b[1;33m\u001b[0m\u001b[1;33m\u001b[0m\u001b[0m\n",
      "\u001b[1;32mD:\\ProgramData\\Anaconda3\\lib\\site-packages\\sklearn\\ensemble\\_forest.py\u001b[0m in \u001b[0;36mfit\u001b[1;34m(self, X, y, sample_weight)\u001b[0m\n\u001b[0;32m    375\u001b[0m                 \u001b[0mrandom_state\u001b[0m\u001b[1;33m.\u001b[0m\u001b[0mrandint\u001b[0m\u001b[1;33m(\u001b[0m\u001b[0mMAX_INT\u001b[0m\u001b[1;33m,\u001b[0m \u001b[0msize\u001b[0m\u001b[1;33m=\u001b[0m\u001b[0mlen\u001b[0m\u001b[1;33m(\u001b[0m\u001b[0mself\u001b[0m\u001b[1;33m.\u001b[0m\u001b[0mestimators_\u001b[0m\u001b[1;33m)\u001b[0m\u001b[1;33m)\u001b[0m\u001b[1;33m\u001b[0m\u001b[1;33m\u001b[0m\u001b[0m\n\u001b[0;32m    376\u001b[0m \u001b[1;33m\u001b[0m\u001b[0m\n\u001b[1;32m--> 377\u001b[1;33m             trees = [self._make_estimator(append=False,\n\u001b[0m\u001b[0;32m    378\u001b[0m                                           random_state=random_state)\n\u001b[0;32m    379\u001b[0m                      for i in range(n_more_estimators)]\n",
      "\u001b[1;32mD:\\ProgramData\\Anaconda3\\lib\\site-packages\\sklearn\\ensemble\\_forest.py\u001b[0m in \u001b[0;36m<listcomp>\u001b[1;34m(.0)\u001b[0m\n\u001b[0;32m    375\u001b[0m                 \u001b[0mrandom_state\u001b[0m\u001b[1;33m.\u001b[0m\u001b[0mrandint\u001b[0m\u001b[1;33m(\u001b[0m\u001b[0mMAX_INT\u001b[0m\u001b[1;33m,\u001b[0m \u001b[0msize\u001b[0m\u001b[1;33m=\u001b[0m\u001b[0mlen\u001b[0m\u001b[1;33m(\u001b[0m\u001b[0mself\u001b[0m\u001b[1;33m.\u001b[0m\u001b[0mestimators_\u001b[0m\u001b[1;33m)\u001b[0m\u001b[1;33m)\u001b[0m\u001b[1;33m\u001b[0m\u001b[1;33m\u001b[0m\u001b[0m\n\u001b[0;32m    376\u001b[0m \u001b[1;33m\u001b[0m\u001b[0m\n\u001b[1;32m--> 377\u001b[1;33m             trees = [self._make_estimator(append=False,\n\u001b[0m\u001b[0;32m    378\u001b[0m                                           random_state=random_state)\n\u001b[0;32m    379\u001b[0m                      for i in range(n_more_estimators)]\n",
      "\u001b[1;32mD:\\ProgramData\\Anaconda3\\lib\\site-packages\\sklearn\\ensemble\\_base.py\u001b[0m in \u001b[0;36m_make_estimator\u001b[1;34m(self, append, random_state)\u001b[0m\n\u001b[0;32m    148\u001b[0m         \u001b[0msub\u001b[0m\u001b[1;33m-\u001b[0m\u001b[0mestimators\u001b[0m\u001b[1;33m.\u001b[0m\u001b[1;33m\u001b[0m\u001b[1;33m\u001b[0m\u001b[0m\n\u001b[0;32m    149\u001b[0m         \"\"\"\n\u001b[1;32m--> 150\u001b[1;33m         \u001b[0mestimator\u001b[0m \u001b[1;33m=\u001b[0m \u001b[0mclone\u001b[0m\u001b[1;33m(\u001b[0m\u001b[0mself\u001b[0m\u001b[1;33m.\u001b[0m\u001b[0mbase_estimator_\u001b[0m\u001b[1;33m)\u001b[0m\u001b[1;33m\u001b[0m\u001b[1;33m\u001b[0m\u001b[0m\n\u001b[0m\u001b[0;32m    151\u001b[0m         estimator.set_params(**{p: getattr(self, p)\n\u001b[0;32m    152\u001b[0m                                 for p in self.estimator_params})\n",
      "\u001b[1;32mD:\\ProgramData\\Anaconda3\\lib\\site-packages\\sklearn\\utils\\validation.py\u001b[0m in \u001b[0;36minner_f\u001b[1;34m(*args, **kwargs)\u001b[0m\n\u001b[0;32m     61\u001b[0m             \u001b[0mextra_args\u001b[0m \u001b[1;33m=\u001b[0m \u001b[0mlen\u001b[0m\u001b[1;33m(\u001b[0m\u001b[0margs\u001b[0m\u001b[1;33m)\u001b[0m \u001b[1;33m-\u001b[0m \u001b[0mlen\u001b[0m\u001b[1;33m(\u001b[0m\u001b[0mall_args\u001b[0m\u001b[1;33m)\u001b[0m\u001b[1;33m\u001b[0m\u001b[1;33m\u001b[0m\u001b[0m\n\u001b[0;32m     62\u001b[0m             \u001b[1;32mif\u001b[0m \u001b[0mextra_args\u001b[0m \u001b[1;33m<=\u001b[0m \u001b[1;36m0\u001b[0m\u001b[1;33m:\u001b[0m\u001b[1;33m\u001b[0m\u001b[1;33m\u001b[0m\u001b[0m\n\u001b[1;32m---> 63\u001b[1;33m                 \u001b[1;32mreturn\u001b[0m \u001b[0mf\u001b[0m\u001b[1;33m(\u001b[0m\u001b[1;33m*\u001b[0m\u001b[0margs\u001b[0m\u001b[1;33m,\u001b[0m \u001b[1;33m**\u001b[0m\u001b[0mkwargs\u001b[0m\u001b[1;33m)\u001b[0m\u001b[1;33m\u001b[0m\u001b[1;33m\u001b[0m\u001b[0m\n\u001b[0m\u001b[0;32m     64\u001b[0m \u001b[1;33m\u001b[0m\u001b[0m\n\u001b[0;32m     65\u001b[0m             \u001b[1;31m# extra_args > 0\u001b[0m\u001b[1;33m\u001b[0m\u001b[1;33m\u001b[0m\u001b[1;33m\u001b[0m\u001b[0m\n",
      "\u001b[1;32mD:\\ProgramData\\Anaconda3\\lib\\site-packages\\sklearn\\base.py\u001b[0m in \u001b[0;36mclone\u001b[1;34m(estimator, safe)\u001b[0m\n\u001b[0;32m     75\u001b[0m     \u001b[1;32mfor\u001b[0m \u001b[0mname\u001b[0m\u001b[1;33m,\u001b[0m \u001b[0mparam\u001b[0m \u001b[1;32min\u001b[0m \u001b[0mnew_object_params\u001b[0m\u001b[1;33m.\u001b[0m\u001b[0mitems\u001b[0m\u001b[1;33m(\u001b[0m\u001b[1;33m)\u001b[0m\u001b[1;33m:\u001b[0m\u001b[1;33m\u001b[0m\u001b[1;33m\u001b[0m\u001b[0m\n\u001b[0;32m     76\u001b[0m         \u001b[0mnew_object_params\u001b[0m\u001b[1;33m[\u001b[0m\u001b[0mname\u001b[0m\u001b[1;33m]\u001b[0m \u001b[1;33m=\u001b[0m \u001b[0mclone\u001b[0m\u001b[1;33m(\u001b[0m\u001b[0mparam\u001b[0m\u001b[1;33m,\u001b[0m \u001b[0msafe\u001b[0m\u001b[1;33m=\u001b[0m\u001b[1;32mFalse\u001b[0m\u001b[1;33m)\u001b[0m\u001b[1;33m\u001b[0m\u001b[1;33m\u001b[0m\u001b[0m\n\u001b[1;32m---> 77\u001b[1;33m     \u001b[0mnew_object\u001b[0m \u001b[1;33m=\u001b[0m \u001b[0mklass\u001b[0m\u001b[1;33m(\u001b[0m\u001b[1;33m**\u001b[0m\u001b[0mnew_object_params\u001b[0m\u001b[1;33m)\u001b[0m\u001b[1;33m\u001b[0m\u001b[1;33m\u001b[0m\u001b[0m\n\u001b[0m\u001b[0;32m     78\u001b[0m     \u001b[0mparams_set\u001b[0m \u001b[1;33m=\u001b[0m \u001b[0mnew_object\u001b[0m\u001b[1;33m.\u001b[0m\u001b[0mget_params\u001b[0m\u001b[1;33m(\u001b[0m\u001b[0mdeep\u001b[0m\u001b[1;33m=\u001b[0m\u001b[1;32mFalse\u001b[0m\u001b[1;33m)\u001b[0m\u001b[1;33m\u001b[0m\u001b[1;33m\u001b[0m\u001b[0m\n\u001b[0;32m     79\u001b[0m \u001b[1;33m\u001b[0m\u001b[0m\n",
      "\u001b[1;32mD:\\ProgramData\\Anaconda3\\lib\\site-packages\\sklearn\\utils\\validation.py\u001b[0m in \u001b[0;36minner_f\u001b[1;34m(*args, **kwargs)\u001b[0m\n\u001b[0;32m     61\u001b[0m             \u001b[0mextra_args\u001b[0m \u001b[1;33m=\u001b[0m \u001b[0mlen\u001b[0m\u001b[1;33m(\u001b[0m\u001b[0margs\u001b[0m\u001b[1;33m)\u001b[0m \u001b[1;33m-\u001b[0m \u001b[0mlen\u001b[0m\u001b[1;33m(\u001b[0m\u001b[0mall_args\u001b[0m\u001b[1;33m)\u001b[0m\u001b[1;33m\u001b[0m\u001b[1;33m\u001b[0m\u001b[0m\n\u001b[0;32m     62\u001b[0m             \u001b[1;32mif\u001b[0m \u001b[0mextra_args\u001b[0m \u001b[1;33m<=\u001b[0m \u001b[1;36m0\u001b[0m\u001b[1;33m:\u001b[0m\u001b[1;33m\u001b[0m\u001b[1;33m\u001b[0m\u001b[0m\n\u001b[1;32m---> 63\u001b[1;33m                 \u001b[1;32mreturn\u001b[0m \u001b[0mf\u001b[0m\u001b[1;33m(\u001b[0m\u001b[1;33m*\u001b[0m\u001b[0margs\u001b[0m\u001b[1;33m,\u001b[0m \u001b[1;33m**\u001b[0m\u001b[0mkwargs\u001b[0m\u001b[1;33m)\u001b[0m\u001b[1;33m\u001b[0m\u001b[1;33m\u001b[0m\u001b[0m\n\u001b[0m\u001b[0;32m     64\u001b[0m \u001b[1;33m\u001b[0m\u001b[0m\n\u001b[0;32m     65\u001b[0m             \u001b[1;31m# extra_args > 0\u001b[0m\u001b[1;33m\u001b[0m\u001b[1;33m\u001b[0m\u001b[1;33m\u001b[0m\u001b[0m\n",
      "\u001b[1;32mD:\\ProgramData\\Anaconda3\\lib\\site-packages\\sklearn\\tree\\_classes.py\u001b[0m in \u001b[0;36m__init__\u001b[1;34m(self, criterion, splitter, max_depth, min_samples_split, min_samples_leaf, min_weight_fraction_leaf, max_features, random_state, max_leaf_nodes, min_impurity_decrease, min_impurity_split, ccp_alpha)\u001b[0m\n\u001b[0;32m   1195\u001b[0m                  \u001b[0mmin_impurity_split\u001b[0m\u001b[1;33m=\u001b[0m\u001b[1;32mNone\u001b[0m\u001b[1;33m,\u001b[0m\u001b[1;33m\u001b[0m\u001b[1;33m\u001b[0m\u001b[0m\n\u001b[0;32m   1196\u001b[0m                  ccp_alpha=0.0):\n\u001b[1;32m-> 1197\u001b[1;33m         super().__init__(\n\u001b[0m\u001b[0;32m   1198\u001b[0m             \u001b[0mcriterion\u001b[0m\u001b[1;33m=\u001b[0m\u001b[0mcriterion\u001b[0m\u001b[1;33m,\u001b[0m\u001b[1;33m\u001b[0m\u001b[1;33m\u001b[0m\u001b[0m\n\u001b[0;32m   1199\u001b[0m             \u001b[0msplitter\u001b[0m\u001b[1;33m=\u001b[0m\u001b[0msplitter\u001b[0m\u001b[1;33m,\u001b[0m\u001b[1;33m\u001b[0m\u001b[1;33m\u001b[0m\u001b[0m\n",
      "\u001b[1;32mD:\\ProgramData\\Anaconda3\\lib\\site-packages\\sklearn\\utils\\validation.py\u001b[0m in \u001b[0;36minner_f\u001b[1;34m(*args, **kwargs)\u001b[0m\n\u001b[0;32m     59\u001b[0m         \u001b[1;33m@\u001b[0m\u001b[0mwraps\u001b[0m\u001b[1;33m(\u001b[0m\u001b[0mf\u001b[0m\u001b[1;33m)\u001b[0m\u001b[1;33m\u001b[0m\u001b[1;33m\u001b[0m\u001b[0m\n\u001b[0;32m     60\u001b[0m         \u001b[1;32mdef\u001b[0m \u001b[0minner_f\u001b[0m\u001b[1;33m(\u001b[0m\u001b[1;33m*\u001b[0m\u001b[0margs\u001b[0m\u001b[1;33m,\u001b[0m \u001b[1;33m**\u001b[0m\u001b[0mkwargs\u001b[0m\u001b[1;33m)\u001b[0m\u001b[1;33m:\u001b[0m\u001b[1;33m\u001b[0m\u001b[1;33m\u001b[0m\u001b[0m\n\u001b[1;32m---> 61\u001b[1;33m             \u001b[0mextra_args\u001b[0m \u001b[1;33m=\u001b[0m \u001b[0mlen\u001b[0m\u001b[1;33m(\u001b[0m\u001b[0margs\u001b[0m\u001b[1;33m)\u001b[0m \u001b[1;33m-\u001b[0m \u001b[0mlen\u001b[0m\u001b[1;33m(\u001b[0m\u001b[0mall_args\u001b[0m\u001b[1;33m)\u001b[0m\u001b[1;33m\u001b[0m\u001b[1;33m\u001b[0m\u001b[0m\n\u001b[0m\u001b[0;32m     62\u001b[0m             \u001b[1;32mif\u001b[0m \u001b[0mextra_args\u001b[0m \u001b[1;33m<=\u001b[0m \u001b[1;36m0\u001b[0m\u001b[1;33m:\u001b[0m\u001b[1;33m\u001b[0m\u001b[1;33m\u001b[0m\u001b[0m\n\u001b[0;32m     63\u001b[0m                 \u001b[1;32mreturn\u001b[0m \u001b[0mf\u001b[0m\u001b[1;33m(\u001b[0m\u001b[1;33m*\u001b[0m\u001b[0margs\u001b[0m\u001b[1;33m,\u001b[0m \u001b[1;33m**\u001b[0m\u001b[0mkwargs\u001b[0m\u001b[1;33m)\u001b[0m\u001b[1;33m\u001b[0m\u001b[1;33m\u001b[0m\u001b[0m\n",
      "\u001b[1;31mKeyboardInterrupt\u001b[0m: "
     ]
    }
   ],
   "source": [
    "from sklearn.model_selection import RandomizedSearchCV\n",
    "from scipy.stats import randint\n",
    "\n",
    "param_distribs = {\n",
    "        'n_estimators': randint(low=1, high=200),\n",
    "        'max_features': randint(low=1, high=15),\n",
    "    }\n",
    "\n",
    "forest_reg = RandomForestRegressor(random_state=42)\n",
    "forest_rnd_search = RandomizedSearchCV(forest_reg, param_distributions=param_distribs,\n",
    "                                n_iter=500, cv=5, scoring='neg_mean_squared_error', random_state=42)\n",
    "forest_rnd_search.fit(X_train, y_train)"
   ]
  },
  {
   "cell_type": "code",
   "execution_count": 118,
   "id": "cc9a7fbd",
   "metadata": {
    "scrolled": true
   },
   "outputs": [
    {
     "data": {
      "text/plain": [
       "[(0.2391692002322728, 'INPUTWIDTH'),\n",
       " (0.18661000104418893, 'OUTPUTWIDTH'),\n",
       " (0.07623047201109842, 'AssignRHSWidth'),\n",
       " (0.06932488436442755, 'INPUT'),\n",
       " (0.06725439462765319, 'AssignLHSWidth'),\n",
       " (0.0365496583530699, 'NonBlockRightWidth'),\n",
       " (0.03324530767892146, 'REGWIDTH'),\n",
       " (0.02763971320705004, 'OUTPUT'),\n",
       " (0.01885933465954688, 'WIREWIDTH'),\n",
       " (0.01828961796787153, 'BlockAssign_Right_Width'),\n",
       " (0.01639538864835552, 'AssignLHSPortNum'),\n",
       " (0.015560643599232895, 'REDAND'),\n",
       " (0.014806120151796859, 'AssignStmts'),\n",
       " (0.014293127553906892, 'BlockAssign_Left_Width'),\n",
       " (0.01267814744839408, 'NonBlockLeftWidth'),\n",
       " (0.010679292773499051, 'QUESTIONCOLONELSE'),\n",
       " (0.010436101956545252, 'NonBlockingLeftPortNum'),\n",
       " (0.010072227318203652, 'AlwaysConstructs'),\n",
       " (0.009984566151657125, 'QUESTIONCOLONIF'),\n",
       " (0.009130889536057294, 'CONDITIONALELSE'),\n",
       " (0.008147544854508389, 'CONDITIONALIF'),\n",
       " (0.008017506766177617, 'WIRENUM'),\n",
       " (0.007582972203792347, 'CONDITIONALTHEN'),\n",
       " (0.0069434036580964704, 'PLUS'),\n",
       " (0.0069409795365617186, 'NonBlockingRightPortNum'),\n",
       " (0.006402422198897452, 'NonBlockingAssign'),\n",
       " (0.006275274826715844, 'AssignRHSPortNum'),\n",
       " (0.006158446303260168, 'CONDITIONALIFWIDTH'),\n",
       " (0.005564253897500098, 'MIN'),\n",
       " (0.005163810780844174, 'QUESTIONCOLONTHEN'),\n",
       " (0.005134787038161695, 'PARAMETERNUM'),\n",
       " (0.0037961984947401813, 'QUESTIONCOLON'),\n",
       " (0.0031990225491306482, 'BlockAssign_Left_PortNum'),\n",
       " (0.0031886807369771383, 'CASECONDITIONWIDTH'),\n",
       " (0.003156775206115289, 'REG'),\n",
       " (0.0031334336504736026, 'BlockAssign_Right_PortNum'),\n",
       " (0.002251614584951413, 'CASEITEMNUM'),\n",
       " (0.0020544960556512456, 'CASEITEMCONDITIONNUM'),\n",
       " (0.0017459337191284715, 'INDEXMEMRORY'),\n",
       " (0.0016328777876077883, 'BLOCKINGASSIGN'),\n",
       " (0.0016057731948063876, 'FORTIMES'),\n",
       " (0.0012230390433446041, 'REDXOR'),\n",
       " (0.0007410362757921545, 'FUNCTIONNUM'),\n",
       " (0.0006987194585277267, 'CASECONDITIONNUM'),\n",
       " (0.0004774136451213527, 'ARITRSHIFT'),\n",
       " (0.00028595953545624593, 'UnaryOperator'),\n",
       " (0.0002839666174985009, 'FORBLOCK'),\n",
       " (0.0002706518055870986, 'CASEITEMCONDITIOWIDTH'),\n",
       " (0.00021017547424984033, 'ARITRSHIFT_PORT_NUM'),\n",
       " (0.0002077237535492967, 'REDAOR'),\n",
       " (0.00010253393304039109, 'ARITRSHIFT_VALUE'),\n",
       " (9.750337548443612e-05, 'FUNCTIONCALL'),\n",
       " (8.647070486764586e-05, 'ARITRSHIFT_PORT_WIDTH'),\n",
       " (9.50904963314708e-06, 'INOUTWIDTH'),\n",
       " (0.0, 'INOUT'),\n",
       " (0.0, 'ARITLSHIFT_VALUE'),\n",
       " (0.0, 'ARITLSHIFT_PORT_WIDTH'),\n",
       " (0.0, 'ARITLSHIFT_PORT_NUM'),\n",
       " (0.0, 'ARITLSHIFT')]"
      ]
     },
     "execution_count": 118,
     "metadata": {},
     "output_type": "execute_result"
    }
   ],
   "source": [
    "#随机森林贡献度分析\n",
    "feature_importance = forest_rnd_search.best_estimator_.feature_importances_\n",
    "sorted(zip(feature_importance, resource_label), reverse=True)"
   ]
  },
  {
   "cell_type": "code",
   "execution_count": 120,
   "id": "2878e8ea",
   "metadata": {},
   "outputs": [],
   "source": [
    "forest_predict = forest_rnd_search.best_estimator_.predict(X_test)"
   ]
  },
  {
   "cell_type": "code",
   "execution_count": 121,
   "id": "6f4ce80e",
   "metadata": {},
   "outputs": [
    {
     "data": {
      "text/plain": [
       "4060.214501271802"
      ]
     },
     "execution_count": 121,
     "metadata": {},
     "output_type": "execute_result"
    }
   ],
   "source": [
    "forest_mse = mean_squared_error(y_test,forest_predict)\n",
    "forest_mse"
   ]
  },
  {
   "cell_type": "code",
   "execution_count": 122,
   "id": "383a8431",
   "metadata": {},
   "outputs": [
    {
     "data": {
      "text/plain": [
       "63.71981247046951"
      ]
     },
     "execution_count": 122,
     "metadata": {},
     "output_type": "execute_result"
    }
   ],
   "source": [
    "forest_rmse = np.sqrt(forest_mse)\n",
    "forest_rmse"
   ]
  },
  {
   "cell_type": "code",
   "execution_count": 123,
   "id": "29c533ec",
   "metadata": {},
   "outputs": [],
   "source": [
    "#R^2评估\n",
    "from sklearn.metrics import r2_score"
   ]
  },
  {
   "cell_type": "code",
   "execution_count": 124,
   "id": "b236335a",
   "metadata": {},
   "outputs": [
    {
     "data": {
      "text/plain": [
       "-0.3165584530243133"
      ]
     },
     "execution_count": 124,
     "metadata": {},
     "output_type": "execute_result"
    }
   ],
   "source": [
    "r2_score(y_valid,forest_predict)"
   ]
  },
  {
   "cell_type": "code",
   "execution_count": 125,
   "id": "94595b1b",
   "metadata": {},
   "outputs": [
    {
     "name": "stdout",
     "output_type": "stream",
     "text": [
      "Fitting 5 folds for each of 50 candidates, totalling 250 fits\n",
      "[CV] END C=23.280013978946833, gamma=3.010121430917521, kernel=linear; total time=   0.0s\n",
      "[CV] END C=23.280013978946833, gamma=3.010121430917521, kernel=linear; total time=   0.0s\n",
      "[CV] END C=23.280013978946833, gamma=3.010121430917521, kernel=linear; total time=   0.0s\n",
      "[CV] END C=23.280013978946833, gamma=3.010121430917521, kernel=linear; total time=   0.0s\n",
      "[CV] END C=23.280013978946833, gamma=3.010121430917521, kernel=linear; total time=   0.0s\n",
      "[CV] END C=27.436377237537517, gamma=0.9084469696321253, kernel=rbf; total time=   0.0s\n",
      "[CV] END C=27.436377237537517, gamma=0.9084469696321253, kernel=rbf; total time=   0.0s\n",
      "[CV] END C=27.436377237537517, gamma=0.9084469696321253, kernel=rbf; total time=   0.0s\n",
      "[CV] END C=27.436377237537517, gamma=0.9084469696321253, kernel=rbf; total time=   0.0s\n",
      "[CV] END C=27.436377237537517, gamma=0.9084469696321253, kernel=rbf; total time=   0.0s\n",
      "[CV] END C=21.305869723101093, gamma=0.059838768608680676, kernel=rbf; total time=   0.0s\n",
      "[CV] END C=21.305869723101093, gamma=0.059838768608680676, kernel=rbf; total time=   0.0s\n",
      "[CV] END C=21.305869723101093, gamma=0.059838768608680676, kernel=rbf; total time=   0.0s\n",
      "[CV] END C=21.305869723101093, gamma=0.059838768608680676, kernel=rbf; total time=   0.0s\n",
      "[CV] END C=21.305869723101093, gamma=0.059838768608680676, kernel=rbf; total time=   0.0s\n",
      "[CV] END C=22.89776875757393, gamma=0.15416196746656105, kernel=linear; total time=   0.0s\n",
      "[CV] END C=22.89776875757393, gamma=0.15416196746656105, kernel=linear; total time=   0.0s\n",
      "[CV] END C=22.89776875757393, gamma=0.15416196746656105, kernel=linear; total time=   0.0s\n",
      "[CV] END C=22.89776875757393, gamma=0.15416196746656105, kernel=linear; total time=   0.0s\n",
      "[CV] END C=22.89776875757393, gamma=0.15416196746656105, kernel=linear; total time=   0.0s\n",
      "[CV] END C=20.167624432447106, gamma=3.503557475158312, kernel=rbf; total time=   0.0s\n",
      "[CV] END C=20.167624432447106, gamma=3.503557475158312, kernel=rbf; total time=   0.0s\n",
      "[CV] END C=20.167624432447106, gamma=3.503557475158312, kernel=rbf; total time=   0.0s\n",
      "[CV] END C=20.167624432447106, gamma=3.503557475158312, kernel=rbf; total time=   0.0s\n",
      "[CV] END C=20.167624432447106, gamma=3.503557475158312, kernel=rbf; total time=   0.0s\n",
      "[CV] END C=29.261792334886408, gamma=0.0007790692366582295, kernel=rbf; total time=   0.0s\n",
      "[CV] END C=29.261792334886408, gamma=0.0007790692366582295, kernel=rbf; total time=   0.0s\n",
      "[CV] END C=29.261792334886408, gamma=0.0007790692366582295, kernel=rbf; total time=   0.0s\n",
      "[CV] END C=29.261792334886408, gamma=0.0007790692366582295, kernel=rbf; total time=   0.0s\n",
      "[CV] END C=29.261792334886408, gamma=0.0007790692366582295, kernel=rbf; total time=   0.0s\n",
      "[CV] END C=21.543979478486737, gamma=0.3627537294604771, kernel=rbf; total time=   0.0s\n",
      "[CV] END C=21.543979478486737, gamma=0.3627537294604771, kernel=rbf; total time=   0.0s\n",
      "[CV] END C=21.543979478486737, gamma=0.3627537294604771, kernel=rbf; total time=   0.0s\n",
      "[CV] END C=21.543979478486737, gamma=0.3627537294604771, kernel=rbf; total time=   0.0s\n",
      "[CV] END C=21.543979478486737, gamma=0.3627537294604771, kernel=rbf; total time=   0.0s\n",
      "[CV] END C=20.05738497293723, gamma=0.023332523598323388, kernel=linear; total time=   0.0s\n",
      "[CV] END C=20.05738497293723, gamma=0.023332523598323388, kernel=linear; total time=   0.0s\n",
      "[CV] END C=20.05738497293723, gamma=0.023332523598323388, kernel=linear; total time=   0.0s\n",
      "[CV] END C=20.05738497293723, gamma=0.023332523598323388, kernel=linear; total time=   0.0s\n",
      "[CV] END C=20.05738497293723, gamma=0.023332523598323388, kernel=linear; total time=   0.0s\n",
      "[CV] END C=25.631377221042065, gamma=0.15023452872733867, kernel=rbf; total time=   0.0s\n",
      "[CV] END C=25.631377221042065, gamma=0.15023452872733867, kernel=rbf; total time=   0.0s\n",
      "[CV] END C=25.631377221042065, gamma=0.15023452872733867, kernel=rbf; total time=   0.0s\n",
      "[CV] END C=25.631377221042065, gamma=0.15023452872733867, kernel=rbf; total time=   0.0s\n",
      "[CV] END C=25.631377221042065, gamma=0.15023452872733867, kernel=rbf; total time=   0.0s\n",
      "[CV] END C=29.68245588335318, gamma=0.26497040005002437, kernel=rbf; total time=   0.0s\n",
      "[CV] END C=29.68245588335318, gamma=0.26497040005002437, kernel=rbf; total time=   0.0s\n",
      "[CV] END C=29.68245588335318, gamma=0.26497040005002437, kernel=rbf; total time=   0.0s\n",
      "[CV] END C=29.68245588335318, gamma=0.26497040005002437, kernel=rbf; total time=   0.0s\n",
      "[CV] END C=29.68245588335318, gamma=0.26497040005002437, kernel=rbf; total time=   0.0s\n",
      "[CV] END C=27.497462553242737, gamma=0.2227358621286903, kernel=linear; total time=   0.0s\n",
      "[CV] END C=27.497462553242737, gamma=0.2227358621286903, kernel=linear; total time=   0.0s\n",
      "[CV] END C=27.497462553242737, gamma=0.2227358621286903, kernel=linear; total time=   0.0s\n",
      "[CV] END C=27.497462553242737, gamma=0.2227358621286903, kernel=linear; total time=   0.0s\n",
      "[CV] END C=27.497462553242737, gamma=0.2227358621286903, kernel=linear; total time=   0.0s\n",
      "[CV] END C=29.796713165333173, gamma=0.628789100540856, kernel=linear; total time=   0.0s\n",
      "[CV] END C=29.796713165333173, gamma=0.628789100540856, kernel=linear; total time=   0.0s\n",
      "[CV] END C=29.796713165333173, gamma=0.628789100540856, kernel=linear; total time=   0.0s\n",
      "[CV] END C=29.796713165333173, gamma=0.628789100540856, kernel=linear; total time=   0.0s\n",
      "[CV] END C=29.796713165333173, gamma=0.628789100540856, kernel=linear; total time=   0.0s\n",
      "[CV] END C=25.58664440984254, gamma=0.18696125197741642, kernel=linear; total time=   0.0s\n",
      "[CV] END C=25.58664440984254, gamma=0.18696125197741642, kernel=linear; total time=   0.0s\n",
      "[CV] END C=25.58664440984254, gamma=0.18696125197741642, kernel=linear; total time=   0.0s\n",
      "[CV] END C=25.58664440984254, gamma=0.18696125197741642, kernel=linear; total time=   0.0s\n",
      "[CV] END C=25.58664440984254, gamma=0.18696125197741642, kernel=linear; total time=   0.0s\n",
      "[CV] END C=20.107859377896187, gamma=2.850796878935603, kernel=rbf; total time=   0.0s\n",
      "[CV] END C=20.107859377896187, gamma=2.850796878935603, kernel=rbf; total time=   0.0s\n",
      "[CV] END C=20.107859377896187, gamma=2.850796878935603, kernel=rbf; total time=   0.0s\n",
      "[CV] END C=20.107859377896187, gamma=2.850796878935603, kernel=rbf; total time=   0.0s\n",
      "[CV] END C=20.107859377896187, gamma=2.850796878935603, kernel=rbf; total time=   0.0s\n",
      "[CV] END C=27.7575865412499, gamma=0.3632878599687583, kernel=linear; total time=   0.0s\n",
      "[CV] END C=27.7575865412499, gamma=0.3632878599687583, kernel=linear; total time=   0.0s\n",
      "[CV] END C=27.7575865412499, gamma=0.3632878599687583, kernel=linear; total time=   0.0s\n",
      "[CV] END C=27.7575865412499, gamma=0.3632878599687583, kernel=linear; total time=   0.0s\n",
      "[CV] END C=27.7575865412499, gamma=0.3632878599687583, kernel=linear; total time=   0.0s\n",
      "[CV] END C=21.96283405234485, gamma=0.2757870542258224, kernel=rbf; total time=   0.0s\n",
      "[CV] END C=21.96283405234485, gamma=0.2757870542258224, kernel=rbf; total time=   0.0s\n",
      "[CV] END C=21.96283405234485, gamma=0.2757870542258224, kernel=rbf; total time=   0.0s\n",
      "[CV] END C=21.96283405234485, gamma=0.2757870542258224, kernel=rbf; total time=   0.0s\n",
      "[CV] END C=21.96283405234485, gamma=0.2757870542258224, kernel=rbf; total time=   0.0s\n",
      "[CV] END C=21.014538750642835, gamma=0.6835472281341501, kernel=linear; total time=   0.0s\n",
      "[CV] END C=21.014538750642835, gamma=0.6835472281341501, kernel=linear; total time=   0.0s\n",
      "[CV] END C=21.014538750642835, gamma=0.6835472281341501, kernel=linear; total time=   0.0s\n",
      "[CV] END C=21.014538750642835, gamma=0.6835472281341501, kernel=linear; total time=   0.0s\n",
      "[CV] END C=21.014538750642835, gamma=0.6835472281341501, kernel=linear; total time=   0.0s\n",
      "[CV] END C=21.456456266505242, gamma=0.4960365360493639, kernel=rbf; total time=   0.0s\n",
      "[CV] END C=21.456456266505242, gamma=0.4960365360493639, kernel=rbf; total time=   0.0s\n",
      "[CV] END C=21.456456266505242, gamma=0.4960365360493639, kernel=rbf; total time=   0.0s\n",
      "[CV] END C=21.456456266505242, gamma=0.4960365360493639, kernel=rbf; total time=   0.0s\n",
      "[CV] END C=21.456456266505242, gamma=0.4960365360493639, kernel=rbf; total time=   0.0s\n",
      "[CV] END C=26.163411921119966, gamma=0.37354658165762367, kernel=rbf; total time=   0.0s\n",
      "[CV] END C=26.163411921119966, gamma=0.37354658165762367, kernel=rbf; total time=   0.0s\n",
      "[CV] END C=26.163411921119966, gamma=0.37354658165762367, kernel=rbf; total time=   0.0s\n",
      "[CV] END C=26.163411921119966, gamma=0.37354658165762367, kernel=rbf; total time=   0.0s\n",
      "[CV] END C=26.163411921119966, gamma=0.37354658165762367, kernel=rbf; total time=   0.0s\n",
      "[CV] END C=21.759389431263088, gamma=0.838636245624803, kernel=linear; total time=   0.0s\n",
      "[CV] END C=21.759389431263088, gamma=0.838636245624803, kernel=linear; total time=   0.0s\n"
     ]
    },
    {
     "name": "stdout",
     "output_type": "stream",
     "text": [
      "[CV] END C=21.759389431263088, gamma=0.838636245624803, kernel=linear; total time=   0.0s\n",
      "[CV] END C=21.759389431263088, gamma=0.838636245624803, kernel=linear; total time=   0.0s\n",
      "[CV] END C=21.759389431263088, gamma=0.838636245624803, kernel=linear; total time=   0.0s\n",
      "[CV] END C=29.632300796159985, gamma=1.4922453771381408, kernel=rbf; total time=   0.0s\n",
      "[CV] END C=29.632300796159985, gamma=1.4922453771381408, kernel=rbf; total time=   0.0s\n",
      "[CV] END C=29.632300796159985, gamma=1.4922453771381408, kernel=rbf; total time=   0.0s\n",
      "[CV] END C=29.632300796159985, gamma=1.4922453771381408, kernel=rbf; total time=   0.0s\n",
      "[CV] END C=29.632300796159985, gamma=1.4922453771381408, kernel=rbf; total time=   0.0s\n",
      "[CV] END C=23.475372823969046, gamma=2.6126336514161914, kernel=linear; total time=   0.0s\n",
      "[CV] END C=23.475372823969046, gamma=2.6126336514161914, kernel=linear; total time=   0.0s\n",
      "[CV] END C=23.475372823969046, gamma=2.6126336514161914, kernel=linear; total time=   0.0s\n",
      "[CV] END C=23.475372823969046, gamma=2.6126336514161914, kernel=linear; total time=   0.0s\n",
      "[CV] END C=23.475372823969046, gamma=2.6126336514161914, kernel=linear; total time=   0.0s\n",
      "[CV] END C=29.064575908891072, gamma=0.09265545895311562, kernel=linear; total time=   0.0s\n",
      "[CV] END C=29.064575908891072, gamma=0.09265545895311562, kernel=linear; total time=   0.0s\n",
      "[CV] END C=29.064575908891072, gamma=0.09265545895311562, kernel=linear; total time=   0.0s\n",
      "[CV] END C=29.064575908891072, gamma=0.09265545895311562, kernel=linear; total time=   0.0s\n",
      "[CV] END C=29.064575908891072, gamma=0.09265545895311562, kernel=linear; total time=   0.0s\n",
      "[CV] END C=24.70269613899468, gamma=3.248614270240346, kernel=linear; total time=   0.0s\n",
      "[CV] END C=24.70269613899468, gamma=3.248614270240346, kernel=linear; total time=   0.0s\n",
      "[CV] END C=24.70269613899468, gamma=3.248614270240346, kernel=linear; total time=   0.0s\n",
      "[CV] END C=24.70269613899468, gamma=3.248614270240346, kernel=linear; total time=   0.0s\n",
      "[CV] END C=24.70269613899468, gamma=3.248614270240346, kernel=linear; total time=   0.0s\n",
      "[CV] END C=23.413841225044937, gamma=0.3165604432088257, kernel=linear; total time=   0.0s\n",
      "[CV] END C=23.413841225044937, gamma=0.3165604432088257, kernel=linear; total time=   0.0s\n",
      "[CV] END C=23.413841225044937, gamma=0.3165604432088257, kernel=linear; total time=   0.0s\n",
      "[CV] END C=23.413841225044937, gamma=0.3165604432088257, kernel=linear; total time=   0.0s\n",
      "[CV] END C=23.413841225044937, gamma=0.3165604432088257, kernel=linear; total time=   0.0s\n",
      "[CV] END C=25.37182733399964, gamma=3.3597284456608496, kernel=rbf; total time=   0.0s\n",
      "[CV] END C=25.37182733399964, gamma=3.3597284456608496, kernel=rbf; total time=   0.0s\n",
      "[CV] END C=25.37182733399964, gamma=3.3597284456608496, kernel=rbf; total time=   0.0s\n",
      "[CV] END C=25.37182733399964, gamma=3.3597284456608496, kernel=rbf; total time=   0.0s\n",
      "[CV] END C=25.37182733399964, gamma=3.3597284456608496, kernel=rbf; total time=   0.0s\n",
      "[CV] END C=24.9226393088628, gamma=0.15189814782062885, kernel=linear; total time=   0.0s\n",
      "[CV] END C=24.9226393088628, gamma=0.15189814782062885, kernel=linear; total time=   0.0s\n",
      "[CV] END C=24.9226393088628, gamma=0.15189814782062885, kernel=linear; total time=   0.0s\n",
      "[CV] END C=24.9226393088628, gamma=0.15189814782062885, kernel=linear; total time=   0.0s\n",
      "[CV] END C=24.9226393088628, gamma=0.15189814782062885, kernel=linear; total time=   0.0s\n",
      "[CV] END C=21.386122938488903, gamma=0.01575994483585621, kernel=linear; total time=   0.0s\n",
      "[CV] END C=21.386122938488903, gamma=0.01575994483585621, kernel=linear; total time=   0.0s\n",
      "[CV] END C=21.386122938488903, gamma=0.01575994483585621, kernel=linear; total time=   0.0s\n",
      "[CV] END C=21.386122938488903, gamma=0.01575994483585621, kernel=linear; total time=   0.0s\n",
      "[CV] END C=21.386122938488903, gamma=0.01575994483585621, kernel=linear; total time=   0.0s\n",
      "[CV] END C=27.353666610480314, gamma=0.22153944050588595, kernel=rbf; total time=   0.0s\n",
      "[CV] END C=27.353666610480314, gamma=0.22153944050588595, kernel=rbf; total time=   0.0s\n",
      "[CV] END C=27.353666610480314, gamma=0.22153944050588595, kernel=rbf; total time=   0.0s\n",
      "[CV] END C=27.353666610480314, gamma=0.22153944050588595, kernel=rbf; total time=   0.0s\n",
      "[CV] END C=27.353666610480314, gamma=0.22153944050588595, kernel=rbf; total time=   0.0s\n",
      "[CV] END C=20.114504070618725, gamma=0.22169760231351215, kernel=rbf; total time=   0.0s\n",
      "[CV] END C=20.114504070618725, gamma=0.22169760231351215, kernel=rbf; total time=   0.0s\n",
      "[CV] END C=20.114504070618725, gamma=0.22169760231351215, kernel=rbf; total time=   0.0s\n",
      "[CV] END C=20.114504070618725, gamma=0.22169760231351215, kernel=rbf; total time=   0.0s\n",
      "[CV] END C=20.114504070618725, gamma=0.22169760231351215, kernel=rbf; total time=   0.0s\n",
      "[CV] END C=26.878299305142626, gamma=1.4752145260435134, kernel=linear; total time=   0.0s\n",
      "[CV] END C=26.878299305142626, gamma=1.4752145260435134, kernel=linear; total time=   0.0s\n",
      "[CV] END C=26.878299305142626, gamma=1.4752145260435134, kernel=linear; total time=   0.0s\n",
      "[CV] END C=26.878299305142626, gamma=1.4752145260435134, kernel=linear; total time=   0.0s\n",
      "[CV] END C=26.878299305142626, gamma=1.4752145260435134, kernel=linear; total time=   0.0s\n",
      "[CV] END C=29.116789291450278, gamma=1.052904084582266, kernel=rbf; total time=   0.0s\n",
      "[CV] END C=29.116789291450278, gamma=1.052904084582266, kernel=rbf; total time=   0.0s\n",
      "[CV] END C=29.116789291450278, gamma=1.052904084582266, kernel=rbf; total time=   0.0s\n",
      "[CV] END C=29.116789291450278, gamma=1.052904084582266, kernel=rbf; total time=   0.0s\n",
      "[CV] END C=29.116789291450278, gamma=1.052904084582266, kernel=rbf; total time=   0.0s\n",
      "[CV] END C=28.380168171957042, gamma=0.9763011917123741, kernel=rbf; total time=   0.0s\n",
      "[CV] END C=28.380168171957042, gamma=0.9763011917123741, kernel=rbf; total time=   0.0s\n",
      "[CV] END C=28.380168171957042, gamma=0.9763011917123741, kernel=rbf; total time=   0.0s\n",
      "[CV] END C=28.380168171957042, gamma=0.9763011917123741, kernel=rbf; total time=   0.0s\n",
      "[CV] END C=28.380168171957042, gamma=0.9763011917123741, kernel=rbf; total time=   0.0s\n",
      "[CV] END C=20.788869987796943, gamma=0.4633351167983427, kernel=rbf; total time=   0.0s\n",
      "[CV] END C=20.788869987796943, gamma=0.4633351167983427, kernel=rbf; total time=   0.0s\n",
      "[CV] END C=20.788869987796943, gamma=0.4633351167983427, kernel=rbf; total time=   0.0s\n",
      "[CV] END C=20.788869987796943, gamma=0.4633351167983427, kernel=rbf; total time=   0.0s\n",
      "[CV] END C=20.788869987796943, gamma=0.4633351167983427, kernel=rbf; total time=   0.0s\n",
      "[CV] END C=22.81875451703426, gamma=1.3078757839577408, kernel=rbf; total time=   0.0s\n",
      "[CV] END C=22.81875451703426, gamma=1.3078757839577408, kernel=rbf; total time=   0.0s\n",
      "[CV] END C=22.81875451703426, gamma=1.3078757839577408, kernel=rbf; total time=   0.0s\n",
      "[CV] END C=22.81875451703426, gamma=1.3078757839577408, kernel=rbf; total time=   0.0s\n",
      "[CV] END C=22.81875451703426, gamma=1.3078757839577408, kernel=rbf; total time=   0.0s\n",
      "[CV] END C=22.35661778621231, gamma=0.8238105204914145, kernel=linear; total time=   0.0s\n",
      "[CV] END C=22.35661778621231, gamma=0.8238105204914145, kernel=linear; total time=   0.0s\n",
      "[CV] END C=22.35661778621231, gamma=0.8238105204914145, kernel=linear; total time=   0.0s\n",
      "[CV] END C=22.35661778621231, gamma=0.8238105204914145, kernel=linear; total time=   0.0s\n",
      "[CV] END C=22.35661778621231, gamma=0.8238105204914145, kernel=linear; total time=   0.0s\n",
      "[CV] END C=20.993724661273102, gamma=1.2491263443165994, kernel=linear; total time=   0.0s\n",
      "[CV] END C=20.993724661273102, gamma=1.2491263443165994, kernel=linear; total time=   0.0s\n",
      "[CV] END C=20.993724661273102, gamma=1.2491263443165994, kernel=linear; total time=   0.0s\n",
      "[CV] END C=20.993724661273102, gamma=1.2491263443165994, kernel=linear; total time=   0.0s\n",
      "[CV] END C=20.993724661273102, gamma=1.2491263443165994, kernel=linear; total time=   0.0s\n",
      "[CV] END C=26.799102867894913, gamma=0.2691677514619319, kernel=rbf; total time=   0.0s\n",
      "[CV] END C=26.799102867894913, gamma=0.2691677514619319, kernel=rbf; total time=   0.0s\n",
      "[CV] END C=26.799102867894913, gamma=0.2691677514619319, kernel=rbf; total time=   0.0s\n",
      "[CV] END C=26.799102867894913, gamma=0.2691677514619319, kernel=rbf; total time=   0.0s\n"
     ]
    },
    {
     "name": "stdout",
     "output_type": "stream",
     "text": [
      "[CV] END C=26.799102867894913, gamma=0.2691677514619319, kernel=rbf; total time=   0.0s\n",
      "[CV] END C=24.43335381318399, gamma=0.739678838777267, kernel=linear; total time=   0.0s\n",
      "[CV] END C=24.43335381318399, gamma=0.739678838777267, kernel=linear; total time=   0.0s\n",
      "[CV] END C=24.43335381318399, gamma=0.739678838777267, kernel=linear; total time=   0.0s\n",
      "[CV] END C=24.43335381318399, gamma=0.739678838777267, kernel=linear; total time=   0.0s\n",
      "[CV] END C=24.43335381318399, gamma=0.739678838777267, kernel=linear; total time=   0.0s\n",
      "[CV] END C=20.919769734951554, gamma=0.578634378499143, kernel=linear; total time=   0.0s\n",
      "[CV] END C=20.919769734951554, gamma=0.578634378499143, kernel=linear; total time=   0.0s\n",
      "[CV] END C=20.919769734951554, gamma=0.578634378499143, kernel=linear; total time=   0.0s\n",
      "[CV] END C=20.919769734951554, gamma=0.578634378499143, kernel=linear; total time=   0.0s\n",
      "[CV] END C=20.919769734951554, gamma=0.578634378499143, kernel=linear; total time=   0.0s\n",
      "[CV] END C=20.256499635886595, gamma=1.0117295509275495, kernel=rbf; total time=   0.0s\n",
      "[CV] END C=20.256499635886595, gamma=1.0117295509275495, kernel=rbf; total time=   0.0s\n",
      "[CV] END C=20.256499635886595, gamma=1.0117295509275495, kernel=rbf; total time=   0.0s\n",
      "[CV] END C=20.256499635886595, gamma=1.0117295509275495, kernel=rbf; total time=   0.0s\n",
      "[CV] END C=20.256499635886595, gamma=1.0117295509275495, kernel=rbf; total time=   0.0s\n",
      "[CV] END C=25.131470466783625, gamma=1.1891370222133257, kernel=linear; total time=   0.0s\n",
      "[CV] END C=25.131470466783625, gamma=1.1891370222133257, kernel=linear; total time=   0.0s\n",
      "[CV] END C=25.131470466783625, gamma=1.1891370222133257, kernel=linear; total time=   0.0s\n",
      "[CV] END C=25.131470466783625, gamma=1.1891370222133257, kernel=linear; total time=   0.0s\n",
      "[CV] END C=25.131470466783625, gamma=1.1891370222133257, kernel=linear; total time=   0.0s\n",
      "[CV] END C=22.127287473806234, gamma=0.5282819748826726, kernel=linear; total time=   0.0s\n",
      "[CV] END C=22.127287473806234, gamma=0.5282819748826726, kernel=linear; total time=   0.0s\n",
      "[CV] END C=22.127287473806234, gamma=0.5282819748826726, kernel=linear; total time=   0.0s\n",
      "[CV] END C=22.127287473806234, gamma=0.5282819748826726, kernel=linear; total time=   0.0s\n",
      "[CV] END C=22.127287473806234, gamma=0.5282819748826726, kernel=linear; total time=   0.0s\n",
      "[CV] END C=21.71637349561974, gamma=2.8621383676481322, kernel=linear; total time=   0.0s\n",
      "[CV] END C=21.71637349561974, gamma=2.8621383676481322, kernel=linear; total time=   0.0s\n",
      "[CV] END C=21.71637349561974, gamma=2.8621383676481322, kernel=linear; total time=   0.0s\n",
      "[CV] END C=21.71637349561974, gamma=2.8621383676481322, kernel=linear; total time=   0.0s\n",
      "[CV] END C=21.71637349561974, gamma=2.8621383676481322, kernel=linear; total time=   0.0s\n",
      "[CV] END C=22.493275046985538, gamma=0.17580835850006285, kernel=rbf; total time=   0.0s\n",
      "[CV] END C=22.493275046985538, gamma=0.17580835850006285, kernel=rbf; total time=   0.0s\n",
      "[CV] END C=22.493275046985538, gamma=0.17580835850006285, kernel=rbf; total time=   0.0s\n",
      "[CV] END C=22.493275046985538, gamma=0.17580835850006285, kernel=rbf; total time=   0.0s\n",
      "[CV] END C=22.493275046985538, gamma=0.17580835850006285, kernel=rbf; total time=   0.0s\n",
      "[CV] END C=25.761626896922408, gamma=0.3504567255332862, kernel=linear; total time=   0.0s\n",
      "[CV] END C=25.761626896922408, gamma=0.3504567255332862, kernel=linear; total time=   0.0s\n",
      "[CV] END C=25.761626896922408, gamma=0.3504567255332862, kernel=linear; total time=   0.0s\n",
      "[CV] END C=25.761626896922408, gamma=0.3504567255332862, kernel=linear; total time=   0.0s\n",
      "[CV] END C=25.761626896922408, gamma=0.3504567255332862, kernel=linear; total time=   0.0s\n",
      "[CV] END C=28.476498582813075, gamma=1.6279689407405564, kernel=rbf; total time=   0.0s\n",
      "[CV] END C=28.476498582813075, gamma=1.6279689407405564, kernel=rbf; total time=   0.0s\n",
      "[CV] END C=28.476498582813075, gamma=1.6279689407405564, kernel=rbf; total time=   0.0s\n",
      "[CV] END C=28.476498582813075, gamma=1.6279689407405564, kernel=rbf; total time=   0.0s\n",
      "[CV] END C=28.476498582813075, gamma=1.6279689407405564, kernel=rbf; total time=   0.0s\n",
      "[CV] END C=23.679567005202976, gamma=2.147979593060577, kernel=rbf; total time=   0.0s\n",
      "[CV] END C=23.679567005202976, gamma=2.147979593060577, kernel=rbf; total time=   0.0s\n",
      "[CV] END C=23.679567005202976, gamma=2.147979593060577, kernel=rbf; total time=   0.0s\n",
      "[CV] END C=23.679567005202976, gamma=2.147979593060577, kernel=rbf; total time=   0.0s\n",
      "[CV] END C=23.679567005202976, gamma=2.147979593060577, kernel=rbf; total time=   0.0s\n",
      "[CV] END C=27.74681568057168, gamma=2.2642426492862313, kernel=linear; total time=   0.0s\n",
      "[CV] END C=27.74681568057168, gamma=2.2642426492862313, kernel=linear; total time=   0.0s\n",
      "[CV] END C=27.74681568057168, gamma=2.2642426492862313, kernel=linear; total time=   0.0s\n",
      "[CV] END C=27.74681568057168, gamma=2.2642426492862313, kernel=linear; total time=   0.0s\n",
      "[CV] END C=27.74681568057168, gamma=2.2642426492862313, kernel=linear; total time=   0.0s\n",
      "[CV] END C=28.88780592141189, gamma=0.3176359085304841, kernel=linear; total time=   0.0s\n",
      "[CV] END C=28.88780592141189, gamma=0.3176359085304841, kernel=linear; total time=   0.0s\n",
      "[CV] END C=28.88780592141189, gamma=0.3176359085304841, kernel=linear; total time=   0.0s\n",
      "[CV] END C=28.88780592141189, gamma=0.3176359085304841, kernel=linear; total time=   0.0s\n",
      "[CV] END C=28.88780592141189, gamma=0.3176359085304841, kernel=linear; total time=   0.0s\n"
     ]
    },
    {
     "data": {
      "text/plain": [
       "RandomizedSearchCV(cv=5, estimator=SVR(), n_iter=50,\n",
       "                   param_distributions={'C': <scipy.stats._distn_infrastructure.rv_frozen object at 0x000002CE3C7168B0>,\n",
       "                                        'gamma': <scipy.stats._distn_infrastructure.rv_frozen object at 0x000002CE3B876D30>,\n",
       "                                        'kernel': ['linear', 'rbf']},\n",
       "                   random_state=42, scoring='neg_mean_squared_error',\n",
       "                   verbose=2)"
      ]
     },
     "execution_count": 125,
     "metadata": {},
     "output_type": "execute_result"
    }
   ],
   "source": [
    "#svm\n",
    "from sklearn.model_selection import RandomizedSearchCV\n",
    "from scipy.stats import expon, reciprocal\n",
    "from sklearn.model_selection import GridSearchCV\n",
    "from sklearn.svm import SVR\n",
    "\n",
    "# see https://docs.scipy.org/doc/scipy/reference/stats.html\n",
    "# for `expon()` and `reciprocal()` documentation and more probability distribution functions.\n",
    "\n",
    "# Note: gamma is ignored when kernel is \"linear\"\n",
    "param_distribs = {\n",
    "        'kernel': ['linear', 'rbf'],\n",
    "        'C': reciprocal(20, 30),\n",
    "        'gamma': expon(scale=1.0),\n",
    "    }\n",
    "\n",
    "svm_reg = SVR()\n",
    "rnd_search = RandomizedSearchCV(svm_reg, param_distributions=param_distribs,\n",
    "                                n_iter=50, cv=5, scoring='neg_mean_squared_error',\n",
    "                                verbose=2, random_state=42)\n",
    "rnd_search.fit(X_train, y_train)"
   ]
  },
  {
   "cell_type": "code",
   "execution_count": 43,
   "id": "0acd878f",
   "metadata": {},
   "outputs": [
    {
     "name": "stdout",
     "output_type": "stream",
     "text": [
      "34.90594499296907 {'C': 23.280013978946833, 'gamma': 3.010121430917521, 'kernel': 'linear'}\n",
      "25.945755809786142 {'C': 27.436377237537517, 'gamma': 0.9084469696321253, 'kernel': 'rbf'}\n",
      "23.46739716431614 {'C': 21.305869723101093, 'gamma': 0.059838768608680676, 'kernel': 'rbf'}\n",
      "34.800800581042864 {'C': 22.89776875757393, 'gamma': 0.15416196746656105, 'kernel': 'linear'}\n",
      "27.207664420504713 {'C': 20.167624432447106, 'gamma': 3.503557475158312, 'kernel': 'rbf'}\n",
      "23.531697477447796 {'C': 29.261792334886408, 'gamma': 0.0007790692366582295, 'kernel': 'rbf'}\n",
      "25.459702777964402 {'C': 21.543979478486737, 'gamma': 0.3627537294604771, 'kernel': 'rbf'}\n",
      "33.86255605289559 {'C': 20.05738497293723, 'gamma': 0.023332523598323388, 'kernel': 'linear'}\n",
      "24.402251304206914 {'C': 25.631377221042065, 'gamma': 0.15023452872733867, 'kernel': 'rbf'}\n",
      "24.73183053626987 {'C': 29.68245588335318, 'gamma': 0.26497040005002437, 'kernel': 'rbf'}\n",
      "35.965726944364974 {'C': 27.497462553242737, 'gamma': 0.2227358621286903, 'kernel': 'linear'}\n",
      "36.73198826369356 {'C': 29.796713165333173, 'gamma': 0.628789100540856, 'kernel': 'linear'}\n",
      "35.430884245310196 {'C': 25.58664440984254, 'gamma': 0.18696125197741642, 'kernel': 'linear'}\n",
      "27.11088900810757 {'C': 20.107859377896187, 'gamma': 2.850796878935603, 'kernel': 'rbf'}\n",
      "36.043281211370825 {'C': 27.7575865412499, 'gamma': 0.3632878599687583, 'kernel': 'linear'}\n",
      "25.208295867459714 {'C': 21.96283405234485, 'gamma': 0.2757870542258224, 'kernel': 'rbf'}\n",
      "34.32746820422185 {'C': 21.014538750642835, 'gamma': 0.6835472281341501, 'kernel': 'linear'}\n",
      "25.73548157910801 {'C': 21.456456266505242, 'gamma': 0.4960365360493639, 'kernel': 'rbf'}\n",
      "25.21288315069174 {'C': 26.163411921119966, 'gamma': 0.37354658165762367, 'kernel': 'rbf'}\n",
      "34.63213033851752 {'C': 21.759389431263088, 'gamma': 0.838636245624803, 'kernel': 'linear'}\n",
      "26.276793304390306 {'C': 29.632300796159985, 'gamma': 1.4922453771381408, 'kernel': 'rbf'}\n",
      "34.96199984881445 {'C': 23.475372823969046, 'gamma': 2.6126336514161914, 'kernel': 'linear'}\n",
      "36.49617419993157 {'C': 29.064575908891072, 'gamma': 0.09265545895311562, 'kernel': 'linear'}\n",
      "35.21329749511036 {'C': 24.70269613899468, 'gamma': 3.248614270240346, 'kernel': 'linear'}\n",
      "34.94442437320539 {'C': 23.413841225044937, 'gamma': 0.3165604432088257, 'kernel': 'linear'}\n",
      "26.94660811676875 {'C': 25.37182733399964, 'gamma': 3.3597284456608496, 'kernel': 'rbf'}\n",
      "35.25776235593647 {'C': 24.9226393088628, 'gamma': 0.15189814782062885, 'kernel': 'linear'}\n",
      "34.494406759704624 {'C': 21.386122938488903, 'gamma': 0.01575994483585621, 'kernel': 'linear'}\n",
      "24.68951442607175 {'C': 27.353666610480314, 'gamma': 0.22153944050588595, 'kernel': 'rbf'}\n",
      "25.176783091409824 {'C': 20.114504070618725, 'gamma': 0.22169760231351215, 'kernel': 'rbf'}\n",
      "35.783726499189875 {'C': 26.878299305142626, 'gamma': 1.4752145260435134, 'kernel': 'linear'}\n",
      "26.00788853345662 {'C': 29.116789291450278, 'gamma': 1.052904084582266, 'kernel': 'rbf'}\n",
      "25.971004160693376 {'C': 28.380168171957042, 'gamma': 0.9763011917123741, 'kernel': 'rbf'}\n",
      "25.721801984071696 {'C': 20.788869987796943, 'gamma': 0.4633351167983427, 'kernel': 'rbf'}\n",
      "26.47634525220558 {'C': 22.81875451703426, 'gamma': 1.3078757839577408, 'kernel': 'rbf'}\n",
      "34.69639363120775 {'C': 22.35661778621231, 'gamma': 0.8238105204914145, 'kernel': 'linear'}\n",
      "34.323698818923695 {'C': 20.993724661273102, 'gamma': 1.2491263443165994, 'kernel': 'linear'}\n",
      "24.88338299374887 {'C': 26.799102867894913, 'gamma': 0.2691677514619319, 'kernel': 'rbf'}\n",
      "35.163515324149564 {'C': 24.43335381318399, 'gamma': 0.739678838777267, 'kernel': 'linear'}\n",
      "34.29384319403966 {'C': 20.919769734951554, 'gamma': 0.578634378499143, 'kernel': 'linear'}\n",
      "26.414882470749586 {'C': 20.256499635886595, 'gamma': 1.0117295509275495, 'kernel': 'rbf'}\n",
      "35.306127609686165 {'C': 25.131470466783625, 'gamma': 1.1891370222133257, 'kernel': 'linear'}\n",
      "34.67760540346972 {'C': 22.127287473806234, 'gamma': 0.5282819748826726, 'kernel': 'linear'}\n",
      "34.62117242259695 {'C': 21.71637349561974, 'gamma': 2.8621383676481322, 'kernel': 'linear'}\n",
      "24.775329969663712 {'C': 22.493275046985538, 'gamma': 0.17580835850006285, 'kernel': 'rbf'}\n",
      "35.47441217158916 {'C': 25.761626896922408, 'gamma': 0.3504567255332862, 'kernel': 'linear'}\n",
      "26.383956790122774 {'C': 28.476498582813075, 'gamma': 1.6279689407405564, 'kernel': 'rbf'}\n",
      "26.778788766652237 {'C': 23.679567005202976, 'gamma': 2.147979593060577, 'kernel': 'rbf'}\n",
      "36.04001062170278 {'C': 27.74681568057168, 'gamma': 2.2642426492862313, 'kernel': 'linear'}\n",
      "36.43661050769181 {'C': 28.88780592141189, 'gamma': 0.3176359085304841, 'kernel': 'linear'}\n"
     ]
    }
   ],
   "source": [
    "cvres = rnd_search.cv_results_\n",
    "for mean_score, params in zip(cvres[\"mean_test_score\"], cvres[\"params\"]):\n",
    "    print(np.sqrt(-mean_score), params)"
   ]
  },
  {
   "cell_type": "code",
   "execution_count": 44,
   "id": "cb9c2ed7",
   "metadata": {},
   "outputs": [
    {
     "data": {
      "text/plain": [
       "23.46739716431614"
      ]
     },
     "execution_count": 44,
     "metadata": {},
     "output_type": "execute_result"
    }
   ],
   "source": [
    "negative_mse = rnd_search.best_score_\n",
    "rmse = np.sqrt(-negative_mse)\n",
    "rmse"
   ]
  },
  {
   "cell_type": "code",
   "execution_count": 45,
   "id": "226134d9",
   "metadata": {},
   "outputs": [
    {
     "data": {
      "text/plain": [
       "0.25876077932791575"
      ]
     },
     "execution_count": 45,
     "metadata": {},
     "output_type": "execute_result"
    }
   ],
   "source": [
    "svm_predict = rnd_search.best_estimator_.predict(X_valid)\n",
    "r2_score(y_valid,svm_predict)"
   ]
  },
  {
   "cell_type": "code",
   "execution_count": 156,
   "id": "e8dbc485",
   "metadata": {},
   "outputs": [
    {
     "data": {
      "image/png": "[encoded data removed]",
      "text/plain": [
       "<Figure size 432x288 with 1 Axes>"
      ]
     },
     "metadata": {
      "needs_background": "light"
     },
     "output_type": "display_data"
    }
   ],
   "source": [
    "plot_learning_curves(rnd_search.best_estimator_, X_train_full, y_train_full)\n",
    "plt.axis([0, 100, 0, 100])                         # not shown in the book   # not shown\n",
    "plt.show()    "
   ]
  },
  {
   "cell_type": "code",
   "execution_count": 157,
   "id": "61ee2b0a",
   "metadata": {},
   "outputs": [
    {
     "data": {
      "text/plain": [
       "RandomizedSearchCV(cv=5, estimator=RandomForestRegressor(random_state=42),\n",
       "                   n_iter=500,\n",
       "                   param_distributions={'max_features': <scipy.stats._distn_infrastructure.rv_frozen object at 0x0000020BA85A8BE0>,\n",
       "                                        'n_estimators': <scipy.stats._distn_infrastructure.rv_frozen object at 0x0000020BA765D550>},\n",
       "                   random_state=42, scoring='neg_mean_squared_error')"
      ]
     },
     "execution_count": 157,
     "metadata": {},
     "output_type": "execute_result"
    }
   ],
   "source": [
    "from scipy.stats import randint\n",
    "param_distribs = {\n",
    "        'n_estimators': randint(low=1, high=200),\n",
    "        'max_features': randint(low=1, high=15),\n",
    "    }\n",
    "\n",
    "forest_reg = RandomForestRegressor(random_state=42)\n",
    "rnd_forest_search = RandomizedSearchCV(forest_reg, param_distributions=param_distribs,\n",
    "                                n_iter=500, cv=5, scoring='neg_mean_squared_error', random_state=42)\n",
    "rnd_forest_search.fit(X_train, y_train)"
   ]
  },
  {
   "cell_type": "code",
   "execution_count": 160,
   "id": "702a128d",
   "metadata": {},
   "outputs": [
    {
     "data": {
      "image/png": "[encoded data removed]",
      "text/plain": [
       "<Figure size 432x288 with 1 Axes>"
      ]
     },
     "metadata": {
      "needs_background": "light"
     },
     "output_type": "display_data"
    }
   ],
   "source": [
    "plot_learning_curves(rnd_forest_search.best_estimator_, X_train_full, y_train_full)\n",
    "plt.axis([0, 150, 0, 50])                         # not shown in the book   # not shown\n",
    "plt.show()    "
   ]
  },
  {
   "cell_type": "code",
   "execution_count": null,
   "id": "430c8b9e",
   "metadata": {},
   "outputs": [],
   "source": []
  }
 ],
 "metadata": {
  "kernelspec": {
   "display_name": "Python 3",
   "language": "python",
   "name": "python3"
  },
  "language_info": {
   "codemirror_mode": {
    "name": "ipython",
    "version": 3
   },
   "file_extension": ".py",
   "mimetype": "text/x-python",
   "name": "python",
   "nbconvert_exporter": "python",
   "pygments_lexer": "ipython3",
   "version": "3.8.8"
  }
 },
 "nbformat": 4,
 "nbformat_minor": 5
}
